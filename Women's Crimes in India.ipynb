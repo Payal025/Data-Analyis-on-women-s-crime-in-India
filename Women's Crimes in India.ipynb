{
 "cells": [
  {
   "cell_type": "code",
   "execution_count": 47,
   "id": "a4c061fa",
   "metadata": {},
   "outputs": [],
   "source": [
    "import numpy as np \n",
    "import pandas as pd \n",
    "import matplotlib.pyplot as plt\n",
    "import plotly.graph_objects as go\n",
    "import plotly.express as px\n",
    "import IPython"
   ]
  },
  {
   "cell_type": "code",
   "execution_count": 48,
   "id": "2db00579",
   "metadata": {},
   "outputs": [],
   "source": [
    "data=pd.read_csv('C:/Users/PAYAL/Downloads/rape cases in India.csv')"
   ]
  },
  {
   "cell_type": "code",
   "execution_count": 49,
   "id": "25cdf36d",
   "metadata": {},
   "outputs": [
    {
     "data": {
      "text/html": [
       "<div>\n",
       "<style scoped>\n",
       "    .dataframe tbody tr th:only-of-type {\n",
       "        vertical-align: middle;\n",
       "    }\n",
       "\n",
       "    .dataframe tbody tr th {\n",
       "        vertical-align: top;\n",
       "    }\n",
       "\n",
       "    .dataframe thead th {\n",
       "        text-align: right;\n",
       "    }\n",
       "</style>\n",
       "<table border=\"1\" class=\"dataframe\">\n",
       "  <thead>\n",
       "    <tr style=\"text-align: right;\">\n",
       "      <th></th>\n",
       "      <th>index</th>\n",
       "      <th>STATE/UT</th>\n",
       "      <th>DISTRICT</th>\n",
       "      <th>YEAR</th>\n",
       "      <th>MURDER</th>\n",
       "      <th>ATTEMPT TO MURDER</th>\n",
       "      <th>CULPABLE HOMICIDE NOT AMOUNTING TO MURDER</th>\n",
       "      <th>RAPE</th>\n",
       "      <th>CUSTODIAL RAPE</th>\n",
       "      <th>OTHER RAPE</th>\n",
       "      <th>...</th>\n",
       "      <th>ARSON</th>\n",
       "      <th>HURT/GREVIOUS HURT</th>\n",
       "      <th>DOWRY DEATHS</th>\n",
       "      <th>ASSAULT ON WOMEN WITH INTENT TO OUTRAGE HER MODESTY</th>\n",
       "      <th>INSULT TO MODESTY OF WOMEN</th>\n",
       "      <th>CRUELTY BY HUSBAND OR HIS RELATIVES</th>\n",
       "      <th>IMPORTATION OF GIRLS FROM FOREIGN COUNTRIES</th>\n",
       "      <th>CAUSING DEATH BY NEGLIGENCE</th>\n",
       "      <th>OTHER IPC CRIMES</th>\n",
       "      <th>TOTAL IPC CRIMES</th>\n",
       "    </tr>\n",
       "  </thead>\n",
       "  <tbody>\n",
       "    <tr>\n",
       "      <th>0</th>\n",
       "      <td>0</td>\n",
       "      <td>ANDHRA PRADESH</td>\n",
       "      <td>ADILABAD</td>\n",
       "      <td>2001</td>\n",
       "      <td>101</td>\n",
       "      <td>60</td>\n",
       "      <td>17</td>\n",
       "      <td>50</td>\n",
       "      <td>0</td>\n",
       "      <td>50</td>\n",
       "      <td>...</td>\n",
       "      <td>30</td>\n",
       "      <td>1131</td>\n",
       "      <td>16</td>\n",
       "      <td>149</td>\n",
       "      <td>34</td>\n",
       "      <td>175</td>\n",
       "      <td>0</td>\n",
       "      <td>181</td>\n",
       "      <td>1518</td>\n",
       "      <td>4154</td>\n",
       "    </tr>\n",
       "    <tr>\n",
       "      <th>1</th>\n",
       "      <td>1</td>\n",
       "      <td>ANDHRA PRADESH</td>\n",
       "      <td>ANANTAPUR</td>\n",
       "      <td>2001</td>\n",
       "      <td>151</td>\n",
       "      <td>125</td>\n",
       "      <td>1</td>\n",
       "      <td>23</td>\n",
       "      <td>0</td>\n",
       "      <td>23</td>\n",
       "      <td>...</td>\n",
       "      <td>69</td>\n",
       "      <td>1543</td>\n",
       "      <td>7</td>\n",
       "      <td>118</td>\n",
       "      <td>24</td>\n",
       "      <td>154</td>\n",
       "      <td>0</td>\n",
       "      <td>270</td>\n",
       "      <td>754</td>\n",
       "      <td>4125</td>\n",
       "    </tr>\n",
       "    <tr>\n",
       "      <th>2</th>\n",
       "      <td>2</td>\n",
       "      <td>ANDHRA PRADESH</td>\n",
       "      <td>CHITTOOR</td>\n",
       "      <td>2001</td>\n",
       "      <td>101</td>\n",
       "      <td>57</td>\n",
       "      <td>2</td>\n",
       "      <td>27</td>\n",
       "      <td>0</td>\n",
       "      <td>27</td>\n",
       "      <td>...</td>\n",
       "      <td>38</td>\n",
       "      <td>2088</td>\n",
       "      <td>14</td>\n",
       "      <td>112</td>\n",
       "      <td>83</td>\n",
       "      <td>186</td>\n",
       "      <td>0</td>\n",
       "      <td>404</td>\n",
       "      <td>1262</td>\n",
       "      <td>5818</td>\n",
       "    </tr>\n",
       "    <tr>\n",
       "      <th>3</th>\n",
       "      <td>3</td>\n",
       "      <td>ANDHRA PRADESH</td>\n",
       "      <td>CUDDAPAH</td>\n",
       "      <td>2001</td>\n",
       "      <td>80</td>\n",
       "      <td>53</td>\n",
       "      <td>1</td>\n",
       "      <td>20</td>\n",
       "      <td>0</td>\n",
       "      <td>20</td>\n",
       "      <td>...</td>\n",
       "      <td>23</td>\n",
       "      <td>795</td>\n",
       "      <td>17</td>\n",
       "      <td>126</td>\n",
       "      <td>38</td>\n",
       "      <td>57</td>\n",
       "      <td>0</td>\n",
       "      <td>233</td>\n",
       "      <td>1181</td>\n",
       "      <td>3140</td>\n",
       "    </tr>\n",
       "    <tr>\n",
       "      <th>4</th>\n",
       "      <td>4</td>\n",
       "      <td>ANDHRA PRADESH</td>\n",
       "      <td>EAST GODAVARI</td>\n",
       "      <td>2001</td>\n",
       "      <td>82</td>\n",
       "      <td>67</td>\n",
       "      <td>1</td>\n",
       "      <td>23</td>\n",
       "      <td>0</td>\n",
       "      <td>23</td>\n",
       "      <td>...</td>\n",
       "      <td>41</td>\n",
       "      <td>1244</td>\n",
       "      <td>12</td>\n",
       "      <td>109</td>\n",
       "      <td>58</td>\n",
       "      <td>247</td>\n",
       "      <td>0</td>\n",
       "      <td>431</td>\n",
       "      <td>2313</td>\n",
       "      <td>6507</td>\n",
       "    </tr>\n",
       "    <tr>\n",
       "      <th>...</th>\n",
       "      <td>...</td>\n",
       "      <td>...</td>\n",
       "      <td>...</td>\n",
       "      <td>...</td>\n",
       "      <td>...</td>\n",
       "      <td>...</td>\n",
       "      <td>...</td>\n",
       "      <td>...</td>\n",
       "      <td>...</td>\n",
       "      <td>...</td>\n",
       "      <td>...</td>\n",
       "      <td>...</td>\n",
       "      <td>...</td>\n",
       "      <td>...</td>\n",
       "      <td>...</td>\n",
       "      <td>...</td>\n",
       "      <td>...</td>\n",
       "      <td>...</td>\n",
       "      <td>...</td>\n",
       "      <td>...</td>\n",
       "      <td>...</td>\n",
       "    </tr>\n",
       "    <tr>\n",
       "      <th>9012</th>\n",
       "      <td>9012</td>\n",
       "      <td>LAKSHADWEEP</td>\n",
       "      <td>LAKSHADWEEP</td>\n",
       "      <td>2012</td>\n",
       "      <td>0</td>\n",
       "      <td>0</td>\n",
       "      <td>0</td>\n",
       "      <td>0</td>\n",
       "      <td>0</td>\n",
       "      <td>0</td>\n",
       "      <td>...</td>\n",
       "      <td>3</td>\n",
       "      <td>3</td>\n",
       "      <td>0</td>\n",
       "      <td>1</td>\n",
       "      <td>0</td>\n",
       "      <td>1</td>\n",
       "      <td>0</td>\n",
       "      <td>0</td>\n",
       "      <td>32</td>\n",
       "      <td>60</td>\n",
       "    </tr>\n",
       "    <tr>\n",
       "      <th>9013</th>\n",
       "      <td>9013</td>\n",
       "      <td>LAKSHADWEEP</td>\n",
       "      <td>TOTAL</td>\n",
       "      <td>2012</td>\n",
       "      <td>0</td>\n",
       "      <td>0</td>\n",
       "      <td>0</td>\n",
       "      <td>0</td>\n",
       "      <td>0</td>\n",
       "      <td>0</td>\n",
       "      <td>...</td>\n",
       "      <td>3</td>\n",
       "      <td>3</td>\n",
       "      <td>0</td>\n",
       "      <td>1</td>\n",
       "      <td>0</td>\n",
       "      <td>1</td>\n",
       "      <td>0</td>\n",
       "      <td>0</td>\n",
       "      <td>32</td>\n",
       "      <td>60</td>\n",
       "    </tr>\n",
       "    <tr>\n",
       "      <th>9014</th>\n",
       "      <td>9014</td>\n",
       "      <td>PUDUCHERRY</td>\n",
       "      <td>KARAIKAL</td>\n",
       "      <td>2012</td>\n",
       "      <td>5</td>\n",
       "      <td>6</td>\n",
       "      <td>2</td>\n",
       "      <td>6</td>\n",
       "      <td>0</td>\n",
       "      <td>6</td>\n",
       "      <td>...</td>\n",
       "      <td>1</td>\n",
       "      <td>186</td>\n",
       "      <td>0</td>\n",
       "      <td>2</td>\n",
       "      <td>0</td>\n",
       "      <td>1</td>\n",
       "      <td>0</td>\n",
       "      <td>44</td>\n",
       "      <td>392</td>\n",
       "      <td>787</td>\n",
       "    </tr>\n",
       "    <tr>\n",
       "      <th>9015</th>\n",
       "      <td>9015</td>\n",
       "      <td>PUDUCHERRY</td>\n",
       "      <td>PUDUCHERRY</td>\n",
       "      <td>2012</td>\n",
       "      <td>24</td>\n",
       "      <td>21</td>\n",
       "      <td>10</td>\n",
       "      <td>7</td>\n",
       "      <td>0</td>\n",
       "      <td>7</td>\n",
       "      <td>...</td>\n",
       "      <td>20</td>\n",
       "      <td>632</td>\n",
       "      <td>0</td>\n",
       "      <td>7</td>\n",
       "      <td>2</td>\n",
       "      <td>5</td>\n",
       "      <td>0</td>\n",
       "      <td>219</td>\n",
       "      <td>1668</td>\n",
       "      <td>3494</td>\n",
       "    </tr>\n",
       "    <tr>\n",
       "      <th>9016</th>\n",
       "      <td>9016</td>\n",
       "      <td>PUDUCHERRY</td>\n",
       "      <td>TOTAL</td>\n",
       "      <td>2012</td>\n",
       "      <td>29</td>\n",
       "      <td>27</td>\n",
       "      <td>12</td>\n",
       "      <td>13</td>\n",
       "      <td>0</td>\n",
       "      <td>13</td>\n",
       "      <td>...</td>\n",
       "      <td>21</td>\n",
       "      <td>818</td>\n",
       "      <td>0</td>\n",
       "      <td>9</td>\n",
       "      <td>2</td>\n",
       "      <td>6</td>\n",
       "      <td>0</td>\n",
       "      <td>263</td>\n",
       "      <td>2060</td>\n",
       "      <td>4281</td>\n",
       "    </tr>\n",
       "  </tbody>\n",
       "</table>\n",
       "<p>9017 rows × 34 columns</p>\n",
       "</div>"
      ],
      "text/plain": [
       "      index        STATE/UT       DISTRICT  YEAR  MURDER  ATTEMPT TO MURDER  \\\n",
       "0         0  ANDHRA PRADESH       ADILABAD  2001     101                 60   \n",
       "1         1  ANDHRA PRADESH      ANANTAPUR  2001     151                125   \n",
       "2         2  ANDHRA PRADESH       CHITTOOR  2001     101                 57   \n",
       "3         3  ANDHRA PRADESH       CUDDAPAH  2001      80                 53   \n",
       "4         4  ANDHRA PRADESH  EAST GODAVARI  2001      82                 67   \n",
       "...     ...             ...            ...   ...     ...                ...   \n",
       "9012   9012     LAKSHADWEEP    LAKSHADWEEP  2012       0                  0   \n",
       "9013   9013     LAKSHADWEEP          TOTAL  2012       0                  0   \n",
       "9014   9014      PUDUCHERRY       KARAIKAL  2012       5                  6   \n",
       "9015   9015      PUDUCHERRY     PUDUCHERRY  2012      24                 21   \n",
       "9016   9016      PUDUCHERRY          TOTAL  2012      29                 27   \n",
       "\n",
       "      CULPABLE HOMICIDE NOT AMOUNTING TO MURDER  RAPE  CUSTODIAL RAPE  \\\n",
       "0                                            17    50               0   \n",
       "1                                             1    23               0   \n",
       "2                                             2    27               0   \n",
       "3                                             1    20               0   \n",
       "4                                             1    23               0   \n",
       "...                                         ...   ...             ...   \n",
       "9012                                          0     0               0   \n",
       "9013                                          0     0               0   \n",
       "9014                                          2     6               0   \n",
       "9015                                         10     7               0   \n",
       "9016                                         12    13               0   \n",
       "\n",
       "      OTHER RAPE  ...  ARSON  HURT/GREVIOUS HURT  DOWRY DEATHS  \\\n",
       "0             50  ...     30                1131            16   \n",
       "1             23  ...     69                1543             7   \n",
       "2             27  ...     38                2088            14   \n",
       "3             20  ...     23                 795            17   \n",
       "4             23  ...     41                1244            12   \n",
       "...          ...  ...    ...                 ...           ...   \n",
       "9012           0  ...      3                   3             0   \n",
       "9013           0  ...      3                   3             0   \n",
       "9014           6  ...      1                 186             0   \n",
       "9015           7  ...     20                 632             0   \n",
       "9016          13  ...     21                 818             0   \n",
       "\n",
       "      ASSAULT ON WOMEN WITH INTENT TO OUTRAGE HER MODESTY  \\\n",
       "0                                                   149     \n",
       "1                                                   118     \n",
       "2                                                   112     \n",
       "3                                                   126     \n",
       "4                                                   109     \n",
       "...                                                 ...     \n",
       "9012                                                  1     \n",
       "9013                                                  1     \n",
       "9014                                                  2     \n",
       "9015                                                  7     \n",
       "9016                                                  9     \n",
       "\n",
       "      INSULT TO MODESTY OF WOMEN  CRUELTY BY HUSBAND OR HIS RELATIVES  \\\n",
       "0                             34                                  175   \n",
       "1                             24                                  154   \n",
       "2                             83                                  186   \n",
       "3                             38                                   57   \n",
       "4                             58                                  247   \n",
       "...                          ...                                  ...   \n",
       "9012                           0                                    1   \n",
       "9013                           0                                    1   \n",
       "9014                           0                                    1   \n",
       "9015                           2                                    5   \n",
       "9016                           2                                    6   \n",
       "\n",
       "      IMPORTATION OF GIRLS FROM FOREIGN COUNTRIES  \\\n",
       "0                                               0   \n",
       "1                                               0   \n",
       "2                                               0   \n",
       "3                                               0   \n",
       "4                                               0   \n",
       "...                                           ...   \n",
       "9012                                            0   \n",
       "9013                                            0   \n",
       "9014                                            0   \n",
       "9015                                            0   \n",
       "9016                                            0   \n",
       "\n",
       "      CAUSING DEATH BY NEGLIGENCE  OTHER IPC CRIMES  TOTAL IPC CRIMES  \n",
       "0                             181              1518              4154  \n",
       "1                             270               754              4125  \n",
       "2                             404              1262              5818  \n",
       "3                             233              1181              3140  \n",
       "4                             431              2313              6507  \n",
       "...                           ...               ...               ...  \n",
       "9012                            0                32                60  \n",
       "9013                            0                32                60  \n",
       "9014                           44               392               787  \n",
       "9015                          219              1668              3494  \n",
       "9016                          263              2060              4281  \n",
       "\n",
       "[9017 rows x 34 columns]"
      ]
     },
     "execution_count": 49,
     "metadata": {},
     "output_type": "execute_result"
    }
   ],
   "source": [
    "data"
   ]
  },
  {
   "cell_type": "code",
   "execution_count": 50,
   "id": "7ba49e14",
   "metadata": {},
   "outputs": [
    {
     "data": {
      "text/plain": [
       "(9017, 34)"
      ]
     },
     "execution_count": 50,
     "metadata": {},
     "output_type": "execute_result"
    }
   ],
   "source": [
    "data.shape"
   ]
  },
  {
   "cell_type": "code",
   "execution_count": 51,
   "id": "65de1c6c",
   "metadata": {},
   "outputs": [
    {
     "data": {
      "text/html": [
       "<div>\n",
       "<style scoped>\n",
       "    .dataframe tbody tr th:only-of-type {\n",
       "        vertical-align: middle;\n",
       "    }\n",
       "\n",
       "    .dataframe tbody tr th {\n",
       "        vertical-align: top;\n",
       "    }\n",
       "\n",
       "    .dataframe thead th {\n",
       "        text-align: right;\n",
       "    }\n",
       "</style>\n",
       "<table border=\"1\" class=\"dataframe\">\n",
       "  <thead>\n",
       "    <tr style=\"text-align: right;\">\n",
       "      <th></th>\n",
       "      <th>STATE/UT</th>\n",
       "      <th>DISTRICT</th>\n",
       "      <th>YEAR</th>\n",
       "      <th>MURDER</th>\n",
       "      <th>ATTEMPT TO MURDER</th>\n",
       "      <th>CULPABLE HOMICIDE NOT AMOUNTING TO MURDER</th>\n",
       "      <th>RAPE</th>\n",
       "      <th>CUSTODIAL RAPE</th>\n",
       "      <th>OTHER RAPE</th>\n",
       "      <th>KIDNAPPING &amp; ABDUCTION</th>\n",
       "      <th>...</th>\n",
       "      <th>ARSON</th>\n",
       "      <th>HURT/GREVIOUS HURT</th>\n",
       "      <th>DOWRY DEATHS</th>\n",
       "      <th>ASSAULT ON WOMEN WITH INTENT TO OUTRAGE HER MODESTY</th>\n",
       "      <th>INSULT TO MODESTY OF WOMEN</th>\n",
       "      <th>CRUELTY BY HUSBAND OR HIS RELATIVES</th>\n",
       "      <th>IMPORTATION OF GIRLS FROM FOREIGN COUNTRIES</th>\n",
       "      <th>CAUSING DEATH BY NEGLIGENCE</th>\n",
       "      <th>OTHER IPC CRIMES</th>\n",
       "      <th>TOTAL IPC CRIMES</th>\n",
       "    </tr>\n",
       "  </thead>\n",
       "  <tbody>\n",
       "    <tr>\n",
       "      <th>0</th>\n",
       "      <td>ANDHRA PRADESH</td>\n",
       "      <td>ADILABAD</td>\n",
       "      <td>2001</td>\n",
       "      <td>101</td>\n",
       "      <td>60</td>\n",
       "      <td>17</td>\n",
       "      <td>50</td>\n",
       "      <td>0</td>\n",
       "      <td>50</td>\n",
       "      <td>46</td>\n",
       "      <td>...</td>\n",
       "      <td>30</td>\n",
       "      <td>1131</td>\n",
       "      <td>16</td>\n",
       "      <td>149</td>\n",
       "      <td>34</td>\n",
       "      <td>175</td>\n",
       "      <td>0</td>\n",
       "      <td>181</td>\n",
       "      <td>1518</td>\n",
       "      <td>4154</td>\n",
       "    </tr>\n",
       "    <tr>\n",
       "      <th>1</th>\n",
       "      <td>ANDHRA PRADESH</td>\n",
       "      <td>ANANTAPUR</td>\n",
       "      <td>2001</td>\n",
       "      <td>151</td>\n",
       "      <td>125</td>\n",
       "      <td>1</td>\n",
       "      <td>23</td>\n",
       "      <td>0</td>\n",
       "      <td>23</td>\n",
       "      <td>53</td>\n",
       "      <td>...</td>\n",
       "      <td>69</td>\n",
       "      <td>1543</td>\n",
       "      <td>7</td>\n",
       "      <td>118</td>\n",
       "      <td>24</td>\n",
       "      <td>154</td>\n",
       "      <td>0</td>\n",
       "      <td>270</td>\n",
       "      <td>754</td>\n",
       "      <td>4125</td>\n",
       "    </tr>\n",
       "    <tr>\n",
       "      <th>2</th>\n",
       "      <td>ANDHRA PRADESH</td>\n",
       "      <td>CHITTOOR</td>\n",
       "      <td>2001</td>\n",
       "      <td>101</td>\n",
       "      <td>57</td>\n",
       "      <td>2</td>\n",
       "      <td>27</td>\n",
       "      <td>0</td>\n",
       "      <td>27</td>\n",
       "      <td>59</td>\n",
       "      <td>...</td>\n",
       "      <td>38</td>\n",
       "      <td>2088</td>\n",
       "      <td>14</td>\n",
       "      <td>112</td>\n",
       "      <td>83</td>\n",
       "      <td>186</td>\n",
       "      <td>0</td>\n",
       "      <td>404</td>\n",
       "      <td>1262</td>\n",
       "      <td>5818</td>\n",
       "    </tr>\n",
       "    <tr>\n",
       "      <th>3</th>\n",
       "      <td>ANDHRA PRADESH</td>\n",
       "      <td>CUDDAPAH</td>\n",
       "      <td>2001</td>\n",
       "      <td>80</td>\n",
       "      <td>53</td>\n",
       "      <td>1</td>\n",
       "      <td>20</td>\n",
       "      <td>0</td>\n",
       "      <td>20</td>\n",
       "      <td>25</td>\n",
       "      <td>...</td>\n",
       "      <td>23</td>\n",
       "      <td>795</td>\n",
       "      <td>17</td>\n",
       "      <td>126</td>\n",
       "      <td>38</td>\n",
       "      <td>57</td>\n",
       "      <td>0</td>\n",
       "      <td>233</td>\n",
       "      <td>1181</td>\n",
       "      <td>3140</td>\n",
       "    </tr>\n",
       "    <tr>\n",
       "      <th>4</th>\n",
       "      <td>ANDHRA PRADESH</td>\n",
       "      <td>EAST GODAVARI</td>\n",
       "      <td>2001</td>\n",
       "      <td>82</td>\n",
       "      <td>67</td>\n",
       "      <td>1</td>\n",
       "      <td>23</td>\n",
       "      <td>0</td>\n",
       "      <td>23</td>\n",
       "      <td>49</td>\n",
       "      <td>...</td>\n",
       "      <td>41</td>\n",
       "      <td>1244</td>\n",
       "      <td>12</td>\n",
       "      <td>109</td>\n",
       "      <td>58</td>\n",
       "      <td>247</td>\n",
       "      <td>0</td>\n",
       "      <td>431</td>\n",
       "      <td>2313</td>\n",
       "      <td>6507</td>\n",
       "    </tr>\n",
       "    <tr>\n",
       "      <th>...</th>\n",
       "      <td>...</td>\n",
       "      <td>...</td>\n",
       "      <td>...</td>\n",
       "      <td>...</td>\n",
       "      <td>...</td>\n",
       "      <td>...</td>\n",
       "      <td>...</td>\n",
       "      <td>...</td>\n",
       "      <td>...</td>\n",
       "      <td>...</td>\n",
       "      <td>...</td>\n",
       "      <td>...</td>\n",
       "      <td>...</td>\n",
       "      <td>...</td>\n",
       "      <td>...</td>\n",
       "      <td>...</td>\n",
       "      <td>...</td>\n",
       "      <td>...</td>\n",
       "      <td>...</td>\n",
       "      <td>...</td>\n",
       "      <td>...</td>\n",
       "    </tr>\n",
       "    <tr>\n",
       "      <th>9012</th>\n",
       "      <td>LAKSHADWEEP</td>\n",
       "      <td>LAKSHADWEEP</td>\n",
       "      <td>2012</td>\n",
       "      <td>0</td>\n",
       "      <td>0</td>\n",
       "      <td>0</td>\n",
       "      <td>0</td>\n",
       "      <td>0</td>\n",
       "      <td>0</td>\n",
       "      <td>0</td>\n",
       "      <td>...</td>\n",
       "      <td>3</td>\n",
       "      <td>3</td>\n",
       "      <td>0</td>\n",
       "      <td>1</td>\n",
       "      <td>0</td>\n",
       "      <td>1</td>\n",
       "      <td>0</td>\n",
       "      <td>0</td>\n",
       "      <td>32</td>\n",
       "      <td>60</td>\n",
       "    </tr>\n",
       "    <tr>\n",
       "      <th>9013</th>\n",
       "      <td>LAKSHADWEEP</td>\n",
       "      <td>TOTAL</td>\n",
       "      <td>2012</td>\n",
       "      <td>0</td>\n",
       "      <td>0</td>\n",
       "      <td>0</td>\n",
       "      <td>0</td>\n",
       "      <td>0</td>\n",
       "      <td>0</td>\n",
       "      <td>0</td>\n",
       "      <td>...</td>\n",
       "      <td>3</td>\n",
       "      <td>3</td>\n",
       "      <td>0</td>\n",
       "      <td>1</td>\n",
       "      <td>0</td>\n",
       "      <td>1</td>\n",
       "      <td>0</td>\n",
       "      <td>0</td>\n",
       "      <td>32</td>\n",
       "      <td>60</td>\n",
       "    </tr>\n",
       "    <tr>\n",
       "      <th>9014</th>\n",
       "      <td>PUDUCHERRY</td>\n",
       "      <td>KARAIKAL</td>\n",
       "      <td>2012</td>\n",
       "      <td>5</td>\n",
       "      <td>6</td>\n",
       "      <td>2</td>\n",
       "      <td>6</td>\n",
       "      <td>0</td>\n",
       "      <td>6</td>\n",
       "      <td>2</td>\n",
       "      <td>...</td>\n",
       "      <td>1</td>\n",
       "      <td>186</td>\n",
       "      <td>0</td>\n",
       "      <td>2</td>\n",
       "      <td>0</td>\n",
       "      <td>1</td>\n",
       "      <td>0</td>\n",
       "      <td>44</td>\n",
       "      <td>392</td>\n",
       "      <td>787</td>\n",
       "    </tr>\n",
       "    <tr>\n",
       "      <th>9015</th>\n",
       "      <td>PUDUCHERRY</td>\n",
       "      <td>PUDUCHERRY</td>\n",
       "      <td>2012</td>\n",
       "      <td>24</td>\n",
       "      <td>21</td>\n",
       "      <td>10</td>\n",
       "      <td>7</td>\n",
       "      <td>0</td>\n",
       "      <td>7</td>\n",
       "      <td>17</td>\n",
       "      <td>...</td>\n",
       "      <td>20</td>\n",
       "      <td>632</td>\n",
       "      <td>0</td>\n",
       "      <td>7</td>\n",
       "      <td>2</td>\n",
       "      <td>5</td>\n",
       "      <td>0</td>\n",
       "      <td>219</td>\n",
       "      <td>1668</td>\n",
       "      <td>3494</td>\n",
       "    </tr>\n",
       "    <tr>\n",
       "      <th>9016</th>\n",
       "      <td>PUDUCHERRY</td>\n",
       "      <td>TOTAL</td>\n",
       "      <td>2012</td>\n",
       "      <td>29</td>\n",
       "      <td>27</td>\n",
       "      <td>12</td>\n",
       "      <td>13</td>\n",
       "      <td>0</td>\n",
       "      <td>13</td>\n",
       "      <td>19</td>\n",
       "      <td>...</td>\n",
       "      <td>21</td>\n",
       "      <td>818</td>\n",
       "      <td>0</td>\n",
       "      <td>9</td>\n",
       "      <td>2</td>\n",
       "      <td>6</td>\n",
       "      <td>0</td>\n",
       "      <td>263</td>\n",
       "      <td>2060</td>\n",
       "      <td>4281</td>\n",
       "    </tr>\n",
       "  </tbody>\n",
       "</table>\n",
       "<p>9017 rows × 33 columns</p>\n",
       "</div>"
      ],
      "text/plain": [
       "            STATE/UT       DISTRICT  YEAR  MURDER  ATTEMPT TO MURDER  \\\n",
       "0     ANDHRA PRADESH       ADILABAD  2001     101                 60   \n",
       "1     ANDHRA PRADESH      ANANTAPUR  2001     151                125   \n",
       "2     ANDHRA PRADESH       CHITTOOR  2001     101                 57   \n",
       "3     ANDHRA PRADESH       CUDDAPAH  2001      80                 53   \n",
       "4     ANDHRA PRADESH  EAST GODAVARI  2001      82                 67   \n",
       "...              ...            ...   ...     ...                ...   \n",
       "9012     LAKSHADWEEP    LAKSHADWEEP  2012       0                  0   \n",
       "9013     LAKSHADWEEP          TOTAL  2012       0                  0   \n",
       "9014      PUDUCHERRY       KARAIKAL  2012       5                  6   \n",
       "9015      PUDUCHERRY     PUDUCHERRY  2012      24                 21   \n",
       "9016      PUDUCHERRY          TOTAL  2012      29                 27   \n",
       "\n",
       "      CULPABLE HOMICIDE NOT AMOUNTING TO MURDER  RAPE  CUSTODIAL RAPE  \\\n",
       "0                                            17    50               0   \n",
       "1                                             1    23               0   \n",
       "2                                             2    27               0   \n",
       "3                                             1    20               0   \n",
       "4                                             1    23               0   \n",
       "...                                         ...   ...             ...   \n",
       "9012                                          0     0               0   \n",
       "9013                                          0     0               0   \n",
       "9014                                          2     6               0   \n",
       "9015                                         10     7               0   \n",
       "9016                                         12    13               0   \n",
       "\n",
       "      OTHER RAPE  KIDNAPPING & ABDUCTION  ...  ARSON  HURT/GREVIOUS HURT  \\\n",
       "0             50                      46  ...     30                1131   \n",
       "1             23                      53  ...     69                1543   \n",
       "2             27                      59  ...     38                2088   \n",
       "3             20                      25  ...     23                 795   \n",
       "4             23                      49  ...     41                1244   \n",
       "...          ...                     ...  ...    ...                 ...   \n",
       "9012           0                       0  ...      3                   3   \n",
       "9013           0                       0  ...      3                   3   \n",
       "9014           6                       2  ...      1                 186   \n",
       "9015           7                      17  ...     20                 632   \n",
       "9016          13                      19  ...     21                 818   \n",
       "\n",
       "      DOWRY DEATHS  ASSAULT ON WOMEN WITH INTENT TO OUTRAGE HER MODESTY  \\\n",
       "0               16                                                149     \n",
       "1                7                                                118     \n",
       "2               14                                                112     \n",
       "3               17                                                126     \n",
       "4               12                                                109     \n",
       "...            ...                                                ...     \n",
       "9012             0                                                  1     \n",
       "9013             0                                                  1     \n",
       "9014             0                                                  2     \n",
       "9015             0                                                  7     \n",
       "9016             0                                                  9     \n",
       "\n",
       "      INSULT TO MODESTY OF WOMEN  CRUELTY BY HUSBAND OR HIS RELATIVES  \\\n",
       "0                             34                                  175   \n",
       "1                             24                                  154   \n",
       "2                             83                                  186   \n",
       "3                             38                                   57   \n",
       "4                             58                                  247   \n",
       "...                          ...                                  ...   \n",
       "9012                           0                                    1   \n",
       "9013                           0                                    1   \n",
       "9014                           0                                    1   \n",
       "9015                           2                                    5   \n",
       "9016                           2                                    6   \n",
       "\n",
       "      IMPORTATION OF GIRLS FROM FOREIGN COUNTRIES  \\\n",
       "0                                               0   \n",
       "1                                               0   \n",
       "2                                               0   \n",
       "3                                               0   \n",
       "4                                               0   \n",
       "...                                           ...   \n",
       "9012                                            0   \n",
       "9013                                            0   \n",
       "9014                                            0   \n",
       "9015                                            0   \n",
       "9016                                            0   \n",
       "\n",
       "      CAUSING DEATH BY NEGLIGENCE  OTHER IPC CRIMES  TOTAL IPC CRIMES  \n",
       "0                             181              1518              4154  \n",
       "1                             270               754              4125  \n",
       "2                             404              1262              5818  \n",
       "3                             233              1181              3140  \n",
       "4                             431              2313              6507  \n",
       "...                           ...               ...               ...  \n",
       "9012                            0                32                60  \n",
       "9013                            0                32                60  \n",
       "9014                           44               392               787  \n",
       "9015                          219              1668              3494  \n",
       "9016                          263              2060              4281  \n",
       "\n",
       "[9017 rows x 33 columns]"
      ]
     },
     "execution_count": 51,
     "metadata": {},
     "output_type": "execute_result"
    }
   ],
   "source": [
    "data = data.drop(['index'], axis = 1)\n",
    "data"
   ]
  },
  {
   "cell_type": "code",
   "execution_count": 52,
   "id": "62d44ffa",
   "metadata": {},
   "outputs": [
    {
     "name": "stdout",
     "output_type": "stream",
     "text": [
      "<class 'pandas.core.frame.DataFrame'>\n",
      "RangeIndex: 9017 entries, 0 to 9016\n",
      "Data columns (total 33 columns):\n",
      " #   Column                                               Non-Null Count  Dtype \n",
      "---  ------                                               --------------  ----- \n",
      " 0   STATE/UT                                             9017 non-null   object\n",
      " 1   DISTRICT                                             9017 non-null   object\n",
      " 2   YEAR                                                 9017 non-null   int64 \n",
      " 3   MURDER                                               9017 non-null   int64 \n",
      " 4   ATTEMPT TO MURDER                                    9017 non-null   int64 \n",
      " 5   CULPABLE HOMICIDE NOT AMOUNTING TO MURDER            9017 non-null   int64 \n",
      " 6   RAPE                                                 9017 non-null   int64 \n",
      " 7   CUSTODIAL RAPE                                       9017 non-null   int64 \n",
      " 8   OTHER RAPE                                           9017 non-null   int64 \n",
      " 9   KIDNAPPING & ABDUCTION                               9017 non-null   int64 \n",
      " 10  KIDNAPPING AND ABDUCTION OF WOMEN AND GIRLS          9017 non-null   int64 \n",
      " 11  KIDNAPPING AND ABDUCTION OF OTHERS                   9017 non-null   int64 \n",
      " 12  DACOITY                                              9017 non-null   int64 \n",
      " 13  PREPARATION AND ASSEMBLY FOR DACOITY                 9017 non-null   int64 \n",
      " 14  ROBBERY                                              9017 non-null   int64 \n",
      " 15  BURGLARY                                             9017 non-null   int64 \n",
      " 16  THEFT                                                9017 non-null   int64 \n",
      " 17  AUTO THEFT                                           9017 non-null   int64 \n",
      " 18  OTHER THEFT                                          9017 non-null   int64 \n",
      " 19  RIOTS                                                9017 non-null   int64 \n",
      " 20  CRIMINAL BREACH OF TRUST                             9017 non-null   int64 \n",
      " 21  CHEATING                                             9017 non-null   int64 \n",
      " 22  COUNTERFIETING                                       9017 non-null   int64 \n",
      " 23  ARSON                                                9017 non-null   int64 \n",
      " 24  HURT/GREVIOUS HURT                                   9017 non-null   int64 \n",
      " 25  DOWRY DEATHS                                         9017 non-null   int64 \n",
      " 26  ASSAULT ON WOMEN WITH INTENT TO OUTRAGE HER MODESTY  9017 non-null   int64 \n",
      " 27  INSULT TO MODESTY OF WOMEN                           9017 non-null   int64 \n",
      " 28  CRUELTY BY HUSBAND OR HIS RELATIVES                  9017 non-null   int64 \n",
      " 29  IMPORTATION OF GIRLS FROM FOREIGN COUNTRIES          9017 non-null   int64 \n",
      " 30  CAUSING DEATH BY NEGLIGENCE                          9017 non-null   int64 \n",
      " 31  OTHER IPC CRIMES                                     9017 non-null   int64 \n",
      " 32  TOTAL IPC CRIMES                                     9017 non-null   int64 \n",
      "dtypes: int64(31), object(2)\n",
      "memory usage: 2.3+ MB\n"
     ]
    }
   ],
   "source": [
    "data.info()"
   ]
  },
  {
   "cell_type": "code",
   "execution_count": 53,
   "id": "60699290",
   "metadata": {},
   "outputs": [
    {
     "data": {
      "text/html": [
       "<div>\n",
       "<style scoped>\n",
       "    .dataframe tbody tr th:only-of-type {\n",
       "        vertical-align: middle;\n",
       "    }\n",
       "\n",
       "    .dataframe tbody tr th {\n",
       "        vertical-align: top;\n",
       "    }\n",
       "\n",
       "    .dataframe thead th {\n",
       "        text-align: right;\n",
       "    }\n",
       "</style>\n",
       "<table border=\"1\" class=\"dataframe\">\n",
       "  <thead>\n",
       "    <tr style=\"text-align: right;\">\n",
       "      <th></th>\n",
       "      <th>STATE/UT</th>\n",
       "      <th>DISTRICT</th>\n",
       "      <th>YEAR</th>\n",
       "      <th>MURDER</th>\n",
       "      <th>ATTEMPT TO MURDER</th>\n",
       "      <th>CULPABLE HOMICIDE NOT AMOUNTING TO MURDER</th>\n",
       "      <th>RAPE</th>\n",
       "      <th>CUSTODIAL RAPE</th>\n",
       "      <th>OTHER RAPE</th>\n",
       "      <th>KIDNAPPING &amp; ABDUCTION</th>\n",
       "      <th>...</th>\n",
       "      <th>ARSON</th>\n",
       "      <th>HURT/GREVIOUS HURT</th>\n",
       "      <th>DOWRY DEATHS</th>\n",
       "      <th>ASSAULT ON WOMEN WITH INTENT TO OUTRAGE HER MODESTY</th>\n",
       "      <th>INSULT TO MODESTY OF WOMEN</th>\n",
       "      <th>CRUELTY BY HUSBAND OR HIS RELATIVES</th>\n",
       "      <th>IMPORTATION OF GIRLS FROM FOREIGN COUNTRIES</th>\n",
       "      <th>CAUSING DEATH BY NEGLIGENCE</th>\n",
       "      <th>OTHER IPC CRIMES</th>\n",
       "      <th>TOTAL IPC CRIMES</th>\n",
       "    </tr>\n",
       "  </thead>\n",
       "  <tbody>\n",
       "    <tr>\n",
       "      <th>0</th>\n",
       "      <td>False</td>\n",
       "      <td>False</td>\n",
       "      <td>False</td>\n",
       "      <td>False</td>\n",
       "      <td>False</td>\n",
       "      <td>False</td>\n",
       "      <td>False</td>\n",
       "      <td>False</td>\n",
       "      <td>False</td>\n",
       "      <td>False</td>\n",
       "      <td>...</td>\n",
       "      <td>False</td>\n",
       "      <td>False</td>\n",
       "      <td>False</td>\n",
       "      <td>False</td>\n",
       "      <td>False</td>\n",
       "      <td>False</td>\n",
       "      <td>False</td>\n",
       "      <td>False</td>\n",
       "      <td>False</td>\n",
       "      <td>False</td>\n",
       "    </tr>\n",
       "    <tr>\n",
       "      <th>1</th>\n",
       "      <td>False</td>\n",
       "      <td>False</td>\n",
       "      <td>False</td>\n",
       "      <td>False</td>\n",
       "      <td>False</td>\n",
       "      <td>False</td>\n",
       "      <td>False</td>\n",
       "      <td>False</td>\n",
       "      <td>False</td>\n",
       "      <td>False</td>\n",
       "      <td>...</td>\n",
       "      <td>False</td>\n",
       "      <td>False</td>\n",
       "      <td>False</td>\n",
       "      <td>False</td>\n",
       "      <td>False</td>\n",
       "      <td>False</td>\n",
       "      <td>False</td>\n",
       "      <td>False</td>\n",
       "      <td>False</td>\n",
       "      <td>False</td>\n",
       "    </tr>\n",
       "    <tr>\n",
       "      <th>2</th>\n",
       "      <td>False</td>\n",
       "      <td>False</td>\n",
       "      <td>False</td>\n",
       "      <td>False</td>\n",
       "      <td>False</td>\n",
       "      <td>False</td>\n",
       "      <td>False</td>\n",
       "      <td>False</td>\n",
       "      <td>False</td>\n",
       "      <td>False</td>\n",
       "      <td>...</td>\n",
       "      <td>False</td>\n",
       "      <td>False</td>\n",
       "      <td>False</td>\n",
       "      <td>False</td>\n",
       "      <td>False</td>\n",
       "      <td>False</td>\n",
       "      <td>False</td>\n",
       "      <td>False</td>\n",
       "      <td>False</td>\n",
       "      <td>False</td>\n",
       "    </tr>\n",
       "    <tr>\n",
       "      <th>3</th>\n",
       "      <td>False</td>\n",
       "      <td>False</td>\n",
       "      <td>False</td>\n",
       "      <td>False</td>\n",
       "      <td>False</td>\n",
       "      <td>False</td>\n",
       "      <td>False</td>\n",
       "      <td>False</td>\n",
       "      <td>False</td>\n",
       "      <td>False</td>\n",
       "      <td>...</td>\n",
       "      <td>False</td>\n",
       "      <td>False</td>\n",
       "      <td>False</td>\n",
       "      <td>False</td>\n",
       "      <td>False</td>\n",
       "      <td>False</td>\n",
       "      <td>False</td>\n",
       "      <td>False</td>\n",
       "      <td>False</td>\n",
       "      <td>False</td>\n",
       "    </tr>\n",
       "    <tr>\n",
       "      <th>4</th>\n",
       "      <td>False</td>\n",
       "      <td>False</td>\n",
       "      <td>False</td>\n",
       "      <td>False</td>\n",
       "      <td>False</td>\n",
       "      <td>False</td>\n",
       "      <td>False</td>\n",
       "      <td>False</td>\n",
       "      <td>False</td>\n",
       "      <td>False</td>\n",
       "      <td>...</td>\n",
       "      <td>False</td>\n",
       "      <td>False</td>\n",
       "      <td>False</td>\n",
       "      <td>False</td>\n",
       "      <td>False</td>\n",
       "      <td>False</td>\n",
       "      <td>False</td>\n",
       "      <td>False</td>\n",
       "      <td>False</td>\n",
       "      <td>False</td>\n",
       "    </tr>\n",
       "    <tr>\n",
       "      <th>...</th>\n",
       "      <td>...</td>\n",
       "      <td>...</td>\n",
       "      <td>...</td>\n",
       "      <td>...</td>\n",
       "      <td>...</td>\n",
       "      <td>...</td>\n",
       "      <td>...</td>\n",
       "      <td>...</td>\n",
       "      <td>...</td>\n",
       "      <td>...</td>\n",
       "      <td>...</td>\n",
       "      <td>...</td>\n",
       "      <td>...</td>\n",
       "      <td>...</td>\n",
       "      <td>...</td>\n",
       "      <td>...</td>\n",
       "      <td>...</td>\n",
       "      <td>...</td>\n",
       "      <td>...</td>\n",
       "      <td>...</td>\n",
       "      <td>...</td>\n",
       "    </tr>\n",
       "    <tr>\n",
       "      <th>9012</th>\n",
       "      <td>False</td>\n",
       "      <td>False</td>\n",
       "      <td>False</td>\n",
       "      <td>False</td>\n",
       "      <td>False</td>\n",
       "      <td>False</td>\n",
       "      <td>False</td>\n",
       "      <td>False</td>\n",
       "      <td>False</td>\n",
       "      <td>False</td>\n",
       "      <td>...</td>\n",
       "      <td>False</td>\n",
       "      <td>False</td>\n",
       "      <td>False</td>\n",
       "      <td>False</td>\n",
       "      <td>False</td>\n",
       "      <td>False</td>\n",
       "      <td>False</td>\n",
       "      <td>False</td>\n",
       "      <td>False</td>\n",
       "      <td>False</td>\n",
       "    </tr>\n",
       "    <tr>\n",
       "      <th>9013</th>\n",
       "      <td>False</td>\n",
       "      <td>False</td>\n",
       "      <td>False</td>\n",
       "      <td>False</td>\n",
       "      <td>False</td>\n",
       "      <td>False</td>\n",
       "      <td>False</td>\n",
       "      <td>False</td>\n",
       "      <td>False</td>\n",
       "      <td>False</td>\n",
       "      <td>...</td>\n",
       "      <td>False</td>\n",
       "      <td>False</td>\n",
       "      <td>False</td>\n",
       "      <td>False</td>\n",
       "      <td>False</td>\n",
       "      <td>False</td>\n",
       "      <td>False</td>\n",
       "      <td>False</td>\n",
       "      <td>False</td>\n",
       "      <td>False</td>\n",
       "    </tr>\n",
       "    <tr>\n",
       "      <th>9014</th>\n",
       "      <td>False</td>\n",
       "      <td>False</td>\n",
       "      <td>False</td>\n",
       "      <td>False</td>\n",
       "      <td>False</td>\n",
       "      <td>False</td>\n",
       "      <td>False</td>\n",
       "      <td>False</td>\n",
       "      <td>False</td>\n",
       "      <td>False</td>\n",
       "      <td>...</td>\n",
       "      <td>False</td>\n",
       "      <td>False</td>\n",
       "      <td>False</td>\n",
       "      <td>False</td>\n",
       "      <td>False</td>\n",
       "      <td>False</td>\n",
       "      <td>False</td>\n",
       "      <td>False</td>\n",
       "      <td>False</td>\n",
       "      <td>False</td>\n",
       "    </tr>\n",
       "    <tr>\n",
       "      <th>9015</th>\n",
       "      <td>False</td>\n",
       "      <td>False</td>\n",
       "      <td>False</td>\n",
       "      <td>False</td>\n",
       "      <td>False</td>\n",
       "      <td>False</td>\n",
       "      <td>False</td>\n",
       "      <td>False</td>\n",
       "      <td>False</td>\n",
       "      <td>False</td>\n",
       "      <td>...</td>\n",
       "      <td>False</td>\n",
       "      <td>False</td>\n",
       "      <td>False</td>\n",
       "      <td>False</td>\n",
       "      <td>False</td>\n",
       "      <td>False</td>\n",
       "      <td>False</td>\n",
       "      <td>False</td>\n",
       "      <td>False</td>\n",
       "      <td>False</td>\n",
       "    </tr>\n",
       "    <tr>\n",
       "      <th>9016</th>\n",
       "      <td>False</td>\n",
       "      <td>False</td>\n",
       "      <td>False</td>\n",
       "      <td>False</td>\n",
       "      <td>False</td>\n",
       "      <td>False</td>\n",
       "      <td>False</td>\n",
       "      <td>False</td>\n",
       "      <td>False</td>\n",
       "      <td>False</td>\n",
       "      <td>...</td>\n",
       "      <td>False</td>\n",
       "      <td>False</td>\n",
       "      <td>False</td>\n",
       "      <td>False</td>\n",
       "      <td>False</td>\n",
       "      <td>False</td>\n",
       "      <td>False</td>\n",
       "      <td>False</td>\n",
       "      <td>False</td>\n",
       "      <td>False</td>\n",
       "    </tr>\n",
       "  </tbody>\n",
       "</table>\n",
       "<p>9017 rows × 33 columns</p>\n",
       "</div>"
      ],
      "text/plain": [
       "      STATE/UT  DISTRICT   YEAR  MURDER  ATTEMPT TO MURDER  \\\n",
       "0        False     False  False   False              False   \n",
       "1        False     False  False   False              False   \n",
       "2        False     False  False   False              False   \n",
       "3        False     False  False   False              False   \n",
       "4        False     False  False   False              False   \n",
       "...        ...       ...    ...     ...                ...   \n",
       "9012     False     False  False   False              False   \n",
       "9013     False     False  False   False              False   \n",
       "9014     False     False  False   False              False   \n",
       "9015     False     False  False   False              False   \n",
       "9016     False     False  False   False              False   \n",
       "\n",
       "      CULPABLE HOMICIDE NOT AMOUNTING TO MURDER   RAPE  CUSTODIAL RAPE  \\\n",
       "0                                         False  False           False   \n",
       "1                                         False  False           False   \n",
       "2                                         False  False           False   \n",
       "3                                         False  False           False   \n",
       "4                                         False  False           False   \n",
       "...                                         ...    ...             ...   \n",
       "9012                                      False  False           False   \n",
       "9013                                      False  False           False   \n",
       "9014                                      False  False           False   \n",
       "9015                                      False  False           False   \n",
       "9016                                      False  False           False   \n",
       "\n",
       "      OTHER RAPE  KIDNAPPING & ABDUCTION  ...  ARSON  HURT/GREVIOUS HURT  \\\n",
       "0          False                   False  ...  False               False   \n",
       "1          False                   False  ...  False               False   \n",
       "2          False                   False  ...  False               False   \n",
       "3          False                   False  ...  False               False   \n",
       "4          False                   False  ...  False               False   \n",
       "...          ...                     ...  ...    ...                 ...   \n",
       "9012       False                   False  ...  False               False   \n",
       "9013       False                   False  ...  False               False   \n",
       "9014       False                   False  ...  False               False   \n",
       "9015       False                   False  ...  False               False   \n",
       "9016       False                   False  ...  False               False   \n",
       "\n",
       "      DOWRY DEATHS  ASSAULT ON WOMEN WITH INTENT TO OUTRAGE HER MODESTY  \\\n",
       "0            False                                              False     \n",
       "1            False                                              False     \n",
       "2            False                                              False     \n",
       "3            False                                              False     \n",
       "4            False                                              False     \n",
       "...            ...                                                ...     \n",
       "9012         False                                              False     \n",
       "9013         False                                              False     \n",
       "9014         False                                              False     \n",
       "9015         False                                              False     \n",
       "9016         False                                              False     \n",
       "\n",
       "      INSULT TO MODESTY OF WOMEN  CRUELTY BY HUSBAND OR HIS RELATIVES  \\\n",
       "0                          False                                False   \n",
       "1                          False                                False   \n",
       "2                          False                                False   \n",
       "3                          False                                False   \n",
       "4                          False                                False   \n",
       "...                          ...                                  ...   \n",
       "9012                       False                                False   \n",
       "9013                       False                                False   \n",
       "9014                       False                                False   \n",
       "9015                       False                                False   \n",
       "9016                       False                                False   \n",
       "\n",
       "      IMPORTATION OF GIRLS FROM FOREIGN COUNTRIES  \\\n",
       "0                                           False   \n",
       "1                                           False   \n",
       "2                                           False   \n",
       "3                                           False   \n",
       "4                                           False   \n",
       "...                                           ...   \n",
       "9012                                        False   \n",
       "9013                                        False   \n",
       "9014                                        False   \n",
       "9015                                        False   \n",
       "9016                                        False   \n",
       "\n",
       "      CAUSING DEATH BY NEGLIGENCE  OTHER IPC CRIMES  TOTAL IPC CRIMES  \n",
       "0                           False             False             False  \n",
       "1                           False             False             False  \n",
       "2                           False             False             False  \n",
       "3                           False             False             False  \n",
       "4                           False             False             False  \n",
       "...                           ...               ...               ...  \n",
       "9012                        False             False             False  \n",
       "9013                        False             False             False  \n",
       "9014                        False             False             False  \n",
       "9015                        False             False             False  \n",
       "9016                        False             False             False  \n",
       "\n",
       "[9017 rows x 33 columns]"
      ]
     },
     "execution_count": 53,
     "metadata": {},
     "output_type": "execute_result"
    }
   ],
   "source": [
    "data.isnull()"
   ]
  },
  {
   "cell_type": "code",
   "execution_count": 54,
   "id": "f0911f53",
   "metadata": {},
   "outputs": [
    {
     "data": {
      "text/plain": [
       "STATE/UT                                               0\n",
       "DISTRICT                                               0\n",
       "YEAR                                                   0\n",
       "MURDER                                                 0\n",
       "ATTEMPT TO MURDER                                      0\n",
       "CULPABLE HOMICIDE NOT AMOUNTING TO MURDER              0\n",
       "RAPE                                                   0\n",
       "CUSTODIAL RAPE                                         0\n",
       "OTHER RAPE                                             0\n",
       "KIDNAPPING & ABDUCTION                                 0\n",
       "KIDNAPPING AND ABDUCTION OF WOMEN AND GIRLS            0\n",
       "KIDNAPPING AND ABDUCTION OF OTHERS                     0\n",
       "DACOITY                                                0\n",
       "PREPARATION AND ASSEMBLY FOR DACOITY                   0\n",
       "ROBBERY                                                0\n",
       "BURGLARY                                               0\n",
       "THEFT                                                  0\n",
       "AUTO THEFT                                             0\n",
       "OTHER THEFT                                            0\n",
       "RIOTS                                                  0\n",
       "CRIMINAL BREACH OF TRUST                               0\n",
       "CHEATING                                               0\n",
       "COUNTERFIETING                                         0\n",
       "ARSON                                                  0\n",
       "HURT/GREVIOUS HURT                                     0\n",
       "DOWRY DEATHS                                           0\n",
       "ASSAULT ON WOMEN WITH INTENT TO OUTRAGE HER MODESTY    0\n",
       "INSULT TO MODESTY OF WOMEN                             0\n",
       "CRUELTY BY HUSBAND OR HIS RELATIVES                    0\n",
       "IMPORTATION OF GIRLS FROM FOREIGN COUNTRIES            0\n",
       "CAUSING DEATH BY NEGLIGENCE                            0\n",
       "OTHER IPC CRIMES                                       0\n",
       "TOTAL IPC CRIMES                                       0\n",
       "dtype: int64"
      ]
     },
     "execution_count": 54,
     "metadata": {},
     "output_type": "execute_result"
    }
   ],
   "source": [
    "data.isnull().sum()"
   ]
  },
  {
   "cell_type": "code",
   "execution_count": 55,
   "id": "0281209c",
   "metadata": {},
   "outputs": [
    {
     "data": {
      "text/plain": [
       "STATE/UT                                                 35\n",
       "DISTRICT                                                808\n",
       "YEAR                                                     12\n",
       "MURDER                                                  477\n",
       "ATTEMPT TO MURDER                                       514\n",
       "CULPABLE HOMICIDE NOT AMOUNTING TO MURDER               171\n",
       "RAPE                                                    420\n",
       "CUSTODIAL RAPE                                            5\n",
       "OTHER RAPE                                              419\n",
       "KIDNAPPING & ABDUCTION                                  534\n",
       "KIDNAPPING AND ABDUCTION OF WOMEN AND GIRLS             460\n",
       "KIDNAPPING AND ABDUCTION OF OTHERS                      307\n",
       "DACOITY                                                 227\n",
       "PREPARATION AND ASSEMBLY FOR DACOITY                    191\n",
       "ROBBERY                                                 455\n",
       "BURGLARY                                                922\n",
       "THEFT                                                  1751\n",
       "AUTO THEFT                                             1114\n",
       "OTHER THEFT                                            1343\n",
       "RIOTS                                                   804\n",
       "CRIMINAL BREACH OF TRUST                                411\n",
       "CHEATING                                                824\n",
       "COUNTERFIETING                                          167\n",
       "ARSON                                                   295\n",
       "HURT/GREVIOUS HURT                                     1855\n",
       "DOWRY DEATHS                                            256\n",
       "ASSAULT ON WOMEN WITH INTENT TO OUTRAGE HER MODESTY     553\n",
       "INSULT TO MODESTY OF WOMEN                              343\n",
       "CRUELTY BY HUSBAND OR HIS RELATIVES                     846\n",
       "IMPORTATION OF GIRLS FROM FOREIGN COUNTRIES              37\n",
       "CAUSING DEATH BY NEGLIGENCE                             854\n",
       "OTHER IPC CRIMES                                       3173\n",
       "TOTAL IPC CRIMES                                       5010\n",
       "dtype: int64"
      ]
     },
     "execution_count": 55,
     "metadata": {},
     "output_type": "execute_result"
    }
   ],
   "source": [
    "data.nunique()"
   ]
  },
  {
   "cell_type": "code",
   "execution_count": 56,
   "id": "ab602762",
   "metadata": {},
   "outputs": [
    {
     "data": {
      "text/plain": [
       "35"
      ]
     },
     "execution_count": 56,
     "metadata": {},
     "output_type": "execute_result"
    }
   ],
   "source": [
    "data['STATE/UT'].unique()\n",
    "len(data['STATE/UT'].unique())"
   ]
  },
  {
   "cell_type": "code",
   "execution_count": 57,
   "id": "eff0064a",
   "metadata": {},
   "outputs": [
    {
     "data": {
      "text/plain": [
       "array(['ANDHRA PRADESH', 'ARUNACHAL PRADESH', 'ASSAM', 'BIHAR',\n",
       "       'CHHATTISGARH', 'GOA', 'GUJARAT', 'HARYANA', 'HIMACHAL PRADESH',\n",
       "       'JAMMU & KASHMIR', 'JHARKHAND', 'KARNATAKA', 'KERALA',\n",
       "       'MADHYA PRADESH', 'MAHARASHTRA', 'MANIPUR', 'MEGHALAYA', 'MIZORAM',\n",
       "       'NAGALAND', 'ODISHA', 'PUNJAB', 'RAJASTHAN', 'SIKKIM',\n",
       "       'TAMIL NADU', 'TRIPURA', 'UTTAR PRADESH', 'UTTARAKHAND',\n",
       "       'WEST BENGAL', 'A & N ISLANDS', 'CHANDIGARH', 'D & N HAVELI',\n",
       "       'DAMAN & DIU', 'DELHI UT', 'LAKSHADWEEP', 'PUDUCHERRY'],\n",
       "      dtype=object)"
      ]
     },
     "execution_count": 57,
     "metadata": {},
     "output_type": "execute_result"
    }
   ],
   "source": [
    "data['STATE/UT'].unique()"
   ]
  },
  {
   "cell_type": "code",
   "execution_count": 58,
   "id": "4ab63464",
   "metadata": {},
   "outputs": [
    {
     "data": {
      "text/plain": [
       "STATE/UT                                               0\n",
       "DISTRICT                                               0\n",
       "YEAR                                                   0\n",
       "MURDER                                                 0\n",
       "ATTEMPT TO MURDER                                      0\n",
       "CULPABLE HOMICIDE NOT AMOUNTING TO MURDER              0\n",
       "RAPE                                                   0\n",
       "CUSTODIAL RAPE                                         0\n",
       "OTHER RAPE                                             0\n",
       "KIDNAPPING & ABDUCTION                                 0\n",
       "KIDNAPPING AND ABDUCTION OF WOMEN AND GIRLS            0\n",
       "KIDNAPPING AND ABDUCTION OF OTHERS                     0\n",
       "DACOITY                                                0\n",
       "PREPARATION AND ASSEMBLY FOR DACOITY                   0\n",
       "ROBBERY                                                0\n",
       "BURGLARY                                               0\n",
       "THEFT                                                  0\n",
       "AUTO THEFT                                             0\n",
       "OTHER THEFT                                            0\n",
       "RIOTS                                                  0\n",
       "CRIMINAL BREACH OF TRUST                               0\n",
       "CHEATING                                               0\n",
       "COUNTERFIETING                                         0\n",
       "ARSON                                                  0\n",
       "HURT/GREVIOUS HURT                                     0\n",
       "DOWRY DEATHS                                           0\n",
       "ASSAULT ON WOMEN WITH INTENT TO OUTRAGE HER MODESTY    0\n",
       "INSULT TO MODESTY OF WOMEN                             0\n",
       "CRUELTY BY HUSBAND OR HIS RELATIVES                    0\n",
       "IMPORTATION OF GIRLS FROM FOREIGN COUNTRIES            0\n",
       "CAUSING DEATH BY NEGLIGENCE                            0\n",
       "OTHER IPC CRIMES                                       0\n",
       "TOTAL IPC CRIMES                                       0\n",
       "dtype: int64"
      ]
     },
     "execution_count": 58,
     "metadata": {},
     "output_type": "execute_result"
    }
   ],
   "source": [
    "data.isnull().sum()"
   ]
  },
  {
   "cell_type": "code",
   "execution_count": 59,
   "id": "46a30490",
   "metadata": {},
   "outputs": [],
   "source": [
    "def crimes_by_different_order(dataframe,column_name):\n",
    "    \"This function returns a dataframe with total number of particular crimes grouping by certain column\"\n",
    "    for column in list(data.columns)[3:]:\n",
    "        dataframe[column]=data.groupby([column_name])[column].sum()   \n",
    "    return dataframe"
   ]
  },
  {
   "cell_type": "code",
   "execution_count": 60,
   "id": "27d307e1",
   "metadata": {},
   "outputs": [
    {
     "data": {
      "text/html": [
       "<div>\n",
       "<style scoped>\n",
       "    .dataframe tbody tr th:only-of-type {\n",
       "        vertical-align: middle;\n",
       "    }\n",
       "\n",
       "    .dataframe tbody tr th {\n",
       "        vertical-align: top;\n",
       "    }\n",
       "\n",
       "    .dataframe thead th {\n",
       "        text-align: right;\n",
       "    }\n",
       "</style>\n",
       "<table border=\"1\" class=\"dataframe\">\n",
       "  <thead>\n",
       "    <tr style=\"text-align: right;\">\n",
       "      <th></th>\n",
       "      <th>YEAR</th>\n",
       "      <th>MURDER</th>\n",
       "      <th>ATTEMPT TO MURDER</th>\n",
       "      <th>CULPABLE HOMICIDE NOT AMOUNTING TO MURDER</th>\n",
       "      <th>RAPE</th>\n",
       "      <th>CUSTODIAL RAPE</th>\n",
       "      <th>OTHER RAPE</th>\n",
       "      <th>KIDNAPPING &amp; ABDUCTION</th>\n",
       "      <th>KIDNAPPING AND ABDUCTION OF WOMEN AND GIRLS</th>\n",
       "      <th>KIDNAPPING AND ABDUCTION OF OTHERS</th>\n",
       "      <th>...</th>\n",
       "      <th>ARSON</th>\n",
       "      <th>HURT/GREVIOUS HURT</th>\n",
       "      <th>DOWRY DEATHS</th>\n",
       "      <th>ASSAULT ON WOMEN WITH INTENT TO OUTRAGE HER MODESTY</th>\n",
       "      <th>INSULT TO MODESTY OF WOMEN</th>\n",
       "      <th>CRUELTY BY HUSBAND OR HIS RELATIVES</th>\n",
       "      <th>IMPORTATION OF GIRLS FROM FOREIGN COUNTRIES</th>\n",
       "      <th>CAUSING DEATH BY NEGLIGENCE</th>\n",
       "      <th>OTHER IPC CRIMES</th>\n",
       "      <th>TOTAL IPC CRIMES</th>\n",
       "    </tr>\n",
       "  </thead>\n",
       "  <tbody>\n",
       "    <tr>\n",
       "      <th>0</th>\n",
       "      <td>2001</td>\n",
       "      <td>72404</td>\n",
       "      <td>63046</td>\n",
       "      <td>6734</td>\n",
       "      <td>32150</td>\n",
       "      <td>0</td>\n",
       "      <td>32150</td>\n",
       "      <td>44974</td>\n",
       "      <td>29290</td>\n",
       "      <td>15684</td>\n",
       "      <td>...</td>\n",
       "      <td>21068</td>\n",
       "      <td>542974</td>\n",
       "      <td>13702</td>\n",
       "      <td>68248</td>\n",
       "      <td>19492</td>\n",
       "      <td>98340</td>\n",
       "      <td>228</td>\n",
       "      <td>114364</td>\n",
       "      <td>1402724</td>\n",
       "      <td>3538616</td>\n",
       "    </tr>\n",
       "    <tr>\n",
       "      <th>1</th>\n",
       "      <td>2002</td>\n",
       "      <td>70580</td>\n",
       "      <td>60760</td>\n",
       "      <td>7248</td>\n",
       "      <td>32746</td>\n",
       "      <td>6</td>\n",
       "      <td>32740</td>\n",
       "      <td>43700</td>\n",
       "      <td>29012</td>\n",
       "      <td>14688</td>\n",
       "      <td>...</td>\n",
       "      <td>23640</td>\n",
       "      <td>530050</td>\n",
       "      <td>13644</td>\n",
       "      <td>67886</td>\n",
       "      <td>20310</td>\n",
       "      <td>98474</td>\n",
       "      <td>152</td>\n",
       "      <td>128088</td>\n",
       "      <td>1460594</td>\n",
       "      <td>3560660</td>\n",
       "    </tr>\n",
       "    <tr>\n",
       "      <th>2</th>\n",
       "      <td>2003</td>\n",
       "      <td>65432</td>\n",
       "      <td>51884</td>\n",
       "      <td>8058</td>\n",
       "      <td>31694</td>\n",
       "      <td>2</td>\n",
       "      <td>31692</td>\n",
       "      <td>39984</td>\n",
       "      <td>26592</td>\n",
       "      <td>13392</td>\n",
       "      <td>...</td>\n",
       "      <td>18730</td>\n",
       "      <td>522888</td>\n",
       "      <td>12416</td>\n",
       "      <td>65878</td>\n",
       "      <td>24650</td>\n",
       "      <td>101406</td>\n",
       "      <td>92</td>\n",
       "      <td>121344</td>\n",
       "      <td>1400824</td>\n",
       "      <td>3432240</td>\n",
       "    </tr>\n",
       "    <tr>\n",
       "      <th>3</th>\n",
       "      <td>2004</td>\n",
       "      <td>67216</td>\n",
       "      <td>55780</td>\n",
       "      <td>7870</td>\n",
       "      <td>36466</td>\n",
       "      <td>4</td>\n",
       "      <td>36462</td>\n",
       "      <td>46654</td>\n",
       "      <td>31156</td>\n",
       "      <td>15498</td>\n",
       "      <td>...</td>\n",
       "      <td>17274</td>\n",
       "      <td>553736</td>\n",
       "      <td>14052</td>\n",
       "      <td>69134</td>\n",
       "      <td>20002</td>\n",
       "      <td>116242</td>\n",
       "      <td>178</td>\n",
       "      <td>138846</td>\n",
       "      <td>1482052</td>\n",
       "      <td>3664020</td>\n",
       "    </tr>\n",
       "    <tr>\n",
       "      <th>4</th>\n",
       "      <td>2005</td>\n",
       "      <td>65438</td>\n",
       "      <td>56062</td>\n",
       "      <td>7156</td>\n",
       "      <td>36718</td>\n",
       "      <td>14</td>\n",
       "      <td>36704</td>\n",
       "      <td>45664</td>\n",
       "      <td>31500</td>\n",
       "      <td>14164</td>\n",
       "      <td>...</td>\n",
       "      <td>16902</td>\n",
       "      <td>541722</td>\n",
       "      <td>13574</td>\n",
       "      <td>68350</td>\n",
       "      <td>19968</td>\n",
       "      <td>116638</td>\n",
       "      <td>298</td>\n",
       "      <td>143396</td>\n",
       "      <td>1483954</td>\n",
       "      <td>3645204</td>\n",
       "    </tr>\n",
       "    <tr>\n",
       "      <th>5</th>\n",
       "      <td>2006</td>\n",
       "      <td>64962</td>\n",
       "      <td>54460</td>\n",
       "      <td>7070</td>\n",
       "      <td>38696</td>\n",
       "      <td>4</td>\n",
       "      <td>38692</td>\n",
       "      <td>47982</td>\n",
       "      <td>34828</td>\n",
       "      <td>13154</td>\n",
       "      <td>...</td>\n",
       "      <td>16960</td>\n",
       "      <td>529496</td>\n",
       "      <td>15236</td>\n",
       "      <td>73234</td>\n",
       "      <td>19932</td>\n",
       "      <td>126256</td>\n",
       "      <td>134</td>\n",
       "      <td>157026</td>\n",
       "      <td>1559394</td>\n",
       "      <td>3756586</td>\n",
       "    </tr>\n",
       "    <tr>\n",
       "      <th>6</th>\n",
       "      <td>2007</td>\n",
       "      <td>64636</td>\n",
       "      <td>54802</td>\n",
       "      <td>7288</td>\n",
       "      <td>41474</td>\n",
       "      <td>2</td>\n",
       "      <td>41472</td>\n",
       "      <td>55122</td>\n",
       "      <td>40832</td>\n",
       "      <td>14290</td>\n",
       "      <td>...</td>\n",
       "      <td>18048</td>\n",
       "      <td>546134</td>\n",
       "      <td>16186</td>\n",
       "      <td>77468</td>\n",
       "      <td>21900</td>\n",
       "      <td>151860</td>\n",
       "      <td>122</td>\n",
       "      <td>173580</td>\n",
       "      <td>1658412</td>\n",
       "      <td>3979346</td>\n",
       "    </tr>\n",
       "    <tr>\n",
       "      <th>7</th>\n",
       "      <td>2008</td>\n",
       "      <td>65532</td>\n",
       "      <td>57196</td>\n",
       "      <td>7726</td>\n",
       "      <td>42934</td>\n",
       "      <td>0</td>\n",
       "      <td>42934</td>\n",
       "      <td>60522</td>\n",
       "      <td>45878</td>\n",
       "      <td>14644</td>\n",
       "      <td>...</td>\n",
       "      <td>18498</td>\n",
       "      <td>569938</td>\n",
       "      <td>16344</td>\n",
       "      <td>80826</td>\n",
       "      <td>24428</td>\n",
       "      <td>162688</td>\n",
       "      <td>134</td>\n",
       "      <td>184372</td>\n",
       "      <td>1713926</td>\n",
       "      <td>4186758</td>\n",
       "    </tr>\n",
       "    <tr>\n",
       "      <th>8</th>\n",
       "      <td>2009</td>\n",
       "      <td>64738</td>\n",
       "      <td>58076</td>\n",
       "      <td>7860</td>\n",
       "      <td>42794</td>\n",
       "      <td>4</td>\n",
       "      <td>42790</td>\n",
       "      <td>67720</td>\n",
       "      <td>51482</td>\n",
       "      <td>16238</td>\n",
       "      <td>...</td>\n",
       "      <td>17472</td>\n",
       "      <td>558428</td>\n",
       "      <td>16766</td>\n",
       "      <td>77422</td>\n",
       "      <td>22018</td>\n",
       "      <td>179092</td>\n",
       "      <td>96</td>\n",
       "      <td>197064</td>\n",
       "      <td>1731082</td>\n",
       "      <td>4242690</td>\n",
       "    </tr>\n",
       "    <tr>\n",
       "      <th>9</th>\n",
       "      <td>2010</td>\n",
       "      <td>66670</td>\n",
       "      <td>58842</td>\n",
       "      <td>7564</td>\n",
       "      <td>44344</td>\n",
       "      <td>12</td>\n",
       "      <td>44332</td>\n",
       "      <td>76880</td>\n",
       "      <td>59590</td>\n",
       "      <td>17290</td>\n",
       "      <td>...</td>\n",
       "      <td>17016</td>\n",
       "      <td>578044</td>\n",
       "      <td>16782</td>\n",
       "      <td>81226</td>\n",
       "      <td>19922</td>\n",
       "      <td>188082</td>\n",
       "      <td>72</td>\n",
       "      <td>212686</td>\n",
       "      <td>1848144</td>\n",
       "      <td>4449662</td>\n",
       "    </tr>\n",
       "    <tr>\n",
       "      <th>10</th>\n",
       "      <td>2011</td>\n",
       "      <td>68610</td>\n",
       "      <td>62770</td>\n",
       "      <td>7414</td>\n",
       "      <td>48412</td>\n",
       "      <td>2</td>\n",
       "      <td>48410</td>\n",
       "      <td>89328</td>\n",
       "      <td>71130</td>\n",
       "      <td>18198</td>\n",
       "      <td>...</td>\n",
       "      <td>18128</td>\n",
       "      <td>605694</td>\n",
       "      <td>17236</td>\n",
       "      <td>85936</td>\n",
       "      <td>17140</td>\n",
       "      <td>198270</td>\n",
       "      <td>160</td>\n",
       "      <td>217780</td>\n",
       "      <td>1932064</td>\n",
       "      <td>4651150</td>\n",
       "    </tr>\n",
       "    <tr>\n",
       "      <th>11</th>\n",
       "      <td>2012</td>\n",
       "      <td>68868</td>\n",
       "      <td>70276</td>\n",
       "      <td>7240</td>\n",
       "      <td>49846</td>\n",
       "      <td>2</td>\n",
       "      <td>49844</td>\n",
       "      <td>95184</td>\n",
       "      <td>76524</td>\n",
       "      <td>18660</td>\n",
       "      <td>...</td>\n",
       "      <td>23672</td>\n",
       "      <td>664648</td>\n",
       "      <td>16466</td>\n",
       "      <td>90702</td>\n",
       "      <td>18346</td>\n",
       "      <td>213054</td>\n",
       "      <td>118</td>\n",
       "      <td>215182</td>\n",
       "      <td>1932488</td>\n",
       "      <td>4774376</td>\n",
       "    </tr>\n",
       "  </tbody>\n",
       "</table>\n",
       "<p>12 rows × 31 columns</p>\n",
       "</div>"
      ],
      "text/plain": [
       "    YEAR  MURDER  ATTEMPT TO MURDER  \\\n",
       "0   2001   72404              63046   \n",
       "1   2002   70580              60760   \n",
       "2   2003   65432              51884   \n",
       "3   2004   67216              55780   \n",
       "4   2005   65438              56062   \n",
       "5   2006   64962              54460   \n",
       "6   2007   64636              54802   \n",
       "7   2008   65532              57196   \n",
       "8   2009   64738              58076   \n",
       "9   2010   66670              58842   \n",
       "10  2011   68610              62770   \n",
       "11  2012   68868              70276   \n",
       "\n",
       "    CULPABLE HOMICIDE NOT AMOUNTING TO MURDER   RAPE  CUSTODIAL RAPE  \\\n",
       "0                                        6734  32150               0   \n",
       "1                                        7248  32746               6   \n",
       "2                                        8058  31694               2   \n",
       "3                                        7870  36466               4   \n",
       "4                                        7156  36718              14   \n",
       "5                                        7070  38696               4   \n",
       "6                                        7288  41474               2   \n",
       "7                                        7726  42934               0   \n",
       "8                                        7860  42794               4   \n",
       "9                                        7564  44344              12   \n",
       "10                                       7414  48412               2   \n",
       "11                                       7240  49846               2   \n",
       "\n",
       "    OTHER RAPE  KIDNAPPING & ABDUCTION  \\\n",
       "0        32150                   44974   \n",
       "1        32740                   43700   \n",
       "2        31692                   39984   \n",
       "3        36462                   46654   \n",
       "4        36704                   45664   \n",
       "5        38692                   47982   \n",
       "6        41472                   55122   \n",
       "7        42934                   60522   \n",
       "8        42790                   67720   \n",
       "9        44332                   76880   \n",
       "10       48410                   89328   \n",
       "11       49844                   95184   \n",
       "\n",
       "    KIDNAPPING AND ABDUCTION OF WOMEN AND GIRLS  \\\n",
       "0                                         29290   \n",
       "1                                         29012   \n",
       "2                                         26592   \n",
       "3                                         31156   \n",
       "4                                         31500   \n",
       "5                                         34828   \n",
       "6                                         40832   \n",
       "7                                         45878   \n",
       "8                                         51482   \n",
       "9                                         59590   \n",
       "10                                        71130   \n",
       "11                                        76524   \n",
       "\n",
       "    KIDNAPPING AND ABDUCTION OF OTHERS  ...  ARSON  HURT/GREVIOUS HURT  \\\n",
       "0                                15684  ...  21068              542974   \n",
       "1                                14688  ...  23640              530050   \n",
       "2                                13392  ...  18730              522888   \n",
       "3                                15498  ...  17274              553736   \n",
       "4                                14164  ...  16902              541722   \n",
       "5                                13154  ...  16960              529496   \n",
       "6                                14290  ...  18048              546134   \n",
       "7                                14644  ...  18498              569938   \n",
       "8                                16238  ...  17472              558428   \n",
       "9                                17290  ...  17016              578044   \n",
       "10                               18198  ...  18128              605694   \n",
       "11                               18660  ...  23672              664648   \n",
       "\n",
       "    DOWRY DEATHS  ASSAULT ON WOMEN WITH INTENT TO OUTRAGE HER MODESTY  \\\n",
       "0          13702                                              68248     \n",
       "1          13644                                              67886     \n",
       "2          12416                                              65878     \n",
       "3          14052                                              69134     \n",
       "4          13574                                              68350     \n",
       "5          15236                                              73234     \n",
       "6          16186                                              77468     \n",
       "7          16344                                              80826     \n",
       "8          16766                                              77422     \n",
       "9          16782                                              81226     \n",
       "10         17236                                              85936     \n",
       "11         16466                                              90702     \n",
       "\n",
       "    INSULT TO MODESTY OF WOMEN  CRUELTY BY HUSBAND OR HIS RELATIVES  \\\n",
       "0                        19492                                98340   \n",
       "1                        20310                                98474   \n",
       "2                        24650                               101406   \n",
       "3                        20002                               116242   \n",
       "4                        19968                               116638   \n",
       "5                        19932                               126256   \n",
       "6                        21900                               151860   \n",
       "7                        24428                               162688   \n",
       "8                        22018                               179092   \n",
       "9                        19922                               188082   \n",
       "10                       17140                               198270   \n",
       "11                       18346                               213054   \n",
       "\n",
       "    IMPORTATION OF GIRLS FROM FOREIGN COUNTRIES  CAUSING DEATH BY NEGLIGENCE  \\\n",
       "0                                           228                       114364   \n",
       "1                                           152                       128088   \n",
       "2                                            92                       121344   \n",
       "3                                           178                       138846   \n",
       "4                                           298                       143396   \n",
       "5                                           134                       157026   \n",
       "6                                           122                       173580   \n",
       "7                                           134                       184372   \n",
       "8                                            96                       197064   \n",
       "9                                            72                       212686   \n",
       "10                                          160                       217780   \n",
       "11                                          118                       215182   \n",
       "\n",
       "    OTHER IPC CRIMES  TOTAL IPC CRIMES  \n",
       "0            1402724           3538616  \n",
       "1            1460594           3560660  \n",
       "2            1400824           3432240  \n",
       "3            1482052           3664020  \n",
       "4            1483954           3645204  \n",
       "5            1559394           3756586  \n",
       "6            1658412           3979346  \n",
       "7            1713926           4186758  \n",
       "8            1731082           4242690  \n",
       "9            1848144           4449662  \n",
       "10           1932064           4651150  \n",
       "11           1932488           4774376  \n",
       "\n",
       "[12 rows x 31 columns]"
      ]
     },
     "execution_count": 60,
     "metadata": {},
     "output_type": "execute_result"
    }
   ],
   "source": [
    "#creating a new empty dataframe\n",
    "total_crimes_in_years_df=pd.DataFrame()\n",
    "total_crimes_in_years_df=crimes_by_different_order(total_crimes_in_years_df,\"YEAR\")\n",
    "total_crimes_in_years_df.reset_index(inplace=True)\n",
    "total_crimes_in_years_df"
   ]
  },
  {
   "cell_type": "code",
   "execution_count": 61,
   "id": "a7171f0d",
   "metadata": {},
   "outputs": [
    {
     "data": {
      "text/plain": [
       "103979742"
      ]
     },
     "execution_count": 61,
     "metadata": {},
     "output_type": "execute_result"
    }
   ],
   "source": [
    "total_crimes_in_years_df['Total Number of Cases']=total_crimes_in_years_df.sum(axis=1)\n",
    "total_crimes_in_years_df[\"Total Number of Cases\"].sum()"
   ]
  },
  {
   "cell_type": "code",
   "execution_count": 62,
   "id": "8e811978",
   "metadata": {},
   "outputs": [],
   "source": [
    "def plot_figure(title, crime,ylabel,color=\"red\"):\n",
    "    \"This function generate a bar graph using the total_crimes_in_years_df\"\n",
    "    fig = go.Figure(data=[go.Bar(\n",
    "            x=total_crimes_in_years_df[\"YEAR\"], y=total_crimes_in_years_df[crime],\n",
    "            text=total_crimes_in_years_df[crime],\n",
    "        )])\n",
    "    fig.update_traces(texttemplate='%{text:.2s}', textposition='outside',marker_color=color)\n",
    "    fig.update_layout(title=title,\n",
    "                       xaxis = dict(title='Years',\n",
    "                                    tickmode = 'linear',\n",
    "                                    tickangle=-30 ),\n",
    "                   yaxis_title=ylabel,uniformtext_minsize=8, uniformtext_mode='show')\n",
    "\n",
    "    fig.show()"
   ]
  },
  {
   "cell_type": "code",
   "execution_count": 65,
   "id": "360867f2",
   "metadata": {},
   "outputs": [
    {
     "data": {
      "application/vnd.plotly.v1+json": {
       "config": {
        "plotlyServerURL": "https://plot.ly"
       },
       "data": [
        {
         "marker": {
          "color": "lightslategray"
         },
         "text": [
          32150,
          32746,
          31694,
          36466,
          36718,
          38696,
          41474,
          42934,
          42794,
          44344,
          48412,
          49846
         ],
         "textposition": "outside",
         "texttemplate": "%{text:.2s}",
         "type": "bar",
         "x": [
          2001,
          2002,
          2003,
          2004,
          2005,
          2006,
          2007,
          2008,
          2009,
          2010,
          2011,
          2012
         ],
         "y": [
          32150,
          32746,
          31694,
          36466,
          36718,
          38696,
          41474,
          42934,
          42794,
          44344,
          48412,
          49846
         ]
        }
       ],
       "layout": {
        "template": {
         "data": {
          "bar": [
           {
            "error_x": {
             "color": "#2a3f5f"
            },
            "error_y": {
             "color": "#2a3f5f"
            },
            "marker": {
             "line": {
              "color": "#E5ECF6",
              "width": 0.5
             },
             "pattern": {
              "fillmode": "overlay",
              "size": 10,
              "solidity": 0.2
             }
            },
            "type": "bar"
           }
          ],
          "barpolar": [
           {
            "marker": {
             "line": {
              "color": "#E5ECF6",
              "width": 0.5
             },
             "pattern": {
              "fillmode": "overlay",
              "size": 10,
              "solidity": 0.2
             }
            },
            "type": "barpolar"
           }
          ],
          "carpet": [
           {
            "aaxis": {
             "endlinecolor": "#2a3f5f",
             "gridcolor": "white",
             "linecolor": "white",
             "minorgridcolor": "white",
             "startlinecolor": "#2a3f5f"
            },
            "baxis": {
             "endlinecolor": "#2a3f5f",
             "gridcolor": "white",
             "linecolor": "white",
             "minorgridcolor": "white",
             "startlinecolor": "#2a3f5f"
            },
            "type": "carpet"
           }
          ],
          "choropleth": [
           {
            "colorbar": {
             "outlinewidth": 0,
             "ticks": ""
            },
            "type": "choropleth"
           }
          ],
          "contour": [
           {
            "colorbar": {
             "outlinewidth": 0,
             "ticks": ""
            },
            "colorscale": [
             [
              0,
              "#0d0887"
             ],
             [
              0.1111111111111111,
              "#46039f"
             ],
             [
              0.2222222222222222,
              "#7201a8"
             ],
             [
              0.3333333333333333,
              "#9c179e"
             ],
             [
              0.4444444444444444,
              "#bd3786"
             ],
             [
              0.5555555555555556,
              "#d8576b"
             ],
             [
              0.6666666666666666,
              "#ed7953"
             ],
             [
              0.7777777777777778,
              "#fb9f3a"
             ],
             [
              0.8888888888888888,
              "#fdca26"
             ],
             [
              1,
              "#f0f921"
             ]
            ],
            "type": "contour"
           }
          ],
          "contourcarpet": [
           {
            "colorbar": {
             "outlinewidth": 0,
             "ticks": ""
            },
            "type": "contourcarpet"
           }
          ],
          "heatmap": [
           {
            "colorbar": {
             "outlinewidth": 0,
             "ticks": ""
            },
            "colorscale": [
             [
              0,
              "#0d0887"
             ],
             [
              0.1111111111111111,
              "#46039f"
             ],
             [
              0.2222222222222222,
              "#7201a8"
             ],
             [
              0.3333333333333333,
              "#9c179e"
             ],
             [
              0.4444444444444444,
              "#bd3786"
             ],
             [
              0.5555555555555556,
              "#d8576b"
             ],
             [
              0.6666666666666666,
              "#ed7953"
             ],
             [
              0.7777777777777778,
              "#fb9f3a"
             ],
             [
              0.8888888888888888,
              "#fdca26"
             ],
             [
              1,
              "#f0f921"
             ]
            ],
            "type": "heatmap"
           }
          ],
          "heatmapgl": [
           {
            "colorbar": {
             "outlinewidth": 0,
             "ticks": ""
            },
            "colorscale": [
             [
              0,
              "#0d0887"
             ],
             [
              0.1111111111111111,
              "#46039f"
             ],
             [
              0.2222222222222222,
              "#7201a8"
             ],
             [
              0.3333333333333333,
              "#9c179e"
             ],
             [
              0.4444444444444444,
              "#bd3786"
             ],
             [
              0.5555555555555556,
              "#d8576b"
             ],
             [
              0.6666666666666666,
              "#ed7953"
             ],
             [
              0.7777777777777778,
              "#fb9f3a"
             ],
             [
              0.8888888888888888,
              "#fdca26"
             ],
             [
              1,
              "#f0f921"
             ]
            ],
            "type": "heatmapgl"
           }
          ],
          "histogram": [
           {
            "marker": {
             "pattern": {
              "fillmode": "overlay",
              "size": 10,
              "solidity": 0.2
             }
            },
            "type": "histogram"
           }
          ],
          "histogram2d": [
           {
            "colorbar": {
             "outlinewidth": 0,
             "ticks": ""
            },
            "colorscale": [
             [
              0,
              "#0d0887"
             ],
             [
              0.1111111111111111,
              "#46039f"
             ],
             [
              0.2222222222222222,
              "#7201a8"
             ],
             [
              0.3333333333333333,
              "#9c179e"
             ],
             [
              0.4444444444444444,
              "#bd3786"
             ],
             [
              0.5555555555555556,
              "#d8576b"
             ],
             [
              0.6666666666666666,
              "#ed7953"
             ],
             [
              0.7777777777777778,
              "#fb9f3a"
             ],
             [
              0.8888888888888888,
              "#fdca26"
             ],
             [
              1,
              "#f0f921"
             ]
            ],
            "type": "histogram2d"
           }
          ],
          "histogram2dcontour": [
           {
            "colorbar": {
             "outlinewidth": 0,
             "ticks": ""
            },
            "colorscale": [
             [
              0,
              "#0d0887"
             ],
             [
              0.1111111111111111,
              "#46039f"
             ],
             [
              0.2222222222222222,
              "#7201a8"
             ],
             [
              0.3333333333333333,
              "#9c179e"
             ],
             [
              0.4444444444444444,
              "#bd3786"
             ],
             [
              0.5555555555555556,
              "#d8576b"
             ],
             [
              0.6666666666666666,
              "#ed7953"
             ],
             [
              0.7777777777777778,
              "#fb9f3a"
             ],
             [
              0.8888888888888888,
              "#fdca26"
             ],
             [
              1,
              "#f0f921"
             ]
            ],
            "type": "histogram2dcontour"
           }
          ],
          "mesh3d": [
           {
            "colorbar": {
             "outlinewidth": 0,
             "ticks": ""
            },
            "type": "mesh3d"
           }
          ],
          "parcoords": [
           {
            "line": {
             "colorbar": {
              "outlinewidth": 0,
              "ticks": ""
             }
            },
            "type": "parcoords"
           }
          ],
          "pie": [
           {
            "automargin": true,
            "type": "pie"
           }
          ],
          "scatter": [
           {
            "fillpattern": {
             "fillmode": "overlay",
             "size": 10,
             "solidity": 0.2
            },
            "type": "scatter"
           }
          ],
          "scatter3d": [
           {
            "line": {
             "colorbar": {
              "outlinewidth": 0,
              "ticks": ""
             }
            },
            "marker": {
             "colorbar": {
              "outlinewidth": 0,
              "ticks": ""
             }
            },
            "type": "scatter3d"
           }
          ],
          "scattercarpet": [
           {
            "marker": {
             "colorbar": {
              "outlinewidth": 0,
              "ticks": ""
             }
            },
            "type": "scattercarpet"
           }
          ],
          "scattergeo": [
           {
            "marker": {
             "colorbar": {
              "outlinewidth": 0,
              "ticks": ""
             }
            },
            "type": "scattergeo"
           }
          ],
          "scattergl": [
           {
            "marker": {
             "colorbar": {
              "outlinewidth": 0,
              "ticks": ""
             }
            },
            "type": "scattergl"
           }
          ],
          "scattermapbox": [
           {
            "marker": {
             "colorbar": {
              "outlinewidth": 0,
              "ticks": ""
             }
            },
            "type": "scattermapbox"
           }
          ],
          "scatterpolar": [
           {
            "marker": {
             "colorbar": {
              "outlinewidth": 0,
              "ticks": ""
             }
            },
            "type": "scatterpolar"
           }
          ],
          "scatterpolargl": [
           {
            "marker": {
             "colorbar": {
              "outlinewidth": 0,
              "ticks": ""
             }
            },
            "type": "scatterpolargl"
           }
          ],
          "scatterternary": [
           {
            "marker": {
             "colorbar": {
              "outlinewidth": 0,
              "ticks": ""
             }
            },
            "type": "scatterternary"
           }
          ],
          "surface": [
           {
            "colorbar": {
             "outlinewidth": 0,
             "ticks": ""
            },
            "colorscale": [
             [
              0,
              "#0d0887"
             ],
             [
              0.1111111111111111,
              "#46039f"
             ],
             [
              0.2222222222222222,
              "#7201a8"
             ],
             [
              0.3333333333333333,
              "#9c179e"
             ],
             [
              0.4444444444444444,
              "#bd3786"
             ],
             [
              0.5555555555555556,
              "#d8576b"
             ],
             [
              0.6666666666666666,
              "#ed7953"
             ],
             [
              0.7777777777777778,
              "#fb9f3a"
             ],
             [
              0.8888888888888888,
              "#fdca26"
             ],
             [
              1,
              "#f0f921"
             ]
            ],
            "type": "surface"
           }
          ],
          "table": [
           {
            "cells": {
             "fill": {
              "color": "#EBF0F8"
             },
             "line": {
              "color": "white"
             }
            },
            "header": {
             "fill": {
              "color": "#C8D4E3"
             },
             "line": {
              "color": "white"
             }
            },
            "type": "table"
           }
          ]
         },
         "layout": {
          "annotationdefaults": {
           "arrowcolor": "#2a3f5f",
           "arrowhead": 0,
           "arrowwidth": 1
          },
          "autotypenumbers": "strict",
          "coloraxis": {
           "colorbar": {
            "outlinewidth": 0,
            "ticks": ""
           }
          },
          "colorscale": {
           "diverging": [
            [
             0,
             "#8e0152"
            ],
            [
             0.1,
             "#c51b7d"
            ],
            [
             0.2,
             "#de77ae"
            ],
            [
             0.3,
             "#f1b6da"
            ],
            [
             0.4,
             "#fde0ef"
            ],
            [
             0.5,
             "#f7f7f7"
            ],
            [
             0.6,
             "#e6f5d0"
            ],
            [
             0.7,
             "#b8e186"
            ],
            [
             0.8,
             "#7fbc41"
            ],
            [
             0.9,
             "#4d9221"
            ],
            [
             1,
             "#276419"
            ]
           ],
           "sequential": [
            [
             0,
             "#0d0887"
            ],
            [
             0.1111111111111111,
             "#46039f"
            ],
            [
             0.2222222222222222,
             "#7201a8"
            ],
            [
             0.3333333333333333,
             "#9c179e"
            ],
            [
             0.4444444444444444,
             "#bd3786"
            ],
            [
             0.5555555555555556,
             "#d8576b"
            ],
            [
             0.6666666666666666,
             "#ed7953"
            ],
            [
             0.7777777777777778,
             "#fb9f3a"
            ],
            [
             0.8888888888888888,
             "#fdca26"
            ],
            [
             1,
             "#f0f921"
            ]
           ],
           "sequentialminus": [
            [
             0,
             "#0d0887"
            ],
            [
             0.1111111111111111,
             "#46039f"
            ],
            [
             0.2222222222222222,
             "#7201a8"
            ],
            [
             0.3333333333333333,
             "#9c179e"
            ],
            [
             0.4444444444444444,
             "#bd3786"
            ],
            [
             0.5555555555555556,
             "#d8576b"
            ],
            [
             0.6666666666666666,
             "#ed7953"
            ],
            [
             0.7777777777777778,
             "#fb9f3a"
            ],
            [
             0.8888888888888888,
             "#fdca26"
            ],
            [
             1,
             "#f0f921"
            ]
           ]
          },
          "colorway": [
           "#636efa",
           "#EF553B",
           "#00cc96",
           "#ab63fa",
           "#FFA15A",
           "#19d3f3",
           "#FF6692",
           "#B6E880",
           "#FF97FF",
           "#FECB52"
          ],
          "font": {
           "color": "#2a3f5f"
          },
          "geo": {
           "bgcolor": "white",
           "lakecolor": "white",
           "landcolor": "#E5ECF6",
           "showlakes": true,
           "showland": true,
           "subunitcolor": "white"
          },
          "hoverlabel": {
           "align": "left"
          },
          "hovermode": "closest",
          "mapbox": {
           "style": "light"
          },
          "paper_bgcolor": "white",
          "plot_bgcolor": "#E5ECF6",
          "polar": {
           "angularaxis": {
            "gridcolor": "white",
            "linecolor": "white",
            "ticks": ""
           },
           "bgcolor": "#E5ECF6",
           "radialaxis": {
            "gridcolor": "white",
            "linecolor": "white",
            "ticks": ""
           }
          },
          "scene": {
           "xaxis": {
            "backgroundcolor": "#E5ECF6",
            "gridcolor": "white",
            "gridwidth": 2,
            "linecolor": "white",
            "showbackground": true,
            "ticks": "",
            "zerolinecolor": "white"
           },
           "yaxis": {
            "backgroundcolor": "#E5ECF6",
            "gridcolor": "white",
            "gridwidth": 2,
            "linecolor": "white",
            "showbackground": true,
            "ticks": "",
            "zerolinecolor": "white"
           },
           "zaxis": {
            "backgroundcolor": "#E5ECF6",
            "gridcolor": "white",
            "gridwidth": 2,
            "linecolor": "white",
            "showbackground": true,
            "ticks": "",
            "zerolinecolor": "white"
           }
          },
          "shapedefaults": {
           "line": {
            "color": "#2a3f5f"
           }
          },
          "ternary": {
           "aaxis": {
            "gridcolor": "white",
            "linecolor": "white",
            "ticks": ""
           },
           "baxis": {
            "gridcolor": "white",
            "linecolor": "white",
            "ticks": ""
           },
           "bgcolor": "#E5ECF6",
           "caxis": {
            "gridcolor": "white",
            "linecolor": "white",
            "ticks": ""
           }
          },
          "title": {
           "x": 0.05
          },
          "xaxis": {
           "automargin": true,
           "gridcolor": "white",
           "linecolor": "white",
           "ticks": "",
           "title": {
            "standoff": 15
           },
           "zerolinecolor": "white",
           "zerolinewidth": 2
          },
          "yaxis": {
           "automargin": true,
           "gridcolor": "white",
           "linecolor": "white",
           "ticks": "",
           "title": {
            "standoff": 15
           },
           "zerolinecolor": "white",
           "zerolinewidth": 2
          }
         }
        },
        "title": {
         "text": "Year wise rape cases"
        },
        "uniformtext": {
         "minsize": 8,
         "mode": "show"
        },
        "xaxis": {
         "tickangle": -30,
         "tickmode": "linear",
         "title": {
          "text": "Years"
         }
        },
        "yaxis": {
         "title": {
          "text": "DATA"
         }
        }
       }
      },
      "text/html": [
       "<div>                            <div id=\"fc0fdf65-7e38-45cf-90ec-afbdf283f398\" class=\"plotly-graph-div\" style=\"height:525px; width:100%;\"></div>            <script type=\"text/javascript\">                require([\"plotly\"], function(Plotly) {                    window.PLOTLYENV=window.PLOTLYENV || {};                                    if (document.getElementById(\"fc0fdf65-7e38-45cf-90ec-afbdf283f398\")) {                    Plotly.newPlot(                        \"fc0fdf65-7e38-45cf-90ec-afbdf283f398\",                        [{\"text\":[32150.0,32746.0,31694.0,36466.0,36718.0,38696.0,41474.0,42934.0,42794.0,44344.0,48412.0,49846.0],\"x\":[2001,2002,2003,2004,2005,2006,2007,2008,2009,2010,2011,2012],\"y\":[32150,32746,31694,36466,36718,38696,41474,42934,42794,44344,48412,49846],\"type\":\"bar\",\"marker\":{\"color\":\"lightslategray\"},\"textposition\":\"outside\",\"texttemplate\":\"%{text:.2s}\"}],                        {\"template\":{\"data\":{\"histogram2dcontour\":[{\"type\":\"histogram2dcontour\",\"colorbar\":{\"outlinewidth\":0,\"ticks\":\"\"},\"colorscale\":[[0.0,\"#0d0887\"],[0.1111111111111111,\"#46039f\"],[0.2222222222222222,\"#7201a8\"],[0.3333333333333333,\"#9c179e\"],[0.4444444444444444,\"#bd3786\"],[0.5555555555555556,\"#d8576b\"],[0.6666666666666666,\"#ed7953\"],[0.7777777777777778,\"#fb9f3a\"],[0.8888888888888888,\"#fdca26\"],[1.0,\"#f0f921\"]]}],\"choropleth\":[{\"type\":\"choropleth\",\"colorbar\":{\"outlinewidth\":0,\"ticks\":\"\"}}],\"histogram2d\":[{\"type\":\"histogram2d\",\"colorbar\":{\"outlinewidth\":0,\"ticks\":\"\"},\"colorscale\":[[0.0,\"#0d0887\"],[0.1111111111111111,\"#46039f\"],[0.2222222222222222,\"#7201a8\"],[0.3333333333333333,\"#9c179e\"],[0.4444444444444444,\"#bd3786\"],[0.5555555555555556,\"#d8576b\"],[0.6666666666666666,\"#ed7953\"],[0.7777777777777778,\"#fb9f3a\"],[0.8888888888888888,\"#fdca26\"],[1.0,\"#f0f921\"]]}],\"heatmap\":[{\"type\":\"heatmap\",\"colorbar\":{\"outlinewidth\":0,\"ticks\":\"\"},\"colorscale\":[[0.0,\"#0d0887\"],[0.1111111111111111,\"#46039f\"],[0.2222222222222222,\"#7201a8\"],[0.3333333333333333,\"#9c179e\"],[0.4444444444444444,\"#bd3786\"],[0.5555555555555556,\"#d8576b\"],[0.6666666666666666,\"#ed7953\"],[0.7777777777777778,\"#fb9f3a\"],[0.8888888888888888,\"#fdca26\"],[1.0,\"#f0f921\"]]}],\"heatmapgl\":[{\"type\":\"heatmapgl\",\"colorbar\":{\"outlinewidth\":0,\"ticks\":\"\"},\"colorscale\":[[0.0,\"#0d0887\"],[0.1111111111111111,\"#46039f\"],[0.2222222222222222,\"#7201a8\"],[0.3333333333333333,\"#9c179e\"],[0.4444444444444444,\"#bd3786\"],[0.5555555555555556,\"#d8576b\"],[0.6666666666666666,\"#ed7953\"],[0.7777777777777778,\"#fb9f3a\"],[0.8888888888888888,\"#fdca26\"],[1.0,\"#f0f921\"]]}],\"contourcarpet\":[{\"type\":\"contourcarpet\",\"colorbar\":{\"outlinewidth\":0,\"ticks\":\"\"}}],\"contour\":[{\"type\":\"contour\",\"colorbar\":{\"outlinewidth\":0,\"ticks\":\"\"},\"colorscale\":[[0.0,\"#0d0887\"],[0.1111111111111111,\"#46039f\"],[0.2222222222222222,\"#7201a8\"],[0.3333333333333333,\"#9c179e\"],[0.4444444444444444,\"#bd3786\"],[0.5555555555555556,\"#d8576b\"],[0.6666666666666666,\"#ed7953\"],[0.7777777777777778,\"#fb9f3a\"],[0.8888888888888888,\"#fdca26\"],[1.0,\"#f0f921\"]]}],\"surface\":[{\"type\":\"surface\",\"colorbar\":{\"outlinewidth\":0,\"ticks\":\"\"},\"colorscale\":[[0.0,\"#0d0887\"],[0.1111111111111111,\"#46039f\"],[0.2222222222222222,\"#7201a8\"],[0.3333333333333333,\"#9c179e\"],[0.4444444444444444,\"#bd3786\"],[0.5555555555555556,\"#d8576b\"],[0.6666666666666666,\"#ed7953\"],[0.7777777777777778,\"#fb9f3a\"],[0.8888888888888888,\"#fdca26\"],[1.0,\"#f0f921\"]]}],\"mesh3d\":[{\"type\":\"mesh3d\",\"colorbar\":{\"outlinewidth\":0,\"ticks\":\"\"}}],\"scatter\":[{\"fillpattern\":{\"fillmode\":\"overlay\",\"size\":10,\"solidity\":0.2},\"type\":\"scatter\"}],\"parcoords\":[{\"type\":\"parcoords\",\"line\":{\"colorbar\":{\"outlinewidth\":0,\"ticks\":\"\"}}}],\"scatterpolargl\":[{\"type\":\"scatterpolargl\",\"marker\":{\"colorbar\":{\"outlinewidth\":0,\"ticks\":\"\"}}}],\"bar\":[{\"error_x\":{\"color\":\"#2a3f5f\"},\"error_y\":{\"color\":\"#2a3f5f\"},\"marker\":{\"line\":{\"color\":\"#E5ECF6\",\"width\":0.5},\"pattern\":{\"fillmode\":\"overlay\",\"size\":10,\"solidity\":0.2}},\"type\":\"bar\"}],\"scattergeo\":[{\"type\":\"scattergeo\",\"marker\":{\"colorbar\":{\"outlinewidth\":0,\"ticks\":\"\"}}}],\"scatterpolar\":[{\"type\":\"scatterpolar\",\"marker\":{\"colorbar\":{\"outlinewidth\":0,\"ticks\":\"\"}}}],\"histogram\":[{\"marker\":{\"pattern\":{\"fillmode\":\"overlay\",\"size\":10,\"solidity\":0.2}},\"type\":\"histogram\"}],\"scattergl\":[{\"type\":\"scattergl\",\"marker\":{\"colorbar\":{\"outlinewidth\":0,\"ticks\":\"\"}}}],\"scatter3d\":[{\"type\":\"scatter3d\",\"line\":{\"colorbar\":{\"outlinewidth\":0,\"ticks\":\"\"}},\"marker\":{\"colorbar\":{\"outlinewidth\":0,\"ticks\":\"\"}}}],\"scattermapbox\":[{\"type\":\"scattermapbox\",\"marker\":{\"colorbar\":{\"outlinewidth\":0,\"ticks\":\"\"}}}],\"scatterternary\":[{\"type\":\"scatterternary\",\"marker\":{\"colorbar\":{\"outlinewidth\":0,\"ticks\":\"\"}}}],\"scattercarpet\":[{\"type\":\"scattercarpet\",\"marker\":{\"colorbar\":{\"outlinewidth\":0,\"ticks\":\"\"}}}],\"carpet\":[{\"aaxis\":{\"endlinecolor\":\"#2a3f5f\",\"gridcolor\":\"white\",\"linecolor\":\"white\",\"minorgridcolor\":\"white\",\"startlinecolor\":\"#2a3f5f\"},\"baxis\":{\"endlinecolor\":\"#2a3f5f\",\"gridcolor\":\"white\",\"linecolor\":\"white\",\"minorgridcolor\":\"white\",\"startlinecolor\":\"#2a3f5f\"},\"type\":\"carpet\"}],\"table\":[{\"cells\":{\"fill\":{\"color\":\"#EBF0F8\"},\"line\":{\"color\":\"white\"}},\"header\":{\"fill\":{\"color\":\"#C8D4E3\"},\"line\":{\"color\":\"white\"}},\"type\":\"table\"}],\"barpolar\":[{\"marker\":{\"line\":{\"color\":\"#E5ECF6\",\"width\":0.5},\"pattern\":{\"fillmode\":\"overlay\",\"size\":10,\"solidity\":0.2}},\"type\":\"barpolar\"}],\"pie\":[{\"automargin\":true,\"type\":\"pie\"}]},\"layout\":{\"autotypenumbers\":\"strict\",\"colorway\":[\"#636efa\",\"#EF553B\",\"#00cc96\",\"#ab63fa\",\"#FFA15A\",\"#19d3f3\",\"#FF6692\",\"#B6E880\",\"#FF97FF\",\"#FECB52\"],\"font\":{\"color\":\"#2a3f5f\"},\"hovermode\":\"closest\",\"hoverlabel\":{\"align\":\"left\"},\"paper_bgcolor\":\"white\",\"plot_bgcolor\":\"#E5ECF6\",\"polar\":{\"bgcolor\":\"#E5ECF6\",\"angularaxis\":{\"gridcolor\":\"white\",\"linecolor\":\"white\",\"ticks\":\"\"},\"radialaxis\":{\"gridcolor\":\"white\",\"linecolor\":\"white\",\"ticks\":\"\"}},\"ternary\":{\"bgcolor\":\"#E5ECF6\",\"aaxis\":{\"gridcolor\":\"white\",\"linecolor\":\"white\",\"ticks\":\"\"},\"baxis\":{\"gridcolor\":\"white\",\"linecolor\":\"white\",\"ticks\":\"\"},\"caxis\":{\"gridcolor\":\"white\",\"linecolor\":\"white\",\"ticks\":\"\"}},\"coloraxis\":{\"colorbar\":{\"outlinewidth\":0,\"ticks\":\"\"}},\"colorscale\":{\"sequential\":[[0.0,\"#0d0887\"],[0.1111111111111111,\"#46039f\"],[0.2222222222222222,\"#7201a8\"],[0.3333333333333333,\"#9c179e\"],[0.4444444444444444,\"#bd3786\"],[0.5555555555555556,\"#d8576b\"],[0.6666666666666666,\"#ed7953\"],[0.7777777777777778,\"#fb9f3a\"],[0.8888888888888888,\"#fdca26\"],[1.0,\"#f0f921\"]],\"sequentialminus\":[[0.0,\"#0d0887\"],[0.1111111111111111,\"#46039f\"],[0.2222222222222222,\"#7201a8\"],[0.3333333333333333,\"#9c179e\"],[0.4444444444444444,\"#bd3786\"],[0.5555555555555556,\"#d8576b\"],[0.6666666666666666,\"#ed7953\"],[0.7777777777777778,\"#fb9f3a\"],[0.8888888888888888,\"#fdca26\"],[1.0,\"#f0f921\"]],\"diverging\":[[0,\"#8e0152\"],[0.1,\"#c51b7d\"],[0.2,\"#de77ae\"],[0.3,\"#f1b6da\"],[0.4,\"#fde0ef\"],[0.5,\"#f7f7f7\"],[0.6,\"#e6f5d0\"],[0.7,\"#b8e186\"],[0.8,\"#7fbc41\"],[0.9,\"#4d9221\"],[1,\"#276419\"]]},\"xaxis\":{\"gridcolor\":\"white\",\"linecolor\":\"white\",\"ticks\":\"\",\"title\":{\"standoff\":15},\"zerolinecolor\":\"white\",\"automargin\":true,\"zerolinewidth\":2},\"yaxis\":{\"gridcolor\":\"white\",\"linecolor\":\"white\",\"ticks\":\"\",\"title\":{\"standoff\":15},\"zerolinecolor\":\"white\",\"automargin\":true,\"zerolinewidth\":2},\"scene\":{\"xaxis\":{\"backgroundcolor\":\"#E5ECF6\",\"gridcolor\":\"white\",\"linecolor\":\"white\",\"showbackground\":true,\"ticks\":\"\",\"zerolinecolor\":\"white\",\"gridwidth\":2},\"yaxis\":{\"backgroundcolor\":\"#E5ECF6\",\"gridcolor\":\"white\",\"linecolor\":\"white\",\"showbackground\":true,\"ticks\":\"\",\"zerolinecolor\":\"white\",\"gridwidth\":2},\"zaxis\":{\"backgroundcolor\":\"#E5ECF6\",\"gridcolor\":\"white\",\"linecolor\":\"white\",\"showbackground\":true,\"ticks\":\"\",\"zerolinecolor\":\"white\",\"gridwidth\":2}},\"shapedefaults\":{\"line\":{\"color\":\"#2a3f5f\"}},\"annotationdefaults\":{\"arrowcolor\":\"#2a3f5f\",\"arrowhead\":0,\"arrowwidth\":1},\"geo\":{\"bgcolor\":\"white\",\"landcolor\":\"#E5ECF6\",\"subunitcolor\":\"white\",\"showland\":true,\"showlakes\":true,\"lakecolor\":\"white\"},\"title\":{\"x\":0.05},\"mapbox\":{\"style\":\"light\"}}},\"xaxis\":{\"title\":{\"text\":\"Years\"},\"tickmode\":\"linear\",\"tickangle\":-30},\"uniformtext\":{\"minsize\":8,\"mode\":\"show\"},\"title\":{\"text\":\"Year wise rape cases\"},\"yaxis\":{\"title\":{\"text\":\"DATA\"}}},                        {\"responsive\": true}                    ).then(function(){\n",
       "                            \n",
       "var gd = document.getElementById('fc0fdf65-7e38-45cf-90ec-afbdf283f398');\n",
       "var x = new MutationObserver(function (mutations, observer) {{\n",
       "        var display = window.getComputedStyle(gd).display;\n",
       "        if (!display || display === 'none') {{\n",
       "            console.log([gd, 'removed!']);\n",
       "            Plotly.purge(gd);\n",
       "            observer.disconnect();\n",
       "        }}\n",
       "}});\n",
       "\n",
       "// Listen for the removal of the full notebook cells\n",
       "var notebookContainer = gd.closest('#notebook-container');\n",
       "if (notebookContainer) {{\n",
       "    x.observe(notebookContainer, {childList: true});\n",
       "}}\n",
       "\n",
       "// Listen for the clearing of the current output cell\n",
       "var outputEl = gd.closest('.output');\n",
       "if (outputEl) {{\n",
       "    x.observe(outputEl, {childList: true});\n",
       "}}\n",
       "\n",
       "                        })                };                });            </script>        </div>"
      ]
     },
     "metadata": {},
     "output_type": "display_data"
    }
   ],
   "source": [
    "plot_figure(\"Year wise rape cases\",\"RAPE\",\"DATA\", color='lightslategray')"
   ]
  },
  {
   "cell_type": "code",
   "execution_count": 64,
   "id": "41d91a33",
   "metadata": {},
   "outputs": [
    {
     "data": {
      "application/vnd.plotly.v1+json": {
       "config": {
        "plotlyServerURL": "https://plot.ly"
       },
       "data": [
        {
         "marker": {
          "color": "#24bcbc"
         },
         "text": [
          0,
          6,
          2,
          4,
          14,
          4,
          2,
          0,
          4,
          12,
          2,
          2
         ],
         "textposition": "outside",
         "texttemplate": "%{text:.2s}",
         "type": "bar",
         "x": [
          2001,
          2002,
          2003,
          2004,
          2005,
          2006,
          2007,
          2008,
          2009,
          2010,
          2011,
          2012
         ],
         "y": [
          0,
          6,
          2,
          4,
          14,
          4,
          2,
          0,
          4,
          12,
          2,
          2
         ]
        }
       ],
       "layout": {
        "template": {
         "data": {
          "bar": [
           {
            "error_x": {
             "color": "#2a3f5f"
            },
            "error_y": {
             "color": "#2a3f5f"
            },
            "marker": {
             "line": {
              "color": "#E5ECF6",
              "width": 0.5
             },
             "pattern": {
              "fillmode": "overlay",
              "size": 10,
              "solidity": 0.2
             }
            },
            "type": "bar"
           }
          ],
          "barpolar": [
           {
            "marker": {
             "line": {
              "color": "#E5ECF6",
              "width": 0.5
             },
             "pattern": {
              "fillmode": "overlay",
              "size": 10,
              "solidity": 0.2
             }
            },
            "type": "barpolar"
           }
          ],
          "carpet": [
           {
            "aaxis": {
             "endlinecolor": "#2a3f5f",
             "gridcolor": "white",
             "linecolor": "white",
             "minorgridcolor": "white",
             "startlinecolor": "#2a3f5f"
            },
            "baxis": {
             "endlinecolor": "#2a3f5f",
             "gridcolor": "white",
             "linecolor": "white",
             "minorgridcolor": "white",
             "startlinecolor": "#2a3f5f"
            },
            "type": "carpet"
           }
          ],
          "choropleth": [
           {
            "colorbar": {
             "outlinewidth": 0,
             "ticks": ""
            },
            "type": "choropleth"
           }
          ],
          "contour": [
           {
            "colorbar": {
             "outlinewidth": 0,
             "ticks": ""
            },
            "colorscale": [
             [
              0,
              "#0d0887"
             ],
             [
              0.1111111111111111,
              "#46039f"
             ],
             [
              0.2222222222222222,
              "#7201a8"
             ],
             [
              0.3333333333333333,
              "#9c179e"
             ],
             [
              0.4444444444444444,
              "#bd3786"
             ],
             [
              0.5555555555555556,
              "#d8576b"
             ],
             [
              0.6666666666666666,
              "#ed7953"
             ],
             [
              0.7777777777777778,
              "#fb9f3a"
             ],
             [
              0.8888888888888888,
              "#fdca26"
             ],
             [
              1,
              "#f0f921"
             ]
            ],
            "type": "contour"
           }
          ],
          "contourcarpet": [
           {
            "colorbar": {
             "outlinewidth": 0,
             "ticks": ""
            },
            "type": "contourcarpet"
           }
          ],
          "heatmap": [
           {
            "colorbar": {
             "outlinewidth": 0,
             "ticks": ""
            },
            "colorscale": [
             [
              0,
              "#0d0887"
             ],
             [
              0.1111111111111111,
              "#46039f"
             ],
             [
              0.2222222222222222,
              "#7201a8"
             ],
             [
              0.3333333333333333,
              "#9c179e"
             ],
             [
              0.4444444444444444,
              "#bd3786"
             ],
             [
              0.5555555555555556,
              "#d8576b"
             ],
             [
              0.6666666666666666,
              "#ed7953"
             ],
             [
              0.7777777777777778,
              "#fb9f3a"
             ],
             [
              0.8888888888888888,
              "#fdca26"
             ],
             [
              1,
              "#f0f921"
             ]
            ],
            "type": "heatmap"
           }
          ],
          "heatmapgl": [
           {
            "colorbar": {
             "outlinewidth": 0,
             "ticks": ""
            },
            "colorscale": [
             [
              0,
              "#0d0887"
             ],
             [
              0.1111111111111111,
              "#46039f"
             ],
             [
              0.2222222222222222,
              "#7201a8"
             ],
             [
              0.3333333333333333,
              "#9c179e"
             ],
             [
              0.4444444444444444,
              "#bd3786"
             ],
             [
              0.5555555555555556,
              "#d8576b"
             ],
             [
              0.6666666666666666,
              "#ed7953"
             ],
             [
              0.7777777777777778,
              "#fb9f3a"
             ],
             [
              0.8888888888888888,
              "#fdca26"
             ],
             [
              1,
              "#f0f921"
             ]
            ],
            "type": "heatmapgl"
           }
          ],
          "histogram": [
           {
            "marker": {
             "pattern": {
              "fillmode": "overlay",
              "size": 10,
              "solidity": 0.2
             }
            },
            "type": "histogram"
           }
          ],
          "histogram2d": [
           {
            "colorbar": {
             "outlinewidth": 0,
             "ticks": ""
            },
            "colorscale": [
             [
              0,
              "#0d0887"
             ],
             [
              0.1111111111111111,
              "#46039f"
             ],
             [
              0.2222222222222222,
              "#7201a8"
             ],
             [
              0.3333333333333333,
              "#9c179e"
             ],
             [
              0.4444444444444444,
              "#bd3786"
             ],
             [
              0.5555555555555556,
              "#d8576b"
             ],
             [
              0.6666666666666666,
              "#ed7953"
             ],
             [
              0.7777777777777778,
              "#fb9f3a"
             ],
             [
              0.8888888888888888,
              "#fdca26"
             ],
             [
              1,
              "#f0f921"
             ]
            ],
            "type": "histogram2d"
           }
          ],
          "histogram2dcontour": [
           {
            "colorbar": {
             "outlinewidth": 0,
             "ticks": ""
            },
            "colorscale": [
             [
              0,
              "#0d0887"
             ],
             [
              0.1111111111111111,
              "#46039f"
             ],
             [
              0.2222222222222222,
              "#7201a8"
             ],
             [
              0.3333333333333333,
              "#9c179e"
             ],
             [
              0.4444444444444444,
              "#bd3786"
             ],
             [
              0.5555555555555556,
              "#d8576b"
             ],
             [
              0.6666666666666666,
              "#ed7953"
             ],
             [
              0.7777777777777778,
              "#fb9f3a"
             ],
             [
              0.8888888888888888,
              "#fdca26"
             ],
             [
              1,
              "#f0f921"
             ]
            ],
            "type": "histogram2dcontour"
           }
          ],
          "mesh3d": [
           {
            "colorbar": {
             "outlinewidth": 0,
             "ticks": ""
            },
            "type": "mesh3d"
           }
          ],
          "parcoords": [
           {
            "line": {
             "colorbar": {
              "outlinewidth": 0,
              "ticks": ""
             }
            },
            "type": "parcoords"
           }
          ],
          "pie": [
           {
            "automargin": true,
            "type": "pie"
           }
          ],
          "scatter": [
           {
            "fillpattern": {
             "fillmode": "overlay",
             "size": 10,
             "solidity": 0.2
            },
            "type": "scatter"
           }
          ],
          "scatter3d": [
           {
            "line": {
             "colorbar": {
              "outlinewidth": 0,
              "ticks": ""
             }
            },
            "marker": {
             "colorbar": {
              "outlinewidth": 0,
              "ticks": ""
             }
            },
            "type": "scatter3d"
           }
          ],
          "scattercarpet": [
           {
            "marker": {
             "colorbar": {
              "outlinewidth": 0,
              "ticks": ""
             }
            },
            "type": "scattercarpet"
           }
          ],
          "scattergeo": [
           {
            "marker": {
             "colorbar": {
              "outlinewidth": 0,
              "ticks": ""
             }
            },
            "type": "scattergeo"
           }
          ],
          "scattergl": [
           {
            "marker": {
             "colorbar": {
              "outlinewidth": 0,
              "ticks": ""
             }
            },
            "type": "scattergl"
           }
          ],
          "scattermapbox": [
           {
            "marker": {
             "colorbar": {
              "outlinewidth": 0,
              "ticks": ""
             }
            },
            "type": "scattermapbox"
           }
          ],
          "scatterpolar": [
           {
            "marker": {
             "colorbar": {
              "outlinewidth": 0,
              "ticks": ""
             }
            },
            "type": "scatterpolar"
           }
          ],
          "scatterpolargl": [
           {
            "marker": {
             "colorbar": {
              "outlinewidth": 0,
              "ticks": ""
             }
            },
            "type": "scatterpolargl"
           }
          ],
          "scatterternary": [
           {
            "marker": {
             "colorbar": {
              "outlinewidth": 0,
              "ticks": ""
             }
            },
            "type": "scatterternary"
           }
          ],
          "surface": [
           {
            "colorbar": {
             "outlinewidth": 0,
             "ticks": ""
            },
            "colorscale": [
             [
              0,
              "#0d0887"
             ],
             [
              0.1111111111111111,
              "#46039f"
             ],
             [
              0.2222222222222222,
              "#7201a8"
             ],
             [
              0.3333333333333333,
              "#9c179e"
             ],
             [
              0.4444444444444444,
              "#bd3786"
             ],
             [
              0.5555555555555556,
              "#d8576b"
             ],
             [
              0.6666666666666666,
              "#ed7953"
             ],
             [
              0.7777777777777778,
              "#fb9f3a"
             ],
             [
              0.8888888888888888,
              "#fdca26"
             ],
             [
              1,
              "#f0f921"
             ]
            ],
            "type": "surface"
           }
          ],
          "table": [
           {
            "cells": {
             "fill": {
              "color": "#EBF0F8"
             },
             "line": {
              "color": "white"
             }
            },
            "header": {
             "fill": {
              "color": "#C8D4E3"
             },
             "line": {
              "color": "white"
             }
            },
            "type": "table"
           }
          ]
         },
         "layout": {
          "annotationdefaults": {
           "arrowcolor": "#2a3f5f",
           "arrowhead": 0,
           "arrowwidth": 1
          },
          "autotypenumbers": "strict",
          "coloraxis": {
           "colorbar": {
            "outlinewidth": 0,
            "ticks": ""
           }
          },
          "colorscale": {
           "diverging": [
            [
             0,
             "#8e0152"
            ],
            [
             0.1,
             "#c51b7d"
            ],
            [
             0.2,
             "#de77ae"
            ],
            [
             0.3,
             "#f1b6da"
            ],
            [
             0.4,
             "#fde0ef"
            ],
            [
             0.5,
             "#f7f7f7"
            ],
            [
             0.6,
             "#e6f5d0"
            ],
            [
             0.7,
             "#b8e186"
            ],
            [
             0.8,
             "#7fbc41"
            ],
            [
             0.9,
             "#4d9221"
            ],
            [
             1,
             "#276419"
            ]
           ],
           "sequential": [
            [
             0,
             "#0d0887"
            ],
            [
             0.1111111111111111,
             "#46039f"
            ],
            [
             0.2222222222222222,
             "#7201a8"
            ],
            [
             0.3333333333333333,
             "#9c179e"
            ],
            [
             0.4444444444444444,
             "#bd3786"
            ],
            [
             0.5555555555555556,
             "#d8576b"
            ],
            [
             0.6666666666666666,
             "#ed7953"
            ],
            [
             0.7777777777777778,
             "#fb9f3a"
            ],
            [
             0.8888888888888888,
             "#fdca26"
            ],
            [
             1,
             "#f0f921"
            ]
           ],
           "sequentialminus": [
            [
             0,
             "#0d0887"
            ],
            [
             0.1111111111111111,
             "#46039f"
            ],
            [
             0.2222222222222222,
             "#7201a8"
            ],
            [
             0.3333333333333333,
             "#9c179e"
            ],
            [
             0.4444444444444444,
             "#bd3786"
            ],
            [
             0.5555555555555556,
             "#d8576b"
            ],
            [
             0.6666666666666666,
             "#ed7953"
            ],
            [
             0.7777777777777778,
             "#fb9f3a"
            ],
            [
             0.8888888888888888,
             "#fdca26"
            ],
            [
             1,
             "#f0f921"
            ]
           ]
          },
          "colorway": [
           "#636efa",
           "#EF553B",
           "#00cc96",
           "#ab63fa",
           "#FFA15A",
           "#19d3f3",
           "#FF6692",
           "#B6E880",
           "#FF97FF",
           "#FECB52"
          ],
          "font": {
           "color": "#2a3f5f"
          },
          "geo": {
           "bgcolor": "white",
           "lakecolor": "white",
           "landcolor": "#E5ECF6",
           "showlakes": true,
           "showland": true,
           "subunitcolor": "white"
          },
          "hoverlabel": {
           "align": "left"
          },
          "hovermode": "closest",
          "mapbox": {
           "style": "light"
          },
          "paper_bgcolor": "white",
          "plot_bgcolor": "#E5ECF6",
          "polar": {
           "angularaxis": {
            "gridcolor": "white",
            "linecolor": "white",
            "ticks": ""
           },
           "bgcolor": "#E5ECF6",
           "radialaxis": {
            "gridcolor": "white",
            "linecolor": "white",
            "ticks": ""
           }
          },
          "scene": {
           "xaxis": {
            "backgroundcolor": "#E5ECF6",
            "gridcolor": "white",
            "gridwidth": 2,
            "linecolor": "white",
            "showbackground": true,
            "ticks": "",
            "zerolinecolor": "white"
           },
           "yaxis": {
            "backgroundcolor": "#E5ECF6",
            "gridcolor": "white",
            "gridwidth": 2,
            "linecolor": "white",
            "showbackground": true,
            "ticks": "",
            "zerolinecolor": "white"
           },
           "zaxis": {
            "backgroundcolor": "#E5ECF6",
            "gridcolor": "white",
            "gridwidth": 2,
            "linecolor": "white",
            "showbackground": true,
            "ticks": "",
            "zerolinecolor": "white"
           }
          },
          "shapedefaults": {
           "line": {
            "color": "#2a3f5f"
           }
          },
          "ternary": {
           "aaxis": {
            "gridcolor": "white",
            "linecolor": "white",
            "ticks": ""
           },
           "baxis": {
            "gridcolor": "white",
            "linecolor": "white",
            "ticks": ""
           },
           "bgcolor": "#E5ECF6",
           "caxis": {
            "gridcolor": "white",
            "linecolor": "white",
            "ticks": ""
           }
          },
          "title": {
           "x": 0.05
          },
          "xaxis": {
           "automargin": true,
           "gridcolor": "white",
           "linecolor": "white",
           "ticks": "",
           "title": {
            "standoff": 15
           },
           "zerolinecolor": "white",
           "zerolinewidth": 2
          },
          "yaxis": {
           "automargin": true,
           "gridcolor": "white",
           "linecolor": "white",
           "ticks": "",
           "title": {
            "standoff": 15
           },
           "zerolinecolor": "white",
           "zerolinewidth": 2
          }
         }
        },
        "title": {
         "text": "Rape cases in India"
        },
        "uniformtext": {
         "minsize": 8,
         "mode": "show"
        },
        "xaxis": {
         "tickangle": -30,
         "tickmode": "linear",
         "title": {
          "text": "Years"
         }
        },
        "yaxis": {
         "title": {
          "text": "RAPE"
         }
        }
       }
      },
      "text/html": [
       "<div>                            <div id=\"f692a66d-7af5-427b-91d5-f6bb789dc766\" class=\"plotly-graph-div\" style=\"height:525px; width:100%;\"></div>            <script type=\"text/javascript\">                require([\"plotly\"], function(Plotly) {                    window.PLOTLYENV=window.PLOTLYENV || {};                                    if (document.getElementById(\"f692a66d-7af5-427b-91d5-f6bb789dc766\")) {                    Plotly.newPlot(                        \"f692a66d-7af5-427b-91d5-f6bb789dc766\",                        [{\"text\":[0.0,6.0,2.0,4.0,14.0,4.0,2.0,0.0,4.0,12.0,2.0,2.0],\"x\":[2001,2002,2003,2004,2005,2006,2007,2008,2009,2010,2011,2012],\"y\":[0,6,2,4,14,4,2,0,4,12,2,2],\"type\":\"bar\",\"marker\":{\"color\":\"#24bcbc\"},\"textposition\":\"outside\",\"texttemplate\":\"%{text:.2s}\"}],                        {\"template\":{\"data\":{\"histogram2dcontour\":[{\"type\":\"histogram2dcontour\",\"colorbar\":{\"outlinewidth\":0,\"ticks\":\"\"},\"colorscale\":[[0.0,\"#0d0887\"],[0.1111111111111111,\"#46039f\"],[0.2222222222222222,\"#7201a8\"],[0.3333333333333333,\"#9c179e\"],[0.4444444444444444,\"#bd3786\"],[0.5555555555555556,\"#d8576b\"],[0.6666666666666666,\"#ed7953\"],[0.7777777777777778,\"#fb9f3a\"],[0.8888888888888888,\"#fdca26\"],[1.0,\"#f0f921\"]]}],\"choropleth\":[{\"type\":\"choropleth\",\"colorbar\":{\"outlinewidth\":0,\"ticks\":\"\"}}],\"histogram2d\":[{\"type\":\"histogram2d\",\"colorbar\":{\"outlinewidth\":0,\"ticks\":\"\"},\"colorscale\":[[0.0,\"#0d0887\"],[0.1111111111111111,\"#46039f\"],[0.2222222222222222,\"#7201a8\"],[0.3333333333333333,\"#9c179e\"],[0.4444444444444444,\"#bd3786\"],[0.5555555555555556,\"#d8576b\"],[0.6666666666666666,\"#ed7953\"],[0.7777777777777778,\"#fb9f3a\"],[0.8888888888888888,\"#fdca26\"],[1.0,\"#f0f921\"]]}],\"heatmap\":[{\"type\":\"heatmap\",\"colorbar\":{\"outlinewidth\":0,\"ticks\":\"\"},\"colorscale\":[[0.0,\"#0d0887\"],[0.1111111111111111,\"#46039f\"],[0.2222222222222222,\"#7201a8\"],[0.3333333333333333,\"#9c179e\"],[0.4444444444444444,\"#bd3786\"],[0.5555555555555556,\"#d8576b\"],[0.6666666666666666,\"#ed7953\"],[0.7777777777777778,\"#fb9f3a\"],[0.8888888888888888,\"#fdca26\"],[1.0,\"#f0f921\"]]}],\"heatmapgl\":[{\"type\":\"heatmapgl\",\"colorbar\":{\"outlinewidth\":0,\"ticks\":\"\"},\"colorscale\":[[0.0,\"#0d0887\"],[0.1111111111111111,\"#46039f\"],[0.2222222222222222,\"#7201a8\"],[0.3333333333333333,\"#9c179e\"],[0.4444444444444444,\"#bd3786\"],[0.5555555555555556,\"#d8576b\"],[0.6666666666666666,\"#ed7953\"],[0.7777777777777778,\"#fb9f3a\"],[0.8888888888888888,\"#fdca26\"],[1.0,\"#f0f921\"]]}],\"contourcarpet\":[{\"type\":\"contourcarpet\",\"colorbar\":{\"outlinewidth\":0,\"ticks\":\"\"}}],\"contour\":[{\"type\":\"contour\",\"colorbar\":{\"outlinewidth\":0,\"ticks\":\"\"},\"colorscale\":[[0.0,\"#0d0887\"],[0.1111111111111111,\"#46039f\"],[0.2222222222222222,\"#7201a8\"],[0.3333333333333333,\"#9c179e\"],[0.4444444444444444,\"#bd3786\"],[0.5555555555555556,\"#d8576b\"],[0.6666666666666666,\"#ed7953\"],[0.7777777777777778,\"#fb9f3a\"],[0.8888888888888888,\"#fdca26\"],[1.0,\"#f0f921\"]]}],\"surface\":[{\"type\":\"surface\",\"colorbar\":{\"outlinewidth\":0,\"ticks\":\"\"},\"colorscale\":[[0.0,\"#0d0887\"],[0.1111111111111111,\"#46039f\"],[0.2222222222222222,\"#7201a8\"],[0.3333333333333333,\"#9c179e\"],[0.4444444444444444,\"#bd3786\"],[0.5555555555555556,\"#d8576b\"],[0.6666666666666666,\"#ed7953\"],[0.7777777777777778,\"#fb9f3a\"],[0.8888888888888888,\"#fdca26\"],[1.0,\"#f0f921\"]]}],\"mesh3d\":[{\"type\":\"mesh3d\",\"colorbar\":{\"outlinewidth\":0,\"ticks\":\"\"}}],\"scatter\":[{\"fillpattern\":{\"fillmode\":\"overlay\",\"size\":10,\"solidity\":0.2},\"type\":\"scatter\"}],\"parcoords\":[{\"type\":\"parcoords\",\"line\":{\"colorbar\":{\"outlinewidth\":0,\"ticks\":\"\"}}}],\"scatterpolargl\":[{\"type\":\"scatterpolargl\",\"marker\":{\"colorbar\":{\"outlinewidth\":0,\"ticks\":\"\"}}}],\"bar\":[{\"error_x\":{\"color\":\"#2a3f5f\"},\"error_y\":{\"color\":\"#2a3f5f\"},\"marker\":{\"line\":{\"color\":\"#E5ECF6\",\"width\":0.5},\"pattern\":{\"fillmode\":\"overlay\",\"size\":10,\"solidity\":0.2}},\"type\":\"bar\"}],\"scattergeo\":[{\"type\":\"scattergeo\",\"marker\":{\"colorbar\":{\"outlinewidth\":0,\"ticks\":\"\"}}}],\"scatterpolar\":[{\"type\":\"scatterpolar\",\"marker\":{\"colorbar\":{\"outlinewidth\":0,\"ticks\":\"\"}}}],\"histogram\":[{\"marker\":{\"pattern\":{\"fillmode\":\"overlay\",\"size\":10,\"solidity\":0.2}},\"type\":\"histogram\"}],\"scattergl\":[{\"type\":\"scattergl\",\"marker\":{\"colorbar\":{\"outlinewidth\":0,\"ticks\":\"\"}}}],\"scatter3d\":[{\"type\":\"scatter3d\",\"line\":{\"colorbar\":{\"outlinewidth\":0,\"ticks\":\"\"}},\"marker\":{\"colorbar\":{\"outlinewidth\":0,\"ticks\":\"\"}}}],\"scattermapbox\":[{\"type\":\"scattermapbox\",\"marker\":{\"colorbar\":{\"outlinewidth\":0,\"ticks\":\"\"}}}],\"scatterternary\":[{\"type\":\"scatterternary\",\"marker\":{\"colorbar\":{\"outlinewidth\":0,\"ticks\":\"\"}}}],\"scattercarpet\":[{\"type\":\"scattercarpet\",\"marker\":{\"colorbar\":{\"outlinewidth\":0,\"ticks\":\"\"}}}],\"carpet\":[{\"aaxis\":{\"endlinecolor\":\"#2a3f5f\",\"gridcolor\":\"white\",\"linecolor\":\"white\",\"minorgridcolor\":\"white\",\"startlinecolor\":\"#2a3f5f\"},\"baxis\":{\"endlinecolor\":\"#2a3f5f\",\"gridcolor\":\"white\",\"linecolor\":\"white\",\"minorgridcolor\":\"white\",\"startlinecolor\":\"#2a3f5f\"},\"type\":\"carpet\"}],\"table\":[{\"cells\":{\"fill\":{\"color\":\"#EBF0F8\"},\"line\":{\"color\":\"white\"}},\"header\":{\"fill\":{\"color\":\"#C8D4E3\"},\"line\":{\"color\":\"white\"}},\"type\":\"table\"}],\"barpolar\":[{\"marker\":{\"line\":{\"color\":\"#E5ECF6\",\"width\":0.5},\"pattern\":{\"fillmode\":\"overlay\",\"size\":10,\"solidity\":0.2}},\"type\":\"barpolar\"}],\"pie\":[{\"automargin\":true,\"type\":\"pie\"}]},\"layout\":{\"autotypenumbers\":\"strict\",\"colorway\":[\"#636efa\",\"#EF553B\",\"#00cc96\",\"#ab63fa\",\"#FFA15A\",\"#19d3f3\",\"#FF6692\",\"#B6E880\",\"#FF97FF\",\"#FECB52\"],\"font\":{\"color\":\"#2a3f5f\"},\"hovermode\":\"closest\",\"hoverlabel\":{\"align\":\"left\"},\"paper_bgcolor\":\"white\",\"plot_bgcolor\":\"#E5ECF6\",\"polar\":{\"bgcolor\":\"#E5ECF6\",\"angularaxis\":{\"gridcolor\":\"white\",\"linecolor\":\"white\",\"ticks\":\"\"},\"radialaxis\":{\"gridcolor\":\"white\",\"linecolor\":\"white\",\"ticks\":\"\"}},\"ternary\":{\"bgcolor\":\"#E5ECF6\",\"aaxis\":{\"gridcolor\":\"white\",\"linecolor\":\"white\",\"ticks\":\"\"},\"baxis\":{\"gridcolor\":\"white\",\"linecolor\":\"white\",\"ticks\":\"\"},\"caxis\":{\"gridcolor\":\"white\",\"linecolor\":\"white\",\"ticks\":\"\"}},\"coloraxis\":{\"colorbar\":{\"outlinewidth\":0,\"ticks\":\"\"}},\"colorscale\":{\"sequential\":[[0.0,\"#0d0887\"],[0.1111111111111111,\"#46039f\"],[0.2222222222222222,\"#7201a8\"],[0.3333333333333333,\"#9c179e\"],[0.4444444444444444,\"#bd3786\"],[0.5555555555555556,\"#d8576b\"],[0.6666666666666666,\"#ed7953\"],[0.7777777777777778,\"#fb9f3a\"],[0.8888888888888888,\"#fdca26\"],[1.0,\"#f0f921\"]],\"sequentialminus\":[[0.0,\"#0d0887\"],[0.1111111111111111,\"#46039f\"],[0.2222222222222222,\"#7201a8\"],[0.3333333333333333,\"#9c179e\"],[0.4444444444444444,\"#bd3786\"],[0.5555555555555556,\"#d8576b\"],[0.6666666666666666,\"#ed7953\"],[0.7777777777777778,\"#fb9f3a\"],[0.8888888888888888,\"#fdca26\"],[1.0,\"#f0f921\"]],\"diverging\":[[0,\"#8e0152\"],[0.1,\"#c51b7d\"],[0.2,\"#de77ae\"],[0.3,\"#f1b6da\"],[0.4,\"#fde0ef\"],[0.5,\"#f7f7f7\"],[0.6,\"#e6f5d0\"],[0.7,\"#b8e186\"],[0.8,\"#7fbc41\"],[0.9,\"#4d9221\"],[1,\"#276419\"]]},\"xaxis\":{\"gridcolor\":\"white\",\"linecolor\":\"white\",\"ticks\":\"\",\"title\":{\"standoff\":15},\"zerolinecolor\":\"white\",\"automargin\":true,\"zerolinewidth\":2},\"yaxis\":{\"gridcolor\":\"white\",\"linecolor\":\"white\",\"ticks\":\"\",\"title\":{\"standoff\":15},\"zerolinecolor\":\"white\",\"automargin\":true,\"zerolinewidth\":2},\"scene\":{\"xaxis\":{\"backgroundcolor\":\"#E5ECF6\",\"gridcolor\":\"white\",\"linecolor\":\"white\",\"showbackground\":true,\"ticks\":\"\",\"zerolinecolor\":\"white\",\"gridwidth\":2},\"yaxis\":{\"backgroundcolor\":\"#E5ECF6\",\"gridcolor\":\"white\",\"linecolor\":\"white\",\"showbackground\":true,\"ticks\":\"\",\"zerolinecolor\":\"white\",\"gridwidth\":2},\"zaxis\":{\"backgroundcolor\":\"#E5ECF6\",\"gridcolor\":\"white\",\"linecolor\":\"white\",\"showbackground\":true,\"ticks\":\"\",\"zerolinecolor\":\"white\",\"gridwidth\":2}},\"shapedefaults\":{\"line\":{\"color\":\"#2a3f5f\"}},\"annotationdefaults\":{\"arrowcolor\":\"#2a3f5f\",\"arrowhead\":0,\"arrowwidth\":1},\"geo\":{\"bgcolor\":\"white\",\"landcolor\":\"#E5ECF6\",\"subunitcolor\":\"white\",\"showland\":true,\"showlakes\":true,\"lakecolor\":\"white\"},\"title\":{\"x\":0.05},\"mapbox\":{\"style\":\"light\"}}},\"xaxis\":{\"title\":{\"text\":\"Years\"},\"tickmode\":\"linear\",\"tickangle\":-30},\"uniformtext\":{\"minsize\":8,\"mode\":\"show\"},\"title\":{\"text\":\"Rape cases in India\"},\"yaxis\":{\"title\":{\"text\":\"RAPE\"}}},                        {\"responsive\": true}                    ).then(function(){\n",
       "                            \n",
       "var gd = document.getElementById('f692a66d-7af5-427b-91d5-f6bb789dc766');\n",
       "var x = new MutationObserver(function (mutations, observer) {{\n",
       "        var display = window.getComputedStyle(gd).display;\n",
       "        if (!display || display === 'none') {{\n",
       "            console.log([gd, 'removed!']);\n",
       "            Plotly.purge(gd);\n",
       "            observer.disconnect();\n",
       "        }}\n",
       "}});\n",
       "\n",
       "// Listen for the removal of the full notebook cells\n",
       "var notebookContainer = gd.closest('#notebook-container');\n",
       "if (notebookContainer) {{\n",
       "    x.observe(notebookContainer, {childList: true});\n",
       "}}\n",
       "\n",
       "// Listen for the clearing of the current output cell\n",
       "var outputEl = gd.closest('.output');\n",
       "if (outputEl) {{\n",
       "    x.observe(outputEl, {childList: true});\n",
       "}}\n",
       "\n",
       "                        })                };                });            </script>        </div>"
      ]
     },
     "metadata": {},
     "output_type": "display_data"
    }
   ],
   "source": [
    "plot_figure(\"Rape cases in India\",\"CUSTODIAL RAPE\",\"RAPE\", color=\"#24bcbc\")"
   ]
  },
  {
   "cell_type": "code",
   "execution_count": 24,
   "id": "82fe9294",
   "metadata": {},
   "outputs": [
    {
     "data": {
      "application/vnd.plotly.v1+json": {
       "config": {
        "plotlyServerURL": "https://plot.ly"
       },
       "data": [
        {
         "marker": {
          "color": "#8217a6"
         },
         "text": [
          44974,
          43700,
          39984,
          46654,
          45664,
          47982,
          55122,
          60522,
          67720,
          76880,
          89328,
          95184
         ],
         "textposition": "outside",
         "texttemplate": "%{text:.2s}",
         "type": "bar",
         "x": [
          2001,
          2002,
          2003,
          2004,
          2005,
          2006,
          2007,
          2008,
          2009,
          2010,
          2011,
          2012
         ],
         "y": [
          44974,
          43700,
          39984,
          46654,
          45664,
          47982,
          55122,
          60522,
          67720,
          76880,
          89328,
          95184
         ]
        }
       ],
       "layout": {
        "template": {
         "data": {
          "bar": [
           {
            "error_x": {
             "color": "#2a3f5f"
            },
            "error_y": {
             "color": "#2a3f5f"
            },
            "marker": {
             "line": {
              "color": "#E5ECF6",
              "width": 0.5
             },
             "pattern": {
              "fillmode": "overlay",
              "size": 10,
              "solidity": 0.2
             }
            },
            "type": "bar"
           }
          ],
          "barpolar": [
           {
            "marker": {
             "line": {
              "color": "#E5ECF6",
              "width": 0.5
             },
             "pattern": {
              "fillmode": "overlay",
              "size": 10,
              "solidity": 0.2
             }
            },
            "type": "barpolar"
           }
          ],
          "carpet": [
           {
            "aaxis": {
             "endlinecolor": "#2a3f5f",
             "gridcolor": "white",
             "linecolor": "white",
             "minorgridcolor": "white",
             "startlinecolor": "#2a3f5f"
            },
            "baxis": {
             "endlinecolor": "#2a3f5f",
             "gridcolor": "white",
             "linecolor": "white",
             "minorgridcolor": "white",
             "startlinecolor": "#2a3f5f"
            },
            "type": "carpet"
           }
          ],
          "choropleth": [
           {
            "colorbar": {
             "outlinewidth": 0,
             "ticks": ""
            },
            "type": "choropleth"
           }
          ],
          "contour": [
           {
            "colorbar": {
             "outlinewidth": 0,
             "ticks": ""
            },
            "colorscale": [
             [
              0,
              "#0d0887"
             ],
             [
              0.1111111111111111,
              "#46039f"
             ],
             [
              0.2222222222222222,
              "#7201a8"
             ],
             [
              0.3333333333333333,
              "#9c179e"
             ],
             [
              0.4444444444444444,
              "#bd3786"
             ],
             [
              0.5555555555555556,
              "#d8576b"
             ],
             [
              0.6666666666666666,
              "#ed7953"
             ],
             [
              0.7777777777777778,
              "#fb9f3a"
             ],
             [
              0.8888888888888888,
              "#fdca26"
             ],
             [
              1,
              "#f0f921"
             ]
            ],
            "type": "contour"
           }
          ],
          "contourcarpet": [
           {
            "colorbar": {
             "outlinewidth": 0,
             "ticks": ""
            },
            "type": "contourcarpet"
           }
          ],
          "heatmap": [
           {
            "colorbar": {
             "outlinewidth": 0,
             "ticks": ""
            },
            "colorscale": [
             [
              0,
              "#0d0887"
             ],
             [
              0.1111111111111111,
              "#46039f"
             ],
             [
              0.2222222222222222,
              "#7201a8"
             ],
             [
              0.3333333333333333,
              "#9c179e"
             ],
             [
              0.4444444444444444,
              "#bd3786"
             ],
             [
              0.5555555555555556,
              "#d8576b"
             ],
             [
              0.6666666666666666,
              "#ed7953"
             ],
             [
              0.7777777777777778,
              "#fb9f3a"
             ],
             [
              0.8888888888888888,
              "#fdca26"
             ],
             [
              1,
              "#f0f921"
             ]
            ],
            "type": "heatmap"
           }
          ],
          "heatmapgl": [
           {
            "colorbar": {
             "outlinewidth": 0,
             "ticks": ""
            },
            "colorscale": [
             [
              0,
              "#0d0887"
             ],
             [
              0.1111111111111111,
              "#46039f"
             ],
             [
              0.2222222222222222,
              "#7201a8"
             ],
             [
              0.3333333333333333,
              "#9c179e"
             ],
             [
              0.4444444444444444,
              "#bd3786"
             ],
             [
              0.5555555555555556,
              "#d8576b"
             ],
             [
              0.6666666666666666,
              "#ed7953"
             ],
             [
              0.7777777777777778,
              "#fb9f3a"
             ],
             [
              0.8888888888888888,
              "#fdca26"
             ],
             [
              1,
              "#f0f921"
             ]
            ],
            "type": "heatmapgl"
           }
          ],
          "histogram": [
           {
            "marker": {
             "pattern": {
              "fillmode": "overlay",
              "size": 10,
              "solidity": 0.2
             }
            },
            "type": "histogram"
           }
          ],
          "histogram2d": [
           {
            "colorbar": {
             "outlinewidth": 0,
             "ticks": ""
            },
            "colorscale": [
             [
              0,
              "#0d0887"
             ],
             [
              0.1111111111111111,
              "#46039f"
             ],
             [
              0.2222222222222222,
              "#7201a8"
             ],
             [
              0.3333333333333333,
              "#9c179e"
             ],
             [
              0.4444444444444444,
              "#bd3786"
             ],
             [
              0.5555555555555556,
              "#d8576b"
             ],
             [
              0.6666666666666666,
              "#ed7953"
             ],
             [
              0.7777777777777778,
              "#fb9f3a"
             ],
             [
              0.8888888888888888,
              "#fdca26"
             ],
             [
              1,
              "#f0f921"
             ]
            ],
            "type": "histogram2d"
           }
          ],
          "histogram2dcontour": [
           {
            "colorbar": {
             "outlinewidth": 0,
             "ticks": ""
            },
            "colorscale": [
             [
              0,
              "#0d0887"
             ],
             [
              0.1111111111111111,
              "#46039f"
             ],
             [
              0.2222222222222222,
              "#7201a8"
             ],
             [
              0.3333333333333333,
              "#9c179e"
             ],
             [
              0.4444444444444444,
              "#bd3786"
             ],
             [
              0.5555555555555556,
              "#d8576b"
             ],
             [
              0.6666666666666666,
              "#ed7953"
             ],
             [
              0.7777777777777778,
              "#fb9f3a"
             ],
             [
              0.8888888888888888,
              "#fdca26"
             ],
             [
              1,
              "#f0f921"
             ]
            ],
            "type": "histogram2dcontour"
           }
          ],
          "mesh3d": [
           {
            "colorbar": {
             "outlinewidth": 0,
             "ticks": ""
            },
            "type": "mesh3d"
           }
          ],
          "parcoords": [
           {
            "line": {
             "colorbar": {
              "outlinewidth": 0,
              "ticks": ""
             }
            },
            "type": "parcoords"
           }
          ],
          "pie": [
           {
            "automargin": true,
            "type": "pie"
           }
          ],
          "scatter": [
           {
            "fillpattern": {
             "fillmode": "overlay",
             "size": 10,
             "solidity": 0.2
            },
            "type": "scatter"
           }
          ],
          "scatter3d": [
           {
            "line": {
             "colorbar": {
              "outlinewidth": 0,
              "ticks": ""
             }
            },
            "marker": {
             "colorbar": {
              "outlinewidth": 0,
              "ticks": ""
             }
            },
            "type": "scatter3d"
           }
          ],
          "scattercarpet": [
           {
            "marker": {
             "colorbar": {
              "outlinewidth": 0,
              "ticks": ""
             }
            },
            "type": "scattercarpet"
           }
          ],
          "scattergeo": [
           {
            "marker": {
             "colorbar": {
              "outlinewidth": 0,
              "ticks": ""
             }
            },
            "type": "scattergeo"
           }
          ],
          "scattergl": [
           {
            "marker": {
             "colorbar": {
              "outlinewidth": 0,
              "ticks": ""
             }
            },
            "type": "scattergl"
           }
          ],
          "scattermapbox": [
           {
            "marker": {
             "colorbar": {
              "outlinewidth": 0,
              "ticks": ""
             }
            },
            "type": "scattermapbox"
           }
          ],
          "scatterpolar": [
           {
            "marker": {
             "colorbar": {
              "outlinewidth": 0,
              "ticks": ""
             }
            },
            "type": "scatterpolar"
           }
          ],
          "scatterpolargl": [
           {
            "marker": {
             "colorbar": {
              "outlinewidth": 0,
              "ticks": ""
             }
            },
            "type": "scatterpolargl"
           }
          ],
          "scatterternary": [
           {
            "marker": {
             "colorbar": {
              "outlinewidth": 0,
              "ticks": ""
             }
            },
            "type": "scatterternary"
           }
          ],
          "surface": [
           {
            "colorbar": {
             "outlinewidth": 0,
             "ticks": ""
            },
            "colorscale": [
             [
              0,
              "#0d0887"
             ],
             [
              0.1111111111111111,
              "#46039f"
             ],
             [
              0.2222222222222222,
              "#7201a8"
             ],
             [
              0.3333333333333333,
              "#9c179e"
             ],
             [
              0.4444444444444444,
              "#bd3786"
             ],
             [
              0.5555555555555556,
              "#d8576b"
             ],
             [
              0.6666666666666666,
              "#ed7953"
             ],
             [
              0.7777777777777778,
              "#fb9f3a"
             ],
             [
              0.8888888888888888,
              "#fdca26"
             ],
             [
              1,
              "#f0f921"
             ]
            ],
            "type": "surface"
           }
          ],
          "table": [
           {
            "cells": {
             "fill": {
              "color": "#EBF0F8"
             },
             "line": {
              "color": "white"
             }
            },
            "header": {
             "fill": {
              "color": "#C8D4E3"
             },
             "line": {
              "color": "white"
             }
            },
            "type": "table"
           }
          ]
         },
         "layout": {
          "annotationdefaults": {
           "arrowcolor": "#2a3f5f",
           "arrowhead": 0,
           "arrowwidth": 1
          },
          "autotypenumbers": "strict",
          "coloraxis": {
           "colorbar": {
            "outlinewidth": 0,
            "ticks": ""
           }
          },
          "colorscale": {
           "diverging": [
            [
             0,
             "#8e0152"
            ],
            [
             0.1,
             "#c51b7d"
            ],
            [
             0.2,
             "#de77ae"
            ],
            [
             0.3,
             "#f1b6da"
            ],
            [
             0.4,
             "#fde0ef"
            ],
            [
             0.5,
             "#f7f7f7"
            ],
            [
             0.6,
             "#e6f5d0"
            ],
            [
             0.7,
             "#b8e186"
            ],
            [
             0.8,
             "#7fbc41"
            ],
            [
             0.9,
             "#4d9221"
            ],
            [
             1,
             "#276419"
            ]
           ],
           "sequential": [
            [
             0,
             "#0d0887"
            ],
            [
             0.1111111111111111,
             "#46039f"
            ],
            [
             0.2222222222222222,
             "#7201a8"
            ],
            [
             0.3333333333333333,
             "#9c179e"
            ],
            [
             0.4444444444444444,
             "#bd3786"
            ],
            [
             0.5555555555555556,
             "#d8576b"
            ],
            [
             0.6666666666666666,
             "#ed7953"
            ],
            [
             0.7777777777777778,
             "#fb9f3a"
            ],
            [
             0.8888888888888888,
             "#fdca26"
            ],
            [
             1,
             "#f0f921"
            ]
           ],
           "sequentialminus": [
            [
             0,
             "#0d0887"
            ],
            [
             0.1111111111111111,
             "#46039f"
            ],
            [
             0.2222222222222222,
             "#7201a8"
            ],
            [
             0.3333333333333333,
             "#9c179e"
            ],
            [
             0.4444444444444444,
             "#bd3786"
            ],
            [
             0.5555555555555556,
             "#d8576b"
            ],
            [
             0.6666666666666666,
             "#ed7953"
            ],
            [
             0.7777777777777778,
             "#fb9f3a"
            ],
            [
             0.8888888888888888,
             "#fdca26"
            ],
            [
             1,
             "#f0f921"
            ]
           ]
          },
          "colorway": [
           "#636efa",
           "#EF553B",
           "#00cc96",
           "#ab63fa",
           "#FFA15A",
           "#19d3f3",
           "#FF6692",
           "#B6E880",
           "#FF97FF",
           "#FECB52"
          ],
          "font": {
           "color": "#2a3f5f"
          },
          "geo": {
           "bgcolor": "white",
           "lakecolor": "white",
           "landcolor": "#E5ECF6",
           "showlakes": true,
           "showland": true,
           "subunitcolor": "white"
          },
          "hoverlabel": {
           "align": "left"
          },
          "hovermode": "closest",
          "mapbox": {
           "style": "light"
          },
          "paper_bgcolor": "white",
          "plot_bgcolor": "#E5ECF6",
          "polar": {
           "angularaxis": {
            "gridcolor": "white",
            "linecolor": "white",
            "ticks": ""
           },
           "bgcolor": "#E5ECF6",
           "radialaxis": {
            "gridcolor": "white",
            "linecolor": "white",
            "ticks": ""
           }
          },
          "scene": {
           "xaxis": {
            "backgroundcolor": "#E5ECF6",
            "gridcolor": "white",
            "gridwidth": 2,
            "linecolor": "white",
            "showbackground": true,
            "ticks": "",
            "zerolinecolor": "white"
           },
           "yaxis": {
            "backgroundcolor": "#E5ECF6",
            "gridcolor": "white",
            "gridwidth": 2,
            "linecolor": "white",
            "showbackground": true,
            "ticks": "",
            "zerolinecolor": "white"
           },
           "zaxis": {
            "backgroundcolor": "#E5ECF6",
            "gridcolor": "white",
            "gridwidth": 2,
            "linecolor": "white",
            "showbackground": true,
            "ticks": "",
            "zerolinecolor": "white"
           }
          },
          "shapedefaults": {
           "line": {
            "color": "#2a3f5f"
           }
          },
          "ternary": {
           "aaxis": {
            "gridcolor": "white",
            "linecolor": "white",
            "ticks": ""
           },
           "baxis": {
            "gridcolor": "white",
            "linecolor": "white",
            "ticks": ""
           },
           "bgcolor": "#E5ECF6",
           "caxis": {
            "gridcolor": "white",
            "linecolor": "white",
            "ticks": ""
           }
          },
          "title": {
           "x": 0.05
          },
          "xaxis": {
           "automargin": true,
           "gridcolor": "white",
           "linecolor": "white",
           "ticks": "",
           "title": {
            "standoff": 15
           },
           "zerolinecolor": "white",
           "zerolinewidth": 2
          },
          "yaxis": {
           "automargin": true,
           "gridcolor": "white",
           "linecolor": "white",
           "ticks": "",
           "title": {
            "standoff": 15
           },
           "zerolinecolor": "white",
           "zerolinewidth": 2
          }
         }
        },
        "title": {
         "text": "Kipnapping in India"
        },
        "uniformtext": {
         "minsize": 8,
         "mode": "show"
        },
        "xaxis": {
         "tickangle": -30,
         "tickmode": "linear",
         "title": {
          "text": "Years"
         }
        },
        "yaxis": {
         "title": {
          "text": "KIDNAPPING AND ABDUCTION OF WOMEN AND GIRLS"
         }
        }
       }
      },
      "text/html": [
       "<div>                            <div id=\"b4138762-4e57-41f7-9658-63e9efef2453\" class=\"plotly-graph-div\" style=\"height:525px; width:100%;\"></div>            <script type=\"text/javascript\">                require([\"plotly\"], function(Plotly) {                    window.PLOTLYENV=window.PLOTLYENV || {};                                    if (document.getElementById(\"b4138762-4e57-41f7-9658-63e9efef2453\")) {                    Plotly.newPlot(                        \"b4138762-4e57-41f7-9658-63e9efef2453\",                        [{\"text\":[44974.0,43700.0,39984.0,46654.0,45664.0,47982.0,55122.0,60522.0,67720.0,76880.0,89328.0,95184.0],\"x\":[2001,2002,2003,2004,2005,2006,2007,2008,2009,2010,2011,2012],\"y\":[44974,43700,39984,46654,45664,47982,55122,60522,67720,76880,89328,95184],\"type\":\"bar\",\"marker\":{\"color\":\"#8217a6\"},\"textposition\":\"outside\",\"texttemplate\":\"%{text:.2s}\"}],                        {\"template\":{\"data\":{\"histogram2dcontour\":[{\"type\":\"histogram2dcontour\",\"colorbar\":{\"outlinewidth\":0,\"ticks\":\"\"},\"colorscale\":[[0.0,\"#0d0887\"],[0.1111111111111111,\"#46039f\"],[0.2222222222222222,\"#7201a8\"],[0.3333333333333333,\"#9c179e\"],[0.4444444444444444,\"#bd3786\"],[0.5555555555555556,\"#d8576b\"],[0.6666666666666666,\"#ed7953\"],[0.7777777777777778,\"#fb9f3a\"],[0.8888888888888888,\"#fdca26\"],[1.0,\"#f0f921\"]]}],\"choropleth\":[{\"type\":\"choropleth\",\"colorbar\":{\"outlinewidth\":0,\"ticks\":\"\"}}],\"histogram2d\":[{\"type\":\"histogram2d\",\"colorbar\":{\"outlinewidth\":0,\"ticks\":\"\"},\"colorscale\":[[0.0,\"#0d0887\"],[0.1111111111111111,\"#46039f\"],[0.2222222222222222,\"#7201a8\"],[0.3333333333333333,\"#9c179e\"],[0.4444444444444444,\"#bd3786\"],[0.5555555555555556,\"#d8576b\"],[0.6666666666666666,\"#ed7953\"],[0.7777777777777778,\"#fb9f3a\"],[0.8888888888888888,\"#fdca26\"],[1.0,\"#f0f921\"]]}],\"heatmap\":[{\"type\":\"heatmap\",\"colorbar\":{\"outlinewidth\":0,\"ticks\":\"\"},\"colorscale\":[[0.0,\"#0d0887\"],[0.1111111111111111,\"#46039f\"],[0.2222222222222222,\"#7201a8\"],[0.3333333333333333,\"#9c179e\"],[0.4444444444444444,\"#bd3786\"],[0.5555555555555556,\"#d8576b\"],[0.6666666666666666,\"#ed7953\"],[0.7777777777777778,\"#fb9f3a\"],[0.8888888888888888,\"#fdca26\"],[1.0,\"#f0f921\"]]}],\"heatmapgl\":[{\"type\":\"heatmapgl\",\"colorbar\":{\"outlinewidth\":0,\"ticks\":\"\"},\"colorscale\":[[0.0,\"#0d0887\"],[0.1111111111111111,\"#46039f\"],[0.2222222222222222,\"#7201a8\"],[0.3333333333333333,\"#9c179e\"],[0.4444444444444444,\"#bd3786\"],[0.5555555555555556,\"#d8576b\"],[0.6666666666666666,\"#ed7953\"],[0.7777777777777778,\"#fb9f3a\"],[0.8888888888888888,\"#fdca26\"],[1.0,\"#f0f921\"]]}],\"contourcarpet\":[{\"type\":\"contourcarpet\",\"colorbar\":{\"outlinewidth\":0,\"ticks\":\"\"}}],\"contour\":[{\"type\":\"contour\",\"colorbar\":{\"outlinewidth\":0,\"ticks\":\"\"},\"colorscale\":[[0.0,\"#0d0887\"],[0.1111111111111111,\"#46039f\"],[0.2222222222222222,\"#7201a8\"],[0.3333333333333333,\"#9c179e\"],[0.4444444444444444,\"#bd3786\"],[0.5555555555555556,\"#d8576b\"],[0.6666666666666666,\"#ed7953\"],[0.7777777777777778,\"#fb9f3a\"],[0.8888888888888888,\"#fdca26\"],[1.0,\"#f0f921\"]]}],\"surface\":[{\"type\":\"surface\",\"colorbar\":{\"outlinewidth\":0,\"ticks\":\"\"},\"colorscale\":[[0.0,\"#0d0887\"],[0.1111111111111111,\"#46039f\"],[0.2222222222222222,\"#7201a8\"],[0.3333333333333333,\"#9c179e\"],[0.4444444444444444,\"#bd3786\"],[0.5555555555555556,\"#d8576b\"],[0.6666666666666666,\"#ed7953\"],[0.7777777777777778,\"#fb9f3a\"],[0.8888888888888888,\"#fdca26\"],[1.0,\"#f0f921\"]]}],\"mesh3d\":[{\"type\":\"mesh3d\",\"colorbar\":{\"outlinewidth\":0,\"ticks\":\"\"}}],\"scatter\":[{\"fillpattern\":{\"fillmode\":\"overlay\",\"size\":10,\"solidity\":0.2},\"type\":\"scatter\"}],\"parcoords\":[{\"type\":\"parcoords\",\"line\":{\"colorbar\":{\"outlinewidth\":0,\"ticks\":\"\"}}}],\"scatterpolargl\":[{\"type\":\"scatterpolargl\",\"marker\":{\"colorbar\":{\"outlinewidth\":0,\"ticks\":\"\"}}}],\"bar\":[{\"error_x\":{\"color\":\"#2a3f5f\"},\"error_y\":{\"color\":\"#2a3f5f\"},\"marker\":{\"line\":{\"color\":\"#E5ECF6\",\"width\":0.5},\"pattern\":{\"fillmode\":\"overlay\",\"size\":10,\"solidity\":0.2}},\"type\":\"bar\"}],\"scattergeo\":[{\"type\":\"scattergeo\",\"marker\":{\"colorbar\":{\"outlinewidth\":0,\"ticks\":\"\"}}}],\"scatterpolar\":[{\"type\":\"scatterpolar\",\"marker\":{\"colorbar\":{\"outlinewidth\":0,\"ticks\":\"\"}}}],\"histogram\":[{\"marker\":{\"pattern\":{\"fillmode\":\"overlay\",\"size\":10,\"solidity\":0.2}},\"type\":\"histogram\"}],\"scattergl\":[{\"type\":\"scattergl\",\"marker\":{\"colorbar\":{\"outlinewidth\":0,\"ticks\":\"\"}}}],\"scatter3d\":[{\"type\":\"scatter3d\",\"line\":{\"colorbar\":{\"outlinewidth\":0,\"ticks\":\"\"}},\"marker\":{\"colorbar\":{\"outlinewidth\":0,\"ticks\":\"\"}}}],\"scattermapbox\":[{\"type\":\"scattermapbox\",\"marker\":{\"colorbar\":{\"outlinewidth\":0,\"ticks\":\"\"}}}],\"scatterternary\":[{\"type\":\"scatterternary\",\"marker\":{\"colorbar\":{\"outlinewidth\":0,\"ticks\":\"\"}}}],\"scattercarpet\":[{\"type\":\"scattercarpet\",\"marker\":{\"colorbar\":{\"outlinewidth\":0,\"ticks\":\"\"}}}],\"carpet\":[{\"aaxis\":{\"endlinecolor\":\"#2a3f5f\",\"gridcolor\":\"white\",\"linecolor\":\"white\",\"minorgridcolor\":\"white\",\"startlinecolor\":\"#2a3f5f\"},\"baxis\":{\"endlinecolor\":\"#2a3f5f\",\"gridcolor\":\"white\",\"linecolor\":\"white\",\"minorgridcolor\":\"white\",\"startlinecolor\":\"#2a3f5f\"},\"type\":\"carpet\"}],\"table\":[{\"cells\":{\"fill\":{\"color\":\"#EBF0F8\"},\"line\":{\"color\":\"white\"}},\"header\":{\"fill\":{\"color\":\"#C8D4E3\"},\"line\":{\"color\":\"white\"}},\"type\":\"table\"}],\"barpolar\":[{\"marker\":{\"line\":{\"color\":\"#E5ECF6\",\"width\":0.5},\"pattern\":{\"fillmode\":\"overlay\",\"size\":10,\"solidity\":0.2}},\"type\":\"barpolar\"}],\"pie\":[{\"automargin\":true,\"type\":\"pie\"}]},\"layout\":{\"autotypenumbers\":\"strict\",\"colorway\":[\"#636efa\",\"#EF553B\",\"#00cc96\",\"#ab63fa\",\"#FFA15A\",\"#19d3f3\",\"#FF6692\",\"#B6E880\",\"#FF97FF\",\"#FECB52\"],\"font\":{\"color\":\"#2a3f5f\"},\"hovermode\":\"closest\",\"hoverlabel\":{\"align\":\"left\"},\"paper_bgcolor\":\"white\",\"plot_bgcolor\":\"#E5ECF6\",\"polar\":{\"bgcolor\":\"#E5ECF6\",\"angularaxis\":{\"gridcolor\":\"white\",\"linecolor\":\"white\",\"ticks\":\"\"},\"radialaxis\":{\"gridcolor\":\"white\",\"linecolor\":\"white\",\"ticks\":\"\"}},\"ternary\":{\"bgcolor\":\"#E5ECF6\",\"aaxis\":{\"gridcolor\":\"white\",\"linecolor\":\"white\",\"ticks\":\"\"},\"baxis\":{\"gridcolor\":\"white\",\"linecolor\":\"white\",\"ticks\":\"\"},\"caxis\":{\"gridcolor\":\"white\",\"linecolor\":\"white\",\"ticks\":\"\"}},\"coloraxis\":{\"colorbar\":{\"outlinewidth\":0,\"ticks\":\"\"}},\"colorscale\":{\"sequential\":[[0.0,\"#0d0887\"],[0.1111111111111111,\"#46039f\"],[0.2222222222222222,\"#7201a8\"],[0.3333333333333333,\"#9c179e\"],[0.4444444444444444,\"#bd3786\"],[0.5555555555555556,\"#d8576b\"],[0.6666666666666666,\"#ed7953\"],[0.7777777777777778,\"#fb9f3a\"],[0.8888888888888888,\"#fdca26\"],[1.0,\"#f0f921\"]],\"sequentialminus\":[[0.0,\"#0d0887\"],[0.1111111111111111,\"#46039f\"],[0.2222222222222222,\"#7201a8\"],[0.3333333333333333,\"#9c179e\"],[0.4444444444444444,\"#bd3786\"],[0.5555555555555556,\"#d8576b\"],[0.6666666666666666,\"#ed7953\"],[0.7777777777777778,\"#fb9f3a\"],[0.8888888888888888,\"#fdca26\"],[1.0,\"#f0f921\"]],\"diverging\":[[0,\"#8e0152\"],[0.1,\"#c51b7d\"],[0.2,\"#de77ae\"],[0.3,\"#f1b6da\"],[0.4,\"#fde0ef\"],[0.5,\"#f7f7f7\"],[0.6,\"#e6f5d0\"],[0.7,\"#b8e186\"],[0.8,\"#7fbc41\"],[0.9,\"#4d9221\"],[1,\"#276419\"]]},\"xaxis\":{\"gridcolor\":\"white\",\"linecolor\":\"white\",\"ticks\":\"\",\"title\":{\"standoff\":15},\"zerolinecolor\":\"white\",\"automargin\":true,\"zerolinewidth\":2},\"yaxis\":{\"gridcolor\":\"white\",\"linecolor\":\"white\",\"ticks\":\"\",\"title\":{\"standoff\":15},\"zerolinecolor\":\"white\",\"automargin\":true,\"zerolinewidth\":2},\"scene\":{\"xaxis\":{\"backgroundcolor\":\"#E5ECF6\",\"gridcolor\":\"white\",\"linecolor\":\"white\",\"showbackground\":true,\"ticks\":\"\",\"zerolinecolor\":\"white\",\"gridwidth\":2},\"yaxis\":{\"backgroundcolor\":\"#E5ECF6\",\"gridcolor\":\"white\",\"linecolor\":\"white\",\"showbackground\":true,\"ticks\":\"\",\"zerolinecolor\":\"white\",\"gridwidth\":2},\"zaxis\":{\"backgroundcolor\":\"#E5ECF6\",\"gridcolor\":\"white\",\"linecolor\":\"white\",\"showbackground\":true,\"ticks\":\"\",\"zerolinecolor\":\"white\",\"gridwidth\":2}},\"shapedefaults\":{\"line\":{\"color\":\"#2a3f5f\"}},\"annotationdefaults\":{\"arrowcolor\":\"#2a3f5f\",\"arrowhead\":0,\"arrowwidth\":1},\"geo\":{\"bgcolor\":\"white\",\"landcolor\":\"#E5ECF6\",\"subunitcolor\":\"white\",\"showland\":true,\"showlakes\":true,\"lakecolor\":\"white\"},\"title\":{\"x\":0.05},\"mapbox\":{\"style\":\"light\"}}},\"xaxis\":{\"title\":{\"text\":\"Years\"},\"tickmode\":\"linear\",\"tickangle\":-30},\"uniformtext\":{\"minsize\":8,\"mode\":\"show\"},\"title\":{\"text\":\"Kipnapping in India\"},\"yaxis\":{\"title\":{\"text\":\"KIDNAPPING AND ABDUCTION OF WOMEN AND GIRLS\"}}},                        {\"responsive\": true}                    ).then(function(){\n",
       "                            \n",
       "var gd = document.getElementById('b4138762-4e57-41f7-9658-63e9efef2453');\n",
       "var x = new MutationObserver(function (mutations, observer) {{\n",
       "        var display = window.getComputedStyle(gd).display;\n",
       "        if (!display || display === 'none') {{\n",
       "            console.log([gd, 'removed!']);\n",
       "            Plotly.purge(gd);\n",
       "            observer.disconnect();\n",
       "        }}\n",
       "}});\n",
       "\n",
       "// Listen for the removal of the full notebook cells\n",
       "var notebookContainer = gd.closest('#notebook-container');\n",
       "if (notebookContainer) {{\n",
       "    x.observe(notebookContainer, {childList: true});\n",
       "}}\n",
       "\n",
       "// Listen for the clearing of the current output cell\n",
       "var outputEl = gd.closest('.output');\n",
       "if (outputEl) {{\n",
       "    x.observe(outputEl, {childList: true});\n",
       "}}\n",
       "\n",
       "                        })                };                });            </script>        </div>"
      ]
     },
     "metadata": {},
     "output_type": "display_data"
    }
   ],
   "source": [
    "plot_figure(\"Kipnapping in India\",\"KIDNAPPING & ABDUCTION\",\"KIDNAPPING AND ABDUCTION OF WOMEN AND GIRLS\", color=\"#8217a6\")"
   ]
  },
  {
   "cell_type": "code",
   "execution_count": 25,
   "id": "a77ab2d3",
   "metadata": {},
   "outputs": [
    {
     "data": {
      "application/vnd.plotly.v1+json": {
       "config": {
        "plotlyServerURL": "https://plot.ly"
       },
       "data": [
        {
         "marker": {
          "color": "lightsalmon"
         },
         "text": [
          19492,
          20310,
          24650,
          20002,
          19968,
          19932,
          21900,
          24428,
          22018,
          19922,
          17140,
          18346
         ],
         "textposition": "outside",
         "texttemplate": "%{text:.2s}",
         "type": "bar",
         "x": [
          2001,
          2002,
          2003,
          2004,
          2005,
          2006,
          2007,
          2008,
          2009,
          2010,
          2011,
          2012
         ],
         "y": [
          19492,
          20310,
          24650,
          20002,
          19968,
          19932,
          21900,
          24428,
          22018,
          19922,
          17140,
          18346
         ]
        }
       ],
       "layout": {
        "template": {
         "data": {
          "bar": [
           {
            "error_x": {
             "color": "#2a3f5f"
            },
            "error_y": {
             "color": "#2a3f5f"
            },
            "marker": {
             "line": {
              "color": "#E5ECF6",
              "width": 0.5
             },
             "pattern": {
              "fillmode": "overlay",
              "size": 10,
              "solidity": 0.2
             }
            },
            "type": "bar"
           }
          ],
          "barpolar": [
           {
            "marker": {
             "line": {
              "color": "#E5ECF6",
              "width": 0.5
             },
             "pattern": {
              "fillmode": "overlay",
              "size": 10,
              "solidity": 0.2
             }
            },
            "type": "barpolar"
           }
          ],
          "carpet": [
           {
            "aaxis": {
             "endlinecolor": "#2a3f5f",
             "gridcolor": "white",
             "linecolor": "white",
             "minorgridcolor": "white",
             "startlinecolor": "#2a3f5f"
            },
            "baxis": {
             "endlinecolor": "#2a3f5f",
             "gridcolor": "white",
             "linecolor": "white",
             "minorgridcolor": "white",
             "startlinecolor": "#2a3f5f"
            },
            "type": "carpet"
           }
          ],
          "choropleth": [
           {
            "colorbar": {
             "outlinewidth": 0,
             "ticks": ""
            },
            "type": "choropleth"
           }
          ],
          "contour": [
           {
            "colorbar": {
             "outlinewidth": 0,
             "ticks": ""
            },
            "colorscale": [
             [
              0,
              "#0d0887"
             ],
             [
              0.1111111111111111,
              "#46039f"
             ],
             [
              0.2222222222222222,
              "#7201a8"
             ],
             [
              0.3333333333333333,
              "#9c179e"
             ],
             [
              0.4444444444444444,
              "#bd3786"
             ],
             [
              0.5555555555555556,
              "#d8576b"
             ],
             [
              0.6666666666666666,
              "#ed7953"
             ],
             [
              0.7777777777777778,
              "#fb9f3a"
             ],
             [
              0.8888888888888888,
              "#fdca26"
             ],
             [
              1,
              "#f0f921"
             ]
            ],
            "type": "contour"
           }
          ],
          "contourcarpet": [
           {
            "colorbar": {
             "outlinewidth": 0,
             "ticks": ""
            },
            "type": "contourcarpet"
           }
          ],
          "heatmap": [
           {
            "colorbar": {
             "outlinewidth": 0,
             "ticks": ""
            },
            "colorscale": [
             [
              0,
              "#0d0887"
             ],
             [
              0.1111111111111111,
              "#46039f"
             ],
             [
              0.2222222222222222,
              "#7201a8"
             ],
             [
              0.3333333333333333,
              "#9c179e"
             ],
             [
              0.4444444444444444,
              "#bd3786"
             ],
             [
              0.5555555555555556,
              "#d8576b"
             ],
             [
              0.6666666666666666,
              "#ed7953"
             ],
             [
              0.7777777777777778,
              "#fb9f3a"
             ],
             [
              0.8888888888888888,
              "#fdca26"
             ],
             [
              1,
              "#f0f921"
             ]
            ],
            "type": "heatmap"
           }
          ],
          "heatmapgl": [
           {
            "colorbar": {
             "outlinewidth": 0,
             "ticks": ""
            },
            "colorscale": [
             [
              0,
              "#0d0887"
             ],
             [
              0.1111111111111111,
              "#46039f"
             ],
             [
              0.2222222222222222,
              "#7201a8"
             ],
             [
              0.3333333333333333,
              "#9c179e"
             ],
             [
              0.4444444444444444,
              "#bd3786"
             ],
             [
              0.5555555555555556,
              "#d8576b"
             ],
             [
              0.6666666666666666,
              "#ed7953"
             ],
             [
              0.7777777777777778,
              "#fb9f3a"
             ],
             [
              0.8888888888888888,
              "#fdca26"
             ],
             [
              1,
              "#f0f921"
             ]
            ],
            "type": "heatmapgl"
           }
          ],
          "histogram": [
           {
            "marker": {
             "pattern": {
              "fillmode": "overlay",
              "size": 10,
              "solidity": 0.2
             }
            },
            "type": "histogram"
           }
          ],
          "histogram2d": [
           {
            "colorbar": {
             "outlinewidth": 0,
             "ticks": ""
            },
            "colorscale": [
             [
              0,
              "#0d0887"
             ],
             [
              0.1111111111111111,
              "#46039f"
             ],
             [
              0.2222222222222222,
              "#7201a8"
             ],
             [
              0.3333333333333333,
              "#9c179e"
             ],
             [
              0.4444444444444444,
              "#bd3786"
             ],
             [
              0.5555555555555556,
              "#d8576b"
             ],
             [
              0.6666666666666666,
              "#ed7953"
             ],
             [
              0.7777777777777778,
              "#fb9f3a"
             ],
             [
              0.8888888888888888,
              "#fdca26"
             ],
             [
              1,
              "#f0f921"
             ]
            ],
            "type": "histogram2d"
           }
          ],
          "histogram2dcontour": [
           {
            "colorbar": {
             "outlinewidth": 0,
             "ticks": ""
            },
            "colorscale": [
             [
              0,
              "#0d0887"
             ],
             [
              0.1111111111111111,
              "#46039f"
             ],
             [
              0.2222222222222222,
              "#7201a8"
             ],
             [
              0.3333333333333333,
              "#9c179e"
             ],
             [
              0.4444444444444444,
              "#bd3786"
             ],
             [
              0.5555555555555556,
              "#d8576b"
             ],
             [
              0.6666666666666666,
              "#ed7953"
             ],
             [
              0.7777777777777778,
              "#fb9f3a"
             ],
             [
              0.8888888888888888,
              "#fdca26"
             ],
             [
              1,
              "#f0f921"
             ]
            ],
            "type": "histogram2dcontour"
           }
          ],
          "mesh3d": [
           {
            "colorbar": {
             "outlinewidth": 0,
             "ticks": ""
            },
            "type": "mesh3d"
           }
          ],
          "parcoords": [
           {
            "line": {
             "colorbar": {
              "outlinewidth": 0,
              "ticks": ""
             }
            },
            "type": "parcoords"
           }
          ],
          "pie": [
           {
            "automargin": true,
            "type": "pie"
           }
          ],
          "scatter": [
           {
            "fillpattern": {
             "fillmode": "overlay",
             "size": 10,
             "solidity": 0.2
            },
            "type": "scatter"
           }
          ],
          "scatter3d": [
           {
            "line": {
             "colorbar": {
              "outlinewidth": 0,
              "ticks": ""
             }
            },
            "marker": {
             "colorbar": {
              "outlinewidth": 0,
              "ticks": ""
             }
            },
            "type": "scatter3d"
           }
          ],
          "scattercarpet": [
           {
            "marker": {
             "colorbar": {
              "outlinewidth": 0,
              "ticks": ""
             }
            },
            "type": "scattercarpet"
           }
          ],
          "scattergeo": [
           {
            "marker": {
             "colorbar": {
              "outlinewidth": 0,
              "ticks": ""
             }
            },
            "type": "scattergeo"
           }
          ],
          "scattergl": [
           {
            "marker": {
             "colorbar": {
              "outlinewidth": 0,
              "ticks": ""
             }
            },
            "type": "scattergl"
           }
          ],
          "scattermapbox": [
           {
            "marker": {
             "colorbar": {
              "outlinewidth": 0,
              "ticks": ""
             }
            },
            "type": "scattermapbox"
           }
          ],
          "scatterpolar": [
           {
            "marker": {
             "colorbar": {
              "outlinewidth": 0,
              "ticks": ""
             }
            },
            "type": "scatterpolar"
           }
          ],
          "scatterpolargl": [
           {
            "marker": {
             "colorbar": {
              "outlinewidth": 0,
              "ticks": ""
             }
            },
            "type": "scatterpolargl"
           }
          ],
          "scatterternary": [
           {
            "marker": {
             "colorbar": {
              "outlinewidth": 0,
              "ticks": ""
             }
            },
            "type": "scatterternary"
           }
          ],
          "surface": [
           {
            "colorbar": {
             "outlinewidth": 0,
             "ticks": ""
            },
            "colorscale": [
             [
              0,
              "#0d0887"
             ],
             [
              0.1111111111111111,
              "#46039f"
             ],
             [
              0.2222222222222222,
              "#7201a8"
             ],
             [
              0.3333333333333333,
              "#9c179e"
             ],
             [
              0.4444444444444444,
              "#bd3786"
             ],
             [
              0.5555555555555556,
              "#d8576b"
             ],
             [
              0.6666666666666666,
              "#ed7953"
             ],
             [
              0.7777777777777778,
              "#fb9f3a"
             ],
             [
              0.8888888888888888,
              "#fdca26"
             ],
             [
              1,
              "#f0f921"
             ]
            ],
            "type": "surface"
           }
          ],
          "table": [
           {
            "cells": {
             "fill": {
              "color": "#EBF0F8"
             },
             "line": {
              "color": "white"
             }
            },
            "header": {
             "fill": {
              "color": "#C8D4E3"
             },
             "line": {
              "color": "white"
             }
            },
            "type": "table"
           }
          ]
         },
         "layout": {
          "annotationdefaults": {
           "arrowcolor": "#2a3f5f",
           "arrowhead": 0,
           "arrowwidth": 1
          },
          "autotypenumbers": "strict",
          "coloraxis": {
           "colorbar": {
            "outlinewidth": 0,
            "ticks": ""
           }
          },
          "colorscale": {
           "diverging": [
            [
             0,
             "#8e0152"
            ],
            [
             0.1,
             "#c51b7d"
            ],
            [
             0.2,
             "#de77ae"
            ],
            [
             0.3,
             "#f1b6da"
            ],
            [
             0.4,
             "#fde0ef"
            ],
            [
             0.5,
             "#f7f7f7"
            ],
            [
             0.6,
             "#e6f5d0"
            ],
            [
             0.7,
             "#b8e186"
            ],
            [
             0.8,
             "#7fbc41"
            ],
            [
             0.9,
             "#4d9221"
            ],
            [
             1,
             "#276419"
            ]
           ],
           "sequential": [
            [
             0,
             "#0d0887"
            ],
            [
             0.1111111111111111,
             "#46039f"
            ],
            [
             0.2222222222222222,
             "#7201a8"
            ],
            [
             0.3333333333333333,
             "#9c179e"
            ],
            [
             0.4444444444444444,
             "#bd3786"
            ],
            [
             0.5555555555555556,
             "#d8576b"
            ],
            [
             0.6666666666666666,
             "#ed7953"
            ],
            [
             0.7777777777777778,
             "#fb9f3a"
            ],
            [
             0.8888888888888888,
             "#fdca26"
            ],
            [
             1,
             "#f0f921"
            ]
           ],
           "sequentialminus": [
            [
             0,
             "#0d0887"
            ],
            [
             0.1111111111111111,
             "#46039f"
            ],
            [
             0.2222222222222222,
             "#7201a8"
            ],
            [
             0.3333333333333333,
             "#9c179e"
            ],
            [
             0.4444444444444444,
             "#bd3786"
            ],
            [
             0.5555555555555556,
             "#d8576b"
            ],
            [
             0.6666666666666666,
             "#ed7953"
            ],
            [
             0.7777777777777778,
             "#fb9f3a"
            ],
            [
             0.8888888888888888,
             "#fdca26"
            ],
            [
             1,
             "#f0f921"
            ]
           ]
          },
          "colorway": [
           "#636efa",
           "#EF553B",
           "#00cc96",
           "#ab63fa",
           "#FFA15A",
           "#19d3f3",
           "#FF6692",
           "#B6E880",
           "#FF97FF",
           "#FECB52"
          ],
          "font": {
           "color": "#2a3f5f"
          },
          "geo": {
           "bgcolor": "white",
           "lakecolor": "white",
           "landcolor": "#E5ECF6",
           "showlakes": true,
           "showland": true,
           "subunitcolor": "white"
          },
          "hoverlabel": {
           "align": "left"
          },
          "hovermode": "closest",
          "mapbox": {
           "style": "light"
          },
          "paper_bgcolor": "white",
          "plot_bgcolor": "#E5ECF6",
          "polar": {
           "angularaxis": {
            "gridcolor": "white",
            "linecolor": "white",
            "ticks": ""
           },
           "bgcolor": "#E5ECF6",
           "radialaxis": {
            "gridcolor": "white",
            "linecolor": "white",
            "ticks": ""
           }
          },
          "scene": {
           "xaxis": {
            "backgroundcolor": "#E5ECF6",
            "gridcolor": "white",
            "gridwidth": 2,
            "linecolor": "white",
            "showbackground": true,
            "ticks": "",
            "zerolinecolor": "white"
           },
           "yaxis": {
            "backgroundcolor": "#E5ECF6",
            "gridcolor": "white",
            "gridwidth": 2,
            "linecolor": "white",
            "showbackground": true,
            "ticks": "",
            "zerolinecolor": "white"
           },
           "zaxis": {
            "backgroundcolor": "#E5ECF6",
            "gridcolor": "white",
            "gridwidth": 2,
            "linecolor": "white",
            "showbackground": true,
            "ticks": "",
            "zerolinecolor": "white"
           }
          },
          "shapedefaults": {
           "line": {
            "color": "#2a3f5f"
           }
          },
          "ternary": {
           "aaxis": {
            "gridcolor": "white",
            "linecolor": "white",
            "ticks": ""
           },
           "baxis": {
            "gridcolor": "white",
            "linecolor": "white",
            "ticks": ""
           },
           "bgcolor": "#E5ECF6",
           "caxis": {
            "gridcolor": "white",
            "linecolor": "white",
            "ticks": ""
           }
          },
          "title": {
           "x": 0.05
          },
          "xaxis": {
           "automargin": true,
           "gridcolor": "white",
           "linecolor": "white",
           "ticks": "",
           "title": {
            "standoff": 15
           },
           "zerolinecolor": "white",
           "zerolinewidth": 2
          },
          "yaxis": {
           "automargin": true,
           "gridcolor": "white",
           "linecolor": "white",
           "ticks": "",
           "title": {
            "standoff": 15
           },
           "zerolinecolor": "white",
           "zerolinewidth": 2
          }
         }
        },
        "title": {
         "text": "Domestic Violence cases in India"
        },
        "uniformtext": {
         "minsize": 8,
         "mode": "show"
        },
        "xaxis": {
         "tickangle": -30,
         "tickmode": "linear",
         "title": {
          "text": "Years"
         }
        },
        "yaxis": {
         "title": {
          "text": "CRUELTY BY HUSBAND OR HIS RELATIVES"
         }
        }
       }
      },
      "text/html": [
       "<div>                            <div id=\"96f9746d-2c2c-449d-a907-1657a796e540\" class=\"plotly-graph-div\" style=\"height:525px; width:100%;\"></div>            <script type=\"text/javascript\">                require([\"plotly\"], function(Plotly) {                    window.PLOTLYENV=window.PLOTLYENV || {};                                    if (document.getElementById(\"96f9746d-2c2c-449d-a907-1657a796e540\")) {                    Plotly.newPlot(                        \"96f9746d-2c2c-449d-a907-1657a796e540\",                        [{\"text\":[19492.0,20310.0,24650.0,20002.0,19968.0,19932.0,21900.0,24428.0,22018.0,19922.0,17140.0,18346.0],\"x\":[2001,2002,2003,2004,2005,2006,2007,2008,2009,2010,2011,2012],\"y\":[19492,20310,24650,20002,19968,19932,21900,24428,22018,19922,17140,18346],\"type\":\"bar\",\"marker\":{\"color\":\"lightsalmon\"},\"textposition\":\"outside\",\"texttemplate\":\"%{text:.2s}\"}],                        {\"template\":{\"data\":{\"histogram2dcontour\":[{\"type\":\"histogram2dcontour\",\"colorbar\":{\"outlinewidth\":0,\"ticks\":\"\"},\"colorscale\":[[0.0,\"#0d0887\"],[0.1111111111111111,\"#46039f\"],[0.2222222222222222,\"#7201a8\"],[0.3333333333333333,\"#9c179e\"],[0.4444444444444444,\"#bd3786\"],[0.5555555555555556,\"#d8576b\"],[0.6666666666666666,\"#ed7953\"],[0.7777777777777778,\"#fb9f3a\"],[0.8888888888888888,\"#fdca26\"],[1.0,\"#f0f921\"]]}],\"choropleth\":[{\"type\":\"choropleth\",\"colorbar\":{\"outlinewidth\":0,\"ticks\":\"\"}}],\"histogram2d\":[{\"type\":\"histogram2d\",\"colorbar\":{\"outlinewidth\":0,\"ticks\":\"\"},\"colorscale\":[[0.0,\"#0d0887\"],[0.1111111111111111,\"#46039f\"],[0.2222222222222222,\"#7201a8\"],[0.3333333333333333,\"#9c179e\"],[0.4444444444444444,\"#bd3786\"],[0.5555555555555556,\"#d8576b\"],[0.6666666666666666,\"#ed7953\"],[0.7777777777777778,\"#fb9f3a\"],[0.8888888888888888,\"#fdca26\"],[1.0,\"#f0f921\"]]}],\"heatmap\":[{\"type\":\"heatmap\",\"colorbar\":{\"outlinewidth\":0,\"ticks\":\"\"},\"colorscale\":[[0.0,\"#0d0887\"],[0.1111111111111111,\"#46039f\"],[0.2222222222222222,\"#7201a8\"],[0.3333333333333333,\"#9c179e\"],[0.4444444444444444,\"#bd3786\"],[0.5555555555555556,\"#d8576b\"],[0.6666666666666666,\"#ed7953\"],[0.7777777777777778,\"#fb9f3a\"],[0.8888888888888888,\"#fdca26\"],[1.0,\"#f0f921\"]]}],\"heatmapgl\":[{\"type\":\"heatmapgl\",\"colorbar\":{\"outlinewidth\":0,\"ticks\":\"\"},\"colorscale\":[[0.0,\"#0d0887\"],[0.1111111111111111,\"#46039f\"],[0.2222222222222222,\"#7201a8\"],[0.3333333333333333,\"#9c179e\"],[0.4444444444444444,\"#bd3786\"],[0.5555555555555556,\"#d8576b\"],[0.6666666666666666,\"#ed7953\"],[0.7777777777777778,\"#fb9f3a\"],[0.8888888888888888,\"#fdca26\"],[1.0,\"#f0f921\"]]}],\"contourcarpet\":[{\"type\":\"contourcarpet\",\"colorbar\":{\"outlinewidth\":0,\"ticks\":\"\"}}],\"contour\":[{\"type\":\"contour\",\"colorbar\":{\"outlinewidth\":0,\"ticks\":\"\"},\"colorscale\":[[0.0,\"#0d0887\"],[0.1111111111111111,\"#46039f\"],[0.2222222222222222,\"#7201a8\"],[0.3333333333333333,\"#9c179e\"],[0.4444444444444444,\"#bd3786\"],[0.5555555555555556,\"#d8576b\"],[0.6666666666666666,\"#ed7953\"],[0.7777777777777778,\"#fb9f3a\"],[0.8888888888888888,\"#fdca26\"],[1.0,\"#f0f921\"]]}],\"surface\":[{\"type\":\"surface\",\"colorbar\":{\"outlinewidth\":0,\"ticks\":\"\"},\"colorscale\":[[0.0,\"#0d0887\"],[0.1111111111111111,\"#46039f\"],[0.2222222222222222,\"#7201a8\"],[0.3333333333333333,\"#9c179e\"],[0.4444444444444444,\"#bd3786\"],[0.5555555555555556,\"#d8576b\"],[0.6666666666666666,\"#ed7953\"],[0.7777777777777778,\"#fb9f3a\"],[0.8888888888888888,\"#fdca26\"],[1.0,\"#f0f921\"]]}],\"mesh3d\":[{\"type\":\"mesh3d\",\"colorbar\":{\"outlinewidth\":0,\"ticks\":\"\"}}],\"scatter\":[{\"fillpattern\":{\"fillmode\":\"overlay\",\"size\":10,\"solidity\":0.2},\"type\":\"scatter\"}],\"parcoords\":[{\"type\":\"parcoords\",\"line\":{\"colorbar\":{\"outlinewidth\":0,\"ticks\":\"\"}}}],\"scatterpolargl\":[{\"type\":\"scatterpolargl\",\"marker\":{\"colorbar\":{\"outlinewidth\":0,\"ticks\":\"\"}}}],\"bar\":[{\"error_x\":{\"color\":\"#2a3f5f\"},\"error_y\":{\"color\":\"#2a3f5f\"},\"marker\":{\"line\":{\"color\":\"#E5ECF6\",\"width\":0.5},\"pattern\":{\"fillmode\":\"overlay\",\"size\":10,\"solidity\":0.2}},\"type\":\"bar\"}],\"scattergeo\":[{\"type\":\"scattergeo\",\"marker\":{\"colorbar\":{\"outlinewidth\":0,\"ticks\":\"\"}}}],\"scatterpolar\":[{\"type\":\"scatterpolar\",\"marker\":{\"colorbar\":{\"outlinewidth\":0,\"ticks\":\"\"}}}],\"histogram\":[{\"marker\":{\"pattern\":{\"fillmode\":\"overlay\",\"size\":10,\"solidity\":0.2}},\"type\":\"histogram\"}],\"scattergl\":[{\"type\":\"scattergl\",\"marker\":{\"colorbar\":{\"outlinewidth\":0,\"ticks\":\"\"}}}],\"scatter3d\":[{\"type\":\"scatter3d\",\"line\":{\"colorbar\":{\"outlinewidth\":0,\"ticks\":\"\"}},\"marker\":{\"colorbar\":{\"outlinewidth\":0,\"ticks\":\"\"}}}],\"scattermapbox\":[{\"type\":\"scattermapbox\",\"marker\":{\"colorbar\":{\"outlinewidth\":0,\"ticks\":\"\"}}}],\"scatterternary\":[{\"type\":\"scatterternary\",\"marker\":{\"colorbar\":{\"outlinewidth\":0,\"ticks\":\"\"}}}],\"scattercarpet\":[{\"type\":\"scattercarpet\",\"marker\":{\"colorbar\":{\"outlinewidth\":0,\"ticks\":\"\"}}}],\"carpet\":[{\"aaxis\":{\"endlinecolor\":\"#2a3f5f\",\"gridcolor\":\"white\",\"linecolor\":\"white\",\"minorgridcolor\":\"white\",\"startlinecolor\":\"#2a3f5f\"},\"baxis\":{\"endlinecolor\":\"#2a3f5f\",\"gridcolor\":\"white\",\"linecolor\":\"white\",\"minorgridcolor\":\"white\",\"startlinecolor\":\"#2a3f5f\"},\"type\":\"carpet\"}],\"table\":[{\"cells\":{\"fill\":{\"color\":\"#EBF0F8\"},\"line\":{\"color\":\"white\"}},\"header\":{\"fill\":{\"color\":\"#C8D4E3\"},\"line\":{\"color\":\"white\"}},\"type\":\"table\"}],\"barpolar\":[{\"marker\":{\"line\":{\"color\":\"#E5ECF6\",\"width\":0.5},\"pattern\":{\"fillmode\":\"overlay\",\"size\":10,\"solidity\":0.2}},\"type\":\"barpolar\"}],\"pie\":[{\"automargin\":true,\"type\":\"pie\"}]},\"layout\":{\"autotypenumbers\":\"strict\",\"colorway\":[\"#636efa\",\"#EF553B\",\"#00cc96\",\"#ab63fa\",\"#FFA15A\",\"#19d3f3\",\"#FF6692\",\"#B6E880\",\"#FF97FF\",\"#FECB52\"],\"font\":{\"color\":\"#2a3f5f\"},\"hovermode\":\"closest\",\"hoverlabel\":{\"align\":\"left\"},\"paper_bgcolor\":\"white\",\"plot_bgcolor\":\"#E5ECF6\",\"polar\":{\"bgcolor\":\"#E5ECF6\",\"angularaxis\":{\"gridcolor\":\"white\",\"linecolor\":\"white\",\"ticks\":\"\"},\"radialaxis\":{\"gridcolor\":\"white\",\"linecolor\":\"white\",\"ticks\":\"\"}},\"ternary\":{\"bgcolor\":\"#E5ECF6\",\"aaxis\":{\"gridcolor\":\"white\",\"linecolor\":\"white\",\"ticks\":\"\"},\"baxis\":{\"gridcolor\":\"white\",\"linecolor\":\"white\",\"ticks\":\"\"},\"caxis\":{\"gridcolor\":\"white\",\"linecolor\":\"white\",\"ticks\":\"\"}},\"coloraxis\":{\"colorbar\":{\"outlinewidth\":0,\"ticks\":\"\"}},\"colorscale\":{\"sequential\":[[0.0,\"#0d0887\"],[0.1111111111111111,\"#46039f\"],[0.2222222222222222,\"#7201a8\"],[0.3333333333333333,\"#9c179e\"],[0.4444444444444444,\"#bd3786\"],[0.5555555555555556,\"#d8576b\"],[0.6666666666666666,\"#ed7953\"],[0.7777777777777778,\"#fb9f3a\"],[0.8888888888888888,\"#fdca26\"],[1.0,\"#f0f921\"]],\"sequentialminus\":[[0.0,\"#0d0887\"],[0.1111111111111111,\"#46039f\"],[0.2222222222222222,\"#7201a8\"],[0.3333333333333333,\"#9c179e\"],[0.4444444444444444,\"#bd3786\"],[0.5555555555555556,\"#d8576b\"],[0.6666666666666666,\"#ed7953\"],[0.7777777777777778,\"#fb9f3a\"],[0.8888888888888888,\"#fdca26\"],[1.0,\"#f0f921\"]],\"diverging\":[[0,\"#8e0152\"],[0.1,\"#c51b7d\"],[0.2,\"#de77ae\"],[0.3,\"#f1b6da\"],[0.4,\"#fde0ef\"],[0.5,\"#f7f7f7\"],[0.6,\"#e6f5d0\"],[0.7,\"#b8e186\"],[0.8,\"#7fbc41\"],[0.9,\"#4d9221\"],[1,\"#276419\"]]},\"xaxis\":{\"gridcolor\":\"white\",\"linecolor\":\"white\",\"ticks\":\"\",\"title\":{\"standoff\":15},\"zerolinecolor\":\"white\",\"automargin\":true,\"zerolinewidth\":2},\"yaxis\":{\"gridcolor\":\"white\",\"linecolor\":\"white\",\"ticks\":\"\",\"title\":{\"standoff\":15},\"zerolinecolor\":\"white\",\"automargin\":true,\"zerolinewidth\":2},\"scene\":{\"xaxis\":{\"backgroundcolor\":\"#E5ECF6\",\"gridcolor\":\"white\",\"linecolor\":\"white\",\"showbackground\":true,\"ticks\":\"\",\"zerolinecolor\":\"white\",\"gridwidth\":2},\"yaxis\":{\"backgroundcolor\":\"#E5ECF6\",\"gridcolor\":\"white\",\"linecolor\":\"white\",\"showbackground\":true,\"ticks\":\"\",\"zerolinecolor\":\"white\",\"gridwidth\":2},\"zaxis\":{\"backgroundcolor\":\"#E5ECF6\",\"gridcolor\":\"white\",\"linecolor\":\"white\",\"showbackground\":true,\"ticks\":\"\",\"zerolinecolor\":\"white\",\"gridwidth\":2}},\"shapedefaults\":{\"line\":{\"color\":\"#2a3f5f\"}},\"annotationdefaults\":{\"arrowcolor\":\"#2a3f5f\",\"arrowhead\":0,\"arrowwidth\":1},\"geo\":{\"bgcolor\":\"white\",\"landcolor\":\"#E5ECF6\",\"subunitcolor\":\"white\",\"showland\":true,\"showlakes\":true,\"lakecolor\":\"white\"},\"title\":{\"x\":0.05},\"mapbox\":{\"style\":\"light\"}}},\"xaxis\":{\"title\":{\"text\":\"Years\"},\"tickmode\":\"linear\",\"tickangle\":-30},\"uniformtext\":{\"minsize\":8,\"mode\":\"show\"},\"title\":{\"text\":\"Domestic Violence cases in India\"},\"yaxis\":{\"title\":{\"text\":\"CRUELTY BY HUSBAND OR HIS RELATIVES\"}}},                        {\"responsive\": true}                    ).then(function(){\n",
       "                            \n",
       "var gd = document.getElementById('96f9746d-2c2c-449d-a907-1657a796e540');\n",
       "var x = new MutationObserver(function (mutations, observer) {{\n",
       "        var display = window.getComputedStyle(gd).display;\n",
       "        if (!display || display === 'none') {{\n",
       "            console.log([gd, 'removed!']);\n",
       "            Plotly.purge(gd);\n",
       "            observer.disconnect();\n",
       "        }}\n",
       "}});\n",
       "\n",
       "// Listen for the removal of the full notebook cells\n",
       "var notebookContainer = gd.closest('#notebook-container');\n",
       "if (notebookContainer) {{\n",
       "    x.observe(notebookContainer, {childList: true});\n",
       "}}\n",
       "\n",
       "// Listen for the clearing of the current output cell\n",
       "var outputEl = gd.closest('.output');\n",
       "if (outputEl) {{\n",
       "    x.observe(outputEl, {childList: true});\n",
       "}}\n",
       "\n",
       "                        })                };                });            </script>        </div>"
      ]
     },
     "metadata": {},
     "output_type": "display_data"
    }
   ],
   "source": [
    "plot_figure(\"Domestic Violence cases in India\",\"INSULT TO MODESTY OF WOMEN\",\"CRUELTY BY HUSBAND OR HIS RELATIVES\", color='lightsalmon')"
   ]
  },
  {
   "cell_type": "code",
   "execution_count": 26,
   "id": "f0a5702c",
   "metadata": {},
   "outputs": [
    {
     "data": {
      "application/vnd.plotly.v1+json": {
       "config": {
        "plotlyServerURL": "https://plot.ly"
       },
       "data": [
        {
         "text": [
          7661963,
          7694692,
          7428635,
          7959254,
          7921017,
          8150564,
          8627381,
          9112502,
          9246293,
          9683182,
          10123651,
          10370608
         ],
         "type": "scatter",
         "x": [
          2001,
          2002,
          2003,
          2004,
          2005,
          2006,
          2007,
          2008,
          2009,
          2010,
          2011,
          2012
         ],
         "y": [
          7661963,
          7694692,
          7428635,
          7959254,
          7921017,
          8150564,
          8627381,
          9112502,
          9246293,
          9683182,
          10123651,
          10370608
         ]
        }
       ],
       "layout": {
        "template": {
         "data": {
          "bar": [
           {
            "error_x": {
             "color": "#2a3f5f"
            },
            "error_y": {
             "color": "#2a3f5f"
            },
            "marker": {
             "line": {
              "color": "#E5ECF6",
              "width": 0.5
             },
             "pattern": {
              "fillmode": "overlay",
              "size": 10,
              "solidity": 0.2
             }
            },
            "type": "bar"
           }
          ],
          "barpolar": [
           {
            "marker": {
             "line": {
              "color": "#E5ECF6",
              "width": 0.5
             },
             "pattern": {
              "fillmode": "overlay",
              "size": 10,
              "solidity": 0.2
             }
            },
            "type": "barpolar"
           }
          ],
          "carpet": [
           {
            "aaxis": {
             "endlinecolor": "#2a3f5f",
             "gridcolor": "white",
             "linecolor": "white",
             "minorgridcolor": "white",
             "startlinecolor": "#2a3f5f"
            },
            "baxis": {
             "endlinecolor": "#2a3f5f",
             "gridcolor": "white",
             "linecolor": "white",
             "minorgridcolor": "white",
             "startlinecolor": "#2a3f5f"
            },
            "type": "carpet"
           }
          ],
          "choropleth": [
           {
            "colorbar": {
             "outlinewidth": 0,
             "ticks": ""
            },
            "type": "choropleth"
           }
          ],
          "contour": [
           {
            "colorbar": {
             "outlinewidth": 0,
             "ticks": ""
            },
            "colorscale": [
             [
              0,
              "#0d0887"
             ],
             [
              0.1111111111111111,
              "#46039f"
             ],
             [
              0.2222222222222222,
              "#7201a8"
             ],
             [
              0.3333333333333333,
              "#9c179e"
             ],
             [
              0.4444444444444444,
              "#bd3786"
             ],
             [
              0.5555555555555556,
              "#d8576b"
             ],
             [
              0.6666666666666666,
              "#ed7953"
             ],
             [
              0.7777777777777778,
              "#fb9f3a"
             ],
             [
              0.8888888888888888,
              "#fdca26"
             ],
             [
              1,
              "#f0f921"
             ]
            ],
            "type": "contour"
           }
          ],
          "contourcarpet": [
           {
            "colorbar": {
             "outlinewidth": 0,
             "ticks": ""
            },
            "type": "contourcarpet"
           }
          ],
          "heatmap": [
           {
            "colorbar": {
             "outlinewidth": 0,
             "ticks": ""
            },
            "colorscale": [
             [
              0,
              "#0d0887"
             ],
             [
              0.1111111111111111,
              "#46039f"
             ],
             [
              0.2222222222222222,
              "#7201a8"
             ],
             [
              0.3333333333333333,
              "#9c179e"
             ],
             [
              0.4444444444444444,
              "#bd3786"
             ],
             [
              0.5555555555555556,
              "#d8576b"
             ],
             [
              0.6666666666666666,
              "#ed7953"
             ],
             [
              0.7777777777777778,
              "#fb9f3a"
             ],
             [
              0.8888888888888888,
              "#fdca26"
             ],
             [
              1,
              "#f0f921"
             ]
            ],
            "type": "heatmap"
           }
          ],
          "heatmapgl": [
           {
            "colorbar": {
             "outlinewidth": 0,
             "ticks": ""
            },
            "colorscale": [
             [
              0,
              "#0d0887"
             ],
             [
              0.1111111111111111,
              "#46039f"
             ],
             [
              0.2222222222222222,
              "#7201a8"
             ],
             [
              0.3333333333333333,
              "#9c179e"
             ],
             [
              0.4444444444444444,
              "#bd3786"
             ],
             [
              0.5555555555555556,
              "#d8576b"
             ],
             [
              0.6666666666666666,
              "#ed7953"
             ],
             [
              0.7777777777777778,
              "#fb9f3a"
             ],
             [
              0.8888888888888888,
              "#fdca26"
             ],
             [
              1,
              "#f0f921"
             ]
            ],
            "type": "heatmapgl"
           }
          ],
          "histogram": [
           {
            "marker": {
             "pattern": {
              "fillmode": "overlay",
              "size": 10,
              "solidity": 0.2
             }
            },
            "type": "histogram"
           }
          ],
          "histogram2d": [
           {
            "colorbar": {
             "outlinewidth": 0,
             "ticks": ""
            },
            "colorscale": [
             [
              0,
              "#0d0887"
             ],
             [
              0.1111111111111111,
              "#46039f"
             ],
             [
              0.2222222222222222,
              "#7201a8"
             ],
             [
              0.3333333333333333,
              "#9c179e"
             ],
             [
              0.4444444444444444,
              "#bd3786"
             ],
             [
              0.5555555555555556,
              "#d8576b"
             ],
             [
              0.6666666666666666,
              "#ed7953"
             ],
             [
              0.7777777777777778,
              "#fb9f3a"
             ],
             [
              0.8888888888888888,
              "#fdca26"
             ],
             [
              1,
              "#f0f921"
             ]
            ],
            "type": "histogram2d"
           }
          ],
          "histogram2dcontour": [
           {
            "colorbar": {
             "outlinewidth": 0,
             "ticks": ""
            },
            "colorscale": [
             [
              0,
              "#0d0887"
             ],
             [
              0.1111111111111111,
              "#46039f"
             ],
             [
              0.2222222222222222,
              "#7201a8"
             ],
             [
              0.3333333333333333,
              "#9c179e"
             ],
             [
              0.4444444444444444,
              "#bd3786"
             ],
             [
              0.5555555555555556,
              "#d8576b"
             ],
             [
              0.6666666666666666,
              "#ed7953"
             ],
             [
              0.7777777777777778,
              "#fb9f3a"
             ],
             [
              0.8888888888888888,
              "#fdca26"
             ],
             [
              1,
              "#f0f921"
             ]
            ],
            "type": "histogram2dcontour"
           }
          ],
          "mesh3d": [
           {
            "colorbar": {
             "outlinewidth": 0,
             "ticks": ""
            },
            "type": "mesh3d"
           }
          ],
          "parcoords": [
           {
            "line": {
             "colorbar": {
              "outlinewidth": 0,
              "ticks": ""
             }
            },
            "type": "parcoords"
           }
          ],
          "pie": [
           {
            "automargin": true,
            "type": "pie"
           }
          ],
          "scatter": [
           {
            "fillpattern": {
             "fillmode": "overlay",
             "size": 10,
             "solidity": 0.2
            },
            "type": "scatter"
           }
          ],
          "scatter3d": [
           {
            "line": {
             "colorbar": {
              "outlinewidth": 0,
              "ticks": ""
             }
            },
            "marker": {
             "colorbar": {
              "outlinewidth": 0,
              "ticks": ""
             }
            },
            "type": "scatter3d"
           }
          ],
          "scattercarpet": [
           {
            "marker": {
             "colorbar": {
              "outlinewidth": 0,
              "ticks": ""
             }
            },
            "type": "scattercarpet"
           }
          ],
          "scattergeo": [
           {
            "marker": {
             "colorbar": {
              "outlinewidth": 0,
              "ticks": ""
             }
            },
            "type": "scattergeo"
           }
          ],
          "scattergl": [
           {
            "marker": {
             "colorbar": {
              "outlinewidth": 0,
              "ticks": ""
             }
            },
            "type": "scattergl"
           }
          ],
          "scattermapbox": [
           {
            "marker": {
             "colorbar": {
              "outlinewidth": 0,
              "ticks": ""
             }
            },
            "type": "scattermapbox"
           }
          ],
          "scatterpolar": [
           {
            "marker": {
             "colorbar": {
              "outlinewidth": 0,
              "ticks": ""
             }
            },
            "type": "scatterpolar"
           }
          ],
          "scatterpolargl": [
           {
            "marker": {
             "colorbar": {
              "outlinewidth": 0,
              "ticks": ""
             }
            },
            "type": "scatterpolargl"
           }
          ],
          "scatterternary": [
           {
            "marker": {
             "colorbar": {
              "outlinewidth": 0,
              "ticks": ""
             }
            },
            "type": "scatterternary"
           }
          ],
          "surface": [
           {
            "colorbar": {
             "outlinewidth": 0,
             "ticks": ""
            },
            "colorscale": [
             [
              0,
              "#0d0887"
             ],
             [
              0.1111111111111111,
              "#46039f"
             ],
             [
              0.2222222222222222,
              "#7201a8"
             ],
             [
              0.3333333333333333,
              "#9c179e"
             ],
             [
              0.4444444444444444,
              "#bd3786"
             ],
             [
              0.5555555555555556,
              "#d8576b"
             ],
             [
              0.6666666666666666,
              "#ed7953"
             ],
             [
              0.7777777777777778,
              "#fb9f3a"
             ],
             [
              0.8888888888888888,
              "#fdca26"
             ],
             [
              1,
              "#f0f921"
             ]
            ],
            "type": "surface"
           }
          ],
          "table": [
           {
            "cells": {
             "fill": {
              "color": "#EBF0F8"
             },
             "line": {
              "color": "white"
             }
            },
            "header": {
             "fill": {
              "color": "#C8D4E3"
             },
             "line": {
              "color": "white"
             }
            },
            "type": "table"
           }
          ]
         },
         "layout": {
          "annotationdefaults": {
           "arrowcolor": "#2a3f5f",
           "arrowhead": 0,
           "arrowwidth": 1
          },
          "autotypenumbers": "strict",
          "coloraxis": {
           "colorbar": {
            "outlinewidth": 0,
            "ticks": ""
           }
          },
          "colorscale": {
           "diverging": [
            [
             0,
             "#8e0152"
            ],
            [
             0.1,
             "#c51b7d"
            ],
            [
             0.2,
             "#de77ae"
            ],
            [
             0.3,
             "#f1b6da"
            ],
            [
             0.4,
             "#fde0ef"
            ],
            [
             0.5,
             "#f7f7f7"
            ],
            [
             0.6,
             "#e6f5d0"
            ],
            [
             0.7,
             "#b8e186"
            ],
            [
             0.8,
             "#7fbc41"
            ],
            [
             0.9,
             "#4d9221"
            ],
            [
             1,
             "#276419"
            ]
           ],
           "sequential": [
            [
             0,
             "#0d0887"
            ],
            [
             0.1111111111111111,
             "#46039f"
            ],
            [
             0.2222222222222222,
             "#7201a8"
            ],
            [
             0.3333333333333333,
             "#9c179e"
            ],
            [
             0.4444444444444444,
             "#bd3786"
            ],
            [
             0.5555555555555556,
             "#d8576b"
            ],
            [
             0.6666666666666666,
             "#ed7953"
            ],
            [
             0.7777777777777778,
             "#fb9f3a"
            ],
            [
             0.8888888888888888,
             "#fdca26"
            ],
            [
             1,
             "#f0f921"
            ]
           ],
           "sequentialminus": [
            [
             0,
             "#0d0887"
            ],
            [
             0.1111111111111111,
             "#46039f"
            ],
            [
             0.2222222222222222,
             "#7201a8"
            ],
            [
             0.3333333333333333,
             "#9c179e"
            ],
            [
             0.4444444444444444,
             "#bd3786"
            ],
            [
             0.5555555555555556,
             "#d8576b"
            ],
            [
             0.6666666666666666,
             "#ed7953"
            ],
            [
             0.7777777777777778,
             "#fb9f3a"
            ],
            [
             0.8888888888888888,
             "#fdca26"
            ],
            [
             1,
             "#f0f921"
            ]
           ]
          },
          "colorway": [
           "#636efa",
           "#EF553B",
           "#00cc96",
           "#ab63fa",
           "#FFA15A",
           "#19d3f3",
           "#FF6692",
           "#B6E880",
           "#FF97FF",
           "#FECB52"
          ],
          "font": {
           "color": "#2a3f5f"
          },
          "geo": {
           "bgcolor": "white",
           "lakecolor": "white",
           "landcolor": "#E5ECF6",
           "showlakes": true,
           "showland": true,
           "subunitcolor": "white"
          },
          "hoverlabel": {
           "align": "left"
          },
          "hovermode": "closest",
          "mapbox": {
           "style": "light"
          },
          "paper_bgcolor": "white",
          "plot_bgcolor": "#E5ECF6",
          "polar": {
           "angularaxis": {
            "gridcolor": "white",
            "linecolor": "white",
            "ticks": ""
           },
           "bgcolor": "#E5ECF6",
           "radialaxis": {
            "gridcolor": "white",
            "linecolor": "white",
            "ticks": ""
           }
          },
          "scene": {
           "xaxis": {
            "backgroundcolor": "#E5ECF6",
            "gridcolor": "white",
            "gridwidth": 2,
            "linecolor": "white",
            "showbackground": true,
            "ticks": "",
            "zerolinecolor": "white"
           },
           "yaxis": {
            "backgroundcolor": "#E5ECF6",
            "gridcolor": "white",
            "gridwidth": 2,
            "linecolor": "white",
            "showbackground": true,
            "ticks": "",
            "zerolinecolor": "white"
           },
           "zaxis": {
            "backgroundcolor": "#E5ECF6",
            "gridcolor": "white",
            "gridwidth": 2,
            "linecolor": "white",
            "showbackground": true,
            "ticks": "",
            "zerolinecolor": "white"
           }
          },
          "shapedefaults": {
           "line": {
            "color": "#2a3f5f"
           }
          },
          "ternary": {
           "aaxis": {
            "gridcolor": "white",
            "linecolor": "white",
            "ticks": ""
           },
           "baxis": {
            "gridcolor": "white",
            "linecolor": "white",
            "ticks": ""
           },
           "bgcolor": "#E5ECF6",
           "caxis": {
            "gridcolor": "white",
            "linecolor": "white",
            "ticks": ""
           }
          },
          "title": {
           "x": 0.05
          },
          "xaxis": {
           "automargin": true,
           "gridcolor": "white",
           "linecolor": "white",
           "ticks": "",
           "title": {
            "standoff": 15
           },
           "zerolinecolor": "white",
           "zerolinewidth": 2
          },
          "yaxis": {
           "automargin": true,
           "gridcolor": "white",
           "linecolor": "white",
           "ticks": "",
           "title": {
            "standoff": 15
           },
           "zerolinecolor": "white",
           "zerolinewidth": 2
          }
         }
        },
        "title": {
         "text": "Year wise crime against women in India(including States & UT)"
        },
        "uniformtext": {
         "minsize": 8,
         "mode": "show"
        },
        "xaxis": {
         "tickangle": -30,
         "tickmode": "linear",
         "title": {
          "text": "Years"
         }
        },
        "yaxis": {
         "tickformat": "s",
         "title": {
          "text": "Cases"
         }
        }
       }
      },
      "text/html": [
       "<div>                            <div id=\"7ae45185-a1c3-461d-bfcf-bb092bed49f5\" class=\"plotly-graph-div\" style=\"height:525px; width:100%;\"></div>            <script type=\"text/javascript\">                require([\"plotly\"], function(Plotly) {                    window.PLOTLYENV=window.PLOTLYENV || {};                                    if (document.getElementById(\"7ae45185-a1c3-461d-bfcf-bb092bed49f5\")) {                    Plotly.newPlot(                        \"7ae45185-a1c3-461d-bfcf-bb092bed49f5\",                        [{\"text\":[7661963.0,7694692.0,7428635.0,7959254.0,7921017.0,8150564.0,8627381.0,9112502.0,9246293.0,9683182.0,10123651.0,10370608.0],\"x\":[2001,2002,2003,2004,2005,2006,2007,2008,2009,2010,2011,2012],\"y\":[7661963,7694692,7428635,7959254,7921017,8150564,8627381,9112502,9246293,9683182,10123651,10370608],\"type\":\"scatter\"}],                        {\"template\":{\"data\":{\"histogram2dcontour\":[{\"type\":\"histogram2dcontour\",\"colorbar\":{\"outlinewidth\":0,\"ticks\":\"\"},\"colorscale\":[[0.0,\"#0d0887\"],[0.1111111111111111,\"#46039f\"],[0.2222222222222222,\"#7201a8\"],[0.3333333333333333,\"#9c179e\"],[0.4444444444444444,\"#bd3786\"],[0.5555555555555556,\"#d8576b\"],[0.6666666666666666,\"#ed7953\"],[0.7777777777777778,\"#fb9f3a\"],[0.8888888888888888,\"#fdca26\"],[1.0,\"#f0f921\"]]}],\"choropleth\":[{\"type\":\"choropleth\",\"colorbar\":{\"outlinewidth\":0,\"ticks\":\"\"}}],\"histogram2d\":[{\"type\":\"histogram2d\",\"colorbar\":{\"outlinewidth\":0,\"ticks\":\"\"},\"colorscale\":[[0.0,\"#0d0887\"],[0.1111111111111111,\"#46039f\"],[0.2222222222222222,\"#7201a8\"],[0.3333333333333333,\"#9c179e\"],[0.4444444444444444,\"#bd3786\"],[0.5555555555555556,\"#d8576b\"],[0.6666666666666666,\"#ed7953\"],[0.7777777777777778,\"#fb9f3a\"],[0.8888888888888888,\"#fdca26\"],[1.0,\"#f0f921\"]]}],\"heatmap\":[{\"type\":\"heatmap\",\"colorbar\":{\"outlinewidth\":0,\"ticks\":\"\"},\"colorscale\":[[0.0,\"#0d0887\"],[0.1111111111111111,\"#46039f\"],[0.2222222222222222,\"#7201a8\"],[0.3333333333333333,\"#9c179e\"],[0.4444444444444444,\"#bd3786\"],[0.5555555555555556,\"#d8576b\"],[0.6666666666666666,\"#ed7953\"],[0.7777777777777778,\"#fb9f3a\"],[0.8888888888888888,\"#fdca26\"],[1.0,\"#f0f921\"]]}],\"heatmapgl\":[{\"type\":\"heatmapgl\",\"colorbar\":{\"outlinewidth\":0,\"ticks\":\"\"},\"colorscale\":[[0.0,\"#0d0887\"],[0.1111111111111111,\"#46039f\"],[0.2222222222222222,\"#7201a8\"],[0.3333333333333333,\"#9c179e\"],[0.4444444444444444,\"#bd3786\"],[0.5555555555555556,\"#d8576b\"],[0.6666666666666666,\"#ed7953\"],[0.7777777777777778,\"#fb9f3a\"],[0.8888888888888888,\"#fdca26\"],[1.0,\"#f0f921\"]]}],\"contourcarpet\":[{\"type\":\"contourcarpet\",\"colorbar\":{\"outlinewidth\":0,\"ticks\":\"\"}}],\"contour\":[{\"type\":\"contour\",\"colorbar\":{\"outlinewidth\":0,\"ticks\":\"\"},\"colorscale\":[[0.0,\"#0d0887\"],[0.1111111111111111,\"#46039f\"],[0.2222222222222222,\"#7201a8\"],[0.3333333333333333,\"#9c179e\"],[0.4444444444444444,\"#bd3786\"],[0.5555555555555556,\"#d8576b\"],[0.6666666666666666,\"#ed7953\"],[0.7777777777777778,\"#fb9f3a\"],[0.8888888888888888,\"#fdca26\"],[1.0,\"#f0f921\"]]}],\"surface\":[{\"type\":\"surface\",\"colorbar\":{\"outlinewidth\":0,\"ticks\":\"\"},\"colorscale\":[[0.0,\"#0d0887\"],[0.1111111111111111,\"#46039f\"],[0.2222222222222222,\"#7201a8\"],[0.3333333333333333,\"#9c179e\"],[0.4444444444444444,\"#bd3786\"],[0.5555555555555556,\"#d8576b\"],[0.6666666666666666,\"#ed7953\"],[0.7777777777777778,\"#fb9f3a\"],[0.8888888888888888,\"#fdca26\"],[1.0,\"#f0f921\"]]}],\"mesh3d\":[{\"type\":\"mesh3d\",\"colorbar\":{\"outlinewidth\":0,\"ticks\":\"\"}}],\"scatter\":[{\"fillpattern\":{\"fillmode\":\"overlay\",\"size\":10,\"solidity\":0.2},\"type\":\"scatter\"}],\"parcoords\":[{\"type\":\"parcoords\",\"line\":{\"colorbar\":{\"outlinewidth\":0,\"ticks\":\"\"}}}],\"scatterpolargl\":[{\"type\":\"scatterpolargl\",\"marker\":{\"colorbar\":{\"outlinewidth\":0,\"ticks\":\"\"}}}],\"bar\":[{\"error_x\":{\"color\":\"#2a3f5f\"},\"error_y\":{\"color\":\"#2a3f5f\"},\"marker\":{\"line\":{\"color\":\"#E5ECF6\",\"width\":0.5},\"pattern\":{\"fillmode\":\"overlay\",\"size\":10,\"solidity\":0.2}},\"type\":\"bar\"}],\"scattergeo\":[{\"type\":\"scattergeo\",\"marker\":{\"colorbar\":{\"outlinewidth\":0,\"ticks\":\"\"}}}],\"scatterpolar\":[{\"type\":\"scatterpolar\",\"marker\":{\"colorbar\":{\"outlinewidth\":0,\"ticks\":\"\"}}}],\"histogram\":[{\"marker\":{\"pattern\":{\"fillmode\":\"overlay\",\"size\":10,\"solidity\":0.2}},\"type\":\"histogram\"}],\"scattergl\":[{\"type\":\"scattergl\",\"marker\":{\"colorbar\":{\"outlinewidth\":0,\"ticks\":\"\"}}}],\"scatter3d\":[{\"type\":\"scatter3d\",\"line\":{\"colorbar\":{\"outlinewidth\":0,\"ticks\":\"\"}},\"marker\":{\"colorbar\":{\"outlinewidth\":0,\"ticks\":\"\"}}}],\"scattermapbox\":[{\"type\":\"scattermapbox\",\"marker\":{\"colorbar\":{\"outlinewidth\":0,\"ticks\":\"\"}}}],\"scatterternary\":[{\"type\":\"scatterternary\",\"marker\":{\"colorbar\":{\"outlinewidth\":0,\"ticks\":\"\"}}}],\"scattercarpet\":[{\"type\":\"scattercarpet\",\"marker\":{\"colorbar\":{\"outlinewidth\":0,\"ticks\":\"\"}}}],\"carpet\":[{\"aaxis\":{\"endlinecolor\":\"#2a3f5f\",\"gridcolor\":\"white\",\"linecolor\":\"white\",\"minorgridcolor\":\"white\",\"startlinecolor\":\"#2a3f5f\"},\"baxis\":{\"endlinecolor\":\"#2a3f5f\",\"gridcolor\":\"white\",\"linecolor\":\"white\",\"minorgridcolor\":\"white\",\"startlinecolor\":\"#2a3f5f\"},\"type\":\"carpet\"}],\"table\":[{\"cells\":{\"fill\":{\"color\":\"#EBF0F8\"},\"line\":{\"color\":\"white\"}},\"header\":{\"fill\":{\"color\":\"#C8D4E3\"},\"line\":{\"color\":\"white\"}},\"type\":\"table\"}],\"barpolar\":[{\"marker\":{\"line\":{\"color\":\"#E5ECF6\",\"width\":0.5},\"pattern\":{\"fillmode\":\"overlay\",\"size\":10,\"solidity\":0.2}},\"type\":\"barpolar\"}],\"pie\":[{\"automargin\":true,\"type\":\"pie\"}]},\"layout\":{\"autotypenumbers\":\"strict\",\"colorway\":[\"#636efa\",\"#EF553B\",\"#00cc96\",\"#ab63fa\",\"#FFA15A\",\"#19d3f3\",\"#FF6692\",\"#B6E880\",\"#FF97FF\",\"#FECB52\"],\"font\":{\"color\":\"#2a3f5f\"},\"hovermode\":\"closest\",\"hoverlabel\":{\"align\":\"left\"},\"paper_bgcolor\":\"white\",\"plot_bgcolor\":\"#E5ECF6\",\"polar\":{\"bgcolor\":\"#E5ECF6\",\"angularaxis\":{\"gridcolor\":\"white\",\"linecolor\":\"white\",\"ticks\":\"\"},\"radialaxis\":{\"gridcolor\":\"white\",\"linecolor\":\"white\",\"ticks\":\"\"}},\"ternary\":{\"bgcolor\":\"#E5ECF6\",\"aaxis\":{\"gridcolor\":\"white\",\"linecolor\":\"white\",\"ticks\":\"\"},\"baxis\":{\"gridcolor\":\"white\",\"linecolor\":\"white\",\"ticks\":\"\"},\"caxis\":{\"gridcolor\":\"white\",\"linecolor\":\"white\",\"ticks\":\"\"}},\"coloraxis\":{\"colorbar\":{\"outlinewidth\":0,\"ticks\":\"\"}},\"colorscale\":{\"sequential\":[[0.0,\"#0d0887\"],[0.1111111111111111,\"#46039f\"],[0.2222222222222222,\"#7201a8\"],[0.3333333333333333,\"#9c179e\"],[0.4444444444444444,\"#bd3786\"],[0.5555555555555556,\"#d8576b\"],[0.6666666666666666,\"#ed7953\"],[0.7777777777777778,\"#fb9f3a\"],[0.8888888888888888,\"#fdca26\"],[1.0,\"#f0f921\"]],\"sequentialminus\":[[0.0,\"#0d0887\"],[0.1111111111111111,\"#46039f\"],[0.2222222222222222,\"#7201a8\"],[0.3333333333333333,\"#9c179e\"],[0.4444444444444444,\"#bd3786\"],[0.5555555555555556,\"#d8576b\"],[0.6666666666666666,\"#ed7953\"],[0.7777777777777778,\"#fb9f3a\"],[0.8888888888888888,\"#fdca26\"],[1.0,\"#f0f921\"]],\"diverging\":[[0,\"#8e0152\"],[0.1,\"#c51b7d\"],[0.2,\"#de77ae\"],[0.3,\"#f1b6da\"],[0.4,\"#fde0ef\"],[0.5,\"#f7f7f7\"],[0.6,\"#e6f5d0\"],[0.7,\"#b8e186\"],[0.8,\"#7fbc41\"],[0.9,\"#4d9221\"],[1,\"#276419\"]]},\"xaxis\":{\"gridcolor\":\"white\",\"linecolor\":\"white\",\"ticks\":\"\",\"title\":{\"standoff\":15},\"zerolinecolor\":\"white\",\"automargin\":true,\"zerolinewidth\":2},\"yaxis\":{\"gridcolor\":\"white\",\"linecolor\":\"white\",\"ticks\":\"\",\"title\":{\"standoff\":15},\"zerolinecolor\":\"white\",\"automargin\":true,\"zerolinewidth\":2},\"scene\":{\"xaxis\":{\"backgroundcolor\":\"#E5ECF6\",\"gridcolor\":\"white\",\"linecolor\":\"white\",\"showbackground\":true,\"ticks\":\"\",\"zerolinecolor\":\"white\",\"gridwidth\":2},\"yaxis\":{\"backgroundcolor\":\"#E5ECF6\",\"gridcolor\":\"white\",\"linecolor\":\"white\",\"showbackground\":true,\"ticks\":\"\",\"zerolinecolor\":\"white\",\"gridwidth\":2},\"zaxis\":{\"backgroundcolor\":\"#E5ECF6\",\"gridcolor\":\"white\",\"linecolor\":\"white\",\"showbackground\":true,\"ticks\":\"\",\"zerolinecolor\":\"white\",\"gridwidth\":2}},\"shapedefaults\":{\"line\":{\"color\":\"#2a3f5f\"}},\"annotationdefaults\":{\"arrowcolor\":\"#2a3f5f\",\"arrowhead\":0,\"arrowwidth\":1},\"geo\":{\"bgcolor\":\"white\",\"landcolor\":\"#E5ECF6\",\"subunitcolor\":\"white\",\"showland\":true,\"showlakes\":true,\"lakecolor\":\"white\"},\"title\":{\"x\":0.05},\"mapbox\":{\"style\":\"light\"}}},\"xaxis\":{\"title\":{\"text\":\"Years\"},\"tickmode\":\"linear\",\"tickangle\":-30},\"yaxis\":{\"title\":{\"text\":\"Cases\"},\"tickformat\":\"s\"},\"uniformtext\":{\"minsize\":8,\"mode\":\"show\"},\"title\":{\"text\":\"Year wise crime against women in India(including States & UT)\"}},                        {\"responsive\": true}                    ).then(function(){\n",
       "                            \n",
       "var gd = document.getElementById('7ae45185-a1c3-461d-bfcf-bb092bed49f5');\n",
       "var x = new MutationObserver(function (mutations, observer) {{\n",
       "        var display = window.getComputedStyle(gd).display;\n",
       "        if (!display || display === 'none') {{\n",
       "            console.log([gd, 'removed!']);\n",
       "            Plotly.purge(gd);\n",
       "            observer.disconnect();\n",
       "        }}\n",
       "}});\n",
       "\n",
       "// Listen for the removal of the full notebook cells\n",
       "var notebookContainer = gd.closest('#notebook-container');\n",
       "if (notebookContainer) {{\n",
       "    x.observe(notebookContainer, {childList: true});\n",
       "}}\n",
       "\n",
       "// Listen for the clearing of the current output cell\n",
       "var outputEl = gd.closest('.output');\n",
       "if (outputEl) {{\n",
       "    x.observe(outputEl, {childList: true});\n",
       "}}\n",
       "\n",
       "                        })                };                });            </script>        </div>"
      ]
     },
     "metadata": {},
     "output_type": "display_data"
    }
   ],
   "source": [
    "#Year wise line graph\n",
    "fig = go.Figure(data=[go.Scatter(\n",
    "            x=total_crimes_in_years_df[\"YEAR\"], y=total_crimes_in_years_df[\"Total Number of Cases\"],\n",
    "            text=total_crimes_in_years_df[\"Total Number of Cases\"],\n",
    "        )])\n",
    "fig.update_layout(title=\"Year wise crime against women in India(including States & UT)\",\n",
    "                       xaxis = dict(title='Years',\n",
    "                                    tickmode = 'linear',\n",
    "                                    tickangle=-30 ),\n",
    "                      #yaxis=dict(title=, tickmode = 'linear', tick0 = 0.0,dtick = 0.25)\n",
    "                   yaxis_title=\"Cases\",yaxis_tickformat = 's',uniformtext_minsize=8, uniformtext_mode='show')\n",
    "\n",
    "fig.show()"
   ]
  },
  {
   "cell_type": "code",
   "execution_count": 27,
   "id": "da7cb1e1",
   "metadata": {},
   "outputs": [
    {
     "data": {
      "application/vnd.plotly.v1+json": {
       "config": {
        "plotlyServerURL": "https://plot.ly"
       },
       "data": [
        {
         "line": {
          "color": "firebrick",
          "dash": "solid",
          "width": 4
         },
         "name": "MURDER",
         "type": "scatter",
         "x": [
          2001,
          2002,
          2003,
          2004,
          2005,
          2006,
          2007,
          2008,
          2009,
          2010,
          2011,
          2012
         ],
         "y": [
          72404,
          70580,
          65432,
          67216,
          65438,
          64962,
          64636,
          65532,
          64738,
          66670,
          68610,
          68868
         ]
        },
        {
         "line": {
          "color": "royalblue",
          "dash": "dash",
          "width": 4
         },
         "name": "ATTEMPT TO MURDER",
         "type": "scatter",
         "x": [
          2001,
          2002,
          2003,
          2004,
          2005,
          2006,
          2007,
          2008,
          2009,
          2010,
          2011,
          2012
         ],
         "y": [
          63046,
          60760,
          51884,
          55780,
          56062,
          54460,
          54802,
          57196,
          58076,
          58842,
          62770,
          70276
         ]
        },
        {
         "line": {
          "color": "rgb(0, 204, 150)",
          "dash": "dot",
          "width": 4
         },
         "name": "CULPABLE HOMICIDE NOT AMOUNTING TO MURDER",
         "type": "scatter",
         "x": [
          2001,
          2002,
          2003,
          2004,
          2005,
          2006,
          2007,
          2008,
          2009,
          2010,
          2011,
          2012
         ],
         "y": [
          6734,
          7248,
          8058,
          7870,
          7156,
          7070,
          7288,
          7726,
          7860,
          7564,
          7414,
          7240
         ]
        },
        {
         "line": {
          "color": "firebrick",
          "dash": "solid",
          "width": 4
         },
         "name": "RAPE",
         "type": "scatter",
         "x": [
          2001,
          2002,
          2003,
          2004,
          2005,
          2006,
          2007,
          2008,
          2009,
          2010,
          2011,
          2012
         ],
         "y": [
          32150,
          32746,
          31694,
          36466,
          36718,
          38696,
          41474,
          42934,
          42794,
          44344,
          48412,
          49846
         ]
        },
        {
         "line": {
          "color": "royalblue",
          "dash": "dash",
          "width": 4
         },
         "name": "CUSTODIAL RAPE",
         "type": "scatter",
         "x": [
          2001,
          2002,
          2003,
          2004,
          2005,
          2006,
          2007,
          2008,
          2009,
          2010,
          2011,
          2012
         ],
         "y": [
          0,
          6,
          2,
          4,
          14,
          4,
          2,
          0,
          4,
          12,
          2,
          2
         ]
        },
        {
         "line": {
          "color": "rgb(0, 204, 150)",
          "dash": "dot",
          "width": 4
         },
         "name": "OTHER RAPE",
         "type": "scatter",
         "x": [
          2001,
          2002,
          2003,
          2004,
          2005,
          2006,
          2007,
          2008,
          2009,
          2010,
          2011,
          2012
         ],
         "y": [
          32150,
          32740,
          31692,
          36462,
          36704,
          38692,
          41472,
          42934,
          42790,
          44332,
          48410,
          49844
         ]
        },
        {
         "line": {
          "color": "firebrick",
          "dash": "solid",
          "width": 4
         },
         "name": "KIDNAPPING & ABDUCTION",
         "type": "scatter",
         "x": [
          2001,
          2002,
          2003,
          2004,
          2005,
          2006,
          2007,
          2008,
          2009,
          2010,
          2011,
          2012
         ],
         "y": [
          44974,
          43700,
          39984,
          46654,
          45664,
          47982,
          55122,
          60522,
          67720,
          76880,
          89328,
          95184
         ]
        },
        {
         "line": {
          "color": "royalblue",
          "dash": "dash",
          "width": 4
         },
         "name": "KIDNAPPING AND ABDUCTION OF WOMEN AND GIRLS",
         "type": "scatter",
         "x": [
          2001,
          2002,
          2003,
          2004,
          2005,
          2006,
          2007,
          2008,
          2009,
          2010,
          2011,
          2012
         ],
         "y": [
          29290,
          29012,
          26592,
          31156,
          31500,
          34828,
          40832,
          45878,
          51482,
          59590,
          71130,
          76524
         ]
        },
        {
         "line": {
          "color": "rgb(0, 204, 150)",
          "dash": "dot",
          "width": 4
         },
         "name": "KIDNAPPING AND ABDUCTION OF OTHERS",
         "type": "scatter",
         "x": [
          2001,
          2002,
          2003,
          2004,
          2005,
          2006,
          2007,
          2008,
          2009,
          2010,
          2011,
          2012
         ],
         "y": [
          15684,
          14688,
          13392,
          15498,
          14164,
          13154,
          14290,
          14644,
          16238,
          17290,
          18198,
          18660
         ]
        },
        {
         "line": {
          "color": "firebrick",
          "dash": "solid",
          "width": 4
         },
         "name": "DACOITY",
         "type": "scatter",
         "x": [
          2001,
          2002,
          2003,
          2004,
          2005,
          2006,
          2007,
          2008,
          2009,
          2010,
          2011,
          2012
         ],
         "y": [
          12308,
          12202,
          10606,
          10622,
          10282,
          9494,
          9158,
          9060,
          9172,
          8716,
          8570,
          8628
         ]
        },
        {
         "line": {
          "color": "royalblue",
          "dash": "dash",
          "width": 4
         },
         "name": "PREPARATION AND ASSEMBLY FOR DACOITY",
         "type": "scatter",
         "x": [
          2001,
          2002,
          2003,
          2004,
          2005,
          2006,
          2007,
          2008,
          2009,
          2010,
          2011,
          2012
         ],
         "y": [
          3228,
          3682,
          4604,
          4680,
          5668,
          6258,
          6410,
          6434,
          5700,
          5230,
          5790,
          6198
         ]
        },
        {
         "line": {
          "color": "rgb(0, 204, 150)",
          "dash": "dot",
          "width": 4
         },
         "name": "ROBBERY",
         "type": "scatter",
         "x": [
          2001,
          2002,
          2003,
          2004,
          2005,
          2006,
          2007,
          2008,
          2009,
          2010,
          2011,
          2012
         ],
         "y": [
          39802,
          37528,
          35024,
          36916,
          35346,
          36912,
          38272,
          41044,
          44818,
          46786,
          49400,
          54686
         ]
        },
        {
         "line": {
          "color": "firebrick",
          "dash": "solid",
          "width": 4
         },
         "name": "BURGLARY",
         "type": "scatter",
         "x": [
          2001,
          2002,
          2003,
          2004,
          2005,
          2006,
          2007,
          2008,
          2009,
          2010,
          2011,
          2012
         ],
         "y": [
          202364,
          192922,
          185654,
          184980,
          180216,
          183332,
          182436,
          187484,
          184140,
          180358,
          185008,
          185784
         ]
        },
        {
         "line": {
          "color": "royalblue",
          "dash": "dash",
          "width": 4
         },
         "name": "THEFT",
         "type": "scatter",
         "x": [
          2001,
          2002,
          2003,
          2004,
          2005,
          2006,
          2007,
          2008,
          2009,
          2010,
          2011,
          2012
         ],
         "y": [
          505606,
          494924,
          490474,
          546090,
          546222,
          548708,
          570086,
          633522,
          648390,
          660624,
          681600,
          674814
         ]
        },
        {
         "line": {
          "color": "rgb(0, 204, 150)",
          "dash": "dot",
          "width": 4
         },
         "name": "AUTO THEFT",
         "type": "scatter",
         "x": [
          2001,
          2002,
          2003,
          2004,
          2005,
          2006,
          2007,
          2008,
          2009,
          2010,
          2011,
          2012
         ],
         "y": [
          127426,
          133336,
          138614,
          161364,
          171418,
          181902,
          200510,
          240064,
          280054,
          294950,
          302400,
          308702
         ]
        },
        {
         "line": {
          "color": "firebrick",
          "dash": "solid",
          "width": 4
         },
         "name": "OTHER THEFT",
         "type": "scatter",
         "x": [
          2001,
          2002,
          2003,
          2004,
          2005,
          2006,
          2007,
          2008,
          2009,
          2010,
          2011,
          2012
         ],
         "y": [
          378180,
          361588,
          351860,
          384726,
          374804,
          366806,
          369576,
          393458,
          368336,
          365674,
          379200,
          366112
         ]
        },
        {
         "line": {
          "color": "royalblue",
          "dash": "dash",
          "width": 4
         },
         "name": "RIOTS",
         "type": "scatter",
         "x": [
          2001,
          2002,
          2003,
          2004,
          2005,
          2006,
          2007,
          2008,
          2009,
          2010,
          2011,
          2012
         ],
         "y": [
          152444,
          137890,
          114668,
          119942,
          112470,
          113282,
          119830,
          132036,
          125884,
          135142,
          137000,
          149266
         ]
        },
        {
         "line": {
          "color": "rgb(0, 204, 150)",
          "dash": "dot",
          "width": 4
         },
         "name": "CRIMINAL BREACH OF TRUST",
         "type": "scatter",
         "x": [
          2001,
          2002,
          2003,
          2004,
          2005,
          2006,
          2007,
          2008,
          2009,
          2010,
          2011,
          2012
         ],
         "y": [
          29596,
          28054,
          26864,
          28352,
          27144,
          27272,
          31062,
          32974,
          32652,
          33356,
          34914,
          35802
         ]
        },
        {
         "line": {
          "color": "firebrick",
          "dash": "solid",
          "width": 4
         },
         "name": "CHEATING",
         "type": "scatter",
         "x": [
          2001,
          2002,
          2003,
          2004,
          2005,
          2006,
          2007,
          2008,
          2009,
          2010,
          2011,
          2012
         ],
         "y": [
          89454,
          92542,
          94956,
          103878,
          107250,
          116152,
          130652,
          133158,
          145436,
          157998,
          175312,
          188406
         ]
        },
        {
         "line": {
          "color": "royalblue",
          "dash": "dash",
          "width": 4
         },
         "name": "COUNTERFIETING",
         "type": "scatter",
         "x": [
          2001,
          2002,
          2003,
          2004,
          2005,
          2006,
          2007,
          2008,
          2009,
          2010,
          2011,
          2012
         ],
         "y": [
          3366,
          3044,
          4110,
          3058,
          4766,
          4338,
          4408,
          5982,
          5870,
          5178,
          4614,
          4702
         ]
        },
        {
         "line": {
          "color": "rgb(0, 204, 150)",
          "dash": "dot",
          "width": 4
         },
         "name": "ARSON",
         "type": "scatter",
         "x": [
          2001,
          2002,
          2003,
          2004,
          2005,
          2006,
          2007,
          2008,
          2009,
          2010,
          2011,
          2012
         ],
         "y": [
          21068,
          23640,
          18730,
          17274,
          16902,
          16960,
          18048,
          18498,
          17472,
          17016,
          18128,
          23672
         ]
        },
        {
         "line": {
          "color": "firebrick",
          "dash": "solid",
          "width": 4
         },
         "name": "HURT/GREVIOUS HURT",
         "type": "scatter",
         "x": [
          2001,
          2002,
          2003,
          2004,
          2005,
          2006,
          2007,
          2008,
          2009,
          2010,
          2011,
          2012
         ],
         "y": [
          542974,
          530050,
          522888,
          553736,
          541722,
          529496,
          546134,
          569938,
          558428,
          578044,
          605694,
          664648
         ]
        },
        {
         "line": {
          "color": "royalblue",
          "dash": "dash",
          "width": 4
         },
         "name": "DOWRY DEATHS",
         "type": "scatter",
         "x": [
          2001,
          2002,
          2003,
          2004,
          2005,
          2006,
          2007,
          2008,
          2009,
          2010,
          2011,
          2012
         ],
         "y": [
          13702,
          13644,
          12416,
          14052,
          13574,
          15236,
          16186,
          16344,
          16766,
          16782,
          17236,
          16466
         ]
        },
        {
         "line": {
          "color": "rgb(0, 204, 150)",
          "dash": "dot",
          "width": 4
         },
         "name": "ASSAULT ON WOMEN WITH INTENT TO OUTRAGE HER MODESTY",
         "type": "scatter",
         "x": [
          2001,
          2002,
          2003,
          2004,
          2005,
          2006,
          2007,
          2008,
          2009,
          2010,
          2011,
          2012
         ],
         "y": [
          68248,
          67886,
          65878,
          69134,
          68350,
          73234,
          77468,
          80826,
          77422,
          81226,
          85936,
          90702
         ]
        },
        {
         "line": {
          "color": "firebrick",
          "dash": "solid",
          "width": 4
         },
         "name": "INSULT TO MODESTY OF WOMEN",
         "type": "scatter",
         "x": [
          2001,
          2002,
          2003,
          2004,
          2005,
          2006,
          2007,
          2008,
          2009,
          2010,
          2011,
          2012
         ],
         "y": [
          19492,
          20310,
          24650,
          20002,
          19968,
          19932,
          21900,
          24428,
          22018,
          19922,
          17140,
          18346
         ]
        },
        {
         "line": {
          "color": "royalblue",
          "dash": "dash",
          "width": 4
         },
         "name": "CRUELTY BY HUSBAND OR HIS RELATIVES",
         "type": "scatter",
         "x": [
          2001,
          2002,
          2003,
          2004,
          2005,
          2006,
          2007,
          2008,
          2009,
          2010,
          2011,
          2012
         ],
         "y": [
          98340,
          98474,
          101406,
          116242,
          116638,
          126256,
          151860,
          162688,
          179092,
          188082,
          198270,
          213054
         ]
        },
        {
         "line": {
          "color": "rgb(0, 204, 150)",
          "dash": "dot",
          "width": 4
         },
         "name": "IMPORTATION OF GIRLS FROM FOREIGN COUNTRIES",
         "type": "scatter",
         "x": [
          2001,
          2002,
          2003,
          2004,
          2005,
          2006,
          2007,
          2008,
          2009,
          2010,
          2011,
          2012
         ],
         "y": [
          228,
          152,
          92,
          178,
          298,
          134,
          122,
          134,
          96,
          72,
          160,
          118
         ]
        },
        {
         "line": {
          "color": "firebrick",
          "dash": "solid",
          "width": 4
         },
         "name": "CAUSING DEATH BY NEGLIGENCE",
         "type": "scatter",
         "x": [
          2001,
          2002,
          2003,
          2004,
          2005,
          2006,
          2007,
          2008,
          2009,
          2010,
          2011,
          2012
         ],
         "y": [
          114364,
          128088,
          121344,
          138846,
          143396,
          157026,
          173580,
          184372,
          197064,
          212686,
          217780,
          215182
         ]
        },
        {
         "line": {
          "color": "royalblue",
          "dash": "dash",
          "width": 4
         },
         "name": "OTHER IPC CRIMES",
         "type": "scatter",
         "x": [
          2001,
          2002,
          2003,
          2004,
          2005,
          2006,
          2007,
          2008,
          2009,
          2010,
          2011,
          2012
         ],
         "y": [
          1402724,
          1460594,
          1400824,
          1482052,
          1483954,
          1559394,
          1658412,
          1713926,
          1731082,
          1848144,
          1932064,
          1932488
         ]
        },
        {
         "line": {
          "color": "rgb(0, 204, 150)",
          "dash": "dot",
          "width": 4
         },
         "name": "TOTAL IPC CRIMES",
         "type": "scatter",
         "x": [
          2001,
          2002,
          2003,
          2004,
          2005,
          2006,
          2007,
          2008,
          2009,
          2010,
          2011,
          2012
         ],
         "y": [
          3538616,
          3560660,
          3432240,
          3664020,
          3645204,
          3756586,
          3979346,
          4186758,
          4242690,
          4449662,
          4651150,
          4774376
         ]
        }
       ],
       "layout": {
        "template": {
         "data": {
          "bar": [
           {
            "error_x": {
             "color": "#2a3f5f"
            },
            "error_y": {
             "color": "#2a3f5f"
            },
            "marker": {
             "line": {
              "color": "#E5ECF6",
              "width": 0.5
             },
             "pattern": {
              "fillmode": "overlay",
              "size": 10,
              "solidity": 0.2
             }
            },
            "type": "bar"
           }
          ],
          "barpolar": [
           {
            "marker": {
             "line": {
              "color": "#E5ECF6",
              "width": 0.5
             },
             "pattern": {
              "fillmode": "overlay",
              "size": 10,
              "solidity": 0.2
             }
            },
            "type": "barpolar"
           }
          ],
          "carpet": [
           {
            "aaxis": {
             "endlinecolor": "#2a3f5f",
             "gridcolor": "white",
             "linecolor": "white",
             "minorgridcolor": "white",
             "startlinecolor": "#2a3f5f"
            },
            "baxis": {
             "endlinecolor": "#2a3f5f",
             "gridcolor": "white",
             "linecolor": "white",
             "minorgridcolor": "white",
             "startlinecolor": "#2a3f5f"
            },
            "type": "carpet"
           }
          ],
          "choropleth": [
           {
            "colorbar": {
             "outlinewidth": 0,
             "ticks": ""
            },
            "type": "choropleth"
           }
          ],
          "contour": [
           {
            "colorbar": {
             "outlinewidth": 0,
             "ticks": ""
            },
            "colorscale": [
             [
              0,
              "#0d0887"
             ],
             [
              0.1111111111111111,
              "#46039f"
             ],
             [
              0.2222222222222222,
              "#7201a8"
             ],
             [
              0.3333333333333333,
              "#9c179e"
             ],
             [
              0.4444444444444444,
              "#bd3786"
             ],
             [
              0.5555555555555556,
              "#d8576b"
             ],
             [
              0.6666666666666666,
              "#ed7953"
             ],
             [
              0.7777777777777778,
              "#fb9f3a"
             ],
             [
              0.8888888888888888,
              "#fdca26"
             ],
             [
              1,
              "#f0f921"
             ]
            ],
            "type": "contour"
           }
          ],
          "contourcarpet": [
           {
            "colorbar": {
             "outlinewidth": 0,
             "ticks": ""
            },
            "type": "contourcarpet"
           }
          ],
          "heatmap": [
           {
            "colorbar": {
             "outlinewidth": 0,
             "ticks": ""
            },
            "colorscale": [
             [
              0,
              "#0d0887"
             ],
             [
              0.1111111111111111,
              "#46039f"
             ],
             [
              0.2222222222222222,
              "#7201a8"
             ],
             [
              0.3333333333333333,
              "#9c179e"
             ],
             [
              0.4444444444444444,
              "#bd3786"
             ],
             [
              0.5555555555555556,
              "#d8576b"
             ],
             [
              0.6666666666666666,
              "#ed7953"
             ],
             [
              0.7777777777777778,
              "#fb9f3a"
             ],
             [
              0.8888888888888888,
              "#fdca26"
             ],
             [
              1,
              "#f0f921"
             ]
            ],
            "type": "heatmap"
           }
          ],
          "heatmapgl": [
           {
            "colorbar": {
             "outlinewidth": 0,
             "ticks": ""
            },
            "colorscale": [
             [
              0,
              "#0d0887"
             ],
             [
              0.1111111111111111,
              "#46039f"
             ],
             [
              0.2222222222222222,
              "#7201a8"
             ],
             [
              0.3333333333333333,
              "#9c179e"
             ],
             [
              0.4444444444444444,
              "#bd3786"
             ],
             [
              0.5555555555555556,
              "#d8576b"
             ],
             [
              0.6666666666666666,
              "#ed7953"
             ],
             [
              0.7777777777777778,
              "#fb9f3a"
             ],
             [
              0.8888888888888888,
              "#fdca26"
             ],
             [
              1,
              "#f0f921"
             ]
            ],
            "type": "heatmapgl"
           }
          ],
          "histogram": [
           {
            "marker": {
             "pattern": {
              "fillmode": "overlay",
              "size": 10,
              "solidity": 0.2
             }
            },
            "type": "histogram"
           }
          ],
          "histogram2d": [
           {
            "colorbar": {
             "outlinewidth": 0,
             "ticks": ""
            },
            "colorscale": [
             [
              0,
              "#0d0887"
             ],
             [
              0.1111111111111111,
              "#46039f"
             ],
             [
              0.2222222222222222,
              "#7201a8"
             ],
             [
              0.3333333333333333,
              "#9c179e"
             ],
             [
              0.4444444444444444,
              "#bd3786"
             ],
             [
              0.5555555555555556,
              "#d8576b"
             ],
             [
              0.6666666666666666,
              "#ed7953"
             ],
             [
              0.7777777777777778,
              "#fb9f3a"
             ],
             [
              0.8888888888888888,
              "#fdca26"
             ],
             [
              1,
              "#f0f921"
             ]
            ],
            "type": "histogram2d"
           }
          ],
          "histogram2dcontour": [
           {
            "colorbar": {
             "outlinewidth": 0,
             "ticks": ""
            },
            "colorscale": [
             [
              0,
              "#0d0887"
             ],
             [
              0.1111111111111111,
              "#46039f"
             ],
             [
              0.2222222222222222,
              "#7201a8"
             ],
             [
              0.3333333333333333,
              "#9c179e"
             ],
             [
              0.4444444444444444,
              "#bd3786"
             ],
             [
              0.5555555555555556,
              "#d8576b"
             ],
             [
              0.6666666666666666,
              "#ed7953"
             ],
             [
              0.7777777777777778,
              "#fb9f3a"
             ],
             [
              0.8888888888888888,
              "#fdca26"
             ],
             [
              1,
              "#f0f921"
             ]
            ],
            "type": "histogram2dcontour"
           }
          ],
          "mesh3d": [
           {
            "colorbar": {
             "outlinewidth": 0,
             "ticks": ""
            },
            "type": "mesh3d"
           }
          ],
          "parcoords": [
           {
            "line": {
             "colorbar": {
              "outlinewidth": 0,
              "ticks": ""
             }
            },
            "type": "parcoords"
           }
          ],
          "pie": [
           {
            "automargin": true,
            "type": "pie"
           }
          ],
          "scatter": [
           {
            "fillpattern": {
             "fillmode": "overlay",
             "size": 10,
             "solidity": 0.2
            },
            "type": "scatter"
           }
          ],
          "scatter3d": [
           {
            "line": {
             "colorbar": {
              "outlinewidth": 0,
              "ticks": ""
             }
            },
            "marker": {
             "colorbar": {
              "outlinewidth": 0,
              "ticks": ""
             }
            },
            "type": "scatter3d"
           }
          ],
          "scattercarpet": [
           {
            "marker": {
             "colorbar": {
              "outlinewidth": 0,
              "ticks": ""
             }
            },
            "type": "scattercarpet"
           }
          ],
          "scattergeo": [
           {
            "marker": {
             "colorbar": {
              "outlinewidth": 0,
              "ticks": ""
             }
            },
            "type": "scattergeo"
           }
          ],
          "scattergl": [
           {
            "marker": {
             "colorbar": {
              "outlinewidth": 0,
              "ticks": ""
             }
            },
            "type": "scattergl"
           }
          ],
          "scattermapbox": [
           {
            "marker": {
             "colorbar": {
              "outlinewidth": 0,
              "ticks": ""
             }
            },
            "type": "scattermapbox"
           }
          ],
          "scatterpolar": [
           {
            "marker": {
             "colorbar": {
              "outlinewidth": 0,
              "ticks": ""
             }
            },
            "type": "scatterpolar"
           }
          ],
          "scatterpolargl": [
           {
            "marker": {
             "colorbar": {
              "outlinewidth": 0,
              "ticks": ""
             }
            },
            "type": "scatterpolargl"
           }
          ],
          "scatterternary": [
           {
            "marker": {
             "colorbar": {
              "outlinewidth": 0,
              "ticks": ""
             }
            },
            "type": "scatterternary"
           }
          ],
          "surface": [
           {
            "colorbar": {
             "outlinewidth": 0,
             "ticks": ""
            },
            "colorscale": [
             [
              0,
              "#0d0887"
             ],
             [
              0.1111111111111111,
              "#46039f"
             ],
             [
              0.2222222222222222,
              "#7201a8"
             ],
             [
              0.3333333333333333,
              "#9c179e"
             ],
             [
              0.4444444444444444,
              "#bd3786"
             ],
             [
              0.5555555555555556,
              "#d8576b"
             ],
             [
              0.6666666666666666,
              "#ed7953"
             ],
             [
              0.7777777777777778,
              "#fb9f3a"
             ],
             [
              0.8888888888888888,
              "#fdca26"
             ],
             [
              1,
              "#f0f921"
             ]
            ],
            "type": "surface"
           }
          ],
          "table": [
           {
            "cells": {
             "fill": {
              "color": "#EBF0F8"
             },
             "line": {
              "color": "white"
             }
            },
            "header": {
             "fill": {
              "color": "#C8D4E3"
             },
             "line": {
              "color": "white"
             }
            },
            "type": "table"
           }
          ]
         },
         "layout": {
          "annotationdefaults": {
           "arrowcolor": "#2a3f5f",
           "arrowhead": 0,
           "arrowwidth": 1
          },
          "autotypenumbers": "strict",
          "coloraxis": {
           "colorbar": {
            "outlinewidth": 0,
            "ticks": ""
           }
          },
          "colorscale": {
           "diverging": [
            [
             0,
             "#8e0152"
            ],
            [
             0.1,
             "#c51b7d"
            ],
            [
             0.2,
             "#de77ae"
            ],
            [
             0.3,
             "#f1b6da"
            ],
            [
             0.4,
             "#fde0ef"
            ],
            [
             0.5,
             "#f7f7f7"
            ],
            [
             0.6,
             "#e6f5d0"
            ],
            [
             0.7,
             "#b8e186"
            ],
            [
             0.8,
             "#7fbc41"
            ],
            [
             0.9,
             "#4d9221"
            ],
            [
             1,
             "#276419"
            ]
           ],
           "sequential": [
            [
             0,
             "#0d0887"
            ],
            [
             0.1111111111111111,
             "#46039f"
            ],
            [
             0.2222222222222222,
             "#7201a8"
            ],
            [
             0.3333333333333333,
             "#9c179e"
            ],
            [
             0.4444444444444444,
             "#bd3786"
            ],
            [
             0.5555555555555556,
             "#d8576b"
            ],
            [
             0.6666666666666666,
             "#ed7953"
            ],
            [
             0.7777777777777778,
             "#fb9f3a"
            ],
            [
             0.8888888888888888,
             "#fdca26"
            ],
            [
             1,
             "#f0f921"
            ]
           ],
           "sequentialminus": [
            [
             0,
             "#0d0887"
            ],
            [
             0.1111111111111111,
             "#46039f"
            ],
            [
             0.2222222222222222,
             "#7201a8"
            ],
            [
             0.3333333333333333,
             "#9c179e"
            ],
            [
             0.4444444444444444,
             "#bd3786"
            ],
            [
             0.5555555555555556,
             "#d8576b"
            ],
            [
             0.6666666666666666,
             "#ed7953"
            ],
            [
             0.7777777777777778,
             "#fb9f3a"
            ],
            [
             0.8888888888888888,
             "#fdca26"
            ],
            [
             1,
             "#f0f921"
            ]
           ]
          },
          "colorway": [
           "#636efa",
           "#EF553B",
           "#00cc96",
           "#ab63fa",
           "#FFA15A",
           "#19d3f3",
           "#FF6692",
           "#B6E880",
           "#FF97FF",
           "#FECB52"
          ],
          "font": {
           "color": "#2a3f5f"
          },
          "geo": {
           "bgcolor": "white",
           "lakecolor": "white",
           "landcolor": "#E5ECF6",
           "showlakes": true,
           "showland": true,
           "subunitcolor": "white"
          },
          "hoverlabel": {
           "align": "left"
          },
          "hovermode": "closest",
          "mapbox": {
           "style": "light"
          },
          "paper_bgcolor": "white",
          "plot_bgcolor": "#E5ECF6",
          "polar": {
           "angularaxis": {
            "gridcolor": "white",
            "linecolor": "white",
            "ticks": ""
           },
           "bgcolor": "#E5ECF6",
           "radialaxis": {
            "gridcolor": "white",
            "linecolor": "white",
            "ticks": ""
           }
          },
          "scene": {
           "xaxis": {
            "backgroundcolor": "#E5ECF6",
            "gridcolor": "white",
            "gridwidth": 2,
            "linecolor": "white",
            "showbackground": true,
            "ticks": "",
            "zerolinecolor": "white"
           },
           "yaxis": {
            "backgroundcolor": "#E5ECF6",
            "gridcolor": "white",
            "gridwidth": 2,
            "linecolor": "white",
            "showbackground": true,
            "ticks": "",
            "zerolinecolor": "white"
           },
           "zaxis": {
            "backgroundcolor": "#E5ECF6",
            "gridcolor": "white",
            "gridwidth": 2,
            "linecolor": "white",
            "showbackground": true,
            "ticks": "",
            "zerolinecolor": "white"
           }
          },
          "shapedefaults": {
           "line": {
            "color": "#2a3f5f"
           }
          },
          "ternary": {
           "aaxis": {
            "gridcolor": "white",
            "linecolor": "white",
            "ticks": ""
           },
           "baxis": {
            "gridcolor": "white",
            "linecolor": "white",
            "ticks": ""
           },
           "bgcolor": "#E5ECF6",
           "caxis": {
            "gridcolor": "white",
            "linecolor": "white",
            "ticks": ""
           }
          },
          "title": {
           "x": 0.05
          },
          "xaxis": {
           "automargin": true,
           "gridcolor": "white",
           "linecolor": "white",
           "ticks": "",
           "title": {
            "standoff": 15
           },
           "zerolinecolor": "white",
           "zerolinewidth": 2
          },
          "yaxis": {
           "automargin": true,
           "gridcolor": "white",
           "linecolor": "white",
           "ticks": "",
           "title": {
            "standoff": 15
           },
           "zerolinecolor": "white",
           "zerolinewidth": 2
          }
         }
        },
        "title": {
         "text": "Rate of change of different crime over time"
        },
        "xaxis": {
         "title": {
          "text": "YEAR"
         }
        },
        "yaxis": {
         "title": {
          "text": "Spread of Cases"
         }
        }
       }
      },
      "text/html": [
       "<div>                            <div id=\"b2e949c5-d570-41bb-a9bc-4a40db2cf78c\" class=\"plotly-graph-div\" style=\"height:525px; width:100%;\"></div>            <script type=\"text/javascript\">                require([\"plotly\"], function(Plotly) {                    window.PLOTLYENV=window.PLOTLYENV || {};                                    if (document.getElementById(\"b2e949c5-d570-41bb-a9bc-4a40db2cf78c\")) {                    Plotly.newPlot(                        \"b2e949c5-d570-41bb-a9bc-4a40db2cf78c\",                        [{\"line\":{\"color\":\"firebrick\",\"dash\":\"solid\",\"width\":4},\"name\":\"MURDER\",\"x\":[2001,2002,2003,2004,2005,2006,2007,2008,2009,2010,2011,2012],\"y\":[72404,70580,65432,67216,65438,64962,64636,65532,64738,66670,68610,68868],\"type\":\"scatter\"},{\"line\":{\"color\":\"royalblue\",\"dash\":\"dash\",\"width\":4},\"name\":\"ATTEMPT TO MURDER\",\"x\":[2001,2002,2003,2004,2005,2006,2007,2008,2009,2010,2011,2012],\"y\":[63046,60760,51884,55780,56062,54460,54802,57196,58076,58842,62770,70276],\"type\":\"scatter\"},{\"line\":{\"color\":\"rgb(0, 204, 150)\",\"dash\":\"dot\",\"width\":4},\"name\":\"CULPABLE HOMICIDE NOT AMOUNTING TO MURDER\",\"x\":[2001,2002,2003,2004,2005,2006,2007,2008,2009,2010,2011,2012],\"y\":[6734,7248,8058,7870,7156,7070,7288,7726,7860,7564,7414,7240],\"type\":\"scatter\"},{\"line\":{\"color\":\"firebrick\",\"dash\":\"solid\",\"width\":4},\"name\":\"RAPE\",\"x\":[2001,2002,2003,2004,2005,2006,2007,2008,2009,2010,2011,2012],\"y\":[32150,32746,31694,36466,36718,38696,41474,42934,42794,44344,48412,49846],\"type\":\"scatter\"},{\"line\":{\"color\":\"royalblue\",\"dash\":\"dash\",\"width\":4},\"name\":\"CUSTODIAL RAPE\",\"x\":[2001,2002,2003,2004,2005,2006,2007,2008,2009,2010,2011,2012],\"y\":[0,6,2,4,14,4,2,0,4,12,2,2],\"type\":\"scatter\"},{\"line\":{\"color\":\"rgb(0, 204, 150)\",\"dash\":\"dot\",\"width\":4},\"name\":\"OTHER RAPE\",\"x\":[2001,2002,2003,2004,2005,2006,2007,2008,2009,2010,2011,2012],\"y\":[32150,32740,31692,36462,36704,38692,41472,42934,42790,44332,48410,49844],\"type\":\"scatter\"},{\"line\":{\"color\":\"firebrick\",\"dash\":\"solid\",\"width\":4},\"name\":\"KIDNAPPING & ABDUCTION\",\"x\":[2001,2002,2003,2004,2005,2006,2007,2008,2009,2010,2011,2012],\"y\":[44974,43700,39984,46654,45664,47982,55122,60522,67720,76880,89328,95184],\"type\":\"scatter\"},{\"line\":{\"color\":\"royalblue\",\"dash\":\"dash\",\"width\":4},\"name\":\"KIDNAPPING AND ABDUCTION OF WOMEN AND GIRLS\",\"x\":[2001,2002,2003,2004,2005,2006,2007,2008,2009,2010,2011,2012],\"y\":[29290,29012,26592,31156,31500,34828,40832,45878,51482,59590,71130,76524],\"type\":\"scatter\"},{\"line\":{\"color\":\"rgb(0, 204, 150)\",\"dash\":\"dot\",\"width\":4},\"name\":\"KIDNAPPING AND ABDUCTION OF OTHERS\",\"x\":[2001,2002,2003,2004,2005,2006,2007,2008,2009,2010,2011,2012],\"y\":[15684,14688,13392,15498,14164,13154,14290,14644,16238,17290,18198,18660],\"type\":\"scatter\"},{\"line\":{\"color\":\"firebrick\",\"dash\":\"solid\",\"width\":4},\"name\":\"DACOITY\",\"x\":[2001,2002,2003,2004,2005,2006,2007,2008,2009,2010,2011,2012],\"y\":[12308,12202,10606,10622,10282,9494,9158,9060,9172,8716,8570,8628],\"type\":\"scatter\"},{\"line\":{\"color\":\"royalblue\",\"dash\":\"dash\",\"width\":4},\"name\":\"PREPARATION AND ASSEMBLY FOR DACOITY\",\"x\":[2001,2002,2003,2004,2005,2006,2007,2008,2009,2010,2011,2012],\"y\":[3228,3682,4604,4680,5668,6258,6410,6434,5700,5230,5790,6198],\"type\":\"scatter\"},{\"line\":{\"color\":\"rgb(0, 204, 150)\",\"dash\":\"dot\",\"width\":4},\"name\":\"ROBBERY\",\"x\":[2001,2002,2003,2004,2005,2006,2007,2008,2009,2010,2011,2012],\"y\":[39802,37528,35024,36916,35346,36912,38272,41044,44818,46786,49400,54686],\"type\":\"scatter\"},{\"line\":{\"color\":\"firebrick\",\"dash\":\"solid\",\"width\":4},\"name\":\"BURGLARY\",\"x\":[2001,2002,2003,2004,2005,2006,2007,2008,2009,2010,2011,2012],\"y\":[202364,192922,185654,184980,180216,183332,182436,187484,184140,180358,185008,185784],\"type\":\"scatter\"},{\"line\":{\"color\":\"royalblue\",\"dash\":\"dash\",\"width\":4},\"name\":\"THEFT\",\"x\":[2001,2002,2003,2004,2005,2006,2007,2008,2009,2010,2011,2012],\"y\":[505606,494924,490474,546090,546222,548708,570086,633522,648390,660624,681600,674814],\"type\":\"scatter\"},{\"line\":{\"color\":\"rgb(0, 204, 150)\",\"dash\":\"dot\",\"width\":4},\"name\":\"AUTO THEFT\",\"x\":[2001,2002,2003,2004,2005,2006,2007,2008,2009,2010,2011,2012],\"y\":[127426,133336,138614,161364,171418,181902,200510,240064,280054,294950,302400,308702],\"type\":\"scatter\"},{\"line\":{\"color\":\"firebrick\",\"dash\":\"solid\",\"width\":4},\"name\":\"OTHER THEFT\",\"x\":[2001,2002,2003,2004,2005,2006,2007,2008,2009,2010,2011,2012],\"y\":[378180,361588,351860,384726,374804,366806,369576,393458,368336,365674,379200,366112],\"type\":\"scatter\"},{\"line\":{\"color\":\"royalblue\",\"dash\":\"dash\",\"width\":4},\"name\":\"RIOTS\",\"x\":[2001,2002,2003,2004,2005,2006,2007,2008,2009,2010,2011,2012],\"y\":[152444,137890,114668,119942,112470,113282,119830,132036,125884,135142,137000,149266],\"type\":\"scatter\"},{\"line\":{\"color\":\"rgb(0, 204, 150)\",\"dash\":\"dot\",\"width\":4},\"name\":\"CRIMINAL BREACH OF TRUST\",\"x\":[2001,2002,2003,2004,2005,2006,2007,2008,2009,2010,2011,2012],\"y\":[29596,28054,26864,28352,27144,27272,31062,32974,32652,33356,34914,35802],\"type\":\"scatter\"},{\"line\":{\"color\":\"firebrick\",\"dash\":\"solid\",\"width\":4},\"name\":\"CHEATING\",\"x\":[2001,2002,2003,2004,2005,2006,2007,2008,2009,2010,2011,2012],\"y\":[89454,92542,94956,103878,107250,116152,130652,133158,145436,157998,175312,188406],\"type\":\"scatter\"},{\"line\":{\"color\":\"royalblue\",\"dash\":\"dash\",\"width\":4},\"name\":\"COUNTERFIETING\",\"x\":[2001,2002,2003,2004,2005,2006,2007,2008,2009,2010,2011,2012],\"y\":[3366,3044,4110,3058,4766,4338,4408,5982,5870,5178,4614,4702],\"type\":\"scatter\"},{\"line\":{\"color\":\"rgb(0, 204, 150)\",\"dash\":\"dot\",\"width\":4},\"name\":\"ARSON\",\"x\":[2001,2002,2003,2004,2005,2006,2007,2008,2009,2010,2011,2012],\"y\":[21068,23640,18730,17274,16902,16960,18048,18498,17472,17016,18128,23672],\"type\":\"scatter\"},{\"line\":{\"color\":\"firebrick\",\"dash\":\"solid\",\"width\":4},\"name\":\"HURT/GREVIOUS HURT\",\"x\":[2001,2002,2003,2004,2005,2006,2007,2008,2009,2010,2011,2012],\"y\":[542974,530050,522888,553736,541722,529496,546134,569938,558428,578044,605694,664648],\"type\":\"scatter\"},{\"line\":{\"color\":\"royalblue\",\"dash\":\"dash\",\"width\":4},\"name\":\"DOWRY DEATHS\",\"x\":[2001,2002,2003,2004,2005,2006,2007,2008,2009,2010,2011,2012],\"y\":[13702,13644,12416,14052,13574,15236,16186,16344,16766,16782,17236,16466],\"type\":\"scatter\"},{\"line\":{\"color\":\"rgb(0, 204, 150)\",\"dash\":\"dot\",\"width\":4},\"name\":\"ASSAULT ON WOMEN WITH INTENT TO OUTRAGE HER MODESTY\",\"x\":[2001,2002,2003,2004,2005,2006,2007,2008,2009,2010,2011,2012],\"y\":[68248,67886,65878,69134,68350,73234,77468,80826,77422,81226,85936,90702],\"type\":\"scatter\"},{\"line\":{\"color\":\"firebrick\",\"dash\":\"solid\",\"width\":4},\"name\":\"INSULT TO MODESTY OF WOMEN\",\"x\":[2001,2002,2003,2004,2005,2006,2007,2008,2009,2010,2011,2012],\"y\":[19492,20310,24650,20002,19968,19932,21900,24428,22018,19922,17140,18346],\"type\":\"scatter\"},{\"line\":{\"color\":\"royalblue\",\"dash\":\"dash\",\"width\":4},\"name\":\"CRUELTY BY HUSBAND OR HIS RELATIVES\",\"x\":[2001,2002,2003,2004,2005,2006,2007,2008,2009,2010,2011,2012],\"y\":[98340,98474,101406,116242,116638,126256,151860,162688,179092,188082,198270,213054],\"type\":\"scatter\"},{\"line\":{\"color\":\"rgb(0, 204, 150)\",\"dash\":\"dot\",\"width\":4},\"name\":\"IMPORTATION OF GIRLS FROM FOREIGN COUNTRIES\",\"x\":[2001,2002,2003,2004,2005,2006,2007,2008,2009,2010,2011,2012],\"y\":[228,152,92,178,298,134,122,134,96,72,160,118],\"type\":\"scatter\"},{\"line\":{\"color\":\"firebrick\",\"dash\":\"solid\",\"width\":4},\"name\":\"CAUSING DEATH BY NEGLIGENCE\",\"x\":[2001,2002,2003,2004,2005,2006,2007,2008,2009,2010,2011,2012],\"y\":[114364,128088,121344,138846,143396,157026,173580,184372,197064,212686,217780,215182],\"type\":\"scatter\"},{\"line\":{\"color\":\"royalblue\",\"dash\":\"dash\",\"width\":4},\"name\":\"OTHER IPC CRIMES\",\"x\":[2001,2002,2003,2004,2005,2006,2007,2008,2009,2010,2011,2012],\"y\":[1402724,1460594,1400824,1482052,1483954,1559394,1658412,1713926,1731082,1848144,1932064,1932488],\"type\":\"scatter\"},{\"line\":{\"color\":\"rgb(0, 204, 150)\",\"dash\":\"dot\",\"width\":4},\"name\":\"TOTAL IPC CRIMES\",\"x\":[2001,2002,2003,2004,2005,2006,2007,2008,2009,2010,2011,2012],\"y\":[3538616,3560660,3432240,3664020,3645204,3756586,3979346,4186758,4242690,4449662,4651150,4774376],\"type\":\"scatter\"}],                        {\"template\":{\"data\":{\"histogram2dcontour\":[{\"type\":\"histogram2dcontour\",\"colorbar\":{\"outlinewidth\":0,\"ticks\":\"\"},\"colorscale\":[[0.0,\"#0d0887\"],[0.1111111111111111,\"#46039f\"],[0.2222222222222222,\"#7201a8\"],[0.3333333333333333,\"#9c179e\"],[0.4444444444444444,\"#bd3786\"],[0.5555555555555556,\"#d8576b\"],[0.6666666666666666,\"#ed7953\"],[0.7777777777777778,\"#fb9f3a\"],[0.8888888888888888,\"#fdca26\"],[1.0,\"#f0f921\"]]}],\"choropleth\":[{\"type\":\"choropleth\",\"colorbar\":{\"outlinewidth\":0,\"ticks\":\"\"}}],\"histogram2d\":[{\"type\":\"histogram2d\",\"colorbar\":{\"outlinewidth\":0,\"ticks\":\"\"},\"colorscale\":[[0.0,\"#0d0887\"],[0.1111111111111111,\"#46039f\"],[0.2222222222222222,\"#7201a8\"],[0.3333333333333333,\"#9c179e\"],[0.4444444444444444,\"#bd3786\"],[0.5555555555555556,\"#d8576b\"],[0.6666666666666666,\"#ed7953\"],[0.7777777777777778,\"#fb9f3a\"],[0.8888888888888888,\"#fdca26\"],[1.0,\"#f0f921\"]]}],\"heatmap\":[{\"type\":\"heatmap\",\"colorbar\":{\"outlinewidth\":0,\"ticks\":\"\"},\"colorscale\":[[0.0,\"#0d0887\"],[0.1111111111111111,\"#46039f\"],[0.2222222222222222,\"#7201a8\"],[0.3333333333333333,\"#9c179e\"],[0.4444444444444444,\"#bd3786\"],[0.5555555555555556,\"#d8576b\"],[0.6666666666666666,\"#ed7953\"],[0.7777777777777778,\"#fb9f3a\"],[0.8888888888888888,\"#fdca26\"],[1.0,\"#f0f921\"]]}],\"heatmapgl\":[{\"type\":\"heatmapgl\",\"colorbar\":{\"outlinewidth\":0,\"ticks\":\"\"},\"colorscale\":[[0.0,\"#0d0887\"],[0.1111111111111111,\"#46039f\"],[0.2222222222222222,\"#7201a8\"],[0.3333333333333333,\"#9c179e\"],[0.4444444444444444,\"#bd3786\"],[0.5555555555555556,\"#d8576b\"],[0.6666666666666666,\"#ed7953\"],[0.7777777777777778,\"#fb9f3a\"],[0.8888888888888888,\"#fdca26\"],[1.0,\"#f0f921\"]]}],\"contourcarpet\":[{\"type\":\"contourcarpet\",\"colorbar\":{\"outlinewidth\":0,\"ticks\":\"\"}}],\"contour\":[{\"type\":\"contour\",\"colorbar\":{\"outlinewidth\":0,\"ticks\":\"\"},\"colorscale\":[[0.0,\"#0d0887\"],[0.1111111111111111,\"#46039f\"],[0.2222222222222222,\"#7201a8\"],[0.3333333333333333,\"#9c179e\"],[0.4444444444444444,\"#bd3786\"],[0.5555555555555556,\"#d8576b\"],[0.6666666666666666,\"#ed7953\"],[0.7777777777777778,\"#fb9f3a\"],[0.8888888888888888,\"#fdca26\"],[1.0,\"#f0f921\"]]}],\"surface\":[{\"type\":\"surface\",\"colorbar\":{\"outlinewidth\":0,\"ticks\":\"\"},\"colorscale\":[[0.0,\"#0d0887\"],[0.1111111111111111,\"#46039f\"],[0.2222222222222222,\"#7201a8\"],[0.3333333333333333,\"#9c179e\"],[0.4444444444444444,\"#bd3786\"],[0.5555555555555556,\"#d8576b\"],[0.6666666666666666,\"#ed7953\"],[0.7777777777777778,\"#fb9f3a\"],[0.8888888888888888,\"#fdca26\"],[1.0,\"#f0f921\"]]}],\"mesh3d\":[{\"type\":\"mesh3d\",\"colorbar\":{\"outlinewidth\":0,\"ticks\":\"\"}}],\"scatter\":[{\"fillpattern\":{\"fillmode\":\"overlay\",\"size\":10,\"solidity\":0.2},\"type\":\"scatter\"}],\"parcoords\":[{\"type\":\"parcoords\",\"line\":{\"colorbar\":{\"outlinewidth\":0,\"ticks\":\"\"}}}],\"scatterpolargl\":[{\"type\":\"scatterpolargl\",\"marker\":{\"colorbar\":{\"outlinewidth\":0,\"ticks\":\"\"}}}],\"bar\":[{\"error_x\":{\"color\":\"#2a3f5f\"},\"error_y\":{\"color\":\"#2a3f5f\"},\"marker\":{\"line\":{\"color\":\"#E5ECF6\",\"width\":0.5},\"pattern\":{\"fillmode\":\"overlay\",\"size\":10,\"solidity\":0.2}},\"type\":\"bar\"}],\"scattergeo\":[{\"type\":\"scattergeo\",\"marker\":{\"colorbar\":{\"outlinewidth\":0,\"ticks\":\"\"}}}],\"scatterpolar\":[{\"type\":\"scatterpolar\",\"marker\":{\"colorbar\":{\"outlinewidth\":0,\"ticks\":\"\"}}}],\"histogram\":[{\"marker\":{\"pattern\":{\"fillmode\":\"overlay\",\"size\":10,\"solidity\":0.2}},\"type\":\"histogram\"}],\"scattergl\":[{\"type\":\"scattergl\",\"marker\":{\"colorbar\":{\"outlinewidth\":0,\"ticks\":\"\"}}}],\"scatter3d\":[{\"type\":\"scatter3d\",\"line\":{\"colorbar\":{\"outlinewidth\":0,\"ticks\":\"\"}},\"marker\":{\"colorbar\":{\"outlinewidth\":0,\"ticks\":\"\"}}}],\"scattermapbox\":[{\"type\":\"scattermapbox\",\"marker\":{\"colorbar\":{\"outlinewidth\":0,\"ticks\":\"\"}}}],\"scatterternary\":[{\"type\":\"scatterternary\",\"marker\":{\"colorbar\":{\"outlinewidth\":0,\"ticks\":\"\"}}}],\"scattercarpet\":[{\"type\":\"scattercarpet\",\"marker\":{\"colorbar\":{\"outlinewidth\":0,\"ticks\":\"\"}}}],\"carpet\":[{\"aaxis\":{\"endlinecolor\":\"#2a3f5f\",\"gridcolor\":\"white\",\"linecolor\":\"white\",\"minorgridcolor\":\"white\",\"startlinecolor\":\"#2a3f5f\"},\"baxis\":{\"endlinecolor\":\"#2a3f5f\",\"gridcolor\":\"white\",\"linecolor\":\"white\",\"minorgridcolor\":\"white\",\"startlinecolor\":\"#2a3f5f\"},\"type\":\"carpet\"}],\"table\":[{\"cells\":{\"fill\":{\"color\":\"#EBF0F8\"},\"line\":{\"color\":\"white\"}},\"header\":{\"fill\":{\"color\":\"#C8D4E3\"},\"line\":{\"color\":\"white\"}},\"type\":\"table\"}],\"barpolar\":[{\"marker\":{\"line\":{\"color\":\"#E5ECF6\",\"width\":0.5},\"pattern\":{\"fillmode\":\"overlay\",\"size\":10,\"solidity\":0.2}},\"type\":\"barpolar\"}],\"pie\":[{\"automargin\":true,\"type\":\"pie\"}]},\"layout\":{\"autotypenumbers\":\"strict\",\"colorway\":[\"#636efa\",\"#EF553B\",\"#00cc96\",\"#ab63fa\",\"#FFA15A\",\"#19d3f3\",\"#FF6692\",\"#B6E880\",\"#FF97FF\",\"#FECB52\"],\"font\":{\"color\":\"#2a3f5f\"},\"hovermode\":\"closest\",\"hoverlabel\":{\"align\":\"left\"},\"paper_bgcolor\":\"white\",\"plot_bgcolor\":\"#E5ECF6\",\"polar\":{\"bgcolor\":\"#E5ECF6\",\"angularaxis\":{\"gridcolor\":\"white\",\"linecolor\":\"white\",\"ticks\":\"\"},\"radialaxis\":{\"gridcolor\":\"white\",\"linecolor\":\"white\",\"ticks\":\"\"}},\"ternary\":{\"bgcolor\":\"#E5ECF6\",\"aaxis\":{\"gridcolor\":\"white\",\"linecolor\":\"white\",\"ticks\":\"\"},\"baxis\":{\"gridcolor\":\"white\",\"linecolor\":\"white\",\"ticks\":\"\"},\"caxis\":{\"gridcolor\":\"white\",\"linecolor\":\"white\",\"ticks\":\"\"}},\"coloraxis\":{\"colorbar\":{\"outlinewidth\":0,\"ticks\":\"\"}},\"colorscale\":{\"sequential\":[[0.0,\"#0d0887\"],[0.1111111111111111,\"#46039f\"],[0.2222222222222222,\"#7201a8\"],[0.3333333333333333,\"#9c179e\"],[0.4444444444444444,\"#bd3786\"],[0.5555555555555556,\"#d8576b\"],[0.6666666666666666,\"#ed7953\"],[0.7777777777777778,\"#fb9f3a\"],[0.8888888888888888,\"#fdca26\"],[1.0,\"#f0f921\"]],\"sequentialminus\":[[0.0,\"#0d0887\"],[0.1111111111111111,\"#46039f\"],[0.2222222222222222,\"#7201a8\"],[0.3333333333333333,\"#9c179e\"],[0.4444444444444444,\"#bd3786\"],[0.5555555555555556,\"#d8576b\"],[0.6666666666666666,\"#ed7953\"],[0.7777777777777778,\"#fb9f3a\"],[0.8888888888888888,\"#fdca26\"],[1.0,\"#f0f921\"]],\"diverging\":[[0,\"#8e0152\"],[0.1,\"#c51b7d\"],[0.2,\"#de77ae\"],[0.3,\"#f1b6da\"],[0.4,\"#fde0ef\"],[0.5,\"#f7f7f7\"],[0.6,\"#e6f5d0\"],[0.7,\"#b8e186\"],[0.8,\"#7fbc41\"],[0.9,\"#4d9221\"],[1,\"#276419\"]]},\"xaxis\":{\"gridcolor\":\"white\",\"linecolor\":\"white\",\"ticks\":\"\",\"title\":{\"standoff\":15},\"zerolinecolor\":\"white\",\"automargin\":true,\"zerolinewidth\":2},\"yaxis\":{\"gridcolor\":\"white\",\"linecolor\":\"white\",\"ticks\":\"\",\"title\":{\"standoff\":15},\"zerolinecolor\":\"white\",\"automargin\":true,\"zerolinewidth\":2},\"scene\":{\"xaxis\":{\"backgroundcolor\":\"#E5ECF6\",\"gridcolor\":\"white\",\"linecolor\":\"white\",\"showbackground\":true,\"ticks\":\"\",\"zerolinecolor\":\"white\",\"gridwidth\":2},\"yaxis\":{\"backgroundcolor\":\"#E5ECF6\",\"gridcolor\":\"white\",\"linecolor\":\"white\",\"showbackground\":true,\"ticks\":\"\",\"zerolinecolor\":\"white\",\"gridwidth\":2},\"zaxis\":{\"backgroundcolor\":\"#E5ECF6\",\"gridcolor\":\"white\",\"linecolor\":\"white\",\"showbackground\":true,\"ticks\":\"\",\"zerolinecolor\":\"white\",\"gridwidth\":2}},\"shapedefaults\":{\"line\":{\"color\":\"#2a3f5f\"}},\"annotationdefaults\":{\"arrowcolor\":\"#2a3f5f\",\"arrowhead\":0,\"arrowwidth\":1},\"geo\":{\"bgcolor\":\"white\",\"landcolor\":\"#E5ECF6\",\"subunitcolor\":\"white\",\"showland\":true,\"showlakes\":true,\"lakecolor\":\"white\"},\"title\":{\"x\":0.05},\"mapbox\":{\"style\":\"light\"}}},\"title\":{\"text\":\"Rate of change of different crime over time\"},\"xaxis\":{\"title\":{\"text\":\"YEAR\"}},\"yaxis\":{\"title\":{\"text\":\"Spread of Cases\"}}},                        {\"responsive\": true}                    ).then(function(){\n",
       "                            \n",
       "var gd = document.getElementById('b2e949c5-d570-41bb-a9bc-4a40db2cf78c');\n",
       "var x = new MutationObserver(function (mutations, observer) {{\n",
       "        var display = window.getComputedStyle(gd).display;\n",
       "        if (!display || display === 'none') {{\n",
       "            console.log([gd, 'removed!']);\n",
       "            Plotly.purge(gd);\n",
       "            observer.disconnect();\n",
       "        }}\n",
       "}});\n",
       "\n",
       "// Listen for the removal of the full notebook cells\n",
       "var notebookContainer = gd.closest('#notebook-container');\n",
       "if (notebookContainer) {{\n",
       "    x.observe(notebookContainer, {childList: true});\n",
       "}}\n",
       "\n",
       "// Listen for the clearing of the current output cell\n",
       "var outputEl = gd.closest('.output');\n",
       "if (outputEl) {{\n",
       "    x.observe(outputEl, {childList: true});\n",
       "}}\n",
       "\n",
       "                        })                };                });            </script>        </div>"
      ]
     },
     "metadata": {},
     "output_type": "display_data"
    }
   ],
   "source": [
    "#Rate of change of different crimes over time\n",
    "\n",
    "fig = go.Figure()\n",
    "color=[\"firebrick\",\"royalblue\",\"rgb(0, 204, 150)\"]\n",
    "dash=[\"solid\",\"dash\",\"dot\"]\n",
    "j=0\n",
    "for i in total_crimes_in_years_df.columns:\n",
    "    if i==\"Total Number of Cases\":\n",
    "        break\n",
    "    if i == \"YEAR\":\n",
    "        continue\n",
    "    fig.add_trace(go.Scatter(x=total_crimes_in_years_df.YEAR, y=total_crimes_in_years_df[i], name=i,\n",
    "                         line=dict(color=color[j % len(color)], width=4, dash=dash[j % len(dash)])))\n",
    "    j=j+1\n",
    "# Edit the layout\n",
    "fig.update_layout(title='Rate of change of different crime over time',\n",
    "                   xaxis_title='YEAR',\n",
    "                   yaxis_title='Spread of Cases')\n",
    "\n",
    "fig.show()\n",
    "fig = go.Figure()"
   ]
  },
  {
   "cell_type": "code",
   "execution_count": 28,
   "id": "83e16fce",
   "metadata": {},
   "outputs": [],
   "source": [
    "crimes_in_years_df=total_crimes_in_years_df.drop(\"Total Number of Cases\", axis=1)\n",
    "crimes_in_years_df.set_index(\"YEAR\", inplace = True)"
   ]
  },
  {
   "cell_type": "markdown",
   "id": "a0285c59",
   "metadata": {},
   "source": [
    "# Which has highest reported crome and which one was least?"
   ]
  },
  {
   "cell_type": "code",
   "execution_count": 29,
   "id": "7c3b38c4",
   "metadata": {},
   "outputs": [
    {
     "data": {
      "text/html": [
       "<div>\n",
       "<style scoped>\n",
       "    .dataframe tbody tr th:only-of-type {\n",
       "        vertical-align: middle;\n",
       "    }\n",
       "\n",
       "    .dataframe tbody tr th {\n",
       "        vertical-align: top;\n",
       "    }\n",
       "\n",
       "    .dataframe thead th {\n",
       "        text-align: right;\n",
       "    }\n",
       "</style>\n",
       "<table border=\"1\" class=\"dataframe\">\n",
       "  <thead>\n",
       "    <tr style=\"text-align: right;\">\n",
       "      <th></th>\n",
       "      <th>Count</th>\n",
       "    </tr>\n",
       "  </thead>\n",
       "  <tbody>\n",
       "    <tr>\n",
       "      <th>TOTAL IPC CRIMES</th>\n",
       "      <td>47881308</td>\n",
       "    </tr>\n",
       "    <tr>\n",
       "      <th>OTHER IPC CRIMES</th>\n",
       "      <td>19605658</td>\n",
       "    </tr>\n",
       "    <tr>\n",
       "      <th>THEFT</th>\n",
       "      <td>7001060</td>\n",
       "    </tr>\n",
       "    <tr>\n",
       "      <th>HURT/GREVIOUS HURT</th>\n",
       "      <td>6743752</td>\n",
       "    </tr>\n",
       "    <tr>\n",
       "      <th>OTHER THEFT</th>\n",
       "      <td>4460320</td>\n",
       "    </tr>\n",
       "    <tr>\n",
       "      <th>AUTO THEFT</th>\n",
       "      <td>2540740</td>\n",
       "    </tr>\n",
       "    <tr>\n",
       "      <th>BURGLARY</th>\n",
       "      <td>2234678</td>\n",
       "    </tr>\n",
       "    <tr>\n",
       "      <th>CAUSING DEATH BY NEGLIGENCE</th>\n",
       "      <td>2003728</td>\n",
       "    </tr>\n",
       "    <tr>\n",
       "      <th>CRUELTY BY HUSBAND OR HIS RELATIVES</th>\n",
       "      <td>1750402</td>\n",
       "    </tr>\n",
       "    <tr>\n",
       "      <th>RIOTS</th>\n",
       "      <td>1549854</td>\n",
       "    </tr>\n",
       "    <tr>\n",
       "      <th>CHEATING</th>\n",
       "      <td>1535194</td>\n",
       "    </tr>\n",
       "    <tr>\n",
       "      <th>ASSAULT ON WOMEN WITH INTENT TO OUTRAGE HER MODESTY</th>\n",
       "      <td>906310</td>\n",
       "    </tr>\n",
       "    <tr>\n",
       "      <th>MURDER</th>\n",
       "      <td>805086</td>\n",
       "    </tr>\n",
       "    <tr>\n",
       "      <th>KIDNAPPING &amp; ABDUCTION</th>\n",
       "      <td>713714</td>\n",
       "    </tr>\n",
       "    <tr>\n",
       "      <th>ATTEMPT TO MURDER</th>\n",
       "      <td>703954</td>\n",
       "    </tr>\n",
       "    <tr>\n",
       "      <th>KIDNAPPING AND ABDUCTION OF WOMEN AND GIRLS</th>\n",
       "      <td>527814</td>\n",
       "    </tr>\n",
       "    <tr>\n",
       "      <th>ROBBERY</th>\n",
       "      <td>496534</td>\n",
       "    </tr>\n",
       "    <tr>\n",
       "      <th>RAPE</th>\n",
       "      <td>478274</td>\n",
       "    </tr>\n",
       "    <tr>\n",
       "      <th>OTHER RAPE</th>\n",
       "      <td>478222</td>\n",
       "    </tr>\n",
       "    <tr>\n",
       "      <th>CRIMINAL BREACH OF TRUST</th>\n",
       "      <td>368042</td>\n",
       "    </tr>\n",
       "    <tr>\n",
       "      <th>INSULT TO MODESTY OF WOMEN</th>\n",
       "      <td>248108</td>\n",
       "    </tr>\n",
       "    <tr>\n",
       "      <th>ARSON</th>\n",
       "      <td>227408</td>\n",
       "    </tr>\n",
       "    <tr>\n",
       "      <th>KIDNAPPING AND ABDUCTION OF OTHERS</th>\n",
       "      <td>185900</td>\n",
       "    </tr>\n",
       "    <tr>\n",
       "      <th>DOWRY DEATHS</th>\n",
       "      <td>182404</td>\n",
       "    </tr>\n",
       "    <tr>\n",
       "      <th>DACOITY</th>\n",
       "      <td>118818</td>\n",
       "    </tr>\n",
       "    <tr>\n",
       "      <th>CULPABLE HOMICIDE NOT AMOUNTING TO MURDER</th>\n",
       "      <td>89228</td>\n",
       "    </tr>\n",
       "    <tr>\n",
       "      <th>PREPARATION AND ASSEMBLY FOR DACOITY</th>\n",
       "      <td>63882</td>\n",
       "    </tr>\n",
       "    <tr>\n",
       "      <th>COUNTERFIETING</th>\n",
       "      <td>53436</td>\n",
       "    </tr>\n",
       "    <tr>\n",
       "      <th>IMPORTATION OF GIRLS FROM FOREIGN COUNTRIES</th>\n",
       "      <td>1784</td>\n",
       "    </tr>\n",
       "    <tr>\n",
       "      <th>CUSTODIAL RAPE</th>\n",
       "      <td>52</td>\n",
       "    </tr>\n",
       "  </tbody>\n",
       "</table>\n",
       "</div>"
      ],
      "text/plain": [
       "                                                       Count\n",
       "TOTAL IPC CRIMES                                    47881308\n",
       "OTHER IPC CRIMES                                    19605658\n",
       "THEFT                                                7001060\n",
       "HURT/GREVIOUS HURT                                   6743752\n",
       "OTHER THEFT                                          4460320\n",
       "AUTO THEFT                                           2540740\n",
       "BURGLARY                                             2234678\n",
       "CAUSING DEATH BY NEGLIGENCE                          2003728\n",
       "CRUELTY BY HUSBAND OR HIS RELATIVES                  1750402\n",
       "RIOTS                                                1549854\n",
       "CHEATING                                             1535194\n",
       "ASSAULT ON WOMEN WITH INTENT TO OUTRAGE HER MOD...    906310\n",
       "MURDER                                                805086\n",
       "KIDNAPPING & ABDUCTION                                713714\n",
       "ATTEMPT TO MURDER                                     703954\n",
       "KIDNAPPING AND ABDUCTION OF WOMEN AND GIRLS           527814\n",
       "ROBBERY                                               496534\n",
       "RAPE                                                  478274\n",
       "OTHER RAPE                                            478222\n",
       "CRIMINAL BREACH OF TRUST                              368042\n",
       "INSULT TO MODESTY OF WOMEN                            248108\n",
       "ARSON                                                 227408\n",
       "KIDNAPPING AND ABDUCTION OF OTHERS                    185900\n",
       "DOWRY DEATHS                                          182404\n",
       "DACOITY                                               118818\n",
       "CULPABLE HOMICIDE NOT AMOUNTING TO MURDER              89228\n",
       "PREPARATION AND ASSEMBLY FOR DACOITY                   63882\n",
       "COUNTERFIETING                                         53436\n",
       "IMPORTATION OF GIRLS FROM FOREIGN COUNTRIES             1784\n",
       "CUSTODIAL RAPE                                            52"
      ]
     },
     "execution_count": 29,
     "metadata": {},
     "output_type": "execute_result"
    }
   ],
   "source": [
    "pd.DataFrame(crimes_in_years_df.sum(axis=0),columns=['Count']).sort_values(by='Count',ascending=False)"
   ]
  },
  {
   "cell_type": "markdown",
   "id": "52452b5a",
   "metadata": {},
   "source": [
    "\n",
    "# Percentage of each crime"
   ]
  },
  {
   "cell_type": "code",
   "execution_count": 31,
   "id": "933c421f",
   "metadata": {},
   "outputs": [
    {
     "data": {
      "application/vnd.plotly.v1+json": {
       "config": {
        "plotlyServerURL": "https://plot.ly"
       },
       "data": [
        {
         "domain": {
          "x": [
           0,
           1
          ],
          "y": [
           0,
           1
          ]
         },
         "hovertemplate": "index=%{label}<br>Count=%{value}<extra></extra>",
         "labels": [
          "MURDER",
          "ATTEMPT TO MURDER",
          "CULPABLE HOMICIDE NOT AMOUNTING TO MURDER",
          "RAPE",
          "CUSTODIAL RAPE",
          "OTHER RAPE",
          "KIDNAPPING & ABDUCTION",
          "KIDNAPPING AND ABDUCTION OF WOMEN AND GIRLS",
          "KIDNAPPING AND ABDUCTION OF OTHERS",
          "DACOITY",
          "PREPARATION AND ASSEMBLY FOR DACOITY",
          "ROBBERY",
          "BURGLARY",
          "THEFT",
          "AUTO THEFT",
          "OTHER THEFT",
          "RIOTS",
          "CRIMINAL BREACH OF TRUST",
          "CHEATING",
          "COUNTERFIETING",
          "ARSON",
          "HURT/GREVIOUS HURT",
          "DOWRY DEATHS",
          "ASSAULT ON WOMEN WITH INTENT TO OUTRAGE HER MODESTY",
          "INSULT TO MODESTY OF WOMEN",
          "CRUELTY BY HUSBAND OR HIS RELATIVES",
          "IMPORTATION OF GIRLS FROM FOREIGN COUNTRIES",
          "CAUSING DEATH BY NEGLIGENCE",
          "OTHER IPC CRIMES",
          "TOTAL IPC CRIMES"
         ],
         "legendgroup": "",
         "name": "",
         "showlegend": true,
         "type": "pie",
         "values": [
          805086,
          703954,
          89228,
          478274,
          52,
          478222,
          713714,
          527814,
          185900,
          118818,
          63882,
          496534,
          2234678,
          7001060,
          2540740,
          4460320,
          1549854,
          368042,
          1535194,
          53436,
          227408,
          6743752,
          182404,
          906310,
          248108,
          1750402,
          1784,
          2003728,
          19605658,
          47881308
         ]
        }
       ],
       "layout": {
        "legend": {
         "tracegroupgap": 0
        },
        "template": {
         "data": {
          "bar": [
           {
            "error_x": {
             "color": "#2a3f5f"
            },
            "error_y": {
             "color": "#2a3f5f"
            },
            "marker": {
             "line": {
              "color": "#E5ECF6",
              "width": 0.5
             },
             "pattern": {
              "fillmode": "overlay",
              "size": 10,
              "solidity": 0.2
             }
            },
            "type": "bar"
           }
          ],
          "barpolar": [
           {
            "marker": {
             "line": {
              "color": "#E5ECF6",
              "width": 0.5
             },
             "pattern": {
              "fillmode": "overlay",
              "size": 10,
              "solidity": 0.2
             }
            },
            "type": "barpolar"
           }
          ],
          "carpet": [
           {
            "aaxis": {
             "endlinecolor": "#2a3f5f",
             "gridcolor": "white",
             "linecolor": "white",
             "minorgridcolor": "white",
             "startlinecolor": "#2a3f5f"
            },
            "baxis": {
             "endlinecolor": "#2a3f5f",
             "gridcolor": "white",
             "linecolor": "white",
             "minorgridcolor": "white",
             "startlinecolor": "#2a3f5f"
            },
            "type": "carpet"
           }
          ],
          "choropleth": [
           {
            "colorbar": {
             "outlinewidth": 0,
             "ticks": ""
            },
            "type": "choropleth"
           }
          ],
          "contour": [
           {
            "colorbar": {
             "outlinewidth": 0,
             "ticks": ""
            },
            "colorscale": [
             [
              0,
              "#0d0887"
             ],
             [
              0.1111111111111111,
              "#46039f"
             ],
             [
              0.2222222222222222,
              "#7201a8"
             ],
             [
              0.3333333333333333,
              "#9c179e"
             ],
             [
              0.4444444444444444,
              "#bd3786"
             ],
             [
              0.5555555555555556,
              "#d8576b"
             ],
             [
              0.6666666666666666,
              "#ed7953"
             ],
             [
              0.7777777777777778,
              "#fb9f3a"
             ],
             [
              0.8888888888888888,
              "#fdca26"
             ],
             [
              1,
              "#f0f921"
             ]
            ],
            "type": "contour"
           }
          ],
          "contourcarpet": [
           {
            "colorbar": {
             "outlinewidth": 0,
             "ticks": ""
            },
            "type": "contourcarpet"
           }
          ],
          "heatmap": [
           {
            "colorbar": {
             "outlinewidth": 0,
             "ticks": ""
            },
            "colorscale": [
             [
              0,
              "#0d0887"
             ],
             [
              0.1111111111111111,
              "#46039f"
             ],
             [
              0.2222222222222222,
              "#7201a8"
             ],
             [
              0.3333333333333333,
              "#9c179e"
             ],
             [
              0.4444444444444444,
              "#bd3786"
             ],
             [
              0.5555555555555556,
              "#d8576b"
             ],
             [
              0.6666666666666666,
              "#ed7953"
             ],
             [
              0.7777777777777778,
              "#fb9f3a"
             ],
             [
              0.8888888888888888,
              "#fdca26"
             ],
             [
              1,
              "#f0f921"
             ]
            ],
            "type": "heatmap"
           }
          ],
          "heatmapgl": [
           {
            "colorbar": {
             "outlinewidth": 0,
             "ticks": ""
            },
            "colorscale": [
             [
              0,
              "#0d0887"
             ],
             [
              0.1111111111111111,
              "#46039f"
             ],
             [
              0.2222222222222222,
              "#7201a8"
             ],
             [
              0.3333333333333333,
              "#9c179e"
             ],
             [
              0.4444444444444444,
              "#bd3786"
             ],
             [
              0.5555555555555556,
              "#d8576b"
             ],
             [
              0.6666666666666666,
              "#ed7953"
             ],
             [
              0.7777777777777778,
              "#fb9f3a"
             ],
             [
              0.8888888888888888,
              "#fdca26"
             ],
             [
              1,
              "#f0f921"
             ]
            ],
            "type": "heatmapgl"
           }
          ],
          "histogram": [
           {
            "marker": {
             "pattern": {
              "fillmode": "overlay",
              "size": 10,
              "solidity": 0.2
             }
            },
            "type": "histogram"
           }
          ],
          "histogram2d": [
           {
            "colorbar": {
             "outlinewidth": 0,
             "ticks": ""
            },
            "colorscale": [
             [
              0,
              "#0d0887"
             ],
             [
              0.1111111111111111,
              "#46039f"
             ],
             [
              0.2222222222222222,
              "#7201a8"
             ],
             [
              0.3333333333333333,
              "#9c179e"
             ],
             [
              0.4444444444444444,
              "#bd3786"
             ],
             [
              0.5555555555555556,
              "#d8576b"
             ],
             [
              0.6666666666666666,
              "#ed7953"
             ],
             [
              0.7777777777777778,
              "#fb9f3a"
             ],
             [
              0.8888888888888888,
              "#fdca26"
             ],
             [
              1,
              "#f0f921"
             ]
            ],
            "type": "histogram2d"
           }
          ],
          "histogram2dcontour": [
           {
            "colorbar": {
             "outlinewidth": 0,
             "ticks": ""
            },
            "colorscale": [
             [
              0,
              "#0d0887"
             ],
             [
              0.1111111111111111,
              "#46039f"
             ],
             [
              0.2222222222222222,
              "#7201a8"
             ],
             [
              0.3333333333333333,
              "#9c179e"
             ],
             [
              0.4444444444444444,
              "#bd3786"
             ],
             [
              0.5555555555555556,
              "#d8576b"
             ],
             [
              0.6666666666666666,
              "#ed7953"
             ],
             [
              0.7777777777777778,
              "#fb9f3a"
             ],
             [
              0.8888888888888888,
              "#fdca26"
             ],
             [
              1,
              "#f0f921"
             ]
            ],
            "type": "histogram2dcontour"
           }
          ],
          "mesh3d": [
           {
            "colorbar": {
             "outlinewidth": 0,
             "ticks": ""
            },
            "type": "mesh3d"
           }
          ],
          "parcoords": [
           {
            "line": {
             "colorbar": {
              "outlinewidth": 0,
              "ticks": ""
             }
            },
            "type": "parcoords"
           }
          ],
          "pie": [
           {
            "automargin": true,
            "type": "pie"
           }
          ],
          "scatter": [
           {
            "fillpattern": {
             "fillmode": "overlay",
             "size": 10,
             "solidity": 0.2
            },
            "type": "scatter"
           }
          ],
          "scatter3d": [
           {
            "line": {
             "colorbar": {
              "outlinewidth": 0,
              "ticks": ""
             }
            },
            "marker": {
             "colorbar": {
              "outlinewidth": 0,
              "ticks": ""
             }
            },
            "type": "scatter3d"
           }
          ],
          "scattercarpet": [
           {
            "marker": {
             "colorbar": {
              "outlinewidth": 0,
              "ticks": ""
             }
            },
            "type": "scattercarpet"
           }
          ],
          "scattergeo": [
           {
            "marker": {
             "colorbar": {
              "outlinewidth": 0,
              "ticks": ""
             }
            },
            "type": "scattergeo"
           }
          ],
          "scattergl": [
           {
            "marker": {
             "colorbar": {
              "outlinewidth": 0,
              "ticks": ""
             }
            },
            "type": "scattergl"
           }
          ],
          "scattermapbox": [
           {
            "marker": {
             "colorbar": {
              "outlinewidth": 0,
              "ticks": ""
             }
            },
            "type": "scattermapbox"
           }
          ],
          "scatterpolar": [
           {
            "marker": {
             "colorbar": {
              "outlinewidth": 0,
              "ticks": ""
             }
            },
            "type": "scatterpolar"
           }
          ],
          "scatterpolargl": [
           {
            "marker": {
             "colorbar": {
              "outlinewidth": 0,
              "ticks": ""
             }
            },
            "type": "scatterpolargl"
           }
          ],
          "scatterternary": [
           {
            "marker": {
             "colorbar": {
              "outlinewidth": 0,
              "ticks": ""
             }
            },
            "type": "scatterternary"
           }
          ],
          "surface": [
           {
            "colorbar": {
             "outlinewidth": 0,
             "ticks": ""
            },
            "colorscale": [
             [
              0,
              "#0d0887"
             ],
             [
              0.1111111111111111,
              "#46039f"
             ],
             [
              0.2222222222222222,
              "#7201a8"
             ],
             [
              0.3333333333333333,
              "#9c179e"
             ],
             [
              0.4444444444444444,
              "#bd3786"
             ],
             [
              0.5555555555555556,
              "#d8576b"
             ],
             [
              0.6666666666666666,
              "#ed7953"
             ],
             [
              0.7777777777777778,
              "#fb9f3a"
             ],
             [
              0.8888888888888888,
              "#fdca26"
             ],
             [
              1,
              "#f0f921"
             ]
            ],
            "type": "surface"
           }
          ],
          "table": [
           {
            "cells": {
             "fill": {
              "color": "#EBF0F8"
             },
             "line": {
              "color": "white"
             }
            },
            "header": {
             "fill": {
              "color": "#C8D4E3"
             },
             "line": {
              "color": "white"
             }
            },
            "type": "table"
           }
          ]
         },
         "layout": {
          "annotationdefaults": {
           "arrowcolor": "#2a3f5f",
           "arrowhead": 0,
           "arrowwidth": 1
          },
          "autotypenumbers": "strict",
          "coloraxis": {
           "colorbar": {
            "outlinewidth": 0,
            "ticks": ""
           }
          },
          "colorscale": {
           "diverging": [
            [
             0,
             "#8e0152"
            ],
            [
             0.1,
             "#c51b7d"
            ],
            [
             0.2,
             "#de77ae"
            ],
            [
             0.3,
             "#f1b6da"
            ],
            [
             0.4,
             "#fde0ef"
            ],
            [
             0.5,
             "#f7f7f7"
            ],
            [
             0.6,
             "#e6f5d0"
            ],
            [
             0.7,
             "#b8e186"
            ],
            [
             0.8,
             "#7fbc41"
            ],
            [
             0.9,
             "#4d9221"
            ],
            [
             1,
             "#276419"
            ]
           ],
           "sequential": [
            [
             0,
             "#0d0887"
            ],
            [
             0.1111111111111111,
             "#46039f"
            ],
            [
             0.2222222222222222,
             "#7201a8"
            ],
            [
             0.3333333333333333,
             "#9c179e"
            ],
            [
             0.4444444444444444,
             "#bd3786"
            ],
            [
             0.5555555555555556,
             "#d8576b"
            ],
            [
             0.6666666666666666,
             "#ed7953"
            ],
            [
             0.7777777777777778,
             "#fb9f3a"
            ],
            [
             0.8888888888888888,
             "#fdca26"
            ],
            [
             1,
             "#f0f921"
            ]
           ],
           "sequentialminus": [
            [
             0,
             "#0d0887"
            ],
            [
             0.1111111111111111,
             "#46039f"
            ],
            [
             0.2222222222222222,
             "#7201a8"
            ],
            [
             0.3333333333333333,
             "#9c179e"
            ],
            [
             0.4444444444444444,
             "#bd3786"
            ],
            [
             0.5555555555555556,
             "#d8576b"
            ],
            [
             0.6666666666666666,
             "#ed7953"
            ],
            [
             0.7777777777777778,
             "#fb9f3a"
            ],
            [
             0.8888888888888888,
             "#fdca26"
            ],
            [
             1,
             "#f0f921"
            ]
           ]
          },
          "colorway": [
           "#636efa",
           "#EF553B",
           "#00cc96",
           "#ab63fa",
           "#FFA15A",
           "#19d3f3",
           "#FF6692",
           "#B6E880",
           "#FF97FF",
           "#FECB52"
          ],
          "font": {
           "color": "#2a3f5f"
          },
          "geo": {
           "bgcolor": "white",
           "lakecolor": "white",
           "landcolor": "#E5ECF6",
           "showlakes": true,
           "showland": true,
           "subunitcolor": "white"
          },
          "hoverlabel": {
           "align": "left"
          },
          "hovermode": "closest",
          "mapbox": {
           "style": "light"
          },
          "paper_bgcolor": "white",
          "plot_bgcolor": "#E5ECF6",
          "polar": {
           "angularaxis": {
            "gridcolor": "white",
            "linecolor": "white",
            "ticks": ""
           },
           "bgcolor": "#E5ECF6",
           "radialaxis": {
            "gridcolor": "white",
            "linecolor": "white",
            "ticks": ""
           }
          },
          "scene": {
           "xaxis": {
            "backgroundcolor": "#E5ECF6",
            "gridcolor": "white",
            "gridwidth": 2,
            "linecolor": "white",
            "showbackground": true,
            "ticks": "",
            "zerolinecolor": "white"
           },
           "yaxis": {
            "backgroundcolor": "#E5ECF6",
            "gridcolor": "white",
            "gridwidth": 2,
            "linecolor": "white",
            "showbackground": true,
            "ticks": "",
            "zerolinecolor": "white"
           },
           "zaxis": {
            "backgroundcolor": "#E5ECF6",
            "gridcolor": "white",
            "gridwidth": 2,
            "linecolor": "white",
            "showbackground": true,
            "ticks": "",
            "zerolinecolor": "white"
           }
          },
          "shapedefaults": {
           "line": {
            "color": "#2a3f5f"
           }
          },
          "ternary": {
           "aaxis": {
            "gridcolor": "white",
            "linecolor": "white",
            "ticks": ""
           },
           "baxis": {
            "gridcolor": "white",
            "linecolor": "white",
            "ticks": ""
           },
           "bgcolor": "#E5ECF6",
           "caxis": {
            "gridcolor": "white",
            "linecolor": "white",
            "ticks": ""
           }
          },
          "title": {
           "x": 0.05
          },
          "xaxis": {
           "automargin": true,
           "gridcolor": "white",
           "linecolor": "white",
           "ticks": "",
           "title": {
            "standoff": 15
           },
           "zerolinecolor": "white",
           "zerolinewidth": 2
          },
          "yaxis": {
           "automargin": true,
           "gridcolor": "white",
           "linecolor": "white",
           "ticks": "",
           "title": {
            "standoff": 15
           },
           "zerolinecolor": "white",
           "zerolinewidth": 2
          }
         }
        },
        "title": {
         "text": "Percentage of Each Crime between 2001 - 2014"
        }
       }
      },
      "text/html": [
       "<div>                            <div id=\"0e12fa74-b7ca-4623-b857-a94613c98192\" class=\"plotly-graph-div\" style=\"height:525px; width:100%;\"></div>            <script type=\"text/javascript\">                require([\"plotly\"], function(Plotly) {                    window.PLOTLYENV=window.PLOTLYENV || {};                                    if (document.getElementById(\"0e12fa74-b7ca-4623-b857-a94613c98192\")) {                    Plotly.newPlot(                        \"0e12fa74-b7ca-4623-b857-a94613c98192\",                        [{\"domain\":{\"x\":[0.0,1.0],\"y\":[0.0,1.0]},\"hovertemplate\":\"index=%{label}<br>Count=%{value}<extra></extra>\",\"labels\":[\"MURDER\",\"ATTEMPT TO MURDER\",\"CULPABLE HOMICIDE NOT AMOUNTING TO MURDER\",\"RAPE\",\"CUSTODIAL RAPE\",\"OTHER RAPE\",\"KIDNAPPING & ABDUCTION\",\"KIDNAPPING AND ABDUCTION OF WOMEN AND GIRLS\",\"KIDNAPPING AND ABDUCTION OF OTHERS\",\"DACOITY\",\"PREPARATION AND ASSEMBLY FOR DACOITY\",\"ROBBERY\",\"BURGLARY\",\"THEFT\",\"AUTO THEFT\",\"OTHER THEFT\",\"RIOTS\",\"CRIMINAL BREACH OF TRUST\",\"CHEATING\",\"COUNTERFIETING\",\"ARSON\",\"HURT/GREVIOUS HURT\",\"DOWRY DEATHS\",\"ASSAULT ON WOMEN WITH INTENT TO OUTRAGE HER MODESTY\",\"INSULT TO MODESTY OF WOMEN\",\"CRUELTY BY HUSBAND OR HIS RELATIVES\",\"IMPORTATION OF GIRLS FROM FOREIGN COUNTRIES\",\"CAUSING DEATH BY NEGLIGENCE\",\"OTHER IPC CRIMES\",\"TOTAL IPC CRIMES\"],\"legendgroup\":\"\",\"name\":\"\",\"showlegend\":true,\"values\":[805086,703954,89228,478274,52,478222,713714,527814,185900,118818,63882,496534,2234678,7001060,2540740,4460320,1549854,368042,1535194,53436,227408,6743752,182404,906310,248108,1750402,1784,2003728,19605658,47881308],\"type\":\"pie\"}],                        {\"template\":{\"data\":{\"histogram2dcontour\":[{\"type\":\"histogram2dcontour\",\"colorbar\":{\"outlinewidth\":0,\"ticks\":\"\"},\"colorscale\":[[0.0,\"#0d0887\"],[0.1111111111111111,\"#46039f\"],[0.2222222222222222,\"#7201a8\"],[0.3333333333333333,\"#9c179e\"],[0.4444444444444444,\"#bd3786\"],[0.5555555555555556,\"#d8576b\"],[0.6666666666666666,\"#ed7953\"],[0.7777777777777778,\"#fb9f3a\"],[0.8888888888888888,\"#fdca26\"],[1.0,\"#f0f921\"]]}],\"choropleth\":[{\"type\":\"choropleth\",\"colorbar\":{\"outlinewidth\":0,\"ticks\":\"\"}}],\"histogram2d\":[{\"type\":\"histogram2d\",\"colorbar\":{\"outlinewidth\":0,\"ticks\":\"\"},\"colorscale\":[[0.0,\"#0d0887\"],[0.1111111111111111,\"#46039f\"],[0.2222222222222222,\"#7201a8\"],[0.3333333333333333,\"#9c179e\"],[0.4444444444444444,\"#bd3786\"],[0.5555555555555556,\"#d8576b\"],[0.6666666666666666,\"#ed7953\"],[0.7777777777777778,\"#fb9f3a\"],[0.8888888888888888,\"#fdca26\"],[1.0,\"#f0f921\"]]}],\"heatmap\":[{\"type\":\"heatmap\",\"colorbar\":{\"outlinewidth\":0,\"ticks\":\"\"},\"colorscale\":[[0.0,\"#0d0887\"],[0.1111111111111111,\"#46039f\"],[0.2222222222222222,\"#7201a8\"],[0.3333333333333333,\"#9c179e\"],[0.4444444444444444,\"#bd3786\"],[0.5555555555555556,\"#d8576b\"],[0.6666666666666666,\"#ed7953\"],[0.7777777777777778,\"#fb9f3a\"],[0.8888888888888888,\"#fdca26\"],[1.0,\"#f0f921\"]]}],\"heatmapgl\":[{\"type\":\"heatmapgl\",\"colorbar\":{\"outlinewidth\":0,\"ticks\":\"\"},\"colorscale\":[[0.0,\"#0d0887\"],[0.1111111111111111,\"#46039f\"],[0.2222222222222222,\"#7201a8\"],[0.3333333333333333,\"#9c179e\"],[0.4444444444444444,\"#bd3786\"],[0.5555555555555556,\"#d8576b\"],[0.6666666666666666,\"#ed7953\"],[0.7777777777777778,\"#fb9f3a\"],[0.8888888888888888,\"#fdca26\"],[1.0,\"#f0f921\"]]}],\"contourcarpet\":[{\"type\":\"contourcarpet\",\"colorbar\":{\"outlinewidth\":0,\"ticks\":\"\"}}],\"contour\":[{\"type\":\"contour\",\"colorbar\":{\"outlinewidth\":0,\"ticks\":\"\"},\"colorscale\":[[0.0,\"#0d0887\"],[0.1111111111111111,\"#46039f\"],[0.2222222222222222,\"#7201a8\"],[0.3333333333333333,\"#9c179e\"],[0.4444444444444444,\"#bd3786\"],[0.5555555555555556,\"#d8576b\"],[0.6666666666666666,\"#ed7953\"],[0.7777777777777778,\"#fb9f3a\"],[0.8888888888888888,\"#fdca26\"],[1.0,\"#f0f921\"]]}],\"surface\":[{\"type\":\"surface\",\"colorbar\":{\"outlinewidth\":0,\"ticks\":\"\"},\"colorscale\":[[0.0,\"#0d0887\"],[0.1111111111111111,\"#46039f\"],[0.2222222222222222,\"#7201a8\"],[0.3333333333333333,\"#9c179e\"],[0.4444444444444444,\"#bd3786\"],[0.5555555555555556,\"#d8576b\"],[0.6666666666666666,\"#ed7953\"],[0.7777777777777778,\"#fb9f3a\"],[0.8888888888888888,\"#fdca26\"],[1.0,\"#f0f921\"]]}],\"mesh3d\":[{\"type\":\"mesh3d\",\"colorbar\":{\"outlinewidth\":0,\"ticks\":\"\"}}],\"scatter\":[{\"fillpattern\":{\"fillmode\":\"overlay\",\"size\":10,\"solidity\":0.2},\"type\":\"scatter\"}],\"parcoords\":[{\"type\":\"parcoords\",\"line\":{\"colorbar\":{\"outlinewidth\":0,\"ticks\":\"\"}}}],\"scatterpolargl\":[{\"type\":\"scatterpolargl\",\"marker\":{\"colorbar\":{\"outlinewidth\":0,\"ticks\":\"\"}}}],\"bar\":[{\"error_x\":{\"color\":\"#2a3f5f\"},\"error_y\":{\"color\":\"#2a3f5f\"},\"marker\":{\"line\":{\"color\":\"#E5ECF6\",\"width\":0.5},\"pattern\":{\"fillmode\":\"overlay\",\"size\":10,\"solidity\":0.2}},\"type\":\"bar\"}],\"scattergeo\":[{\"type\":\"scattergeo\",\"marker\":{\"colorbar\":{\"outlinewidth\":0,\"ticks\":\"\"}}}],\"scatterpolar\":[{\"type\":\"scatterpolar\",\"marker\":{\"colorbar\":{\"outlinewidth\":0,\"ticks\":\"\"}}}],\"histogram\":[{\"marker\":{\"pattern\":{\"fillmode\":\"overlay\",\"size\":10,\"solidity\":0.2}},\"type\":\"histogram\"}],\"scattergl\":[{\"type\":\"scattergl\",\"marker\":{\"colorbar\":{\"outlinewidth\":0,\"ticks\":\"\"}}}],\"scatter3d\":[{\"type\":\"scatter3d\",\"line\":{\"colorbar\":{\"outlinewidth\":0,\"ticks\":\"\"}},\"marker\":{\"colorbar\":{\"outlinewidth\":0,\"ticks\":\"\"}}}],\"scattermapbox\":[{\"type\":\"scattermapbox\",\"marker\":{\"colorbar\":{\"outlinewidth\":0,\"ticks\":\"\"}}}],\"scatterternary\":[{\"type\":\"scatterternary\",\"marker\":{\"colorbar\":{\"outlinewidth\":0,\"ticks\":\"\"}}}],\"scattercarpet\":[{\"type\":\"scattercarpet\",\"marker\":{\"colorbar\":{\"outlinewidth\":0,\"ticks\":\"\"}}}],\"carpet\":[{\"aaxis\":{\"endlinecolor\":\"#2a3f5f\",\"gridcolor\":\"white\",\"linecolor\":\"white\",\"minorgridcolor\":\"white\",\"startlinecolor\":\"#2a3f5f\"},\"baxis\":{\"endlinecolor\":\"#2a3f5f\",\"gridcolor\":\"white\",\"linecolor\":\"white\",\"minorgridcolor\":\"white\",\"startlinecolor\":\"#2a3f5f\"},\"type\":\"carpet\"}],\"table\":[{\"cells\":{\"fill\":{\"color\":\"#EBF0F8\"},\"line\":{\"color\":\"white\"}},\"header\":{\"fill\":{\"color\":\"#C8D4E3\"},\"line\":{\"color\":\"white\"}},\"type\":\"table\"}],\"barpolar\":[{\"marker\":{\"line\":{\"color\":\"#E5ECF6\",\"width\":0.5},\"pattern\":{\"fillmode\":\"overlay\",\"size\":10,\"solidity\":0.2}},\"type\":\"barpolar\"}],\"pie\":[{\"automargin\":true,\"type\":\"pie\"}]},\"layout\":{\"autotypenumbers\":\"strict\",\"colorway\":[\"#636efa\",\"#EF553B\",\"#00cc96\",\"#ab63fa\",\"#FFA15A\",\"#19d3f3\",\"#FF6692\",\"#B6E880\",\"#FF97FF\",\"#FECB52\"],\"font\":{\"color\":\"#2a3f5f\"},\"hovermode\":\"closest\",\"hoverlabel\":{\"align\":\"left\"},\"paper_bgcolor\":\"white\",\"plot_bgcolor\":\"#E5ECF6\",\"polar\":{\"bgcolor\":\"#E5ECF6\",\"angularaxis\":{\"gridcolor\":\"white\",\"linecolor\":\"white\",\"ticks\":\"\"},\"radialaxis\":{\"gridcolor\":\"white\",\"linecolor\":\"white\",\"ticks\":\"\"}},\"ternary\":{\"bgcolor\":\"#E5ECF6\",\"aaxis\":{\"gridcolor\":\"white\",\"linecolor\":\"white\",\"ticks\":\"\"},\"baxis\":{\"gridcolor\":\"white\",\"linecolor\":\"white\",\"ticks\":\"\"},\"caxis\":{\"gridcolor\":\"white\",\"linecolor\":\"white\",\"ticks\":\"\"}},\"coloraxis\":{\"colorbar\":{\"outlinewidth\":0,\"ticks\":\"\"}},\"colorscale\":{\"sequential\":[[0.0,\"#0d0887\"],[0.1111111111111111,\"#46039f\"],[0.2222222222222222,\"#7201a8\"],[0.3333333333333333,\"#9c179e\"],[0.4444444444444444,\"#bd3786\"],[0.5555555555555556,\"#d8576b\"],[0.6666666666666666,\"#ed7953\"],[0.7777777777777778,\"#fb9f3a\"],[0.8888888888888888,\"#fdca26\"],[1.0,\"#f0f921\"]],\"sequentialminus\":[[0.0,\"#0d0887\"],[0.1111111111111111,\"#46039f\"],[0.2222222222222222,\"#7201a8\"],[0.3333333333333333,\"#9c179e\"],[0.4444444444444444,\"#bd3786\"],[0.5555555555555556,\"#d8576b\"],[0.6666666666666666,\"#ed7953\"],[0.7777777777777778,\"#fb9f3a\"],[0.8888888888888888,\"#fdca26\"],[1.0,\"#f0f921\"]],\"diverging\":[[0,\"#8e0152\"],[0.1,\"#c51b7d\"],[0.2,\"#de77ae\"],[0.3,\"#f1b6da\"],[0.4,\"#fde0ef\"],[0.5,\"#f7f7f7\"],[0.6,\"#e6f5d0\"],[0.7,\"#b8e186\"],[0.8,\"#7fbc41\"],[0.9,\"#4d9221\"],[1,\"#276419\"]]},\"xaxis\":{\"gridcolor\":\"white\",\"linecolor\":\"white\",\"ticks\":\"\",\"title\":{\"standoff\":15},\"zerolinecolor\":\"white\",\"automargin\":true,\"zerolinewidth\":2},\"yaxis\":{\"gridcolor\":\"white\",\"linecolor\":\"white\",\"ticks\":\"\",\"title\":{\"standoff\":15},\"zerolinecolor\":\"white\",\"automargin\":true,\"zerolinewidth\":2},\"scene\":{\"xaxis\":{\"backgroundcolor\":\"#E5ECF6\",\"gridcolor\":\"white\",\"linecolor\":\"white\",\"showbackground\":true,\"ticks\":\"\",\"zerolinecolor\":\"white\",\"gridwidth\":2},\"yaxis\":{\"backgroundcolor\":\"#E5ECF6\",\"gridcolor\":\"white\",\"linecolor\":\"white\",\"showbackground\":true,\"ticks\":\"\",\"zerolinecolor\":\"white\",\"gridwidth\":2},\"zaxis\":{\"backgroundcolor\":\"#E5ECF6\",\"gridcolor\":\"white\",\"linecolor\":\"white\",\"showbackground\":true,\"ticks\":\"\",\"zerolinecolor\":\"white\",\"gridwidth\":2}},\"shapedefaults\":{\"line\":{\"color\":\"#2a3f5f\"}},\"annotationdefaults\":{\"arrowcolor\":\"#2a3f5f\",\"arrowhead\":0,\"arrowwidth\":1},\"geo\":{\"bgcolor\":\"white\",\"landcolor\":\"#E5ECF6\",\"subunitcolor\":\"white\",\"showland\":true,\"showlakes\":true,\"lakecolor\":\"white\"},\"title\":{\"x\":0.05},\"mapbox\":{\"style\":\"light\"}}},\"legend\":{\"tracegroupgap\":0},\"title\":{\"text\":\"Percentage of Each Crime between 2001 - 2014\"}},                        {\"responsive\": true}                    ).then(function(){\n",
       "                            \n",
       "var gd = document.getElementById('0e12fa74-b7ca-4623-b857-a94613c98192');\n",
       "var x = new MutationObserver(function (mutations, observer) {{\n",
       "        var display = window.getComputedStyle(gd).display;\n",
       "        if (!display || display === 'none') {{\n",
       "            console.log([gd, 'removed!']);\n",
       "            Plotly.purge(gd);\n",
       "            observer.disconnect();\n",
       "        }}\n",
       "}});\n",
       "\n",
       "// Listen for the removal of the full notebook cells\n",
       "var notebookContainer = gd.closest('#notebook-container');\n",
       "if (notebookContainer) {{\n",
       "    x.observe(notebookContainer, {childList: true});\n",
       "}}\n",
       "\n",
       "// Listen for the clearing of the current output cell\n",
       "var outputEl = gd.closest('.output');\n",
       "if (outputEl) {{\n",
       "    x.observe(outputEl, {childList: true});\n",
       "}}\n",
       "\n",
       "                        })                };                });            </script>        </div>"
      ]
     },
     "metadata": {},
     "output_type": "display_data"
    }
   ],
   "source": [
    "fig = px.pie(pd.DataFrame(crimes_in_years_df.sum(axis=0),columns=['Count']), values='Count', names=pd.DataFrame(crimes_in_years_df.sum(axis=0)).index, title='Percentage of Each Crime between 2001 - 2014')\n",
    "fig.show()"
   ]
  },
  {
   "cell_type": "markdown",
   "id": "d1ba6f2c",
   "metadata": {},
   "source": [
    "# State wise Analysis"
   ]
  },
  {
   "cell_type": "code",
   "execution_count": 32,
   "id": "4ac578f5",
   "metadata": {},
   "outputs": [
    {
     "data": {
      "text/html": [
       "<div>\n",
       "<style scoped>\n",
       "    .dataframe tbody tr th:only-of-type {\n",
       "        vertical-align: middle;\n",
       "    }\n",
       "\n",
       "    .dataframe tbody tr th {\n",
       "        vertical-align: top;\n",
       "    }\n",
       "\n",
       "    .dataframe thead th {\n",
       "        text-align: right;\n",
       "    }\n",
       "</style>\n",
       "<table border=\"1\" class=\"dataframe\">\n",
       "  <thead>\n",
       "    <tr style=\"text-align: right;\">\n",
       "      <th></th>\n",
       "      <th>MURDER</th>\n",
       "      <th>ATTEMPT TO MURDER</th>\n",
       "      <th>CULPABLE HOMICIDE NOT AMOUNTING TO MURDER</th>\n",
       "      <th>RAPE</th>\n",
       "      <th>CUSTODIAL RAPE</th>\n",
       "      <th>OTHER RAPE</th>\n",
       "      <th>KIDNAPPING &amp; ABDUCTION</th>\n",
       "      <th>KIDNAPPING AND ABDUCTION OF WOMEN AND GIRLS</th>\n",
       "      <th>KIDNAPPING AND ABDUCTION OF OTHERS</th>\n",
       "      <th>DACOITY</th>\n",
       "      <th>...</th>\n",
       "      <th>ARSON</th>\n",
       "      <th>HURT/GREVIOUS HURT</th>\n",
       "      <th>DOWRY DEATHS</th>\n",
       "      <th>ASSAULT ON WOMEN WITH INTENT TO OUTRAGE HER MODESTY</th>\n",
       "      <th>INSULT TO MODESTY OF WOMEN</th>\n",
       "      <th>CRUELTY BY HUSBAND OR HIS RELATIVES</th>\n",
       "      <th>IMPORTATION OF GIRLS FROM FOREIGN COUNTRIES</th>\n",
       "      <th>CAUSING DEATH BY NEGLIGENCE</th>\n",
       "      <th>OTHER IPC CRIMES</th>\n",
       "      <th>TOTAL IPC CRIMES</th>\n",
       "    </tr>\n",
       "    <tr>\n",
       "      <th>STATE/UT</th>\n",
       "      <th></th>\n",
       "      <th></th>\n",
       "      <th></th>\n",
       "      <th></th>\n",
       "      <th></th>\n",
       "      <th></th>\n",
       "      <th></th>\n",
       "      <th></th>\n",
       "      <th></th>\n",
       "      <th></th>\n",
       "      <th></th>\n",
       "      <th></th>\n",
       "      <th></th>\n",
       "      <th></th>\n",
       "      <th></th>\n",
       "      <th></th>\n",
       "      <th></th>\n",
       "      <th></th>\n",
       "      <th></th>\n",
       "      <th></th>\n",
       "      <th></th>\n",
       "    </tr>\n",
       "  </thead>\n",
       "  <tbody>\n",
       "    <tr>\n",
       "      <th>A &amp; N ISLANDS</th>\n",
       "      <td>320</td>\n",
       "      <td>130</td>\n",
       "      <td>42</td>\n",
       "      <td>218</td>\n",
       "      <td>0</td>\n",
       "      <td>218</td>\n",
       "      <td>188</td>\n",
       "      <td>154</td>\n",
       "      <td>34</td>\n",
       "      <td>30</td>\n",
       "      <td>...</td>\n",
       "      <td>196</td>\n",
       "      <td>2210</td>\n",
       "      <td>12</td>\n",
       "      <td>428</td>\n",
       "      <td>86</td>\n",
       "      <td>242</td>\n",
       "      <td>0</td>\n",
       "      <td>84</td>\n",
       "      <td>8886</td>\n",
       "      <td>18204</td>\n",
       "    </tr>\n",
       "    <tr>\n",
       "      <th>ANDHRA PRADESH</th>\n",
       "      <td>63512</td>\n",
       "      <td>44840</td>\n",
       "      <td>3526</td>\n",
       "      <td>26958</td>\n",
       "      <td>4</td>\n",
       "      <td>26954</td>\n",
       "      <td>42478</td>\n",
       "      <td>29872</td>\n",
       "      <td>12606</td>\n",
       "      <td>3974</td>\n",
       "      <td>...</td>\n",
       "      <td>23936</td>\n",
       "      <td>1093130</td>\n",
       "      <td>12430</td>\n",
       "      <td>103998</td>\n",
       "      <td>72262</td>\n",
       "      <td>238014</td>\n",
       "      <td>34</td>\n",
       "      <td>276870</td>\n",
       "      <td>964504</td>\n",
       "      <td>4037962</td>\n",
       "    </tr>\n",
       "    <tr>\n",
       "      <th>ARUNACHAL PRADESH</th>\n",
       "      <td>1682</td>\n",
       "      <td>834</td>\n",
       "      <td>72</td>\n",
       "      <td>1000</td>\n",
       "      <td>0</td>\n",
       "      <td>1000</td>\n",
       "      <td>1714</td>\n",
       "      <td>1116</td>\n",
       "      <td>598</td>\n",
       "      <td>520</td>\n",
       "      <td>...</td>\n",
       "      <td>500</td>\n",
       "      <td>10314</td>\n",
       "      <td>4</td>\n",
       "      <td>1568</td>\n",
       "      <td>36</td>\n",
       "      <td>334</td>\n",
       "      <td>0</td>\n",
       "      <td>1490</td>\n",
       "      <td>14792</td>\n",
       "      <td>55304</td>\n",
       "    </tr>\n",
       "    <tr>\n",
       "      <th>ASSAM</th>\n",
       "      <td>30864</td>\n",
       "      <td>11324</td>\n",
       "      <td>1436</td>\n",
       "      <td>32356</td>\n",
       "      <td>10</td>\n",
       "      <td>32346</td>\n",
       "      <td>55878</td>\n",
       "      <td>45840</td>\n",
       "      <td>10038</td>\n",
       "      <td>8340</td>\n",
       "      <td>...</td>\n",
       "      <td>15836</td>\n",
       "      <td>138366</td>\n",
       "      <td>2552</td>\n",
       "      <td>27240</td>\n",
       "      <td>224</td>\n",
       "      <td>78776</td>\n",
       "      <td>16</td>\n",
       "      <td>60410</td>\n",
       "      <td>362708</td>\n",
       "      <td>1195528</td>\n",
       "    </tr>\n",
       "    <tr>\n",
       "      <th>BIHAR</th>\n",
       "      <td>82490</td>\n",
       "      <td>81838</td>\n",
       "      <td>7344</td>\n",
       "      <td>26248</td>\n",
       "      <td>4</td>\n",
       "      <td>26244</td>\n",
       "      <td>74440</td>\n",
       "      <td>38778</td>\n",
       "      <td>35662</td>\n",
       "      <td>22198</td>\n",
       "      <td>...</td>\n",
       "      <td>17018</td>\n",
       "      <td>378532</td>\n",
       "      <td>27096</td>\n",
       "      <td>15152</td>\n",
       "      <td>452</td>\n",
       "      <td>51360</td>\n",
       "      <td>880</td>\n",
       "      <td>88884</td>\n",
       "      <td>1077182</td>\n",
       "      <td>2692586</td>\n",
       "    </tr>\n",
       "    <tr>\n",
       "      <th>CHANDIGARH</th>\n",
       "      <td>486</td>\n",
       "      <td>602</td>\n",
       "      <td>158</td>\n",
       "      <td>562</td>\n",
       "      <td>0</td>\n",
       "      <td>562</td>\n",
       "      <td>1280</td>\n",
       "      <td>1068</td>\n",
       "      <td>212</td>\n",
       "      <td>62</td>\n",
       "      <td>...</td>\n",
       "      <td>124</td>\n",
       "      <td>1632</td>\n",
       "      <td>84</td>\n",
       "      <td>628</td>\n",
       "      <td>286</td>\n",
       "      <td>1614</td>\n",
       "      <td>0</td>\n",
       "      <td>196</td>\n",
       "      <td>23210</td>\n",
       "      <td>81614</td>\n",
       "    </tr>\n",
       "    <tr>\n",
       "      <th>CHHATTISGARH</th>\n",
       "      <td>24120</td>\n",
       "      <td>15820</td>\n",
       "      <td>696</td>\n",
       "      <td>23676</td>\n",
       "      <td>0</td>\n",
       "      <td>23676</td>\n",
       "      <td>6690</td>\n",
       "      <td>5260</td>\n",
       "      <td>1430</td>\n",
       "      <td>2936</td>\n",
       "      <td>...</td>\n",
       "      <td>6294</td>\n",
       "      <td>170052</td>\n",
       "      <td>2284</td>\n",
       "      <td>38330</td>\n",
       "      <td>3450</td>\n",
       "      <td>19146</td>\n",
       "      <td>10</td>\n",
       "      <td>50864</td>\n",
       "      <td>491710</td>\n",
       "      <td>1122054</td>\n",
       "    </tr>\n",
       "    <tr>\n",
       "      <th>D &amp; N HAVELI</th>\n",
       "      <td>216</td>\n",
       "      <td>62</td>\n",
       "      <td>6</td>\n",
       "      <td>112</td>\n",
       "      <td>0</td>\n",
       "      <td>112</td>\n",
       "      <td>282</td>\n",
       "      <td>188</td>\n",
       "      <td>94</td>\n",
       "      <td>80</td>\n",
       "      <td>...</td>\n",
       "      <td>110</td>\n",
       "      <td>636</td>\n",
       "      <td>2</td>\n",
       "      <td>100</td>\n",
       "      <td>8</td>\n",
       "      <td>76</td>\n",
       "      <td>0</td>\n",
       "      <td>296</td>\n",
       "      <td>3718</td>\n",
       "      <td>9302</td>\n",
       "    </tr>\n",
       "    <tr>\n",
       "      <th>DAMAN &amp; DIU</th>\n",
       "      <td>136</td>\n",
       "      <td>76</td>\n",
       "      <td>4</td>\n",
       "      <td>40</td>\n",
       "      <td>0</td>\n",
       "      <td>40</td>\n",
       "      <td>62</td>\n",
       "      <td>30</td>\n",
       "      <td>32</td>\n",
       "      <td>68</td>\n",
       "      <td>...</td>\n",
       "      <td>68</td>\n",
       "      <td>380</td>\n",
       "      <td>6</td>\n",
       "      <td>30</td>\n",
       "      <td>4</td>\n",
       "      <td>70</td>\n",
       "      <td>0</td>\n",
       "      <td>622</td>\n",
       "      <td>1322</td>\n",
       "      <td>5896</td>\n",
       "    </tr>\n",
       "    <tr>\n",
       "      <th>DELHI UT</th>\n",
       "      <td>12410</td>\n",
       "      <td>10554</td>\n",
       "      <td>1766</td>\n",
       "      <td>12848</td>\n",
       "      <td>0</td>\n",
       "      <td>12848</td>\n",
       "      <td>50166</td>\n",
       "      <td>31300</td>\n",
       "      <td>18866</td>\n",
       "      <td>762</td>\n",
       "      <td>...</td>\n",
       "      <td>1128</td>\n",
       "      <td>44420</td>\n",
       "      <td>3164</td>\n",
       "      <td>15068</td>\n",
       "      <td>3374</td>\n",
       "      <td>30422</td>\n",
       "      <td>2</td>\n",
       "      <td>15006</td>\n",
       "      <td>474914</td>\n",
       "      <td>1266348</td>\n",
       "    </tr>\n",
       "    <tr>\n",
       "      <th>GOA</th>\n",
       "      <td>974</td>\n",
       "      <td>538</td>\n",
       "      <td>134</td>\n",
       "      <td>700</td>\n",
       "      <td>0</td>\n",
       "      <td>700</td>\n",
       "      <td>472</td>\n",
       "      <td>328</td>\n",
       "      <td>144</td>\n",
       "      <td>110</td>\n",
       "      <td>...</td>\n",
       "      <td>544</td>\n",
       "      <td>4574</td>\n",
       "      <td>38</td>\n",
       "      <td>656</td>\n",
       "      <td>246</td>\n",
       "      <td>382</td>\n",
       "      <td>0</td>\n",
       "      <td>5328</td>\n",
       "      <td>19896</td>\n",
       "      <td>64102</td>\n",
       "    </tr>\n",
       "    <tr>\n",
       "      <th>GUJARAT</th>\n",
       "      <td>27550</td>\n",
       "      <td>12224</td>\n",
       "      <td>860</td>\n",
       "      <td>8498</td>\n",
       "      <td>0</td>\n",
       "      <td>8498</td>\n",
       "      <td>30492</td>\n",
       "      <td>25836</td>\n",
       "      <td>4656</td>\n",
       "      <td>7684</td>\n",
       "      <td>...</td>\n",
       "      <td>11294</td>\n",
       "      <td>270436</td>\n",
       "      <td>1004</td>\n",
       "      <td>17996</td>\n",
       "      <td>2730</td>\n",
       "      <td>118862</td>\n",
       "      <td>0</td>\n",
       "      <td>108770</td>\n",
       "      <td>1459368</td>\n",
       "      <td>2771550</td>\n",
       "    </tr>\n",
       "    <tr>\n",
       "      <th>HARYANA</th>\n",
       "      <td>20942</td>\n",
       "      <td>14868</td>\n",
       "      <td>1714</td>\n",
       "      <td>12820</td>\n",
       "      <td>2</td>\n",
       "      <td>12818</td>\n",
       "      <td>17312</td>\n",
       "      <td>12258</td>\n",
       "      <td>5054</td>\n",
       "      <td>2750</td>\n",
       "      <td>...</td>\n",
       "      <td>3812</td>\n",
       "      <td>102508</td>\n",
       "      <td>6260</td>\n",
       "      <td>10646</td>\n",
       "      <td>16376</td>\n",
       "      <td>54224</td>\n",
       "      <td>0</td>\n",
       "      <td>30394</td>\n",
       "      <td>449688</td>\n",
       "      <td>1190606</td>\n",
       "    </tr>\n",
       "    <tr>\n",
       "      <th>HIMACHAL PRADESH</th>\n",
       "      <td>2908</td>\n",
       "      <td>1670</td>\n",
       "      <td>260</td>\n",
       "      <td>3608</td>\n",
       "      <td>0</td>\n",
       "      <td>3608</td>\n",
       "      <td>3596</td>\n",
       "      <td>3082</td>\n",
       "      <td>514</td>\n",
       "      <td>90</td>\n",
       "      <td>...</td>\n",
       "      <td>2968</td>\n",
       "      <td>31818</td>\n",
       "      <td>110</td>\n",
       "      <td>7194</td>\n",
       "      <td>878</td>\n",
       "      <td>6490</td>\n",
       "      <td>0</td>\n",
       "      <td>12618</td>\n",
       "      <td>174356</td>\n",
       "      <td>309896</td>\n",
       "    </tr>\n",
       "    <tr>\n",
       "      <th>JAMMU &amp; KASHMIR</th>\n",
       "      <td>12608</td>\n",
       "      <td>20606</td>\n",
       "      <td>694</td>\n",
       "      <td>5620</td>\n",
       "      <td>0</td>\n",
       "      <td>5620</td>\n",
       "      <td>19330</td>\n",
       "      <td>17640</td>\n",
       "      <td>1690</td>\n",
       "      <td>376</td>\n",
       "      <td>...</td>\n",
       "      <td>6332</td>\n",
       "      <td>7766</td>\n",
       "      <td>270</td>\n",
       "      <td>23018</td>\n",
       "      <td>7986</td>\n",
       "      <td>3600</td>\n",
       "      <td>0</td>\n",
       "      <td>9048</td>\n",
       "      <td>265842</td>\n",
       "      <td>518310</td>\n",
       "    </tr>\n",
       "    <tr>\n",
       "      <th>JHARKHAND</th>\n",
       "      <td>38120</td>\n",
       "      <td>24540</td>\n",
       "      <td>2462</td>\n",
       "      <td>18318</td>\n",
       "      <td>10</td>\n",
       "      <td>18308</td>\n",
       "      <td>16952</td>\n",
       "      <td>10564</td>\n",
       "      <td>6388</td>\n",
       "      <td>11812</td>\n",
       "      <td>...</td>\n",
       "      <td>4024</td>\n",
       "      <td>80474</td>\n",
       "      <td>6582</td>\n",
       "      <td>7970</td>\n",
       "      <td>494</td>\n",
       "      <td>16818</td>\n",
       "      <td>290</td>\n",
       "      <td>27224</td>\n",
       "      <td>308478</td>\n",
       "      <td>844702</td>\n",
       "    </tr>\n",
       "    <tr>\n",
       "      <th>KARNATAKA</th>\n",
       "      <td>39874</td>\n",
       "      <td>37024</td>\n",
       "      <td>1714</td>\n",
       "      <td>10348</td>\n",
       "      <td>4</td>\n",
       "      <td>10344</td>\n",
       "      <td>20058</td>\n",
       "      <td>10630</td>\n",
       "      <td>9428</td>\n",
       "      <td>5162</td>\n",
       "      <td>...</td>\n",
       "      <td>7422</td>\n",
       "      <td>502664</td>\n",
       "      <td>5836</td>\n",
       "      <td>47398</td>\n",
       "      <td>1662</td>\n",
       "      <td>60104</td>\n",
       "      <td>94</td>\n",
       "      <td>10156</td>\n",
       "      <td>1362672</td>\n",
       "      <td>2962126</td>\n",
       "    </tr>\n",
       "    <tr>\n",
       "      <th>KERALA</th>\n",
       "      <td>9466</td>\n",
       "      <td>10654</td>\n",
       "      <td>3794</td>\n",
       "      <td>14894</td>\n",
       "      <td>0</td>\n",
       "      <td>14894</td>\n",
       "      <td>5782</td>\n",
       "      <td>3796</td>\n",
       "      <td>1986</td>\n",
       "      <td>2728</td>\n",
       "      <td>...</td>\n",
       "      <td>11160</td>\n",
       "      <td>464902</td>\n",
       "      <td>602</td>\n",
       "      <td>62980</td>\n",
       "      <td>6608</td>\n",
       "      <td>92148</td>\n",
       "      <td>0</td>\n",
       "      <td>978</td>\n",
       "      <td>1659766</td>\n",
       "      <td>2874918</td>\n",
       "    </tr>\n",
       "    <tr>\n",
       "      <th>LAKSHADWEEP</th>\n",
       "      <td>6</td>\n",
       "      <td>12</td>\n",
       "      <td>0</td>\n",
       "      <td>14</td>\n",
       "      <td>0</td>\n",
       "      <td>14</td>\n",
       "      <td>2</td>\n",
       "      <td>2</td>\n",
       "      <td>0</td>\n",
       "      <td>6</td>\n",
       "      <td>...</td>\n",
       "      <td>44</td>\n",
       "      <td>114</td>\n",
       "      <td>0</td>\n",
       "      <td>10</td>\n",
       "      <td>0</td>\n",
       "      <td>14</td>\n",
       "      <td>0</td>\n",
       "      <td>0</td>\n",
       "      <td>654</td>\n",
       "      <td>1486</td>\n",
       "    </tr>\n",
       "    <tr>\n",
       "      <th>MADHYA PRADESH</th>\n",
       "      <td>56798</td>\n",
       "      <td>58916</td>\n",
       "      <td>3668</td>\n",
       "      <td>72174</td>\n",
       "      <td>2</td>\n",
       "      <td>72172</td>\n",
       "      <td>23916</td>\n",
       "      <td>18486</td>\n",
       "      <td>5430</td>\n",
       "      <td>3310</td>\n",
       "      <td>...</td>\n",
       "      <td>20708</td>\n",
       "      <td>825154</td>\n",
       "      <td>18072</td>\n",
       "      <td>159756</td>\n",
       "      <td>18634</td>\n",
       "      <td>79938</td>\n",
       "      <td>120</td>\n",
       "      <td>129938</td>\n",
       "      <td>2393164</td>\n",
       "      <td>4827540</td>\n",
       "    </tr>\n",
       "    <tr>\n",
       "      <th>MAHARASHTRA</th>\n",
       "      <td>65534</td>\n",
       "      <td>41178</td>\n",
       "      <td>2818</td>\n",
       "      <td>35972</td>\n",
       "      <td>4</td>\n",
       "      <td>35968</td>\n",
       "      <td>30202</td>\n",
       "      <td>21706</td>\n",
       "      <td>8496</td>\n",
       "      <td>16350</td>\n",
       "      <td>...</td>\n",
       "      <td>29030</td>\n",
       "      <td>707520</td>\n",
       "      <td>8498</td>\n",
       "      <td>78438</td>\n",
       "      <td>24220</td>\n",
       "      <td>160726</td>\n",
       "      <td>4</td>\n",
       "      <td>269226</td>\n",
       "      <td>1120120</td>\n",
       "      <td>4546872</td>\n",
       "    </tr>\n",
       "    <tr>\n",
       "      <th>MANIPUR</th>\n",
       "      <td>3910</td>\n",
       "      <td>7072</td>\n",
       "      <td>84</td>\n",
       "      <td>774</td>\n",
       "      <td>0</td>\n",
       "      <td>774</td>\n",
       "      <td>3622</td>\n",
       "      <td>2114</td>\n",
       "      <td>1508</td>\n",
       "      <td>96</td>\n",
       "      <td>...</td>\n",
       "      <td>1904</td>\n",
       "      <td>6866</td>\n",
       "      <td>4</td>\n",
       "      <td>1008</td>\n",
       "      <td>6</td>\n",
       "      <td>438</td>\n",
       "      <td>0</td>\n",
       "      <td>174</td>\n",
       "      <td>25474</td>\n",
       "      <td>70144</td>\n",
       "    </tr>\n",
       "    <tr>\n",
       "      <th>MEGHALAYA</th>\n",
       "      <td>3460</td>\n",
       "      <td>1202</td>\n",
       "      <td>168</td>\n",
       "      <td>2040</td>\n",
       "      <td>0</td>\n",
       "      <td>2040</td>\n",
       "      <td>1458</td>\n",
       "      <td>528</td>\n",
       "      <td>930</td>\n",
       "      <td>1596</td>\n",
       "      <td>...</td>\n",
       "      <td>886</td>\n",
       "      <td>3472</td>\n",
       "      <td>30</td>\n",
       "      <td>1064</td>\n",
       "      <td>16</td>\n",
       "      <td>330</td>\n",
       "      <td>8</td>\n",
       "      <td>1364</td>\n",
       "      <td>12528</td>\n",
       "      <td>50498</td>\n",
       "    </tr>\n",
       "    <tr>\n",
       "      <th>MIZORAM</th>\n",
       "      <td>806</td>\n",
       "      <td>516</td>\n",
       "      <td>134</td>\n",
       "      <td>1652</td>\n",
       "      <td>2</td>\n",
       "      <td>1650</td>\n",
       "      <td>192</td>\n",
       "      <td>20</td>\n",
       "      <td>172</td>\n",
       "      <td>90</td>\n",
       "      <td>...</td>\n",
       "      <td>534</td>\n",
       "      <td>2432</td>\n",
       "      <td>8</td>\n",
       "      <td>1632</td>\n",
       "      <td>12</td>\n",
       "      <td>108</td>\n",
       "      <td>6</td>\n",
       "      <td>630</td>\n",
       "      <td>11824</td>\n",
       "      <td>52292</td>\n",
       "    </tr>\n",
       "    <tr>\n",
       "      <th>NAGALAND</th>\n",
       "      <td>2076</td>\n",
       "      <td>928</td>\n",
       "      <td>202</td>\n",
       "      <td>440</td>\n",
       "      <td>0</td>\n",
       "      <td>440</td>\n",
       "      <td>784</td>\n",
       "      <td>142</td>\n",
       "      <td>642</td>\n",
       "      <td>250</td>\n",
       "      <td>...</td>\n",
       "      <td>140</td>\n",
       "      <td>1064</td>\n",
       "      <td>0</td>\n",
       "      <td>192</td>\n",
       "      <td>20</td>\n",
       "      <td>18</td>\n",
       "      <td>2</td>\n",
       "      <td>744</td>\n",
       "      <td>6100</td>\n",
       "      <td>26266</td>\n",
       "    </tr>\n",
       "    <tr>\n",
       "      <th>ODISHA</th>\n",
       "      <td>28906</td>\n",
       "      <td>31304</td>\n",
       "      <td>1396</td>\n",
       "      <td>22860</td>\n",
       "      <td>0</td>\n",
       "      <td>22860</td>\n",
       "      <td>19458</td>\n",
       "      <td>16582</td>\n",
       "      <td>2876</td>\n",
       "      <td>6762</td>\n",
       "      <td>...</td>\n",
       "      <td>10560</td>\n",
       "      <td>151522</td>\n",
       "      <td>9110</td>\n",
       "      <td>59892</td>\n",
       "      <td>5878</td>\n",
       "      <td>37394</td>\n",
       "      <td>36</td>\n",
       "      <td>73014</td>\n",
       "      <td>492412</td>\n",
       "      <td>1295892</td>\n",
       "    </tr>\n",
       "    <tr>\n",
       "      <th>PUDUCHERRY</th>\n",
       "      <td>714</td>\n",
       "      <td>686</td>\n",
       "      <td>156</td>\n",
       "      <td>154</td>\n",
       "      <td>0</td>\n",
       "      <td>154</td>\n",
       "      <td>338</td>\n",
       "      <td>242</td>\n",
       "      <td>96</td>\n",
       "      <td>76</td>\n",
       "      <td>...</td>\n",
       "      <td>380</td>\n",
       "      <td>21388</td>\n",
       "      <td>52</td>\n",
       "      <td>1226</td>\n",
       "      <td>568</td>\n",
       "      <td>210</td>\n",
       "      <td>0</td>\n",
       "      <td>5204</td>\n",
       "      <td>54980</td>\n",
       "      <td>108232</td>\n",
       "    </tr>\n",
       "    <tr>\n",
       "      <th>PUNJAB</th>\n",
       "      <td>18986</td>\n",
       "      <td>20794</td>\n",
       "      <td>3116</td>\n",
       "      <td>10918</td>\n",
       "      <td>2</td>\n",
       "      <td>10916</td>\n",
       "      <td>15238</td>\n",
       "      <td>10770</td>\n",
       "      <td>4468</td>\n",
       "      <td>920</td>\n",
       "      <td>...</td>\n",
       "      <td>1814</td>\n",
       "      <td>113840</td>\n",
       "      <td>3092</td>\n",
       "      <td>8094</td>\n",
       "      <td>1524</td>\n",
       "      <td>23996</td>\n",
       "      <td>4</td>\n",
       "      <td>66678</td>\n",
       "      <td>232054</td>\n",
       "      <td>768262</td>\n",
       "    </tr>\n",
       "    <tr>\n",
       "      <th>RAJASTHAN</th>\n",
       "      <td>31688</td>\n",
       "      <td>42684</td>\n",
       "      <td>1778</td>\n",
       "      <td>31596</td>\n",
       "      <td>0</td>\n",
       "      <td>31596</td>\n",
       "      <td>61454</td>\n",
       "      <td>49342</td>\n",
       "      <td>12112</td>\n",
       "      <td>1126</td>\n",
       "      <td>...</td>\n",
       "      <td>16624</td>\n",
       "      <td>534706</td>\n",
       "      <td>10132</td>\n",
       "      <td>61706</td>\n",
       "      <td>708</td>\n",
       "      <td>200202</td>\n",
       "      <td>12</td>\n",
       "      <td>156700</td>\n",
       "      <td>1569982</td>\n",
       "      <td>3711832</td>\n",
       "    </tr>\n",
       "    <tr>\n",
       "      <th>SIKKIM</th>\n",
       "      <td>332</td>\n",
       "      <td>222</td>\n",
       "      <td>76</td>\n",
       "      <td>390</td>\n",
       "      <td>0</td>\n",
       "      <td>390</td>\n",
       "      <td>152</td>\n",
       "      <td>124</td>\n",
       "      <td>28</td>\n",
       "      <td>12</td>\n",
       "      <td>...</td>\n",
       "      <td>160</td>\n",
       "      <td>1878</td>\n",
       "      <td>4</td>\n",
       "      <td>460</td>\n",
       "      <td>28</td>\n",
       "      <td>88</td>\n",
       "      <td>0</td>\n",
       "      <td>844</td>\n",
       "      <td>4074</td>\n",
       "      <td>14000</td>\n",
       "    </tr>\n",
       "    <tr>\n",
       "      <th>TAMIL NADU</th>\n",
       "      <td>40254</td>\n",
       "      <td>53194</td>\n",
       "      <td>686</td>\n",
       "      <td>13904</td>\n",
       "      <td>4</td>\n",
       "      <td>13900</td>\n",
       "      <td>30606</td>\n",
       "      <td>24872</td>\n",
       "      <td>5734</td>\n",
       "      <td>2474</td>\n",
       "      <td>...</td>\n",
       "      <td>16298</td>\n",
       "      <td>561346</td>\n",
       "      <td>4634</td>\n",
       "      <td>38658</td>\n",
       "      <td>20086</td>\n",
       "      <td>36376</td>\n",
       "      <td>30</td>\n",
       "      <td>280386</td>\n",
       "      <td>2372230</td>\n",
       "      <td>4120352</td>\n",
       "    </tr>\n",
       "    <tr>\n",
       "      <th>TRIPURA</th>\n",
       "      <td>4044</td>\n",
       "      <td>1362</td>\n",
       "      <td>38</td>\n",
       "      <td>4116</td>\n",
       "      <td>0</td>\n",
       "      <td>4116</td>\n",
       "      <td>2886</td>\n",
       "      <td>1750</td>\n",
       "      <td>1136</td>\n",
       "      <td>452</td>\n",
       "      <td>...</td>\n",
       "      <td>1096</td>\n",
       "      <td>18612</td>\n",
       "      <td>628</td>\n",
       "      <td>5546</td>\n",
       "      <td>78</td>\n",
       "      <td>13028</td>\n",
       "      <td>0</td>\n",
       "      <td>3084</td>\n",
       "      <td>28088</td>\n",
       "      <td>105468</td>\n",
       "    </tr>\n",
       "    <tr>\n",
       "      <th>UTTAR PRADESH</th>\n",
       "      <td>130886</td>\n",
       "      <td>121040</td>\n",
       "      <td>34532</td>\n",
       "      <td>38116</td>\n",
       "      <td>4</td>\n",
       "      <td>38112</td>\n",
       "      <td>118532</td>\n",
       "      <td>95180</td>\n",
       "      <td>23352</td>\n",
       "      <td>9618</td>\n",
       "      <td>...</td>\n",
       "      <td>9108</td>\n",
       "      <td>279500</td>\n",
       "      <td>47648</td>\n",
       "      <td>59396</td>\n",
       "      <td>53022</td>\n",
       "      <td>155234</td>\n",
       "      <td>6</td>\n",
       "      <td>227642</td>\n",
       "      <td>1253898</td>\n",
       "      <td>3716148</td>\n",
       "    </tr>\n",
       "    <tr>\n",
       "      <th>UTTARAKHAND</th>\n",
       "      <td>5896</td>\n",
       "      <td>5254</td>\n",
       "      <td>1028</td>\n",
       "      <td>2756</td>\n",
       "      <td>0</td>\n",
       "      <td>2756</td>\n",
       "      <td>5704</td>\n",
       "      <td>4668</td>\n",
       "      <td>1036</td>\n",
       "      <td>714</td>\n",
       "      <td>...</td>\n",
       "      <td>628</td>\n",
       "      <td>21220</td>\n",
       "      <td>1812</td>\n",
       "      <td>3090</td>\n",
       "      <td>3038</td>\n",
       "      <td>8284</td>\n",
       "      <td>2</td>\n",
       "      <td>13360</td>\n",
       "      <td>52676</td>\n",
       "      <td>206408</td>\n",
       "    </tr>\n",
       "    <tr>\n",
       "      <th>WEST BENGAL</th>\n",
       "      <td>42112</td>\n",
       "      <td>29386</td>\n",
       "      <td>12666</td>\n",
       "      <td>41574</td>\n",
       "      <td>0</td>\n",
       "      <td>41574</td>\n",
       "      <td>51998</td>\n",
       "      <td>43546</td>\n",
       "      <td>8452</td>\n",
       "      <td>5284</td>\n",
       "      <td>...</td>\n",
       "      <td>4728</td>\n",
       "      <td>188304</td>\n",
       "      <td>10344</td>\n",
       "      <td>45742</td>\n",
       "      <td>3108</td>\n",
       "      <td>261336</td>\n",
       "      <td>228</td>\n",
       "      <td>75502</td>\n",
       "      <td>852388</td>\n",
       "      <td>2238608</td>\n",
       "    </tr>\n",
       "  </tbody>\n",
       "</table>\n",
       "<p>35 rows × 30 columns</p>\n",
       "</div>"
      ],
      "text/plain": [
       "                   MURDER  ATTEMPT TO MURDER  \\\n",
       "STATE/UT                                       \n",
       "A & N ISLANDS         320                130   \n",
       "ANDHRA PRADESH      63512              44840   \n",
       "ARUNACHAL PRADESH    1682                834   \n",
       "ASSAM               30864              11324   \n",
       "BIHAR               82490              81838   \n",
       "CHANDIGARH            486                602   \n",
       "CHHATTISGARH        24120              15820   \n",
       "D & N HAVELI          216                 62   \n",
       "DAMAN & DIU           136                 76   \n",
       "DELHI UT            12410              10554   \n",
       "GOA                   974                538   \n",
       "GUJARAT             27550              12224   \n",
       "HARYANA             20942              14868   \n",
       "HIMACHAL PRADESH     2908               1670   \n",
       "JAMMU & KASHMIR     12608              20606   \n",
       "JHARKHAND           38120              24540   \n",
       "KARNATAKA           39874              37024   \n",
       "KERALA               9466              10654   \n",
       "LAKSHADWEEP             6                 12   \n",
       "MADHYA PRADESH      56798              58916   \n",
       "MAHARASHTRA         65534              41178   \n",
       "MANIPUR              3910               7072   \n",
       "MEGHALAYA            3460               1202   \n",
       "MIZORAM               806                516   \n",
       "NAGALAND             2076                928   \n",
       "ODISHA              28906              31304   \n",
       "PUDUCHERRY            714                686   \n",
       "PUNJAB              18986              20794   \n",
       "RAJASTHAN           31688              42684   \n",
       "SIKKIM                332                222   \n",
       "TAMIL NADU          40254              53194   \n",
       "TRIPURA              4044               1362   \n",
       "UTTAR PRADESH      130886             121040   \n",
       "UTTARAKHAND          5896               5254   \n",
       "WEST BENGAL         42112              29386   \n",
       "\n",
       "                   CULPABLE HOMICIDE NOT AMOUNTING TO MURDER   RAPE  \\\n",
       "STATE/UT                                                              \n",
       "A & N ISLANDS                                             42    218   \n",
       "ANDHRA PRADESH                                          3526  26958   \n",
       "ARUNACHAL PRADESH                                         72   1000   \n",
       "ASSAM                                                   1436  32356   \n",
       "BIHAR                                                   7344  26248   \n",
       "CHANDIGARH                                               158    562   \n",
       "CHHATTISGARH                                             696  23676   \n",
       "D & N HAVELI                                               6    112   \n",
       "DAMAN & DIU                                                4     40   \n",
       "DELHI UT                                                1766  12848   \n",
       "GOA                                                      134    700   \n",
       "GUJARAT                                                  860   8498   \n",
       "HARYANA                                                 1714  12820   \n",
       "HIMACHAL PRADESH                                         260   3608   \n",
       "JAMMU & KASHMIR                                          694   5620   \n",
       "JHARKHAND                                               2462  18318   \n",
       "KARNATAKA                                               1714  10348   \n",
       "KERALA                                                  3794  14894   \n",
       "LAKSHADWEEP                                                0     14   \n",
       "MADHYA PRADESH                                          3668  72174   \n",
       "MAHARASHTRA                                             2818  35972   \n",
       "MANIPUR                                                   84    774   \n",
       "MEGHALAYA                                                168   2040   \n",
       "MIZORAM                                                  134   1652   \n",
       "NAGALAND                                                 202    440   \n",
       "ODISHA                                                  1396  22860   \n",
       "PUDUCHERRY                                               156    154   \n",
       "PUNJAB                                                  3116  10918   \n",
       "RAJASTHAN                                               1778  31596   \n",
       "SIKKIM                                                    76    390   \n",
       "TAMIL NADU                                               686  13904   \n",
       "TRIPURA                                                   38   4116   \n",
       "UTTAR PRADESH                                          34532  38116   \n",
       "UTTARAKHAND                                             1028   2756   \n",
       "WEST BENGAL                                            12666  41574   \n",
       "\n",
       "                   CUSTODIAL RAPE  OTHER RAPE  KIDNAPPING & ABDUCTION  \\\n",
       "STATE/UT                                                                \n",
       "A & N ISLANDS                   0         218                     188   \n",
       "ANDHRA PRADESH                  4       26954                   42478   \n",
       "ARUNACHAL PRADESH               0        1000                    1714   \n",
       "ASSAM                          10       32346                   55878   \n",
       "BIHAR                           4       26244                   74440   \n",
       "CHANDIGARH                      0         562                    1280   \n",
       "CHHATTISGARH                    0       23676                    6690   \n",
       "D & N HAVELI                    0         112                     282   \n",
       "DAMAN & DIU                     0          40                      62   \n",
       "DELHI UT                        0       12848                   50166   \n",
       "GOA                             0         700                     472   \n",
       "GUJARAT                         0        8498                   30492   \n",
       "HARYANA                         2       12818                   17312   \n",
       "HIMACHAL PRADESH                0        3608                    3596   \n",
       "JAMMU & KASHMIR                 0        5620                   19330   \n",
       "JHARKHAND                      10       18308                   16952   \n",
       "KARNATAKA                       4       10344                   20058   \n",
       "KERALA                          0       14894                    5782   \n",
       "LAKSHADWEEP                     0          14                       2   \n",
       "MADHYA PRADESH                  2       72172                   23916   \n",
       "MAHARASHTRA                     4       35968                   30202   \n",
       "MANIPUR                         0         774                    3622   \n",
       "MEGHALAYA                       0        2040                    1458   \n",
       "MIZORAM                         2        1650                     192   \n",
       "NAGALAND                        0         440                     784   \n",
       "ODISHA                          0       22860                   19458   \n",
       "PUDUCHERRY                      0         154                     338   \n",
       "PUNJAB                          2       10916                   15238   \n",
       "RAJASTHAN                       0       31596                   61454   \n",
       "SIKKIM                          0         390                     152   \n",
       "TAMIL NADU                      4       13900                   30606   \n",
       "TRIPURA                         0        4116                    2886   \n",
       "UTTAR PRADESH                   4       38112                  118532   \n",
       "UTTARAKHAND                     0        2756                    5704   \n",
       "WEST BENGAL                     0       41574                   51998   \n",
       "\n",
       "                   KIDNAPPING AND ABDUCTION OF WOMEN AND GIRLS  \\\n",
       "STATE/UT                                                         \n",
       "A & N ISLANDS                                              154   \n",
       "ANDHRA PRADESH                                           29872   \n",
       "ARUNACHAL PRADESH                                         1116   \n",
       "ASSAM                                                    45840   \n",
       "BIHAR                                                    38778   \n",
       "CHANDIGARH                                                1068   \n",
       "CHHATTISGARH                                              5260   \n",
       "D & N HAVELI                                               188   \n",
       "DAMAN & DIU                                                 30   \n",
       "DELHI UT                                                 31300   \n",
       "GOA                                                        328   \n",
       "GUJARAT                                                  25836   \n",
       "HARYANA                                                  12258   \n",
       "HIMACHAL PRADESH                                          3082   \n",
       "JAMMU & KASHMIR                                          17640   \n",
       "JHARKHAND                                                10564   \n",
       "KARNATAKA                                                10630   \n",
       "KERALA                                                    3796   \n",
       "LAKSHADWEEP                                                  2   \n",
       "MADHYA PRADESH                                           18486   \n",
       "MAHARASHTRA                                              21706   \n",
       "MANIPUR                                                   2114   \n",
       "MEGHALAYA                                                  528   \n",
       "MIZORAM                                                     20   \n",
       "NAGALAND                                                   142   \n",
       "ODISHA                                                   16582   \n",
       "PUDUCHERRY                                                 242   \n",
       "PUNJAB                                                   10770   \n",
       "RAJASTHAN                                                49342   \n",
       "SIKKIM                                                     124   \n",
       "TAMIL NADU                                               24872   \n",
       "TRIPURA                                                   1750   \n",
       "UTTAR PRADESH                                            95180   \n",
       "UTTARAKHAND                                               4668   \n",
       "WEST BENGAL                                              43546   \n",
       "\n",
       "                   KIDNAPPING AND ABDUCTION OF OTHERS  DACOITY  ...  ARSON  \\\n",
       "STATE/UT                                                        ...          \n",
       "A & N ISLANDS                                      34       30  ...    196   \n",
       "ANDHRA PRADESH                                  12606     3974  ...  23936   \n",
       "ARUNACHAL PRADESH                                 598      520  ...    500   \n",
       "ASSAM                                           10038     8340  ...  15836   \n",
       "BIHAR                                           35662    22198  ...  17018   \n",
       "CHANDIGARH                                        212       62  ...    124   \n",
       "CHHATTISGARH                                     1430     2936  ...   6294   \n",
       "D & N HAVELI                                       94       80  ...    110   \n",
       "DAMAN & DIU                                        32       68  ...     68   \n",
       "DELHI UT                                        18866      762  ...   1128   \n",
       "GOA                                               144      110  ...    544   \n",
       "GUJARAT                                          4656     7684  ...  11294   \n",
       "HARYANA                                          5054     2750  ...   3812   \n",
       "HIMACHAL PRADESH                                  514       90  ...   2968   \n",
       "JAMMU & KASHMIR                                  1690      376  ...   6332   \n",
       "JHARKHAND                                        6388    11812  ...   4024   \n",
       "KARNATAKA                                        9428     5162  ...   7422   \n",
       "KERALA                                           1986     2728  ...  11160   \n",
       "LAKSHADWEEP                                         0        6  ...     44   \n",
       "MADHYA PRADESH                                   5430     3310  ...  20708   \n",
       "MAHARASHTRA                                      8496    16350  ...  29030   \n",
       "MANIPUR                                          1508       96  ...   1904   \n",
       "MEGHALAYA                                         930     1596  ...    886   \n",
       "MIZORAM                                           172       90  ...    534   \n",
       "NAGALAND                                          642      250  ...    140   \n",
       "ODISHA                                           2876     6762  ...  10560   \n",
       "PUDUCHERRY                                         96       76  ...    380   \n",
       "PUNJAB                                           4468      920  ...   1814   \n",
       "RAJASTHAN                                       12112     1126  ...  16624   \n",
       "SIKKIM                                             28       12  ...    160   \n",
       "TAMIL NADU                                       5734     2474  ...  16298   \n",
       "TRIPURA                                          1136      452  ...   1096   \n",
       "UTTAR PRADESH                                   23352     9618  ...   9108   \n",
       "UTTARAKHAND                                      1036      714  ...    628   \n",
       "WEST BENGAL                                      8452     5284  ...   4728   \n",
       "\n",
       "                   HURT/GREVIOUS HURT  DOWRY DEATHS  \\\n",
       "STATE/UT                                              \n",
       "A & N ISLANDS                    2210            12   \n",
       "ANDHRA PRADESH                1093130         12430   \n",
       "ARUNACHAL PRADESH               10314             4   \n",
       "ASSAM                          138366          2552   \n",
       "BIHAR                          378532         27096   \n",
       "CHANDIGARH                       1632            84   \n",
       "CHHATTISGARH                   170052          2284   \n",
       "D & N HAVELI                      636             2   \n",
       "DAMAN & DIU                       380             6   \n",
       "DELHI UT                        44420          3164   \n",
       "GOA                              4574            38   \n",
       "GUJARAT                        270436          1004   \n",
       "HARYANA                        102508          6260   \n",
       "HIMACHAL PRADESH                31818           110   \n",
       "JAMMU & KASHMIR                  7766           270   \n",
       "JHARKHAND                       80474          6582   \n",
       "KARNATAKA                      502664          5836   \n",
       "KERALA                         464902           602   \n",
       "LAKSHADWEEP                       114             0   \n",
       "MADHYA PRADESH                 825154         18072   \n",
       "MAHARASHTRA                    707520          8498   \n",
       "MANIPUR                          6866             4   \n",
       "MEGHALAYA                        3472            30   \n",
       "MIZORAM                          2432             8   \n",
       "NAGALAND                         1064             0   \n",
       "ODISHA                         151522          9110   \n",
       "PUDUCHERRY                      21388            52   \n",
       "PUNJAB                         113840          3092   \n",
       "RAJASTHAN                      534706         10132   \n",
       "SIKKIM                           1878             4   \n",
       "TAMIL NADU                     561346          4634   \n",
       "TRIPURA                         18612           628   \n",
       "UTTAR PRADESH                  279500         47648   \n",
       "UTTARAKHAND                     21220          1812   \n",
       "WEST BENGAL                    188304         10344   \n",
       "\n",
       "                   ASSAULT ON WOMEN WITH INTENT TO OUTRAGE HER MODESTY  \\\n",
       "STATE/UT                                                                 \n",
       "A & N ISLANDS                                                    428     \n",
       "ANDHRA PRADESH                                                103998     \n",
       "ARUNACHAL PRADESH                                               1568     \n",
       "ASSAM                                                          27240     \n",
       "BIHAR                                                          15152     \n",
       "CHANDIGARH                                                       628     \n",
       "CHHATTISGARH                                                   38330     \n",
       "D & N HAVELI                                                     100     \n",
       "DAMAN & DIU                                                       30     \n",
       "DELHI UT                                                       15068     \n",
       "GOA                                                              656     \n",
       "GUJARAT                                                        17996     \n",
       "HARYANA                                                        10646     \n",
       "HIMACHAL PRADESH                                                7194     \n",
       "JAMMU & KASHMIR                                                23018     \n",
       "JHARKHAND                                                       7970     \n",
       "KARNATAKA                                                      47398     \n",
       "KERALA                                                         62980     \n",
       "LAKSHADWEEP                                                       10     \n",
       "MADHYA PRADESH                                                159756     \n",
       "MAHARASHTRA                                                    78438     \n",
       "MANIPUR                                                         1008     \n",
       "MEGHALAYA                                                       1064     \n",
       "MIZORAM                                                         1632     \n",
       "NAGALAND                                                         192     \n",
       "ODISHA                                                         59892     \n",
       "PUDUCHERRY                                                      1226     \n",
       "PUNJAB                                                          8094     \n",
       "RAJASTHAN                                                      61706     \n",
       "SIKKIM                                                           460     \n",
       "TAMIL NADU                                                     38658     \n",
       "TRIPURA                                                         5546     \n",
       "UTTAR PRADESH                                                  59396     \n",
       "UTTARAKHAND                                                     3090     \n",
       "WEST BENGAL                                                    45742     \n",
       "\n",
       "                   INSULT TO MODESTY OF WOMEN  \\\n",
       "STATE/UT                                        \n",
       "A & N ISLANDS                              86   \n",
       "ANDHRA PRADESH                          72262   \n",
       "ARUNACHAL PRADESH                          36   \n",
       "ASSAM                                     224   \n",
       "BIHAR                                     452   \n",
       "CHANDIGARH                                286   \n",
       "CHHATTISGARH                             3450   \n",
       "D & N HAVELI                                8   \n",
       "DAMAN & DIU                                 4   \n",
       "DELHI UT                                 3374   \n",
       "GOA                                       246   \n",
       "GUJARAT                                  2730   \n",
       "HARYANA                                 16376   \n",
       "HIMACHAL PRADESH                          878   \n",
       "JAMMU & KASHMIR                          7986   \n",
       "JHARKHAND                                 494   \n",
       "KARNATAKA                                1662   \n",
       "KERALA                                   6608   \n",
       "LAKSHADWEEP                                 0   \n",
       "MADHYA PRADESH                          18634   \n",
       "MAHARASHTRA                             24220   \n",
       "MANIPUR                                     6   \n",
       "MEGHALAYA                                  16   \n",
       "MIZORAM                                    12   \n",
       "NAGALAND                                   20   \n",
       "ODISHA                                   5878   \n",
       "PUDUCHERRY                                568   \n",
       "PUNJAB                                   1524   \n",
       "RAJASTHAN                                 708   \n",
       "SIKKIM                                     28   \n",
       "TAMIL NADU                              20086   \n",
       "TRIPURA                                    78   \n",
       "UTTAR PRADESH                           53022   \n",
       "UTTARAKHAND                              3038   \n",
       "WEST BENGAL                              3108   \n",
       "\n",
       "                   CRUELTY BY HUSBAND OR HIS RELATIVES  \\\n",
       "STATE/UT                                                 \n",
       "A & N ISLANDS                                      242   \n",
       "ANDHRA PRADESH                                  238014   \n",
       "ARUNACHAL PRADESH                                  334   \n",
       "ASSAM                                            78776   \n",
       "BIHAR                                            51360   \n",
       "CHANDIGARH                                        1614   \n",
       "CHHATTISGARH                                     19146   \n",
       "D & N HAVELI                                        76   \n",
       "DAMAN & DIU                                         70   \n",
       "DELHI UT                                         30422   \n",
       "GOA                                                382   \n",
       "GUJARAT                                         118862   \n",
       "HARYANA                                          54224   \n",
       "HIMACHAL PRADESH                                  6490   \n",
       "JAMMU & KASHMIR                                   3600   \n",
       "JHARKHAND                                        16818   \n",
       "KARNATAKA                                        60104   \n",
       "KERALA                                           92148   \n",
       "LAKSHADWEEP                                         14   \n",
       "MADHYA PRADESH                                   79938   \n",
       "MAHARASHTRA                                     160726   \n",
       "MANIPUR                                            438   \n",
       "MEGHALAYA                                          330   \n",
       "MIZORAM                                            108   \n",
       "NAGALAND                                            18   \n",
       "ODISHA                                           37394   \n",
       "PUDUCHERRY                                         210   \n",
       "PUNJAB                                           23996   \n",
       "RAJASTHAN                                       200202   \n",
       "SIKKIM                                              88   \n",
       "TAMIL NADU                                       36376   \n",
       "TRIPURA                                          13028   \n",
       "UTTAR PRADESH                                   155234   \n",
       "UTTARAKHAND                                       8284   \n",
       "WEST BENGAL                                     261336   \n",
       "\n",
       "                   IMPORTATION OF GIRLS FROM FOREIGN COUNTRIES  \\\n",
       "STATE/UT                                                         \n",
       "A & N ISLANDS                                                0   \n",
       "ANDHRA PRADESH                                              34   \n",
       "ARUNACHAL PRADESH                                            0   \n",
       "ASSAM                                                       16   \n",
       "BIHAR                                                      880   \n",
       "CHANDIGARH                                                   0   \n",
       "CHHATTISGARH                                                10   \n",
       "D & N HAVELI                                                 0   \n",
       "DAMAN & DIU                                                  0   \n",
       "DELHI UT                                                     2   \n",
       "GOA                                                          0   \n",
       "GUJARAT                                                      0   \n",
       "HARYANA                                                      0   \n",
       "HIMACHAL PRADESH                                             0   \n",
       "JAMMU & KASHMIR                                              0   \n",
       "JHARKHAND                                                  290   \n",
       "KARNATAKA                                                   94   \n",
       "KERALA                                                       0   \n",
       "LAKSHADWEEP                                                  0   \n",
       "MADHYA PRADESH                                             120   \n",
       "MAHARASHTRA                                                  4   \n",
       "MANIPUR                                                      0   \n",
       "MEGHALAYA                                                    8   \n",
       "MIZORAM                                                      6   \n",
       "NAGALAND                                                     2   \n",
       "ODISHA                                                      36   \n",
       "PUDUCHERRY                                                   0   \n",
       "PUNJAB                                                       4   \n",
       "RAJASTHAN                                                   12   \n",
       "SIKKIM                                                       0   \n",
       "TAMIL NADU                                                  30   \n",
       "TRIPURA                                                      0   \n",
       "UTTAR PRADESH                                                6   \n",
       "UTTARAKHAND                                                  2   \n",
       "WEST BENGAL                                                228   \n",
       "\n",
       "                   CAUSING DEATH BY NEGLIGENCE  OTHER IPC CRIMES  \\\n",
       "STATE/UT                                                           \n",
       "A & N ISLANDS                               84              8886   \n",
       "ANDHRA PRADESH                          276870            964504   \n",
       "ARUNACHAL PRADESH                         1490             14792   \n",
       "ASSAM                                    60410            362708   \n",
       "BIHAR                                    88884           1077182   \n",
       "CHANDIGARH                                 196             23210   \n",
       "CHHATTISGARH                             50864            491710   \n",
       "D & N HAVELI                               296              3718   \n",
       "DAMAN & DIU                                622              1322   \n",
       "DELHI UT                                 15006            474914   \n",
       "GOA                                       5328             19896   \n",
       "GUJARAT                                 108770           1459368   \n",
       "HARYANA                                  30394            449688   \n",
       "HIMACHAL PRADESH                         12618            174356   \n",
       "JAMMU & KASHMIR                           9048            265842   \n",
       "JHARKHAND                                27224            308478   \n",
       "KARNATAKA                                10156           1362672   \n",
       "KERALA                                     978           1659766   \n",
       "LAKSHADWEEP                                  0               654   \n",
       "MADHYA PRADESH                          129938           2393164   \n",
       "MAHARASHTRA                             269226           1120120   \n",
       "MANIPUR                                    174             25474   \n",
       "MEGHALAYA                                 1364             12528   \n",
       "MIZORAM                                    630             11824   \n",
       "NAGALAND                                   744              6100   \n",
       "ODISHA                                   73014            492412   \n",
       "PUDUCHERRY                                5204             54980   \n",
       "PUNJAB                                   66678            232054   \n",
       "RAJASTHAN                               156700           1569982   \n",
       "SIKKIM                                     844              4074   \n",
       "TAMIL NADU                              280386           2372230   \n",
       "TRIPURA                                   3084             28088   \n",
       "UTTAR PRADESH                           227642           1253898   \n",
       "UTTARAKHAND                              13360             52676   \n",
       "WEST BENGAL                              75502            852388   \n",
       "\n",
       "                   TOTAL IPC CRIMES  \n",
       "STATE/UT                             \n",
       "A & N ISLANDS                 18204  \n",
       "ANDHRA PRADESH              4037962  \n",
       "ARUNACHAL PRADESH             55304  \n",
       "ASSAM                       1195528  \n",
       "BIHAR                       2692586  \n",
       "CHANDIGARH                    81614  \n",
       "CHHATTISGARH                1122054  \n",
       "D & N HAVELI                   9302  \n",
       "DAMAN & DIU                    5896  \n",
       "DELHI UT                    1266348  \n",
       "GOA                           64102  \n",
       "GUJARAT                     2771550  \n",
       "HARYANA                     1190606  \n",
       "HIMACHAL PRADESH             309896  \n",
       "JAMMU & KASHMIR              518310  \n",
       "JHARKHAND                    844702  \n",
       "KARNATAKA                   2962126  \n",
       "KERALA                      2874918  \n",
       "LAKSHADWEEP                    1486  \n",
       "MADHYA PRADESH              4827540  \n",
       "MAHARASHTRA                 4546872  \n",
       "MANIPUR                       70144  \n",
       "MEGHALAYA                     50498  \n",
       "MIZORAM                       52292  \n",
       "NAGALAND                      26266  \n",
       "ODISHA                      1295892  \n",
       "PUDUCHERRY                   108232  \n",
       "PUNJAB                       768262  \n",
       "RAJASTHAN                   3711832  \n",
       "SIKKIM                        14000  \n",
       "TAMIL NADU                  4120352  \n",
       "TRIPURA                      105468  \n",
       "UTTAR PRADESH               3716148  \n",
       "UTTARAKHAND                  206408  \n",
       "WEST BENGAL                 2238608  \n",
       "\n",
       "[35 rows x 30 columns]"
      ]
     },
     "execution_count": 32,
     "metadata": {},
     "output_type": "execute_result"
    }
   ],
   "source": [
    "state_ut_crimes_df=pd.DataFrame()\n",
    "state_ut_crimes_df=crimes_by_different_order(state_ut_crimes_df,\"STATE/UT\")\n",
    "state_ut_crimes_df"
   ]
  },
  {
   "cell_type": "markdown",
   "id": "dfe6f29a",
   "metadata": {},
   "source": [
    "# Top 10 States/Union Territories With Highest number of crime cases"
   ]
  },
  {
   "cell_type": "code",
   "execution_count": 33,
   "id": "77c768bc",
   "metadata": {},
   "outputs": [
    {
     "data": {
      "text/html": [
       "<style type=\"text/css\">\n",
       "#T_3bdb3_row0_col0, #T_3bdb3_row1_col0 {\n",
       "  background-color: #67000d;\n",
       "  color: #f1f1f1;\n",
       "}\n",
       "#T_3bdb3_row2_col0 {\n",
       "  background-color: #e63328;\n",
       "  color: #f1f1f1;\n",
       "}\n",
       "#T_3bdb3_row3_col0 {\n",
       "  background-color: #eb372a;\n",
       "  color: #f1f1f1;\n",
       "}\n",
       "#T_3bdb3_row4_col0 {\n",
       "  background-color: #f75b40;\n",
       "  color: #f1f1f1;\n",
       "}\n",
       "#T_3bdb3_row5_col0 {\n",
       "  background-color: #fb6e4e;\n",
       "  color: #f1f1f1;\n",
       "}\n",
       "#T_3bdb3_row6_col0 {\n",
       "  background-color: #fee0d2;\n",
       "  color: #000000;\n",
       "}\n",
       "#T_3bdb3_row7_col0 {\n",
       "  background-color: #ffede5;\n",
       "  color: #000000;\n",
       "}\n",
       "#T_3bdb3_row8_col0 {\n",
       "  background-color: #fff2eb;\n",
       "  color: #000000;\n",
       "}\n",
       "#T_3bdb3_row9_col0 {\n",
       "  background-color: #fff5f0;\n",
       "  color: #000000;\n",
       "}\n",
       "</style>\n",
       "<table id=\"T_3bdb3\">\n",
       "  <thead>\n",
       "    <tr>\n",
       "      <th class=\"blank level0\" >&nbsp;</th>\n",
       "      <th id=\"T_3bdb3_level0_col0\" class=\"col_heading level0 col0\" >Total Cases</th>\n",
       "    </tr>\n",
       "    <tr>\n",
       "      <th class=\"index_name level0\" >STATE/UT</th>\n",
       "      <th class=\"blank col0\" >&nbsp;</th>\n",
       "    </tr>\n",
       "  </thead>\n",
       "  <tbody>\n",
       "    <tr>\n",
       "      <th id=\"T_3bdb3_level0_row0\" class=\"row_heading level0 row0\" >MADHYA PRADESH</th>\n",
       "      <td id=\"T_3bdb3_row0_col0\" class=\"data row0 col0\" >10278890</td>\n",
       "    </tr>\n",
       "    <tr>\n",
       "      <th id=\"T_3bdb3_level0_row1\" class=\"row_heading level0 row1\" >MAHARASHTRA</th>\n",
       "      <td id=\"T_3bdb3_row1_col0\" class=\"data row1 col0\" >10273532</td>\n",
       "    </tr>\n",
       "    <tr>\n",
       "      <th id=\"T_3bdb3_level0_row2\" class=\"row_heading level0 row2\" >ANDHRA PRADESH</th>\n",
       "      <td id=\"T_3bdb3_row2_col0\" class=\"data row2 col0\" >8719740</td>\n",
       "    </tr>\n",
       "    <tr>\n",
       "      <th id=\"T_3bdb3_level0_row3\" class=\"row_heading level0 row3\" >TAMIL NADU</th>\n",
       "      <td id=\"T_3bdb3_row3_col0\" class=\"data row3 col0\" >8655534</td>\n",
       "    </tr>\n",
       "    <tr>\n",
       "      <th id=\"T_3bdb3_level0_row4\" class=\"row_heading level0 row4\" >UTTAR PRADESH</th>\n",
       "      <td id=\"T_3bdb3_row4_col0\" class=\"data row4 col0\" >8213038</td>\n",
       "    </tr>\n",
       "    <tr>\n",
       "      <th id=\"T_3bdb3_level0_row5\" class=\"row_heading level0 row5\" >RAJASTHAN</th>\n",
       "      <td id=\"T_3bdb3_row5_col0\" class=\"data row5 col0\" >7982662</td>\n",
       "    </tr>\n",
       "    <tr>\n",
       "      <th id=\"T_3bdb3_level0_row6\" class=\"row_heading level0 row6\" >KARNATAKA</th>\n",
       "      <td id=\"T_3bdb3_row6_col0\" class=\"data row6 col0\" >6354578</td>\n",
       "    </tr>\n",
       "    <tr>\n",
       "      <th id=\"T_3bdb3_level0_row7\" class=\"row_heading level0 row7\" >GUJARAT</th>\n",
       "      <td id=\"T_3bdb3_row7_col0\" class=\"data row7 col0\" >6008504</td>\n",
       "    </tr>\n",
       "    <tr>\n",
       "      <th id=\"T_3bdb3_level0_row8\" class=\"row_heading level0 row8\" >KERALA</th>\n",
       "      <td id=\"T_3bdb3_row8_col0\" class=\"data row8 col0\" >5895218</td>\n",
       "    </tr>\n",
       "    <tr>\n",
       "      <th id=\"T_3bdb3_level0_row9\" class=\"row_heading level0 row9\" >BIHAR</th>\n",
       "      <td id=\"T_3bdb3_row9_col0\" class=\"data row9 col0\" >5792604</td>\n",
       "    </tr>\n",
       "  </tbody>\n",
       "</table>\n"
      ],
      "text/plain": [
       "<pandas.io.formats.style.Styler at 0x111cda52090>"
      ]
     },
     "execution_count": 33,
     "metadata": {},
     "output_type": "execute_result"
    }
   ],
   "source": [
    "pd.DataFrame(state_ut_crimes_df.sum(axis=1),columns=['Total Cases'] ).sort_values(by='Total Cases',ascending=False).head(10).style.background_gradient(cmap = \"Reds\")"
   ]
  },
  {
   "cell_type": "markdown",
   "id": "a18fd130",
   "metadata": {},
   "source": [
    "# Top 10 States/Union Territories With Lowest Crime Rate"
   ]
  },
  {
   "cell_type": "code",
   "execution_count": 34,
   "id": "1a56044b",
   "metadata": {},
   "outputs": [
    {
     "data": {
      "text/html": [
       "<style type=\"text/css\">\n",
       "#T_a1e62_row0_col0 {\n",
       "  background-color: #ffffe5;\n",
       "  color: #000000;\n",
       "}\n",
       "#T_a1e62_row1_col0 {\n",
       "  background-color: #fbfdce;\n",
       "  color: #000000;\n",
       "}\n",
       "#T_a1e62_row2_col0 {\n",
       "  background-color: #f7fcba;\n",
       "  color: #000000;\n",
       "}\n",
       "#T_a1e62_row3_col0 {\n",
       "  background-color: #e7f6ad;\n",
       "  color: #000000;\n",
       "}\n",
       "#T_a1e62_row4_col0 {\n",
       "  background-color: #d9f0a3;\n",
       "  color: #000000;\n",
       "}\n",
       "#T_a1e62_row5_col0 {\n",
       "  background-color: #9fd788;\n",
       "  color: #000000;\n",
       "}\n",
       "#T_a1e62_row6_col0 {\n",
       "  background-color: #167a3f;\n",
       "  color: #f1f1f1;\n",
       "}\n",
       "#T_a1e62_row7_col0 {\n",
       "  background-color: #086e3a;\n",
       "  color: #f1f1f1;\n",
       "}\n",
       "#T_a1e62_row8_col0 {\n",
       "  background-color: #026a38;\n",
       "  color: #f1f1f1;\n",
       "}\n",
       "#T_a1e62_row9_col0 {\n",
       "  background-color: #004529;\n",
       "  color: #f1f1f1;\n",
       "}\n",
       "</style>\n",
       "<table id=\"T_a1e62\">\n",
       "  <thead>\n",
       "    <tr>\n",
       "      <th class=\"blank level0\" >&nbsp;</th>\n",
       "      <th id=\"T_a1e62_level0_col0\" class=\"col_heading level0 col0\" >Total Cases</th>\n",
       "    </tr>\n",
       "    <tr>\n",
       "      <th class=\"index_name level0\" >STATE/UT</th>\n",
       "      <th class=\"blank col0\" >&nbsp;</th>\n",
       "    </tr>\n",
       "  </thead>\n",
       "  <tbody>\n",
       "    <tr>\n",
       "      <th id=\"T_a1e62_level0_row0\" class=\"row_heading level0 row0\" >LAKSHADWEEP</th>\n",
       "      <td id=\"T_a1e62_row0_col0\" class=\"data row0 col0\" >3214</td>\n",
       "    </tr>\n",
       "    <tr>\n",
       "      <th id=\"T_a1e62_level0_row1\" class=\"row_heading level0 row1\" >DAMAN & DIU</th>\n",
       "      <td id=\"T_a1e62_row1_col0\" class=\"data row1 col0\" >13022</td>\n",
       "    </tr>\n",
       "    <tr>\n",
       "      <th id=\"T_a1e62_level0_row2\" class=\"row_heading level0 row2\" >D & N HAVELI</th>\n",
       "      <td id=\"T_a1e62_row2_col0\" class=\"data row2 col0\" >20544</td>\n",
       "    </tr>\n",
       "    <tr>\n",
       "      <th id=\"T_a1e62_level0_row3\" class=\"row_heading level0 row3\" >SIKKIM</th>\n",
       "      <td id=\"T_a1e62_row3_col0\" class=\"data row3 col0\" >30580</td>\n",
       "    </tr>\n",
       "    <tr>\n",
       "      <th id=\"T_a1e62_level0_row4\" class=\"row_heading level0 row4\" >A & N ISLANDS</th>\n",
       "      <td id=\"T_a1e62_row4_col0\" class=\"data row4 col0\" >39062</td>\n",
       "    </tr>\n",
       "    <tr>\n",
       "      <th id=\"T_a1e62_level0_row5\" class=\"row_heading level0 row5\" >NAGALAND</th>\n",
       "      <td id=\"T_a1e62_row5_col0\" class=\"data row5 col0\" >61360</td>\n",
       "    </tr>\n",
       "    <tr>\n",
       "      <th id=\"T_a1e62_level0_row6\" class=\"row_heading level0 row6\" >MEGHALAYA</th>\n",
       "      <td id=\"T_a1e62_row6_col0\" class=\"data row6 col0\" >116502</td>\n",
       "    </tr>\n",
       "    <tr>\n",
       "      <th id=\"T_a1e62_level0_row7\" class=\"row_heading level0 row7\" >ARUNACHAL PRADESH</th>\n",
       "      <td id=\"T_a1e62_row7_col0\" class=\"data row7 col0\" >123678</td>\n",
       "    </tr>\n",
       "    <tr>\n",
       "      <th id=\"T_a1e62_level0_row8\" class=\"row_heading level0 row8\" >MIZORAM</th>\n",
       "      <td id=\"T_a1e62_row8_col0\" class=\"data row8 col0\" >126034</td>\n",
       "    </tr>\n",
       "    <tr>\n",
       "      <th id=\"T_a1e62_level0_row9\" class=\"row_heading level0 row9\" >GOA</th>\n",
       "      <td id=\"T_a1e62_row9_col0\" class=\"data row9 col0\" >145466</td>\n",
       "    </tr>\n",
       "  </tbody>\n",
       "</table>\n"
      ],
      "text/plain": [
       "<pandas.io.formats.style.Styler at 0x111ce368dd0>"
      ]
     },
     "execution_count": 34,
     "metadata": {},
     "output_type": "execute_result"
    }
   ],
   "source": [
    "pd.DataFrame(state_ut_crimes_df.sum(axis=1),columns=['Total Cases'] ).sort_values(by='Total Cases').head(10).style.background_gradient(cmap = \"YlGn\")"
   ]
  },
  {
   "cell_type": "markdown",
   "id": "49c03c26",
   "metadata": {},
   "source": [
    "# Out of 7 types of crime which are the states/ut having maximum cases of each type ?"
   ]
  },
  {
   "cell_type": "code",
   "execution_count": 35,
   "id": "1b3bcda3",
   "metadata": {},
   "outputs": [
    {
     "data": {
      "text/html": [
       "<div>\n",
       "<style scoped>\n",
       "    .dataframe tbody tr th:only-of-type {\n",
       "        vertical-align: middle;\n",
       "    }\n",
       "\n",
       "    .dataframe tbody tr th {\n",
       "        vertical-align: top;\n",
       "    }\n",
       "\n",
       "    .dataframe thead th {\n",
       "        text-align: right;\n",
       "    }\n",
       "</style>\n",
       "<table border=\"1\" class=\"dataframe\">\n",
       "  <thead>\n",
       "    <tr style=\"text-align: right;\">\n",
       "      <th></th>\n",
       "      <th>STATE / UT</th>\n",
       "    </tr>\n",
       "  </thead>\n",
       "  <tbody>\n",
       "    <tr>\n",
       "      <th>MURDER</th>\n",
       "      <td>UTTAR PRADESH</td>\n",
       "    </tr>\n",
       "    <tr>\n",
       "      <th>ATTEMPT TO MURDER</th>\n",
       "      <td>UTTAR PRADESH</td>\n",
       "    </tr>\n",
       "    <tr>\n",
       "      <th>CULPABLE HOMICIDE NOT AMOUNTING TO MURDER</th>\n",
       "      <td>UTTAR PRADESH</td>\n",
       "    </tr>\n",
       "    <tr>\n",
       "      <th>RAPE</th>\n",
       "      <td>MADHYA PRADESH</td>\n",
       "    </tr>\n",
       "    <tr>\n",
       "      <th>CUSTODIAL RAPE</th>\n",
       "      <td>ASSAM</td>\n",
       "    </tr>\n",
       "    <tr>\n",
       "      <th>OTHER RAPE</th>\n",
       "      <td>MADHYA PRADESH</td>\n",
       "    </tr>\n",
       "    <tr>\n",
       "      <th>KIDNAPPING &amp; ABDUCTION</th>\n",
       "      <td>UTTAR PRADESH</td>\n",
       "    </tr>\n",
       "    <tr>\n",
       "      <th>KIDNAPPING AND ABDUCTION OF WOMEN AND GIRLS</th>\n",
       "      <td>UTTAR PRADESH</td>\n",
       "    </tr>\n",
       "    <tr>\n",
       "      <th>KIDNAPPING AND ABDUCTION OF OTHERS</th>\n",
       "      <td>BIHAR</td>\n",
       "    </tr>\n",
       "    <tr>\n",
       "      <th>DACOITY</th>\n",
       "      <td>BIHAR</td>\n",
       "    </tr>\n",
       "    <tr>\n",
       "      <th>PREPARATION AND ASSEMBLY FOR DACOITY</th>\n",
       "      <td>WEST BENGAL</td>\n",
       "    </tr>\n",
       "    <tr>\n",
       "      <th>ROBBERY</th>\n",
       "      <td>MAHARASHTRA</td>\n",
       "    </tr>\n",
       "    <tr>\n",
       "      <th>BURGLARY</th>\n",
       "      <td>MAHARASHTRA</td>\n",
       "    </tr>\n",
       "    <tr>\n",
       "      <th>THEFT</th>\n",
       "      <td>MAHARASHTRA</td>\n",
       "    </tr>\n",
       "    <tr>\n",
       "      <th>AUTO THEFT</th>\n",
       "      <td>MAHARASHTRA</td>\n",
       "    </tr>\n",
       "    <tr>\n",
       "      <th>OTHER THEFT</th>\n",
       "      <td>MAHARASHTRA</td>\n",
       "    </tr>\n",
       "    <tr>\n",
       "      <th>RIOTS</th>\n",
       "      <td>BIHAR</td>\n",
       "    </tr>\n",
       "    <tr>\n",
       "      <th>CRIMINAL BREACH OF TRUST</th>\n",
       "      <td>UTTAR PRADESH</td>\n",
       "    </tr>\n",
       "    <tr>\n",
       "      <th>CHEATING</th>\n",
       "      <td>RAJASTHAN</td>\n",
       "    </tr>\n",
       "    <tr>\n",
       "      <th>COUNTERFIETING</th>\n",
       "      <td>MAHARASHTRA</td>\n",
       "    </tr>\n",
       "    <tr>\n",
       "      <th>ARSON</th>\n",
       "      <td>MAHARASHTRA</td>\n",
       "    </tr>\n",
       "    <tr>\n",
       "      <th>HURT/GREVIOUS HURT</th>\n",
       "      <td>ANDHRA PRADESH</td>\n",
       "    </tr>\n",
       "    <tr>\n",
       "      <th>DOWRY DEATHS</th>\n",
       "      <td>UTTAR PRADESH</td>\n",
       "    </tr>\n",
       "    <tr>\n",
       "      <th>ASSAULT ON WOMEN WITH INTENT TO OUTRAGE HER MODESTY</th>\n",
       "      <td>MADHYA PRADESH</td>\n",
       "    </tr>\n",
       "    <tr>\n",
       "      <th>INSULT TO MODESTY OF WOMEN</th>\n",
       "      <td>ANDHRA PRADESH</td>\n",
       "    </tr>\n",
       "    <tr>\n",
       "      <th>CRUELTY BY HUSBAND OR HIS RELATIVES</th>\n",
       "      <td>WEST BENGAL</td>\n",
       "    </tr>\n",
       "    <tr>\n",
       "      <th>IMPORTATION OF GIRLS FROM FOREIGN COUNTRIES</th>\n",
       "      <td>BIHAR</td>\n",
       "    </tr>\n",
       "    <tr>\n",
       "      <th>CAUSING DEATH BY NEGLIGENCE</th>\n",
       "      <td>TAMIL NADU</td>\n",
       "    </tr>\n",
       "    <tr>\n",
       "      <th>OTHER IPC CRIMES</th>\n",
       "      <td>MADHYA PRADESH</td>\n",
       "    </tr>\n",
       "    <tr>\n",
       "      <th>TOTAL IPC CRIMES</th>\n",
       "      <td>MADHYA PRADESH</td>\n",
       "    </tr>\n",
       "  </tbody>\n",
       "</table>\n",
       "</div>"
      ],
      "text/plain": [
       "                                                        STATE / UT\n",
       "MURDER                                               UTTAR PRADESH\n",
       "ATTEMPT TO MURDER                                    UTTAR PRADESH\n",
       "CULPABLE HOMICIDE NOT AMOUNTING TO MURDER            UTTAR PRADESH\n",
       "RAPE                                                MADHYA PRADESH\n",
       "CUSTODIAL RAPE                                               ASSAM\n",
       "OTHER RAPE                                          MADHYA PRADESH\n",
       "KIDNAPPING & ABDUCTION                               UTTAR PRADESH\n",
       "KIDNAPPING AND ABDUCTION OF WOMEN AND GIRLS          UTTAR PRADESH\n",
       "KIDNAPPING AND ABDUCTION OF OTHERS                           BIHAR\n",
       "DACOITY                                                      BIHAR\n",
       "PREPARATION AND ASSEMBLY FOR DACOITY                   WEST BENGAL\n",
       "ROBBERY                                                MAHARASHTRA\n",
       "BURGLARY                                               MAHARASHTRA\n",
       "THEFT                                                  MAHARASHTRA\n",
       "AUTO THEFT                                             MAHARASHTRA\n",
       "OTHER THEFT                                            MAHARASHTRA\n",
       "RIOTS                                                        BIHAR\n",
       "CRIMINAL BREACH OF TRUST                             UTTAR PRADESH\n",
       "CHEATING                                                 RAJASTHAN\n",
       "COUNTERFIETING                                         MAHARASHTRA\n",
       "ARSON                                                  MAHARASHTRA\n",
       "HURT/GREVIOUS HURT                                  ANDHRA PRADESH\n",
       "DOWRY DEATHS                                         UTTAR PRADESH\n",
       "ASSAULT ON WOMEN WITH INTENT TO OUTRAGE HER MOD...  MADHYA PRADESH\n",
       "INSULT TO MODESTY OF WOMEN                          ANDHRA PRADESH\n",
       "CRUELTY BY HUSBAND OR HIS RELATIVES                    WEST BENGAL\n",
       "IMPORTATION OF GIRLS FROM FOREIGN COUNTRIES                  BIHAR\n",
       "CAUSING DEATH BY NEGLIGENCE                             TAMIL NADU\n",
       "OTHER IPC CRIMES                                    MADHYA PRADESH\n",
       "TOTAL IPC CRIMES                                    MADHYA PRADESH"
      ]
     },
     "execution_count": 35,
     "metadata": {},
     "output_type": "execute_result"
    }
   ],
   "source": [
    "pd.DataFrame(state_ut_crimes_df.idxmax(),columns=['STATE / UT'])"
   ]
  },
  {
   "cell_type": "markdown",
   "id": "7b84d0c1",
   "metadata": {},
   "source": [
    "# Out of 7 types of crime which are the states/ut having minimum cases of each type ?"
   ]
  },
  {
   "cell_type": "code",
   "execution_count": 36,
   "id": "7faf9e13",
   "metadata": {},
   "outputs": [
    {
     "data": {
      "text/html": [
       "<div>\n",
       "<style scoped>\n",
       "    .dataframe tbody tr th:only-of-type {\n",
       "        vertical-align: middle;\n",
       "    }\n",
       "\n",
       "    .dataframe tbody tr th {\n",
       "        vertical-align: top;\n",
       "    }\n",
       "\n",
       "    .dataframe thead th {\n",
       "        text-align: right;\n",
       "    }\n",
       "</style>\n",
       "<table border=\"1\" class=\"dataframe\">\n",
       "  <thead>\n",
       "    <tr style=\"text-align: right;\">\n",
       "      <th></th>\n",
       "      <th>STATE / UT</th>\n",
       "    </tr>\n",
       "  </thead>\n",
       "  <tbody>\n",
       "    <tr>\n",
       "      <th>MURDER</th>\n",
       "      <td>LAKSHADWEEP</td>\n",
       "    </tr>\n",
       "    <tr>\n",
       "      <th>ATTEMPT TO MURDER</th>\n",
       "      <td>LAKSHADWEEP</td>\n",
       "    </tr>\n",
       "    <tr>\n",
       "      <th>CULPABLE HOMICIDE NOT AMOUNTING TO MURDER</th>\n",
       "      <td>LAKSHADWEEP</td>\n",
       "    </tr>\n",
       "    <tr>\n",
       "      <th>RAPE</th>\n",
       "      <td>LAKSHADWEEP</td>\n",
       "    </tr>\n",
       "    <tr>\n",
       "      <th>CUSTODIAL RAPE</th>\n",
       "      <td>A &amp; N ISLANDS</td>\n",
       "    </tr>\n",
       "    <tr>\n",
       "      <th>OTHER RAPE</th>\n",
       "      <td>LAKSHADWEEP</td>\n",
       "    </tr>\n",
       "    <tr>\n",
       "      <th>KIDNAPPING &amp; ABDUCTION</th>\n",
       "      <td>LAKSHADWEEP</td>\n",
       "    </tr>\n",
       "    <tr>\n",
       "      <th>KIDNAPPING AND ABDUCTION OF WOMEN AND GIRLS</th>\n",
       "      <td>LAKSHADWEEP</td>\n",
       "    </tr>\n",
       "    <tr>\n",
       "      <th>KIDNAPPING AND ABDUCTION OF OTHERS</th>\n",
       "      <td>LAKSHADWEEP</td>\n",
       "    </tr>\n",
       "    <tr>\n",
       "      <th>DACOITY</th>\n",
       "      <td>LAKSHADWEEP</td>\n",
       "    </tr>\n",
       "    <tr>\n",
       "      <th>PREPARATION AND ASSEMBLY FOR DACOITY</th>\n",
       "      <td>A &amp; N ISLANDS</td>\n",
       "    </tr>\n",
       "    <tr>\n",
       "      <th>ROBBERY</th>\n",
       "      <td>LAKSHADWEEP</td>\n",
       "    </tr>\n",
       "    <tr>\n",
       "      <th>BURGLARY</th>\n",
       "      <td>LAKSHADWEEP</td>\n",
       "    </tr>\n",
       "    <tr>\n",
       "      <th>THEFT</th>\n",
       "      <td>LAKSHADWEEP</td>\n",
       "    </tr>\n",
       "    <tr>\n",
       "      <th>AUTO THEFT</th>\n",
       "      <td>LAKSHADWEEP</td>\n",
       "    </tr>\n",
       "    <tr>\n",
       "      <th>OTHER THEFT</th>\n",
       "      <td>LAKSHADWEEP</td>\n",
       "    </tr>\n",
       "    <tr>\n",
       "      <th>RIOTS</th>\n",
       "      <td>PUNJAB</td>\n",
       "    </tr>\n",
       "    <tr>\n",
       "      <th>CRIMINAL BREACH OF TRUST</th>\n",
       "      <td>LAKSHADWEEP</td>\n",
       "    </tr>\n",
       "    <tr>\n",
       "      <th>CHEATING</th>\n",
       "      <td>LAKSHADWEEP</td>\n",
       "    </tr>\n",
       "    <tr>\n",
       "      <th>COUNTERFIETING</th>\n",
       "      <td>LAKSHADWEEP</td>\n",
       "    </tr>\n",
       "    <tr>\n",
       "      <th>ARSON</th>\n",
       "      <td>LAKSHADWEEP</td>\n",
       "    </tr>\n",
       "    <tr>\n",
       "      <th>HURT/GREVIOUS HURT</th>\n",
       "      <td>LAKSHADWEEP</td>\n",
       "    </tr>\n",
       "    <tr>\n",
       "      <th>DOWRY DEATHS</th>\n",
       "      <td>LAKSHADWEEP</td>\n",
       "    </tr>\n",
       "    <tr>\n",
       "      <th>ASSAULT ON WOMEN WITH INTENT TO OUTRAGE HER MODESTY</th>\n",
       "      <td>LAKSHADWEEP</td>\n",
       "    </tr>\n",
       "    <tr>\n",
       "      <th>INSULT TO MODESTY OF WOMEN</th>\n",
       "      <td>LAKSHADWEEP</td>\n",
       "    </tr>\n",
       "    <tr>\n",
       "      <th>CRUELTY BY HUSBAND OR HIS RELATIVES</th>\n",
       "      <td>LAKSHADWEEP</td>\n",
       "    </tr>\n",
       "    <tr>\n",
       "      <th>IMPORTATION OF GIRLS FROM FOREIGN COUNTRIES</th>\n",
       "      <td>A &amp; N ISLANDS</td>\n",
       "    </tr>\n",
       "    <tr>\n",
       "      <th>CAUSING DEATH BY NEGLIGENCE</th>\n",
       "      <td>LAKSHADWEEP</td>\n",
       "    </tr>\n",
       "    <tr>\n",
       "      <th>OTHER IPC CRIMES</th>\n",
       "      <td>LAKSHADWEEP</td>\n",
       "    </tr>\n",
       "    <tr>\n",
       "      <th>TOTAL IPC CRIMES</th>\n",
       "      <td>LAKSHADWEEP</td>\n",
       "    </tr>\n",
       "  </tbody>\n",
       "</table>\n",
       "</div>"
      ],
      "text/plain": [
       "                                                       STATE / UT\n",
       "MURDER                                                LAKSHADWEEP\n",
       "ATTEMPT TO MURDER                                     LAKSHADWEEP\n",
       "CULPABLE HOMICIDE NOT AMOUNTING TO MURDER             LAKSHADWEEP\n",
       "RAPE                                                  LAKSHADWEEP\n",
       "CUSTODIAL RAPE                                      A & N ISLANDS\n",
       "OTHER RAPE                                            LAKSHADWEEP\n",
       "KIDNAPPING & ABDUCTION                                LAKSHADWEEP\n",
       "KIDNAPPING AND ABDUCTION OF WOMEN AND GIRLS           LAKSHADWEEP\n",
       "KIDNAPPING AND ABDUCTION OF OTHERS                    LAKSHADWEEP\n",
       "DACOITY                                               LAKSHADWEEP\n",
       "PREPARATION AND ASSEMBLY FOR DACOITY                A & N ISLANDS\n",
       "ROBBERY                                               LAKSHADWEEP\n",
       "BURGLARY                                              LAKSHADWEEP\n",
       "THEFT                                                 LAKSHADWEEP\n",
       "AUTO THEFT                                            LAKSHADWEEP\n",
       "OTHER THEFT                                           LAKSHADWEEP\n",
       "RIOTS                                                      PUNJAB\n",
       "CRIMINAL BREACH OF TRUST                              LAKSHADWEEP\n",
       "CHEATING                                              LAKSHADWEEP\n",
       "COUNTERFIETING                                        LAKSHADWEEP\n",
       "ARSON                                                 LAKSHADWEEP\n",
       "HURT/GREVIOUS HURT                                    LAKSHADWEEP\n",
       "DOWRY DEATHS                                          LAKSHADWEEP\n",
       "ASSAULT ON WOMEN WITH INTENT TO OUTRAGE HER MOD...    LAKSHADWEEP\n",
       "INSULT TO MODESTY OF WOMEN                            LAKSHADWEEP\n",
       "CRUELTY BY HUSBAND OR HIS RELATIVES                   LAKSHADWEEP\n",
       "IMPORTATION OF GIRLS FROM FOREIGN COUNTRIES         A & N ISLANDS\n",
       "CAUSING DEATH BY NEGLIGENCE                           LAKSHADWEEP\n",
       "OTHER IPC CRIMES                                      LAKSHADWEEP\n",
       "TOTAL IPC CRIMES                                      LAKSHADWEEP"
      ]
     },
     "execution_count": 36,
     "metadata": {},
     "output_type": "execute_result"
    }
   ],
   "source": [
    "pd.DataFrame(state_ut_crimes_df.idxmin(),columns=['STATE / UT'])"
   ]
  },
  {
   "cell_type": "markdown",
   "id": "070cad8e",
   "metadata": {},
   "source": [
    "#  Women's Crime on the map of India"
   ]
  },
  {
   "cell_type": "code",
   "execution_count": 37,
   "id": "9e4668ce",
   "metadata": {},
   "outputs": [
    {
     "data": {
      "application/vnd.plotly.v1+json": {
       "config": {
        "plotlyServerURL": "https://plot.ly"
       },
       "data": [
        {
         "coloraxis": "coloraxis",
         "featureidkey": "properties.NAME_1",
         "geojson": {
          "features": [
           {
            "geometry": {
             "coordinates": [
              [
               [
                81,
                16
               ],
               [
                82,
                17
               ],
               [
                83,
                18
               ],
               [
                81,
                16
               ]
              ]
             ],
             "type": "Polygon"
            },
            "properties": {
             "NAME_1": "ANDHRA PRADESH"
            },
            "type": "Feature"
           },
           {
            "geometry": {
             "coordinates": [
              [
               [
                75,
                15
               ],
               [
                76,
                16
               ],
               [
                77,
                17
               ],
               [
                75,
                15
               ]
              ]
             ],
             "type": "Polygon"
            },
            "properties": {
             "NAME_1": "KARNATAKA"
            },
            "type": "Feature"
           }
          ],
          "type": "FeatureCollection"
         },
         "hovertemplate": "state=%{location}<br>value=%{z}<extra></extra>",
         "locations": [
          "ANDHRA PRADESH",
          "KARNATAKA"
         ],
         "marker": {
          "opacity": 0.5
         },
         "name": "",
         "subplot": "mapbox",
         "type": "choroplethmapbox",
         "z": [
          100,
          200
         ]
        }
       ],
       "layout": {
        "coloraxis": {
         "colorbar": {
          "title": {
           "text": "value"
          }
         },
         "colorscale": [
          [
           0,
           "#0d0887"
          ],
          [
           0.1111111111111111,
           "#46039f"
          ],
          [
           0.2222222222222222,
           "#7201a8"
          ],
          [
           0.3333333333333333,
           "#9c179e"
          ],
          [
           0.4444444444444444,
           "#bd3786"
          ],
          [
           0.5555555555555556,
           "#d8576b"
          ],
          [
           0.6666666666666666,
           "#ed7953"
          ],
          [
           0.7777777777777778,
           "#fb9f3a"
          ],
          [
           0.8888888888888888,
           "#fdca26"
          ],
          [
           1,
           "#f0f921"
          ]
         ]
        },
        "legend": {
         "tracegroupgap": 0
        },
        "mapbox": {
         "center": {
          "lat": 20.5937,
          "lon": 78.9629
         },
         "domain": {
          "x": [
           0,
           1
          ],
          "y": [
           0,
           1
          ]
         },
         "style": "carto-positron",
         "zoom": 3
        },
        "margin": {
         "b": 0,
         "l": 0,
         "r": 0,
         "t": 0
        },
        "template": {
         "data": {
          "bar": [
           {
            "error_x": {
             "color": "#2a3f5f"
            },
            "error_y": {
             "color": "#2a3f5f"
            },
            "marker": {
             "line": {
              "color": "#E5ECF6",
              "width": 0.5
             },
             "pattern": {
              "fillmode": "overlay",
              "size": 10,
              "solidity": 0.2
             }
            },
            "type": "bar"
           }
          ],
          "barpolar": [
           {
            "marker": {
             "line": {
              "color": "#E5ECF6",
              "width": 0.5
             },
             "pattern": {
              "fillmode": "overlay",
              "size": 10,
              "solidity": 0.2
             }
            },
            "type": "barpolar"
           }
          ],
          "carpet": [
           {
            "aaxis": {
             "endlinecolor": "#2a3f5f",
             "gridcolor": "white",
             "linecolor": "white",
             "minorgridcolor": "white",
             "startlinecolor": "#2a3f5f"
            },
            "baxis": {
             "endlinecolor": "#2a3f5f",
             "gridcolor": "white",
             "linecolor": "white",
             "minorgridcolor": "white",
             "startlinecolor": "#2a3f5f"
            },
            "type": "carpet"
           }
          ],
          "choropleth": [
           {
            "colorbar": {
             "outlinewidth": 0,
             "ticks": ""
            },
            "type": "choropleth"
           }
          ],
          "contour": [
           {
            "colorbar": {
             "outlinewidth": 0,
             "ticks": ""
            },
            "colorscale": [
             [
              0,
              "#0d0887"
             ],
             [
              0.1111111111111111,
              "#46039f"
             ],
             [
              0.2222222222222222,
              "#7201a8"
             ],
             [
              0.3333333333333333,
              "#9c179e"
             ],
             [
              0.4444444444444444,
              "#bd3786"
             ],
             [
              0.5555555555555556,
              "#d8576b"
             ],
             [
              0.6666666666666666,
              "#ed7953"
             ],
             [
              0.7777777777777778,
              "#fb9f3a"
             ],
             [
              0.8888888888888888,
              "#fdca26"
             ],
             [
              1,
              "#f0f921"
             ]
            ],
            "type": "contour"
           }
          ],
          "contourcarpet": [
           {
            "colorbar": {
             "outlinewidth": 0,
             "ticks": ""
            },
            "type": "contourcarpet"
           }
          ],
          "heatmap": [
           {
            "colorbar": {
             "outlinewidth": 0,
             "ticks": ""
            },
            "colorscale": [
             [
              0,
              "#0d0887"
             ],
             [
              0.1111111111111111,
              "#46039f"
             ],
             [
              0.2222222222222222,
              "#7201a8"
             ],
             [
              0.3333333333333333,
              "#9c179e"
             ],
             [
              0.4444444444444444,
              "#bd3786"
             ],
             [
              0.5555555555555556,
              "#d8576b"
             ],
             [
              0.6666666666666666,
              "#ed7953"
             ],
             [
              0.7777777777777778,
              "#fb9f3a"
             ],
             [
              0.8888888888888888,
              "#fdca26"
             ],
             [
              1,
              "#f0f921"
             ]
            ],
            "type": "heatmap"
           }
          ],
          "heatmapgl": [
           {
            "colorbar": {
             "outlinewidth": 0,
             "ticks": ""
            },
            "colorscale": [
             [
              0,
              "#0d0887"
             ],
             [
              0.1111111111111111,
              "#46039f"
             ],
             [
              0.2222222222222222,
              "#7201a8"
             ],
             [
              0.3333333333333333,
              "#9c179e"
             ],
             [
              0.4444444444444444,
              "#bd3786"
             ],
             [
              0.5555555555555556,
              "#d8576b"
             ],
             [
              0.6666666666666666,
              "#ed7953"
             ],
             [
              0.7777777777777778,
              "#fb9f3a"
             ],
             [
              0.8888888888888888,
              "#fdca26"
             ],
             [
              1,
              "#f0f921"
             ]
            ],
            "type": "heatmapgl"
           }
          ],
          "histogram": [
           {
            "marker": {
             "pattern": {
              "fillmode": "overlay",
              "size": 10,
              "solidity": 0.2
             }
            },
            "type": "histogram"
           }
          ],
          "histogram2d": [
           {
            "colorbar": {
             "outlinewidth": 0,
             "ticks": ""
            },
            "colorscale": [
             [
              0,
              "#0d0887"
             ],
             [
              0.1111111111111111,
              "#46039f"
             ],
             [
              0.2222222222222222,
              "#7201a8"
             ],
             [
              0.3333333333333333,
              "#9c179e"
             ],
             [
              0.4444444444444444,
              "#bd3786"
             ],
             [
              0.5555555555555556,
              "#d8576b"
             ],
             [
              0.6666666666666666,
              "#ed7953"
             ],
             [
              0.7777777777777778,
              "#fb9f3a"
             ],
             [
              0.8888888888888888,
              "#fdca26"
             ],
             [
              1,
              "#f0f921"
             ]
            ],
            "type": "histogram2d"
           }
          ],
          "histogram2dcontour": [
           {
            "colorbar": {
             "outlinewidth": 0,
             "ticks": ""
            },
            "colorscale": [
             [
              0,
              "#0d0887"
             ],
             [
              0.1111111111111111,
              "#46039f"
             ],
             [
              0.2222222222222222,
              "#7201a8"
             ],
             [
              0.3333333333333333,
              "#9c179e"
             ],
             [
              0.4444444444444444,
              "#bd3786"
             ],
             [
              0.5555555555555556,
              "#d8576b"
             ],
             [
              0.6666666666666666,
              "#ed7953"
             ],
             [
              0.7777777777777778,
              "#fb9f3a"
             ],
             [
              0.8888888888888888,
              "#fdca26"
             ],
             [
              1,
              "#f0f921"
             ]
            ],
            "type": "histogram2dcontour"
           }
          ],
          "mesh3d": [
           {
            "colorbar": {
             "outlinewidth": 0,
             "ticks": ""
            },
            "type": "mesh3d"
           }
          ],
          "parcoords": [
           {
            "line": {
             "colorbar": {
              "outlinewidth": 0,
              "ticks": ""
             }
            },
            "type": "parcoords"
           }
          ],
          "pie": [
           {
            "automargin": true,
            "type": "pie"
           }
          ],
          "scatter": [
           {
            "fillpattern": {
             "fillmode": "overlay",
             "size": 10,
             "solidity": 0.2
            },
            "type": "scatter"
           }
          ],
          "scatter3d": [
           {
            "line": {
             "colorbar": {
              "outlinewidth": 0,
              "ticks": ""
             }
            },
            "marker": {
             "colorbar": {
              "outlinewidth": 0,
              "ticks": ""
             }
            },
            "type": "scatter3d"
           }
          ],
          "scattercarpet": [
           {
            "marker": {
             "colorbar": {
              "outlinewidth": 0,
              "ticks": ""
             }
            },
            "type": "scattercarpet"
           }
          ],
          "scattergeo": [
           {
            "marker": {
             "colorbar": {
              "outlinewidth": 0,
              "ticks": ""
             }
            },
            "type": "scattergeo"
           }
          ],
          "scattergl": [
           {
            "marker": {
             "colorbar": {
              "outlinewidth": 0,
              "ticks": ""
             }
            },
            "type": "scattergl"
           }
          ],
          "scattermapbox": [
           {
            "marker": {
             "colorbar": {
              "outlinewidth": 0,
              "ticks": ""
             }
            },
            "type": "scattermapbox"
           }
          ],
          "scatterpolar": [
           {
            "marker": {
             "colorbar": {
              "outlinewidth": 0,
              "ticks": ""
             }
            },
            "type": "scatterpolar"
           }
          ],
          "scatterpolargl": [
           {
            "marker": {
             "colorbar": {
              "outlinewidth": 0,
              "ticks": ""
             }
            },
            "type": "scatterpolargl"
           }
          ],
          "scatterternary": [
           {
            "marker": {
             "colorbar": {
              "outlinewidth": 0,
              "ticks": ""
             }
            },
            "type": "scatterternary"
           }
          ],
          "surface": [
           {
            "colorbar": {
             "outlinewidth": 0,
             "ticks": ""
            },
            "colorscale": [
             [
              0,
              "#0d0887"
             ],
             [
              0.1111111111111111,
              "#46039f"
             ],
             [
              0.2222222222222222,
              "#7201a8"
             ],
             [
              0.3333333333333333,
              "#9c179e"
             ],
             [
              0.4444444444444444,
              "#bd3786"
             ],
             [
              0.5555555555555556,
              "#d8576b"
             ],
             [
              0.6666666666666666,
              "#ed7953"
             ],
             [
              0.7777777777777778,
              "#fb9f3a"
             ],
             [
              0.8888888888888888,
              "#fdca26"
             ],
             [
              1,
              "#f0f921"
             ]
            ],
            "type": "surface"
           }
          ],
          "table": [
           {
            "cells": {
             "fill": {
              "color": "#EBF0F8"
             },
             "line": {
              "color": "white"
             }
            },
            "header": {
             "fill": {
              "color": "#C8D4E3"
             },
             "line": {
              "color": "white"
             }
            },
            "type": "table"
           }
          ]
         },
         "layout": {
          "annotationdefaults": {
           "arrowcolor": "#2a3f5f",
           "arrowhead": 0,
           "arrowwidth": 1
          },
          "autotypenumbers": "strict",
          "coloraxis": {
           "colorbar": {
            "outlinewidth": 0,
            "ticks": ""
           }
          },
          "colorscale": {
           "diverging": [
            [
             0,
             "#8e0152"
            ],
            [
             0.1,
             "#c51b7d"
            ],
            [
             0.2,
             "#de77ae"
            ],
            [
             0.3,
             "#f1b6da"
            ],
            [
             0.4,
             "#fde0ef"
            ],
            [
             0.5,
             "#f7f7f7"
            ],
            [
             0.6,
             "#e6f5d0"
            ],
            [
             0.7,
             "#b8e186"
            ],
            [
             0.8,
             "#7fbc41"
            ],
            [
             0.9,
             "#4d9221"
            ],
            [
             1,
             "#276419"
            ]
           ],
           "sequential": [
            [
             0,
             "#0d0887"
            ],
            [
             0.1111111111111111,
             "#46039f"
            ],
            [
             0.2222222222222222,
             "#7201a8"
            ],
            [
             0.3333333333333333,
             "#9c179e"
            ],
            [
             0.4444444444444444,
             "#bd3786"
            ],
            [
             0.5555555555555556,
             "#d8576b"
            ],
            [
             0.6666666666666666,
             "#ed7953"
            ],
            [
             0.7777777777777778,
             "#fb9f3a"
            ],
            [
             0.8888888888888888,
             "#fdca26"
            ],
            [
             1,
             "#f0f921"
            ]
           ],
           "sequentialminus": [
            [
             0,
             "#0d0887"
            ],
            [
             0.1111111111111111,
             "#46039f"
            ],
            [
             0.2222222222222222,
             "#7201a8"
            ],
            [
             0.3333333333333333,
             "#9c179e"
            ],
            [
             0.4444444444444444,
             "#bd3786"
            ],
            [
             0.5555555555555556,
             "#d8576b"
            ],
            [
             0.6666666666666666,
             "#ed7953"
            ],
            [
             0.7777777777777778,
             "#fb9f3a"
            ],
            [
             0.8888888888888888,
             "#fdca26"
            ],
            [
             1,
             "#f0f921"
            ]
           ]
          },
          "colorway": [
           "#636efa",
           "#EF553B",
           "#00cc96",
           "#ab63fa",
           "#FFA15A",
           "#19d3f3",
           "#FF6692",
           "#B6E880",
           "#FF97FF",
           "#FECB52"
          ],
          "font": {
           "color": "#2a3f5f"
          },
          "geo": {
           "bgcolor": "white",
           "lakecolor": "white",
           "landcolor": "#E5ECF6",
           "showlakes": true,
           "showland": true,
           "subunitcolor": "white"
          },
          "hoverlabel": {
           "align": "left"
          },
          "hovermode": "closest",
          "mapbox": {
           "style": "light"
          },
          "paper_bgcolor": "white",
          "plot_bgcolor": "#E5ECF6",
          "polar": {
           "angularaxis": {
            "gridcolor": "white",
            "linecolor": "white",
            "ticks": ""
           },
           "bgcolor": "#E5ECF6",
           "radialaxis": {
            "gridcolor": "white",
            "linecolor": "white",
            "ticks": ""
           }
          },
          "scene": {
           "xaxis": {
            "backgroundcolor": "#E5ECF6",
            "gridcolor": "white",
            "gridwidth": 2,
            "linecolor": "white",
            "showbackground": true,
            "ticks": "",
            "zerolinecolor": "white"
           },
           "yaxis": {
            "backgroundcolor": "#E5ECF6",
            "gridcolor": "white",
            "gridwidth": 2,
            "linecolor": "white",
            "showbackground": true,
            "ticks": "",
            "zerolinecolor": "white"
           },
           "zaxis": {
            "backgroundcolor": "#E5ECF6",
            "gridcolor": "white",
            "gridwidth": 2,
            "linecolor": "white",
            "showbackground": true,
            "ticks": "",
            "zerolinecolor": "white"
           }
          },
          "shapedefaults": {
           "line": {
            "color": "#2a3f5f"
           }
          },
          "ternary": {
           "aaxis": {
            "gridcolor": "white",
            "linecolor": "white",
            "ticks": ""
           },
           "baxis": {
            "gridcolor": "white",
            "linecolor": "white",
            "ticks": ""
           },
           "bgcolor": "#E5ECF6",
           "caxis": {
            "gridcolor": "white",
            "linecolor": "white",
            "ticks": ""
           }
          },
          "title": {
           "x": 0.05
          },
          "xaxis": {
           "automargin": true,
           "gridcolor": "white",
           "linecolor": "white",
           "ticks": "",
           "title": {
            "standoff": 15
           },
           "zerolinecolor": "white",
           "zerolinewidth": 2
          },
          "yaxis": {
           "automargin": true,
           "gridcolor": "white",
           "linecolor": "white",
           "ticks": "",
           "title": {
            "standoff": 15
           },
           "zerolinecolor": "white",
           "zerolinewidth": 2
          }
         }
        }
       }
      },
      "text/html": [
       "<div>                            <div id=\"4b05a189-30e2-41a1-beca-50404c48c00c\" class=\"plotly-graph-div\" style=\"height:525px; width:100%;\"></div>            <script type=\"text/javascript\">                require([\"plotly\"], function(Plotly) {                    window.PLOTLYENV=window.PLOTLYENV || {};                                    if (document.getElementById(\"4b05a189-30e2-41a1-beca-50404c48c00c\")) {                    Plotly.newPlot(                        \"4b05a189-30e2-41a1-beca-50404c48c00c\",                        [{\"coloraxis\":\"coloraxis\",\"featureidkey\":\"properties.NAME_1\",\"geojson\":{\"type\":\"FeatureCollection\",\"features\":[{\"type\":\"Feature\",\"properties\":{\"NAME_1\":\"ANDHRA PRADESH\"},\"geometry\":{\"type\":\"Polygon\",\"coordinates\":[[[81.0,16.0],[82.0,17.0],[83.0,18.0],[81.0,16.0]]]}},{\"type\":\"Feature\",\"properties\":{\"NAME_1\":\"KARNATAKA\"},\"geometry\":{\"type\":\"Polygon\",\"coordinates\":[[[75.0,15.0],[76.0,16.0],[77.0,17.0],[75.0,15.0]]]}}]},\"hovertemplate\":\"state=%{location}<br>value=%{z}<extra></extra>\",\"locations\":[\"ANDHRA PRADESH\",\"KARNATAKA\"],\"marker\":{\"opacity\":0.5},\"name\":\"\",\"subplot\":\"mapbox\",\"z\":[100,200],\"type\":\"choroplethmapbox\"}],                        {\"template\":{\"data\":{\"histogram2dcontour\":[{\"type\":\"histogram2dcontour\",\"colorbar\":{\"outlinewidth\":0,\"ticks\":\"\"},\"colorscale\":[[0.0,\"#0d0887\"],[0.1111111111111111,\"#46039f\"],[0.2222222222222222,\"#7201a8\"],[0.3333333333333333,\"#9c179e\"],[0.4444444444444444,\"#bd3786\"],[0.5555555555555556,\"#d8576b\"],[0.6666666666666666,\"#ed7953\"],[0.7777777777777778,\"#fb9f3a\"],[0.8888888888888888,\"#fdca26\"],[1.0,\"#f0f921\"]]}],\"choropleth\":[{\"type\":\"choropleth\",\"colorbar\":{\"outlinewidth\":0,\"ticks\":\"\"}}],\"histogram2d\":[{\"type\":\"histogram2d\",\"colorbar\":{\"outlinewidth\":0,\"ticks\":\"\"},\"colorscale\":[[0.0,\"#0d0887\"],[0.1111111111111111,\"#46039f\"],[0.2222222222222222,\"#7201a8\"],[0.3333333333333333,\"#9c179e\"],[0.4444444444444444,\"#bd3786\"],[0.5555555555555556,\"#d8576b\"],[0.6666666666666666,\"#ed7953\"],[0.7777777777777778,\"#fb9f3a\"],[0.8888888888888888,\"#fdca26\"],[1.0,\"#f0f921\"]]}],\"heatmap\":[{\"type\":\"heatmap\",\"colorbar\":{\"outlinewidth\":0,\"ticks\":\"\"},\"colorscale\":[[0.0,\"#0d0887\"],[0.1111111111111111,\"#46039f\"],[0.2222222222222222,\"#7201a8\"],[0.3333333333333333,\"#9c179e\"],[0.4444444444444444,\"#bd3786\"],[0.5555555555555556,\"#d8576b\"],[0.6666666666666666,\"#ed7953\"],[0.7777777777777778,\"#fb9f3a\"],[0.8888888888888888,\"#fdca26\"],[1.0,\"#f0f921\"]]}],\"heatmapgl\":[{\"type\":\"heatmapgl\",\"colorbar\":{\"outlinewidth\":0,\"ticks\":\"\"},\"colorscale\":[[0.0,\"#0d0887\"],[0.1111111111111111,\"#46039f\"],[0.2222222222222222,\"#7201a8\"],[0.3333333333333333,\"#9c179e\"],[0.4444444444444444,\"#bd3786\"],[0.5555555555555556,\"#d8576b\"],[0.6666666666666666,\"#ed7953\"],[0.7777777777777778,\"#fb9f3a\"],[0.8888888888888888,\"#fdca26\"],[1.0,\"#f0f921\"]]}],\"contourcarpet\":[{\"type\":\"contourcarpet\",\"colorbar\":{\"outlinewidth\":0,\"ticks\":\"\"}}],\"contour\":[{\"type\":\"contour\",\"colorbar\":{\"outlinewidth\":0,\"ticks\":\"\"},\"colorscale\":[[0.0,\"#0d0887\"],[0.1111111111111111,\"#46039f\"],[0.2222222222222222,\"#7201a8\"],[0.3333333333333333,\"#9c179e\"],[0.4444444444444444,\"#bd3786\"],[0.5555555555555556,\"#d8576b\"],[0.6666666666666666,\"#ed7953\"],[0.7777777777777778,\"#fb9f3a\"],[0.8888888888888888,\"#fdca26\"],[1.0,\"#f0f921\"]]}],\"surface\":[{\"type\":\"surface\",\"colorbar\":{\"outlinewidth\":0,\"ticks\":\"\"},\"colorscale\":[[0.0,\"#0d0887\"],[0.1111111111111111,\"#46039f\"],[0.2222222222222222,\"#7201a8\"],[0.3333333333333333,\"#9c179e\"],[0.4444444444444444,\"#bd3786\"],[0.5555555555555556,\"#d8576b\"],[0.6666666666666666,\"#ed7953\"],[0.7777777777777778,\"#fb9f3a\"],[0.8888888888888888,\"#fdca26\"],[1.0,\"#f0f921\"]]}],\"mesh3d\":[{\"type\":\"mesh3d\",\"colorbar\":{\"outlinewidth\":0,\"ticks\":\"\"}}],\"scatter\":[{\"fillpattern\":{\"fillmode\":\"overlay\",\"size\":10,\"solidity\":0.2},\"type\":\"scatter\"}],\"parcoords\":[{\"type\":\"parcoords\",\"line\":{\"colorbar\":{\"outlinewidth\":0,\"ticks\":\"\"}}}],\"scatterpolargl\":[{\"type\":\"scatterpolargl\",\"marker\":{\"colorbar\":{\"outlinewidth\":0,\"ticks\":\"\"}}}],\"bar\":[{\"error_x\":{\"color\":\"#2a3f5f\"},\"error_y\":{\"color\":\"#2a3f5f\"},\"marker\":{\"line\":{\"color\":\"#E5ECF6\",\"width\":0.5},\"pattern\":{\"fillmode\":\"overlay\",\"size\":10,\"solidity\":0.2}},\"type\":\"bar\"}],\"scattergeo\":[{\"type\":\"scattergeo\",\"marker\":{\"colorbar\":{\"outlinewidth\":0,\"ticks\":\"\"}}}],\"scatterpolar\":[{\"type\":\"scatterpolar\",\"marker\":{\"colorbar\":{\"outlinewidth\":0,\"ticks\":\"\"}}}],\"histogram\":[{\"marker\":{\"pattern\":{\"fillmode\":\"overlay\",\"size\":10,\"solidity\":0.2}},\"type\":\"histogram\"}],\"scattergl\":[{\"type\":\"scattergl\",\"marker\":{\"colorbar\":{\"outlinewidth\":0,\"ticks\":\"\"}}}],\"scatter3d\":[{\"type\":\"scatter3d\",\"line\":{\"colorbar\":{\"outlinewidth\":0,\"ticks\":\"\"}},\"marker\":{\"colorbar\":{\"outlinewidth\":0,\"ticks\":\"\"}}}],\"scattermapbox\":[{\"type\":\"scattermapbox\",\"marker\":{\"colorbar\":{\"outlinewidth\":0,\"ticks\":\"\"}}}],\"scatterternary\":[{\"type\":\"scatterternary\",\"marker\":{\"colorbar\":{\"outlinewidth\":0,\"ticks\":\"\"}}}],\"scattercarpet\":[{\"type\":\"scattercarpet\",\"marker\":{\"colorbar\":{\"outlinewidth\":0,\"ticks\":\"\"}}}],\"carpet\":[{\"aaxis\":{\"endlinecolor\":\"#2a3f5f\",\"gridcolor\":\"white\",\"linecolor\":\"white\",\"minorgridcolor\":\"white\",\"startlinecolor\":\"#2a3f5f\"},\"baxis\":{\"endlinecolor\":\"#2a3f5f\",\"gridcolor\":\"white\",\"linecolor\":\"white\",\"minorgridcolor\":\"white\",\"startlinecolor\":\"#2a3f5f\"},\"type\":\"carpet\"}],\"table\":[{\"cells\":{\"fill\":{\"color\":\"#EBF0F8\"},\"line\":{\"color\":\"white\"}},\"header\":{\"fill\":{\"color\":\"#C8D4E3\"},\"line\":{\"color\":\"white\"}},\"type\":\"table\"}],\"barpolar\":[{\"marker\":{\"line\":{\"color\":\"#E5ECF6\",\"width\":0.5},\"pattern\":{\"fillmode\":\"overlay\",\"size\":10,\"solidity\":0.2}},\"type\":\"barpolar\"}],\"pie\":[{\"automargin\":true,\"type\":\"pie\"}]},\"layout\":{\"autotypenumbers\":\"strict\",\"colorway\":[\"#636efa\",\"#EF553B\",\"#00cc96\",\"#ab63fa\",\"#FFA15A\",\"#19d3f3\",\"#FF6692\",\"#B6E880\",\"#FF97FF\",\"#FECB52\"],\"font\":{\"color\":\"#2a3f5f\"},\"hovermode\":\"closest\",\"hoverlabel\":{\"align\":\"left\"},\"paper_bgcolor\":\"white\",\"plot_bgcolor\":\"#E5ECF6\",\"polar\":{\"bgcolor\":\"#E5ECF6\",\"angularaxis\":{\"gridcolor\":\"white\",\"linecolor\":\"white\",\"ticks\":\"\"},\"radialaxis\":{\"gridcolor\":\"white\",\"linecolor\":\"white\",\"ticks\":\"\"}},\"ternary\":{\"bgcolor\":\"#E5ECF6\",\"aaxis\":{\"gridcolor\":\"white\",\"linecolor\":\"white\",\"ticks\":\"\"},\"baxis\":{\"gridcolor\":\"white\",\"linecolor\":\"white\",\"ticks\":\"\"},\"caxis\":{\"gridcolor\":\"white\",\"linecolor\":\"white\",\"ticks\":\"\"}},\"coloraxis\":{\"colorbar\":{\"outlinewidth\":0,\"ticks\":\"\"}},\"colorscale\":{\"sequential\":[[0.0,\"#0d0887\"],[0.1111111111111111,\"#46039f\"],[0.2222222222222222,\"#7201a8\"],[0.3333333333333333,\"#9c179e\"],[0.4444444444444444,\"#bd3786\"],[0.5555555555555556,\"#d8576b\"],[0.6666666666666666,\"#ed7953\"],[0.7777777777777778,\"#fb9f3a\"],[0.8888888888888888,\"#fdca26\"],[1.0,\"#f0f921\"]],\"sequentialminus\":[[0.0,\"#0d0887\"],[0.1111111111111111,\"#46039f\"],[0.2222222222222222,\"#7201a8\"],[0.3333333333333333,\"#9c179e\"],[0.4444444444444444,\"#bd3786\"],[0.5555555555555556,\"#d8576b\"],[0.6666666666666666,\"#ed7953\"],[0.7777777777777778,\"#fb9f3a\"],[0.8888888888888888,\"#fdca26\"],[1.0,\"#f0f921\"]],\"diverging\":[[0,\"#8e0152\"],[0.1,\"#c51b7d\"],[0.2,\"#de77ae\"],[0.3,\"#f1b6da\"],[0.4,\"#fde0ef\"],[0.5,\"#f7f7f7\"],[0.6,\"#e6f5d0\"],[0.7,\"#b8e186\"],[0.8,\"#7fbc41\"],[0.9,\"#4d9221\"],[1,\"#276419\"]]},\"xaxis\":{\"gridcolor\":\"white\",\"linecolor\":\"white\",\"ticks\":\"\",\"title\":{\"standoff\":15},\"zerolinecolor\":\"white\",\"automargin\":true,\"zerolinewidth\":2},\"yaxis\":{\"gridcolor\":\"white\",\"linecolor\":\"white\",\"ticks\":\"\",\"title\":{\"standoff\":15},\"zerolinecolor\":\"white\",\"automargin\":true,\"zerolinewidth\":2},\"scene\":{\"xaxis\":{\"backgroundcolor\":\"#E5ECF6\",\"gridcolor\":\"white\",\"linecolor\":\"white\",\"showbackground\":true,\"ticks\":\"\",\"zerolinecolor\":\"white\",\"gridwidth\":2},\"yaxis\":{\"backgroundcolor\":\"#E5ECF6\",\"gridcolor\":\"white\",\"linecolor\":\"white\",\"showbackground\":true,\"ticks\":\"\",\"zerolinecolor\":\"white\",\"gridwidth\":2},\"zaxis\":{\"backgroundcolor\":\"#E5ECF6\",\"gridcolor\":\"white\",\"linecolor\":\"white\",\"showbackground\":true,\"ticks\":\"\",\"zerolinecolor\":\"white\",\"gridwidth\":2}},\"shapedefaults\":{\"line\":{\"color\":\"#2a3f5f\"}},\"annotationdefaults\":{\"arrowcolor\":\"#2a3f5f\",\"arrowhead\":0,\"arrowwidth\":1},\"geo\":{\"bgcolor\":\"white\",\"landcolor\":\"#E5ECF6\",\"subunitcolor\":\"white\",\"showland\":true,\"showlakes\":true,\"lakecolor\":\"white\"},\"title\":{\"x\":0.05},\"mapbox\":{\"style\":\"light\"}}},\"mapbox\":{\"domain\":{\"x\":[0.0,1.0],\"y\":[0.0,1.0]},\"center\":{\"lat\":20.5937,\"lon\":78.9629},\"zoom\":3,\"style\":\"carto-positron\"},\"coloraxis\":{\"colorbar\":{\"title\":{\"text\":\"value\"}},\"colorscale\":[[0.0,\"#0d0887\"],[0.1111111111111111,\"#46039f\"],[0.2222222222222222,\"#7201a8\"],[0.3333333333333333,\"#9c179e\"],[0.4444444444444444,\"#bd3786\"],[0.5555555555555556,\"#d8576b\"],[0.6666666666666666,\"#ed7953\"],[0.7777777777777778,\"#fb9f3a\"],[0.8888888888888888,\"#fdca26\"],[1.0,\"#f0f921\"]]},\"legend\":{\"tracegroupgap\":0},\"margin\":{\"t\":0,\"r\":0,\"l\":0,\"b\":0}},                        {\"responsive\": true}                    ).then(function(){\n",
       "                            \n",
       "var gd = document.getElementById('4b05a189-30e2-41a1-beca-50404c48c00c');\n",
       "var x = new MutationObserver(function (mutations, observer) {{\n",
       "        var display = window.getComputedStyle(gd).display;\n",
       "        if (!display || display === 'none') {{\n",
       "            console.log([gd, 'removed!']);\n",
       "            Plotly.purge(gd);\n",
       "            observer.disconnect();\n",
       "        }}\n",
       "}});\n",
       "\n",
       "// Listen for the removal of the full notebook cells\n",
       "var notebookContainer = gd.closest('#notebook-container');\n",
       "if (notebookContainer) {{\n",
       "    x.observe(notebookContainer, {childList: true});\n",
       "}}\n",
       "\n",
       "// Listen for the clearing of the current output cell\n",
       "var outputEl = gd.closest('.output');\n",
       "if (outputEl) {{\n",
       "    x.observe(outputEl, {childList: true});\n",
       "}}\n",
       "\n",
       "                        })                };                });            </script>        </div>"
      ]
     },
     "metadata": {},
     "output_type": "display_data"
    }
   ],
   "source": [
    "import json\n",
    "import plotly.express as px\n",
    "\n",
    "# Sample in-memory GeoJSON data (replace this with your actual data)\n",
    "india_states_geojson = {\n",
    "    \"type\": \"FeatureCollection\",\n",
    "    \"features\": [\n",
    "        {\n",
    "            \"type\": \"Feature\",\n",
    "            \"properties\": {\n",
    "                \"NAME_1\": \"Andhra Pradesh\",\n",
    "                # other properties...\n",
    "            },\n",
    "            \"geometry\": {\n",
    "                \"type\": \"Polygon\",\n",
    "                \"coordinates\": [\n",
    "                    [\n",
    "                        [81.0, 16.0], [82.0, 17.0], [83.0, 18.0], [81.0, 16.0]  # Sample coordinates\n",
    "                    ]\n",
    "                ]\n",
    "            }\n",
    "        },\n",
    "        {\n",
    "            \"type\": \"Feature\",\n",
    "            \"properties\": {\n",
    "                \"NAME_1\": \"Karnataka\",\n",
    "                # other properties...\n",
    "            },\n",
    "            \"geometry\": {\n",
    "                \"type\": \"Polygon\",\n",
    "                \"coordinates\": [\n",
    "                    [\n",
    "                        [75.0, 15.0], [76.0, 16.0], [77.0, 17.0], [75.0, 15.0]  # Sample coordinates\n",
    "                    ]\n",
    "                ]\n",
    "            }\n",
    "        }\n",
    "        # Add more features as needed...\n",
    "    ]\n",
    "}\n",
    "\n",
    "# Convert state names to uppercase\n",
    "for feature in india_states_geojson[\"features\"]:\n",
    "    feature[\"properties\"][\"NAME_1\"] = feature[\"properties\"][\"NAME_1\"].upper()\n",
    "\n",
    "# Sample data to use for coloring the map\n",
    "data = {\n",
    "    \"state\": [\"ANDHRA PRADESH\", \"KARNATAKA\"],\n",
    "    \"value\": [100, 200]  # Replace with actual values you have\n",
    "}\n",
    "\n",
    "# Create a DataFrame (replace this with actual data if needed)\n",
    "import pandas as pd\n",
    "df = pd.DataFrame(data)\n",
    "\n",
    "# Plotly Express map plot\n",
    "fig = px.choropleth_mapbox(df, \n",
    "                           geojson=india_states_geojson, \n",
    "                           featureidkey=\"properties.NAME_1\",  # Links the data to GeoJSON properties\n",
    "                           locations='state', \n",
    "                           color='value',\n",
    "                           mapbox_style=\"carto-positron\", \n",
    "                           center={\"lat\": 20.5937, \"lon\": 78.9629},  # Centered on India\n",
    "                           zoom=3, \n",
    "                           opacity=0.5)\n",
    "\n",
    "fig.update_layout(margin={\"r\":0,\"t\":0,\"l\":0,\"b\":0})\n",
    "fig.show()\n"
   ]
  },
  {
   "cell_type": "code",
   "execution_count": 38,
   "id": "70f5f95d",
   "metadata": {},
   "outputs": [
    {
     "data": {
      "application/vnd.plotly.v1+json": {
       "config": {
        "plotlyServerURL": "https://plot.ly"
       },
       "data": [
        {
         "coloraxis": "coloraxis",
         "featureidkey": "properties.NAME_1",
         "geojson": {
          "features": [
           {
            "geometry": {
             "coordinates": [
              [
               [
                81,
                16
               ],
               [
                82,
                17
               ],
               [
                83,
                18
               ],
               [
                81,
                16
               ]
              ]
             ],
             "type": "Polygon"
            },
            "properties": {
             "NAME_1": "ANDHRA PRADESH"
            },
            "type": "Feature"
           },
           {
            "geometry": {
             "coordinates": [
              [
               [
                75,
                15
               ],
               [
                76,
                16
               ],
               [
                77,
                17
               ],
               [
                75,
                15
               ]
              ]
             ],
             "type": "Polygon"
            },
            "properties": {
             "NAME_1": "KARNATAKA"
            },
            "type": "Feature"
           }
          ],
          "type": "FeatureCollection"
         },
         "hovertemplate": "State=%{location}<br>Crime=%{z}<extra></extra>",
         "locations": [
          "ANDHRA PRADESH",
          "KARNATAKA"
         ],
         "marker": {
          "opacity": 0.5
         },
         "name": "",
         "subplot": "mapbox",
         "type": "choroplethmapbox",
         "z": [
          150,
          250
         ]
        }
       ],
       "layout": {
        "coloraxis": {
         "colorbar": {
          "title": {
           "text": "Crime"
          }
         },
         "colorscale": [
          [
           0,
           "#0d0887"
          ],
          [
           0.1111111111111111,
           "#46039f"
          ],
          [
           0.2222222222222222,
           "#7201a8"
          ],
          [
           0.3333333333333333,
           "#9c179e"
          ],
          [
           0.4444444444444444,
           "#bd3786"
          ],
          [
           0.5555555555555556,
           "#d8576b"
          ],
          [
           0.6666666666666666,
           "#ed7953"
          ],
          [
           0.7777777777777778,
           "#fb9f3a"
          ],
          [
           0.8888888888888888,
           "#fdca26"
          ],
          [
           1,
           "#f0f921"
          ]
         ]
        },
        "legend": {
         "tracegroupgap": 0
        },
        "mapbox": {
         "center": {
          "lat": 20.5937,
          "lon": 78.9629
         },
         "domain": {
          "x": [
           0,
           1
          ],
          "y": [
           0,
           1
          ]
         },
         "style": "carto-positron",
         "zoom": 3
        },
        "margin": {
         "b": 0,
         "l": 0,
         "r": 0,
         "t": 30
        },
        "template": {
         "data": {
          "bar": [
           {
            "error_x": {
             "color": "#2a3f5f"
            },
            "error_y": {
             "color": "#2a3f5f"
            },
            "marker": {
             "line": {
              "color": "#E5ECF6",
              "width": 0.5
             },
             "pattern": {
              "fillmode": "overlay",
              "size": 10,
              "solidity": 0.2
             }
            },
            "type": "bar"
           }
          ],
          "barpolar": [
           {
            "marker": {
             "line": {
              "color": "#E5ECF6",
              "width": 0.5
             },
             "pattern": {
              "fillmode": "overlay",
              "size": 10,
              "solidity": 0.2
             }
            },
            "type": "barpolar"
           }
          ],
          "carpet": [
           {
            "aaxis": {
             "endlinecolor": "#2a3f5f",
             "gridcolor": "white",
             "linecolor": "white",
             "minorgridcolor": "white",
             "startlinecolor": "#2a3f5f"
            },
            "baxis": {
             "endlinecolor": "#2a3f5f",
             "gridcolor": "white",
             "linecolor": "white",
             "minorgridcolor": "white",
             "startlinecolor": "#2a3f5f"
            },
            "type": "carpet"
           }
          ],
          "choropleth": [
           {
            "colorbar": {
             "outlinewidth": 0,
             "ticks": ""
            },
            "type": "choropleth"
           }
          ],
          "contour": [
           {
            "colorbar": {
             "outlinewidth": 0,
             "ticks": ""
            },
            "colorscale": [
             [
              0,
              "#0d0887"
             ],
             [
              0.1111111111111111,
              "#46039f"
             ],
             [
              0.2222222222222222,
              "#7201a8"
             ],
             [
              0.3333333333333333,
              "#9c179e"
             ],
             [
              0.4444444444444444,
              "#bd3786"
             ],
             [
              0.5555555555555556,
              "#d8576b"
             ],
             [
              0.6666666666666666,
              "#ed7953"
             ],
             [
              0.7777777777777778,
              "#fb9f3a"
             ],
             [
              0.8888888888888888,
              "#fdca26"
             ],
             [
              1,
              "#f0f921"
             ]
            ],
            "type": "contour"
           }
          ],
          "contourcarpet": [
           {
            "colorbar": {
             "outlinewidth": 0,
             "ticks": ""
            },
            "type": "contourcarpet"
           }
          ],
          "heatmap": [
           {
            "colorbar": {
             "outlinewidth": 0,
             "ticks": ""
            },
            "colorscale": [
             [
              0,
              "#0d0887"
             ],
             [
              0.1111111111111111,
              "#46039f"
             ],
             [
              0.2222222222222222,
              "#7201a8"
             ],
             [
              0.3333333333333333,
              "#9c179e"
             ],
             [
              0.4444444444444444,
              "#bd3786"
             ],
             [
              0.5555555555555556,
              "#d8576b"
             ],
             [
              0.6666666666666666,
              "#ed7953"
             ],
             [
              0.7777777777777778,
              "#fb9f3a"
             ],
             [
              0.8888888888888888,
              "#fdca26"
             ],
             [
              1,
              "#f0f921"
             ]
            ],
            "type": "heatmap"
           }
          ],
          "heatmapgl": [
           {
            "colorbar": {
             "outlinewidth": 0,
             "ticks": ""
            },
            "colorscale": [
             [
              0,
              "#0d0887"
             ],
             [
              0.1111111111111111,
              "#46039f"
             ],
             [
              0.2222222222222222,
              "#7201a8"
             ],
             [
              0.3333333333333333,
              "#9c179e"
             ],
             [
              0.4444444444444444,
              "#bd3786"
             ],
             [
              0.5555555555555556,
              "#d8576b"
             ],
             [
              0.6666666666666666,
              "#ed7953"
             ],
             [
              0.7777777777777778,
              "#fb9f3a"
             ],
             [
              0.8888888888888888,
              "#fdca26"
             ],
             [
              1,
              "#f0f921"
             ]
            ],
            "type": "heatmapgl"
           }
          ],
          "histogram": [
           {
            "marker": {
             "pattern": {
              "fillmode": "overlay",
              "size": 10,
              "solidity": 0.2
             }
            },
            "type": "histogram"
           }
          ],
          "histogram2d": [
           {
            "colorbar": {
             "outlinewidth": 0,
             "ticks": ""
            },
            "colorscale": [
             [
              0,
              "#0d0887"
             ],
             [
              0.1111111111111111,
              "#46039f"
             ],
             [
              0.2222222222222222,
              "#7201a8"
             ],
             [
              0.3333333333333333,
              "#9c179e"
             ],
             [
              0.4444444444444444,
              "#bd3786"
             ],
             [
              0.5555555555555556,
              "#d8576b"
             ],
             [
              0.6666666666666666,
              "#ed7953"
             ],
             [
              0.7777777777777778,
              "#fb9f3a"
             ],
             [
              0.8888888888888888,
              "#fdca26"
             ],
             [
              1,
              "#f0f921"
             ]
            ],
            "type": "histogram2d"
           }
          ],
          "histogram2dcontour": [
           {
            "colorbar": {
             "outlinewidth": 0,
             "ticks": ""
            },
            "colorscale": [
             [
              0,
              "#0d0887"
             ],
             [
              0.1111111111111111,
              "#46039f"
             ],
             [
              0.2222222222222222,
              "#7201a8"
             ],
             [
              0.3333333333333333,
              "#9c179e"
             ],
             [
              0.4444444444444444,
              "#bd3786"
             ],
             [
              0.5555555555555556,
              "#d8576b"
             ],
             [
              0.6666666666666666,
              "#ed7953"
             ],
             [
              0.7777777777777778,
              "#fb9f3a"
             ],
             [
              0.8888888888888888,
              "#fdca26"
             ],
             [
              1,
              "#f0f921"
             ]
            ],
            "type": "histogram2dcontour"
           }
          ],
          "mesh3d": [
           {
            "colorbar": {
             "outlinewidth": 0,
             "ticks": ""
            },
            "type": "mesh3d"
           }
          ],
          "parcoords": [
           {
            "line": {
             "colorbar": {
              "outlinewidth": 0,
              "ticks": ""
             }
            },
            "type": "parcoords"
           }
          ],
          "pie": [
           {
            "automargin": true,
            "type": "pie"
           }
          ],
          "scatter": [
           {
            "fillpattern": {
             "fillmode": "overlay",
             "size": 10,
             "solidity": 0.2
            },
            "type": "scatter"
           }
          ],
          "scatter3d": [
           {
            "line": {
             "colorbar": {
              "outlinewidth": 0,
              "ticks": ""
             }
            },
            "marker": {
             "colorbar": {
              "outlinewidth": 0,
              "ticks": ""
             }
            },
            "type": "scatter3d"
           }
          ],
          "scattercarpet": [
           {
            "marker": {
             "colorbar": {
              "outlinewidth": 0,
              "ticks": ""
             }
            },
            "type": "scattercarpet"
           }
          ],
          "scattergeo": [
           {
            "marker": {
             "colorbar": {
              "outlinewidth": 0,
              "ticks": ""
             }
            },
            "type": "scattergeo"
           }
          ],
          "scattergl": [
           {
            "marker": {
             "colorbar": {
              "outlinewidth": 0,
              "ticks": ""
             }
            },
            "type": "scattergl"
           }
          ],
          "scattermapbox": [
           {
            "marker": {
             "colorbar": {
              "outlinewidth": 0,
              "ticks": ""
             }
            },
            "type": "scattermapbox"
           }
          ],
          "scatterpolar": [
           {
            "marker": {
             "colorbar": {
              "outlinewidth": 0,
              "ticks": ""
             }
            },
            "type": "scatterpolar"
           }
          ],
          "scatterpolargl": [
           {
            "marker": {
             "colorbar": {
              "outlinewidth": 0,
              "ticks": ""
             }
            },
            "type": "scatterpolargl"
           }
          ],
          "scatterternary": [
           {
            "marker": {
             "colorbar": {
              "outlinewidth": 0,
              "ticks": ""
             }
            },
            "type": "scatterternary"
           }
          ],
          "surface": [
           {
            "colorbar": {
             "outlinewidth": 0,
             "ticks": ""
            },
            "colorscale": [
             [
              0,
              "#0d0887"
             ],
             [
              0.1111111111111111,
              "#46039f"
             ],
             [
              0.2222222222222222,
              "#7201a8"
             ],
             [
              0.3333333333333333,
              "#9c179e"
             ],
             [
              0.4444444444444444,
              "#bd3786"
             ],
             [
              0.5555555555555556,
              "#d8576b"
             ],
             [
              0.6666666666666666,
              "#ed7953"
             ],
             [
              0.7777777777777778,
              "#fb9f3a"
             ],
             [
              0.8888888888888888,
              "#fdca26"
             ],
             [
              1,
              "#f0f921"
             ]
            ],
            "type": "surface"
           }
          ],
          "table": [
           {
            "cells": {
             "fill": {
              "color": "#EBF0F8"
             },
             "line": {
              "color": "white"
             }
            },
            "header": {
             "fill": {
              "color": "#C8D4E3"
             },
             "line": {
              "color": "white"
             }
            },
            "type": "table"
           }
          ]
         },
         "layout": {
          "annotationdefaults": {
           "arrowcolor": "#2a3f5f",
           "arrowhead": 0,
           "arrowwidth": 1
          },
          "autotypenumbers": "strict",
          "coloraxis": {
           "colorbar": {
            "outlinewidth": 0,
            "ticks": ""
           }
          },
          "colorscale": {
           "diverging": [
            [
             0,
             "#8e0152"
            ],
            [
             0.1,
             "#c51b7d"
            ],
            [
             0.2,
             "#de77ae"
            ],
            [
             0.3,
             "#f1b6da"
            ],
            [
             0.4,
             "#fde0ef"
            ],
            [
             0.5,
             "#f7f7f7"
            ],
            [
             0.6,
             "#e6f5d0"
            ],
            [
             0.7,
             "#b8e186"
            ],
            [
             0.8,
             "#7fbc41"
            ],
            [
             0.9,
             "#4d9221"
            ],
            [
             1,
             "#276419"
            ]
           ],
           "sequential": [
            [
             0,
             "#0d0887"
            ],
            [
             0.1111111111111111,
             "#46039f"
            ],
            [
             0.2222222222222222,
             "#7201a8"
            ],
            [
             0.3333333333333333,
             "#9c179e"
            ],
            [
             0.4444444444444444,
             "#bd3786"
            ],
            [
             0.5555555555555556,
             "#d8576b"
            ],
            [
             0.6666666666666666,
             "#ed7953"
            ],
            [
             0.7777777777777778,
             "#fb9f3a"
            ],
            [
             0.8888888888888888,
             "#fdca26"
            ],
            [
             1,
             "#f0f921"
            ]
           ],
           "sequentialminus": [
            [
             0,
             "#0d0887"
            ],
            [
             0.1111111111111111,
             "#46039f"
            ],
            [
             0.2222222222222222,
             "#7201a8"
            ],
            [
             0.3333333333333333,
             "#9c179e"
            ],
            [
             0.4444444444444444,
             "#bd3786"
            ],
            [
             0.5555555555555556,
             "#d8576b"
            ],
            [
             0.6666666666666666,
             "#ed7953"
            ],
            [
             0.7777777777777778,
             "#fb9f3a"
            ],
            [
             0.8888888888888888,
             "#fdca26"
            ],
            [
             1,
             "#f0f921"
            ]
           ]
          },
          "colorway": [
           "#636efa",
           "#EF553B",
           "#00cc96",
           "#ab63fa",
           "#FFA15A",
           "#19d3f3",
           "#FF6692",
           "#B6E880",
           "#FF97FF",
           "#FECB52"
          ],
          "font": {
           "color": "#2a3f5f"
          },
          "geo": {
           "bgcolor": "white",
           "lakecolor": "white",
           "landcolor": "#E5ECF6",
           "showlakes": true,
           "showland": true,
           "subunitcolor": "white"
          },
          "hoverlabel": {
           "align": "left"
          },
          "hovermode": "closest",
          "mapbox": {
           "style": "light"
          },
          "paper_bgcolor": "white",
          "plot_bgcolor": "#E5ECF6",
          "polar": {
           "angularaxis": {
            "gridcolor": "white",
            "linecolor": "white",
            "ticks": ""
           },
           "bgcolor": "#E5ECF6",
           "radialaxis": {
            "gridcolor": "white",
            "linecolor": "white",
            "ticks": ""
           }
          },
          "scene": {
           "xaxis": {
            "backgroundcolor": "#E5ECF6",
            "gridcolor": "white",
            "gridwidth": 2,
            "linecolor": "white",
            "showbackground": true,
            "ticks": "",
            "zerolinecolor": "white"
           },
           "yaxis": {
            "backgroundcolor": "#E5ECF6",
            "gridcolor": "white",
            "gridwidth": 2,
            "linecolor": "white",
            "showbackground": true,
            "ticks": "",
            "zerolinecolor": "white"
           },
           "zaxis": {
            "backgroundcolor": "#E5ECF6",
            "gridcolor": "white",
            "gridwidth": 2,
            "linecolor": "white",
            "showbackground": true,
            "ticks": "",
            "zerolinecolor": "white"
           }
          },
          "shapedefaults": {
           "line": {
            "color": "#2a3f5f"
           }
          },
          "ternary": {
           "aaxis": {
            "gridcolor": "white",
            "linecolor": "white",
            "ticks": ""
           },
           "baxis": {
            "gridcolor": "white",
            "linecolor": "white",
            "ticks": ""
           },
           "bgcolor": "#E5ECF6",
           "caxis": {
            "gridcolor": "white",
            "linecolor": "white",
            "ticks": ""
           }
          },
          "title": {
           "x": 0.05
          },
          "xaxis": {
           "automargin": true,
           "gridcolor": "white",
           "linecolor": "white",
           "ticks": "",
           "title": {
            "standoff": 15
           },
           "zerolinecolor": "white",
           "zerolinewidth": 2
          },
          "yaxis": {
           "automargin": true,
           "gridcolor": "white",
           "linecolor": "white",
           "ticks": "",
           "title": {
            "standoff": 15
           },
           "zerolinecolor": "white",
           "zerolinewidth": 2
          }
         }
        },
        "title": {
         "text": "Crime Data for 2021",
         "x": 0.5
        }
       }
      },
      "text/html": [
       "<div>                            <div id=\"e6f50aaf-2489-48b8-a306-e95d6c02313c\" class=\"plotly-graph-div\" style=\"height:525px; width:100%;\"></div>            <script type=\"text/javascript\">                require([\"plotly\"], function(Plotly) {                    window.PLOTLYENV=window.PLOTLYENV || {};                                    if (document.getElementById(\"e6f50aaf-2489-48b8-a306-e95d6c02313c\")) {                    Plotly.newPlot(                        \"e6f50aaf-2489-48b8-a306-e95d6c02313c\",                        [{\"coloraxis\":\"coloraxis\",\"featureidkey\":\"properties.NAME_1\",\"geojson\":{\"type\":\"FeatureCollection\",\"features\":[{\"type\":\"Feature\",\"properties\":{\"NAME_1\":\"ANDHRA PRADESH\"},\"geometry\":{\"type\":\"Polygon\",\"coordinates\":[[[81.0,16.0],[82.0,17.0],[83.0,18.0],[81.0,16.0]]]}},{\"type\":\"Feature\",\"properties\":{\"NAME_1\":\"KARNATAKA\"},\"geometry\":{\"type\":\"Polygon\",\"coordinates\":[[[75.0,15.0],[76.0,16.0],[77.0,17.0],[75.0,15.0]]]}}]},\"hovertemplate\":\"State=%{location}<br>Crime=%{z}<extra></extra>\",\"locations\":[\"ANDHRA PRADESH\",\"KARNATAKA\"],\"marker\":{\"opacity\":0.5},\"name\":\"\",\"subplot\":\"mapbox\",\"z\":[150,250],\"type\":\"choroplethmapbox\"}],                        {\"template\":{\"data\":{\"histogram2dcontour\":[{\"type\":\"histogram2dcontour\",\"colorbar\":{\"outlinewidth\":0,\"ticks\":\"\"},\"colorscale\":[[0.0,\"#0d0887\"],[0.1111111111111111,\"#46039f\"],[0.2222222222222222,\"#7201a8\"],[0.3333333333333333,\"#9c179e\"],[0.4444444444444444,\"#bd3786\"],[0.5555555555555556,\"#d8576b\"],[0.6666666666666666,\"#ed7953\"],[0.7777777777777778,\"#fb9f3a\"],[0.8888888888888888,\"#fdca26\"],[1.0,\"#f0f921\"]]}],\"choropleth\":[{\"type\":\"choropleth\",\"colorbar\":{\"outlinewidth\":0,\"ticks\":\"\"}}],\"histogram2d\":[{\"type\":\"histogram2d\",\"colorbar\":{\"outlinewidth\":0,\"ticks\":\"\"},\"colorscale\":[[0.0,\"#0d0887\"],[0.1111111111111111,\"#46039f\"],[0.2222222222222222,\"#7201a8\"],[0.3333333333333333,\"#9c179e\"],[0.4444444444444444,\"#bd3786\"],[0.5555555555555556,\"#d8576b\"],[0.6666666666666666,\"#ed7953\"],[0.7777777777777778,\"#fb9f3a\"],[0.8888888888888888,\"#fdca26\"],[1.0,\"#f0f921\"]]}],\"heatmap\":[{\"type\":\"heatmap\",\"colorbar\":{\"outlinewidth\":0,\"ticks\":\"\"},\"colorscale\":[[0.0,\"#0d0887\"],[0.1111111111111111,\"#46039f\"],[0.2222222222222222,\"#7201a8\"],[0.3333333333333333,\"#9c179e\"],[0.4444444444444444,\"#bd3786\"],[0.5555555555555556,\"#d8576b\"],[0.6666666666666666,\"#ed7953\"],[0.7777777777777778,\"#fb9f3a\"],[0.8888888888888888,\"#fdca26\"],[1.0,\"#f0f921\"]]}],\"heatmapgl\":[{\"type\":\"heatmapgl\",\"colorbar\":{\"outlinewidth\":0,\"ticks\":\"\"},\"colorscale\":[[0.0,\"#0d0887\"],[0.1111111111111111,\"#46039f\"],[0.2222222222222222,\"#7201a8\"],[0.3333333333333333,\"#9c179e\"],[0.4444444444444444,\"#bd3786\"],[0.5555555555555556,\"#d8576b\"],[0.6666666666666666,\"#ed7953\"],[0.7777777777777778,\"#fb9f3a\"],[0.8888888888888888,\"#fdca26\"],[1.0,\"#f0f921\"]]}],\"contourcarpet\":[{\"type\":\"contourcarpet\",\"colorbar\":{\"outlinewidth\":0,\"ticks\":\"\"}}],\"contour\":[{\"type\":\"contour\",\"colorbar\":{\"outlinewidth\":0,\"ticks\":\"\"},\"colorscale\":[[0.0,\"#0d0887\"],[0.1111111111111111,\"#46039f\"],[0.2222222222222222,\"#7201a8\"],[0.3333333333333333,\"#9c179e\"],[0.4444444444444444,\"#bd3786\"],[0.5555555555555556,\"#d8576b\"],[0.6666666666666666,\"#ed7953\"],[0.7777777777777778,\"#fb9f3a\"],[0.8888888888888888,\"#fdca26\"],[1.0,\"#f0f921\"]]}],\"surface\":[{\"type\":\"surface\",\"colorbar\":{\"outlinewidth\":0,\"ticks\":\"\"},\"colorscale\":[[0.0,\"#0d0887\"],[0.1111111111111111,\"#46039f\"],[0.2222222222222222,\"#7201a8\"],[0.3333333333333333,\"#9c179e\"],[0.4444444444444444,\"#bd3786\"],[0.5555555555555556,\"#d8576b\"],[0.6666666666666666,\"#ed7953\"],[0.7777777777777778,\"#fb9f3a\"],[0.8888888888888888,\"#fdca26\"],[1.0,\"#f0f921\"]]}],\"mesh3d\":[{\"type\":\"mesh3d\",\"colorbar\":{\"outlinewidth\":0,\"ticks\":\"\"}}],\"scatter\":[{\"fillpattern\":{\"fillmode\":\"overlay\",\"size\":10,\"solidity\":0.2},\"type\":\"scatter\"}],\"parcoords\":[{\"type\":\"parcoords\",\"line\":{\"colorbar\":{\"outlinewidth\":0,\"ticks\":\"\"}}}],\"scatterpolargl\":[{\"type\":\"scatterpolargl\",\"marker\":{\"colorbar\":{\"outlinewidth\":0,\"ticks\":\"\"}}}],\"bar\":[{\"error_x\":{\"color\":\"#2a3f5f\"},\"error_y\":{\"color\":\"#2a3f5f\"},\"marker\":{\"line\":{\"color\":\"#E5ECF6\",\"width\":0.5},\"pattern\":{\"fillmode\":\"overlay\",\"size\":10,\"solidity\":0.2}},\"type\":\"bar\"}],\"scattergeo\":[{\"type\":\"scattergeo\",\"marker\":{\"colorbar\":{\"outlinewidth\":0,\"ticks\":\"\"}}}],\"scatterpolar\":[{\"type\":\"scatterpolar\",\"marker\":{\"colorbar\":{\"outlinewidth\":0,\"ticks\":\"\"}}}],\"histogram\":[{\"marker\":{\"pattern\":{\"fillmode\":\"overlay\",\"size\":10,\"solidity\":0.2}},\"type\":\"histogram\"}],\"scattergl\":[{\"type\":\"scattergl\",\"marker\":{\"colorbar\":{\"outlinewidth\":0,\"ticks\":\"\"}}}],\"scatter3d\":[{\"type\":\"scatter3d\",\"line\":{\"colorbar\":{\"outlinewidth\":0,\"ticks\":\"\"}},\"marker\":{\"colorbar\":{\"outlinewidth\":0,\"ticks\":\"\"}}}],\"scattermapbox\":[{\"type\":\"scattermapbox\",\"marker\":{\"colorbar\":{\"outlinewidth\":0,\"ticks\":\"\"}}}],\"scatterternary\":[{\"type\":\"scatterternary\",\"marker\":{\"colorbar\":{\"outlinewidth\":0,\"ticks\":\"\"}}}],\"scattercarpet\":[{\"type\":\"scattercarpet\",\"marker\":{\"colorbar\":{\"outlinewidth\":0,\"ticks\":\"\"}}}],\"carpet\":[{\"aaxis\":{\"endlinecolor\":\"#2a3f5f\",\"gridcolor\":\"white\",\"linecolor\":\"white\",\"minorgridcolor\":\"white\",\"startlinecolor\":\"#2a3f5f\"},\"baxis\":{\"endlinecolor\":\"#2a3f5f\",\"gridcolor\":\"white\",\"linecolor\":\"white\",\"minorgridcolor\":\"white\",\"startlinecolor\":\"#2a3f5f\"},\"type\":\"carpet\"}],\"table\":[{\"cells\":{\"fill\":{\"color\":\"#EBF0F8\"},\"line\":{\"color\":\"white\"}},\"header\":{\"fill\":{\"color\":\"#C8D4E3\"},\"line\":{\"color\":\"white\"}},\"type\":\"table\"}],\"barpolar\":[{\"marker\":{\"line\":{\"color\":\"#E5ECF6\",\"width\":0.5},\"pattern\":{\"fillmode\":\"overlay\",\"size\":10,\"solidity\":0.2}},\"type\":\"barpolar\"}],\"pie\":[{\"automargin\":true,\"type\":\"pie\"}]},\"layout\":{\"autotypenumbers\":\"strict\",\"colorway\":[\"#636efa\",\"#EF553B\",\"#00cc96\",\"#ab63fa\",\"#FFA15A\",\"#19d3f3\",\"#FF6692\",\"#B6E880\",\"#FF97FF\",\"#FECB52\"],\"font\":{\"color\":\"#2a3f5f\"},\"hovermode\":\"closest\",\"hoverlabel\":{\"align\":\"left\"},\"paper_bgcolor\":\"white\",\"plot_bgcolor\":\"#E5ECF6\",\"polar\":{\"bgcolor\":\"#E5ECF6\",\"angularaxis\":{\"gridcolor\":\"white\",\"linecolor\":\"white\",\"ticks\":\"\"},\"radialaxis\":{\"gridcolor\":\"white\",\"linecolor\":\"white\",\"ticks\":\"\"}},\"ternary\":{\"bgcolor\":\"#E5ECF6\",\"aaxis\":{\"gridcolor\":\"white\",\"linecolor\":\"white\",\"ticks\":\"\"},\"baxis\":{\"gridcolor\":\"white\",\"linecolor\":\"white\",\"ticks\":\"\"},\"caxis\":{\"gridcolor\":\"white\",\"linecolor\":\"white\",\"ticks\":\"\"}},\"coloraxis\":{\"colorbar\":{\"outlinewidth\":0,\"ticks\":\"\"}},\"colorscale\":{\"sequential\":[[0.0,\"#0d0887\"],[0.1111111111111111,\"#46039f\"],[0.2222222222222222,\"#7201a8\"],[0.3333333333333333,\"#9c179e\"],[0.4444444444444444,\"#bd3786\"],[0.5555555555555556,\"#d8576b\"],[0.6666666666666666,\"#ed7953\"],[0.7777777777777778,\"#fb9f3a\"],[0.8888888888888888,\"#fdca26\"],[1.0,\"#f0f921\"]],\"sequentialminus\":[[0.0,\"#0d0887\"],[0.1111111111111111,\"#46039f\"],[0.2222222222222222,\"#7201a8\"],[0.3333333333333333,\"#9c179e\"],[0.4444444444444444,\"#bd3786\"],[0.5555555555555556,\"#d8576b\"],[0.6666666666666666,\"#ed7953\"],[0.7777777777777778,\"#fb9f3a\"],[0.8888888888888888,\"#fdca26\"],[1.0,\"#f0f921\"]],\"diverging\":[[0,\"#8e0152\"],[0.1,\"#c51b7d\"],[0.2,\"#de77ae\"],[0.3,\"#f1b6da\"],[0.4,\"#fde0ef\"],[0.5,\"#f7f7f7\"],[0.6,\"#e6f5d0\"],[0.7,\"#b8e186\"],[0.8,\"#7fbc41\"],[0.9,\"#4d9221\"],[1,\"#276419\"]]},\"xaxis\":{\"gridcolor\":\"white\",\"linecolor\":\"white\",\"ticks\":\"\",\"title\":{\"standoff\":15},\"zerolinecolor\":\"white\",\"automargin\":true,\"zerolinewidth\":2},\"yaxis\":{\"gridcolor\":\"white\",\"linecolor\":\"white\",\"ticks\":\"\",\"title\":{\"standoff\":15},\"zerolinecolor\":\"white\",\"automargin\":true,\"zerolinewidth\":2},\"scene\":{\"xaxis\":{\"backgroundcolor\":\"#E5ECF6\",\"gridcolor\":\"white\",\"linecolor\":\"white\",\"showbackground\":true,\"ticks\":\"\",\"zerolinecolor\":\"white\",\"gridwidth\":2},\"yaxis\":{\"backgroundcolor\":\"#E5ECF6\",\"gridcolor\":\"white\",\"linecolor\":\"white\",\"showbackground\":true,\"ticks\":\"\",\"zerolinecolor\":\"white\",\"gridwidth\":2},\"zaxis\":{\"backgroundcolor\":\"#E5ECF6\",\"gridcolor\":\"white\",\"linecolor\":\"white\",\"showbackground\":true,\"ticks\":\"\",\"zerolinecolor\":\"white\",\"gridwidth\":2}},\"shapedefaults\":{\"line\":{\"color\":\"#2a3f5f\"}},\"annotationdefaults\":{\"arrowcolor\":\"#2a3f5f\",\"arrowhead\":0,\"arrowwidth\":1},\"geo\":{\"bgcolor\":\"white\",\"landcolor\":\"#E5ECF6\",\"subunitcolor\":\"white\",\"showland\":true,\"showlakes\":true,\"lakecolor\":\"white\"},\"title\":{\"x\":0.05},\"mapbox\":{\"style\":\"light\"}}},\"mapbox\":{\"domain\":{\"x\":[0.0,1.0],\"y\":[0.0,1.0]},\"center\":{\"lat\":20.5937,\"lon\":78.9629},\"zoom\":3,\"style\":\"carto-positron\"},\"coloraxis\":{\"colorbar\":{\"title\":{\"text\":\"Crime\"}},\"colorscale\":[[0.0,\"#0d0887\"],[0.1111111111111111,\"#46039f\"],[0.2222222222222222,\"#7201a8\"],[0.3333333333333333,\"#9c179e\"],[0.4444444444444444,\"#bd3786\"],[0.5555555555555556,\"#d8576b\"],[0.6666666666666666,\"#ed7953\"],[0.7777777777777778,\"#fb9f3a\"],[0.8888888888888888,\"#fdca26\"],[1.0,\"#f0f921\"]]},\"legend\":{\"tracegroupgap\":0},\"margin\":{\"t\":30,\"r\":0,\"l\":0,\"b\":0},\"title\":{\"text\":\"Crime Data for 2021\",\"x\":0.5}},                        {\"responsive\": true}                    ).then(function(){\n",
       "                            \n",
       "var gd = document.getElementById('e6f50aaf-2489-48b8-a306-e95d6c02313c');\n",
       "var x = new MutationObserver(function (mutations, observer) {{\n",
       "        var display = window.getComputedStyle(gd).display;\n",
       "        if (!display || display === 'none') {{\n",
       "            console.log([gd, 'removed!']);\n",
       "            Plotly.purge(gd);\n",
       "            observer.disconnect();\n",
       "        }}\n",
       "}});\n",
       "\n",
       "// Listen for the removal of the full notebook cells\n",
       "var notebookContainer = gd.closest('#notebook-container');\n",
       "if (notebookContainer) {{\n",
       "    x.observe(notebookContainer, {childList: true});\n",
       "}}\n",
       "\n",
       "// Listen for the clearing of the current output cell\n",
       "var outputEl = gd.closest('.output');\n",
       "if (outputEl) {{\n",
       "    x.observe(outputEl, {childList: true});\n",
       "}}\n",
       "\n",
       "                        })                };                });            </script>        </div>"
      ]
     },
     "metadata": {},
     "output_type": "display_data"
    }
   ],
   "source": [
    "import plotly.express as px\n",
    "import pandas as pd\n",
    "import json\n",
    "\n",
    "# Sample data\n",
    "total_crimes_in_years_df = pd.DataFrame({\n",
    "    'Year': ['2020', '2020', '2021', '2021'],\n",
    "    'State': ['ANDHRA PRADESH', 'KARNATAKA', 'ANDHRA PRADESH', 'KARNATAKA'],\n",
    "    'Crime': [100, 200, 150, 250]\n",
    "})\n",
    "\n",
    "# Sample in-memory GeoJSON data (replace this with your actual data)\n",
    "india_states_geojson = {\n",
    "    \"type\": \"FeatureCollection\",\n",
    "    \"features\": [\n",
    "        {\n",
    "            \"type\": \"Feature\",\n",
    "            \"properties\": {\n",
    "                \"NAME_1\": \"ANDHRA PRADESH\",\n",
    "            },\n",
    "            \"geometry\": {\n",
    "                \"type\": \"Polygon\",\n",
    "                \"coordinates\": [\n",
    "                    [\n",
    "                        [81.0, 16.0], [82.0, 17.0], [83.0, 18.0], [81.0, 16.0]  # Sample coordinates\n",
    "                    ]\n",
    "                ]\n",
    "            }\n",
    "        },\n",
    "        {\n",
    "            \"type\": \"Feature\",\n",
    "            \"properties\": {\n",
    "                \"NAME_1\": \"KARNATAKA\",\n",
    "            },\n",
    "            \"geometry\": {\n",
    "                \"type\": \"Polygon\",\n",
    "                \"coordinates\": [\n",
    "                    [\n",
    "                        [75.0, 15.0], [76.0, 16.0], [77.0, 17.0], [75.0, 15.0]  # Sample coordinates\n",
    "                    ]\n",
    "                ]\n",
    "            }\n",
    "        }\n",
    "        # Add more features as needed...\n",
    "    ]\n",
    "}\n",
    "\n",
    "def plot_map(title, year, crime_col, color=\"red\"):\n",
    "    \"\"\"\n",
    "    This function generates a choropleth map using the total_crimes_in_years_df.\n",
    "    \n",
    "    Args:\n",
    "    - title: The title of the map.\n",
    "    - year: The year to filter the data for plotting.\n",
    "    - crime_col: The column name for the crime data.\n",
    "    - color: The color scale for the map (default is \"red\").\n",
    "    \"\"\"\n",
    "    \n",
    "    # Filter data for the specific year\n",
    "    df_year = total_crimes_in_years_df[total_crimes_in_years_df['Year'] == year]\n",
    "    \n",
    "    fig = px.choropleth_mapbox(df_year,\n",
    "                               geojson=india_states_geojson,\n",
    "                               featureidkey=\"properties.NAME_1\",\n",
    "                               locations='State',\n",
    "                               color=crime_col,\n",
    "                               mapbox_style=\"carto-positron\",\n",
    "                               center={\"lat\": 20.5937, \"lon\": 78.9629},  # Centered on India\n",
    "                               zoom=3,\n",
    "                               opacity=0.5)\n",
    "    \n",
    "    fig.update_layout(title_text=title,\n",
    "                      title_x=0.5,  # Center the title\n",
    "                      margin={\"r\":0,\"t\":30,\"l\":0,\"b\":0})\n",
    "    fig.show()\n",
    "\n",
    "# Example usage\n",
    "plot_map(title=\"Crime Data for 2021\", year=\"2021\", crime_col=\"Crime\")\n"
   ]
  },
  {
   "cell_type": "code",
   "execution_count": 39,
   "id": "145818c5",
   "metadata": {},
   "outputs": [
    {
     "name": "stdout",
     "output_type": "stream",
     "text": [
      "         STATE/UT  Crimes  id\n",
      "0  Andhra Pradesh     100   1\n",
      "1       Karnataka     150   2\n"
     ]
    }
   ],
   "source": [
    "import pandas as pd\n",
    "\n",
    "# Example DataFrame setup\n",
    "# Replace this with your actual data\n",
    "state_ut_crimes_df = pd.DataFrame({\n",
    "    'STATE/UT': ['Andhra Pradesh', 'Karnataka'],\n",
    "    'Crimes': [100, 150]\n",
    "})\n",
    "\n",
    "# Example GeoJSON data setup\n",
    "india_geojson = {\n",
    "    \"type\": \"FeatureCollection\",\n",
    "    \"features\": [\n",
    "        {\n",
    "            \"type\": \"Feature\",\n",
    "            \"properties\": {\n",
    "                \"ID_1\": 1,\n",
    "                \"NAME_1\": \"Andhra Pradesh\"\n",
    "            }\n",
    "        },\n",
    "        {\n",
    "            \"type\": \"Feature\",\n",
    "            \"properties\": {\n",
    "                \"ID_1\": 2,\n",
    "                \"NAME_1\": \"Karnataka\"\n",
    "            }\n",
    "        }\n",
    "        # Add more features as needed...\n",
    "    ]\n",
    "}\n",
    "\n",
    "# Resetting the index of the DataFrame\n",
    "state_ut_crimes_df.reset_index(drop=True, inplace=True)\n",
    "\n",
    "# Create a dictionary mapping state names to their IDs from the GeoJSON data\n",
    "state_id_map = {}\n",
    "for feature in india_geojson[\"features\"]:\n",
    "    feature[\"id\"] = feature[\"properties\"][\"ID_1\"]\n",
    "    state_id_map[feature[\"properties\"][\"NAME_1\"]] = feature[\"id\"]\n",
    "\n",
    "# Map the 'STATE/UT' column in the DataFrame to their corresponding IDs\n",
    "state_ut_crimes_df[\"id\"] = state_ut_crimes_df['STATE/UT'].apply(lambda x: state_id_map.get(x))\n",
    "\n",
    "# Display the modified DataFrame\n",
    "print(state_ut_crimes_df)"
   ]
  },
  {
   "cell_type": "code",
   "execution_count": 40,
   "id": "1423ac2b",
   "metadata": {},
   "outputs": [],
   "source": [
    "crime_dict={1:'RAPE', 2: 'MURDER',3: 'KIDNAPPING & ABDUCTION',\n",
    "       4: 'BURGLARY',\n",
    "       5: 'THEFT', 6: 'DOWER DEATHS',\n",
    "       7: 'ASSAULT ON WOMEN WITH INTENT TO OUTRAGE HER MODESTY'}"
   ]
  },
  {
   "cell_type": "code",
   "execution_count": 41,
   "id": "84019a7d",
   "metadata": {},
   "outputs": [],
   "source": [
    "def plotmap(crime_name):\n",
    "    \"This function plot different crimes on india map using the stat_ut_crimes_df and GeoJson data\"\n",
    "    fig = px.choropleth(data, geojson=india_geojson, locations='STATE/UT', color= crime_name,\n",
    "                           hover_name=\"STATE/UT\", color_continuous_scale=\"Viridis\",\n",
    "                           hover_data=[crime_name],\n",
    "                           title=' '.join([str(crime_name), 'cases in India(2001-2014)'])\n",
    "                          )\n",
    "    fig.update_geos(fitbounds=\"locations\", visible=False)\n",
    "    # Use fig.show() if you want to plot the map in the jupyter notebook itself. This will increase the size of notebook.\n",
    "    #To control the size of notebook I used the fig.write_html() which will create a new html file and open it in new tab\n",
    "    #fig.show()\n",
    "    fig.write_html(\"output.html\",include_plotlyjs=\"cdn\",auto_open=True)"
   ]
  },
  {
   "cell_type": "code",
   "execution_count": 42,
   "id": "44b03d9f",
   "metadata": {},
   "outputs": [
    {
     "name": "stdout",
     "output_type": "stream",
     "text": [
      "1          RAPE      \n",
      "2          MURDER    \n",
      "3          KIDNAPPING & ABDUCTION\n",
      "4          BURGLARY  \n",
      "5          THEFT     \n",
      "6          DOWER DEATHS\n",
      "7          ASSAULT ON WOMEN WITH INTENT TO OUTRAGE HER MODESTY\n"
     ]
    }
   ],
   "source": [
    "for key, value in crime_dict.items(): \n",
    "    print (\"{:<10} {:<10}\".format(key, value)) "
   ]
  },
  {
   "cell_type": "code",
   "execution_count": 44,
   "id": "9c9c1a16",
   "metadata": {},
   "outputs": [
    {
     "name": "stdout",
     "output_type": "stream",
     "text": [
      "Available crimes to plot:\n",
      "1          Theft     \n",
      "2          Robbery   \n",
      "3          Assault   \n",
      "\n",
      "Enter the number representing the crime you want to plot on the map: 3\n",
      "Plotting map for Assault...\n",
      "Want to draw another map? Press 'Y' for yes or any other key for no: N\n",
      "Exiting...\n"
     ]
    }
   ],
   "source": [
    "import IPython.display\n",
    "\n",
    "# Example crime_dict for demonstration purposes\n",
    "crime_dict = {\n",
    "    1: \"Theft\",\n",
    "    2: \"Robbery\",\n",
    "    3: \"Assault\"\n",
    "}\n",
    "\n",
    "# Function to display available crimes\n",
    "def display_crime_options(crime_dict):\n",
    "    print(\"Available crimes to plot:\")\n",
    "    for key, value in crime_dict.items():\n",
    "        print(f\"{key:<10} {value:<10}\")\n",
    "\n",
    "# Function to prompt for a crime and plot a map\n",
    "def plot_crime_map():\n",
    "    while True:\n",
    "        display_crime_options(crime_dict)\n",
    "        try:\n",
    "            crime_number = int(input(\"\\nEnter the number representing the crime you want to plot on the map: \"))\n",
    "            if crime_number not in crime_dict:\n",
    "                print(\"Invalid number. Please try again.\")\n",
    "                continue\n",
    "        except ValueError:\n",
    "            print(\"You did not enter a valid integer. Please try again.\")\n",
    "            continue\n",
    "\n",
    "        # Call the plotmap function with the selected crime\n",
    "        plotmap(crime_dict[crime_number])\n",
    "\n",
    "        # Ask user if they want to plot another map\n",
    "        another_map = input(\"Want to draw another map? Press 'Y' for yes or any other key for no: \").upper()\n",
    "        if another_map != 'Y':\n",
    "            print(\"Exiting...\")\n",
    "            break\n",
    "\n",
    "        IPython.display.clear_output()\n",
    "\n",
    "# Replace plotmap with your actual function for plotting the map.\n",
    "def plotmap(crime_name):\n",
    "    print(f\"Plotting map for {crime_name}...\")  # Placeholder for the actual plot function\n",
    "\n",
    "# Run the function\n",
    "plot_crime_map()"
   ]
  },
  {
   "cell_type": "code",
   "execution_count": null,
   "id": "ab8cfe9c",
   "metadata": {},
   "outputs": [],
   "source": []
  }
 ],
 "metadata": {
  "kernelspec": {
   "display_name": "Python 3 (ipykernel)",
   "language": "python",
   "name": "python3"
  },
  "language_info": {
   "codemirror_mode": {
    "name": "ipython",
    "version": 3
   },
   "file_extension": ".py",
   "mimetype": "text/x-python",
   "name": "python",
   "nbconvert_exporter": "python",
   "pygments_lexer": "ipython3",
   "version": "3.11.7"
  }
 },
 "nbformat": 4,
 "nbformat_minor": 5
}
